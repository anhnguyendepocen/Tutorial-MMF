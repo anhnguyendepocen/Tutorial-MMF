{
 "cells": [
  {
   "cell_type": "markdown",
   "metadata": {
    "slideshow": {
     "slide_type": "slide"
    }
   },
   "source": [
    "# Lecture 14\n",
    "## Non Linear Optimization with JuMP (Part 3)\n",
    "## Date: 29.11"
   ]
  },
  {
   "cell_type": "code",
   "execution_count": 1,
   "metadata": {
    "slideshow": {
     "slide_type": "skip"
    }
   },
   "outputs": [],
   "source": [
    "using JuMP, Ipopt, Plots;"
   ]
  },
  {
   "cell_type": "markdown",
   "metadata": {
    "slideshow": {
     "slide_type": "slide"
    }
   },
   "source": [
    "# Further exercises"
   ]
  },
  {
   "cell_type": "markdown",
   "metadata": {
    "slideshow": {
     "slide_type": "slide"
    }
   },
   "source": [
    "## Ex 1"
   ]
  },
  {
   "cell_type": "markdown",
   "metadata": {
    "slideshow": {
     "slide_type": "slide"
    }
   },
   "source": [
    "Consider a relationship between a principal and an agent in which the agent's effort influences the result. The agent can choose its effort $e \\in [0,3]$. His utility function is $U(w,e) = \\sqrt{w} - e^2$, where $w$ represent the wage and $e$ the effort. His reservation utility is $21$. The production such that only three results $x$ are possible, where $x$ represents the value of the result to the principal: $x \\in \\{0,1000,2500\\}$. The principal has a utility function $B(x,w) = 10000 + x - w$, where $10000$ is the principal's initial wealth.\n",
    "\n",
    "The probabilities conditional on effort are the following:\n",
    "\n",
    "|.       | Pr$(x=0|e)$ | Pr$(x=1000|e)$ | Pr$(x=2500|e)$ |\n",
    "|:------:|:-----------:|:--------------:|:--------------:|\n",
    "|$e = 0$ | 0.4         | 0.4            | 0.2            |\n",
    "|$e = 3$ | 0.2         | 0.4            | 0.4            | \n",
    "\n",
    "The timing of the game is as follows. First the risk neutral principal propose one or more contracts. Then the risk averse agent choses the contract, if any, to accept (if does not accept any contract, he will get his reservation utility). Finally the agent chooses the level of effort."
   ]
  },
  {
   "cell_type": "markdown",
   "metadata": {
    "slideshow": {
     "slide_type": "slide"
    }
   },
   "source": [
    "### Point a\n",
    "Assume agent's effort level is verifiable. Find a sub-game perfect equilibrium of the game that characterize the optimal contract for the principal."
   ]
  },
  {
   "cell_type": "markdown",
   "metadata": {
    "slideshow": {
     "slide_type": "subslide"
    }
   },
   "source": [
    "#### Solution Point a"
   ]
  },
  {
   "cell_type": "code",
   "execution_count": 2,
   "metadata": {
    "slideshow": {
     "slide_type": "fragment"
    }
   },
   "outputs": [],
   "source": [
    "m = Model(with_optimizer(Ipopt.Optimizer));"
   ]
  },
  {
   "cell_type": "code",
   "execution_count": 3,
   "metadata": {
    "slideshow": {
     "slide_type": "fragment"
    }
   },
   "outputs": [],
   "source": [
    "@variable(m, w[1:3] >= 0,start = 0.0);\n",
    "\n",
    "@variable(m, 0 <= e <= 3,start = 0.0);"
   ]
  },
  {
   "cell_type": "code",
   "execution_count": 4,
   "metadata": {
    "slideshow": {
     "slide_type": "fragment"
    }
   },
   "outputs": [],
   "source": [
    "#Profit Objective\n",
    "@NLobjective(m, Max, (e/3)*(0.2*(10000+0-w[1])+0.4*(10000+1000-w[2]) + 0.4*(10000+2500-w[3])) + (1-(e/3))*(0.4*(10000+0-w[1])+0.4*(10000+1000-w[2]) + 0.2*(10000+2500-w[3])))"
   ]
  },
  {
   "cell_type": "code",
   "execution_count": 5,
   "metadata": {
    "slideshow": {
     "slide_type": "fragment"
    }
   },
   "outputs": [],
   "source": [
    "#Participation Constraint\n",
    "@NLconstraint(m, (e/3)*(0.2*(sqrt(w[1]) - 3^2) +0.4*(sqrt(w[2]) - 3^2) + 0.4*(sqrt(w[3]) - 3^2)) + (1-(e/3))*(0.4*(sqrt(w[1]) - 0^2)+0.4*(sqrt(w[2]) - 0^2) + 0.2*(sqrt(w[3]) - 0^2)) == 21);"
   ]
  },
  {
   "cell_type": "code",
   "execution_count": 6,
   "metadata": {},
   "outputs": [
    {
     "data": {
      "text/latex": [
       "$$ \\begin{alignat*}{1}\\max\\quad & (e / 3.0) * (0.2 * ((10000.0 + 0.0) - w_{1}) + 0.4 * ((10000.0 + 1000.0) - w_{2}) + 0.4 * ((10000.0 + 2500.0) - w_{3})) + (1.0 - e / 3.0) * (0.4 * ((10000.0 + 0.0) - w_{1}) + 0.4 * ((10000.0 + 1000.0) - w_{2}) + 0.2 * ((10000.0 + 2500.0) - w_{3}))\\\\\n",
       "\\text{Subject to} \\quad & w_{1} \\geq 0.0\\\\\n",
       " & w_{2} \\geq 0.0\\\\\n",
       " & w_{3} \\geq 0.0\\\\\n",
       " & e \\geq 0.0\\\\\n",
       " & e \\leq 3.0\\\\\n",
       " & ((e / 3.0) * (0.2 * (sqrt(w_{1}) - 3.0 ^ 2.0) + 0.4 * (sqrt(w_{2}) - 3.0 ^ 2.0) + 0.4 * (sqrt(w_{3}) - 3.0 ^ 2.0)) + (1.0 - e / 3.0) * (0.4 * (sqrt(w_{1}) - 0.0 ^ 2.0) + 0.4 * (sqrt(w_{2}) - 0.0 ^ 2.0) + 0.2 * (sqrt(w_{3}) - 0.0 ^ 2.0))) - 21.0 = 0\\\\\n",
       "\\end{alignat*}\n",
       " $$"
      ],
      "text/plain": [
       "A JuMP Model\n",
       "Maximization problem with:\n",
       "Variables: 4\n",
       "Objective function type: Nonlinear\n",
       "`VariableRef`-in-`MathOptInterface.GreaterThan{Float64}`: 4 constraints\n",
       "`VariableRef`-in-`MathOptInterface.LessThan{Float64}`: 1 constraint\n",
       "Nonlinear: 1 constraint\n",
       "Model mode: AUTOMATIC\n",
       "CachingOptimizer state: EMPTY_OPTIMIZER\n",
       "Solver name: SolverName() attribute not implemented by the optimizer.\n",
       "Names registered in the model: e, w"
      ]
     },
     "execution_count": 6,
     "metadata": {},
     "output_type": "execute_result"
    }
   ],
   "source": [
    "m"
   ]
  },
  {
   "cell_type": "code",
   "execution_count": 7,
   "metadata": {
    "scrolled": false,
    "slideshow": {
     "slide_type": "subslide"
    }
   },
   "outputs": [
    {
     "name": "stdout",
     "output_type": "stream",
     "text": [
      "\n",
      "******************************************************************************\n",
      "This program contains Ipopt, a library for large-scale nonlinear optimization.\n",
      " Ipopt is released as open source code under the Eclipse Public License (EPL).\n",
      "         For more information visit http://projects.coin-or.org/Ipopt\n",
      "******************************************************************************\n",
      "\n",
      "This is Ipopt version 3.12.10, running with linear solver mumps.\n",
      "NOTE: Other linear solvers might be more efficient (see Ipopt documentation).\n",
      "\n",
      "Number of nonzeros in equality constraint Jacobian...:        4\n",
      "Number of nonzeros in inequality constraint Jacobian.:        0\n",
      "Number of nonzeros in Lagrangian Hessian.............:       20\n",
      "\n",
      "Total number of variables............................:        4\n",
      "                     variables with only lower bounds:        3\n",
      "                variables with lower and upper bounds:        1\n",
      "                     variables with only upper bounds:        0\n",
      "Total number of equality constraints.................:        1\n",
      "Total number of inequality constraints...............:        0\n",
      "        inequality constraints with only lower bounds:        0\n",
      "   inequality constraints with lower and upper bounds:        0\n",
      "        inequality constraints with only upper bounds:        0\n",
      "\n",
      "iter    objective    inf_pr   inf_du lg(mu)  ||d||  lg(rg) alpha_du alpha_pr  ls\n",
      "   0 -1.0901657e+04 2.09e+01 1.00e+02  -1.0 0.00e+00    -  0.00e+00 0.00e+00   0\n",
      "   1 -1.0899998e+04 2.09e+01 9.97e+01  -1.0 2.85e+00    -  3.74e-03 3.47e-03h  1\n",
      "   2 -1.0901013e+04 1.88e+01 1.45e+02  -1.0 6.89e+00    -  1.07e-02 1.00e+00f  1\n",
      "   3 -1.0894012e+04 1.86e+01 7.66e+01  -1.0 3.60e+01    -  1.76e-01 8.94e-03h  1\n",
      "   4 -1.0889851e+04 1.79e+01 2.88e+01  -1.0 1.12e+02    -  6.78e-02 4.36e-02h  1\n",
      "   5 -1.0772733e+04 1.00e+01 1.31e+03  -1.0 1.39e+02    -  2.85e-01 1.00e+00h  1\n",
      "   6 -1.0696826e+04 7.13e+00 8.18e+02  -1.7 2.76e+02    -  3.59e-01 3.27e-01h  1\n",
      "   7 -1.0488415e+04 1.25e+00 1.04e+02  -1.7 2.48e+02    -  1.00e+00 1.00e+00h  1\n",
      "   8 -1.0438331e+04 3.84e-02 1.96e+02  -3.8 5.71e+01    -  8.35e-01 1.00e+00h  1\n",
      "   9 -1.0451738e+04 8.14e-02 1.81e+01  -3.8 7.42e+01    -  8.85e-01 1.00e+00f  1\n",
      "iter    objective    inf_pr   inf_du lg(mu)  ||d||  lg(rg) alpha_du alpha_pr  ls\n",
      "  10 -1.0464212e+04 1.38e-01 2.18e+01  -5.7 1.40e+02    -  9.86e-04 1.00e+00f  1\n",
      "  11 -1.0458576e+04 5.16e-04 6.68e-02  -5.7 6.39e+00  -2.0 9.89e-01 1.00e+00h  1\n",
      "  12 -1.0463636e+04 2.52e-03 3.49e-01  -8.6 1.91e+01  -2.5 1.50e-01 1.00e+00f  1\n",
      "  13 -1.0475994e+04 5.99e-03 3.27e+00  -8.6 6.82e+01  -3.0 9.14e-01 1.00e+00f  1\n",
      "  14 -1.0486652e+04 2.04e-01 3.05e+01  -8.6 4.33e+02  -3.4 2.65e-01 1.00e+00f  1\n",
      "  15 -1.0499227e+04 3.49e-03 2.12e+00  -8.6 1.60e+01  -3.0 1.00e+00 1.00e+00f  1\n",
      "  16 -1.0499610e+04 4.39e-04 1.12e+00  -8.6 9.77e+00  -2.6 1.00e+00 1.00e+00f  1\n",
      "  17 -1.0500878e+04 1.18e-03 3.26e+00  -8.6 2.20e+01  -3.1 1.00e+00 1.00e+00f  1\n",
      "  18 -1.0501241e+04 3.63e-04 1.01e+00  -8.6 8.90e+00  -2.6 1.00e+00 1.00e+00f  1\n",
      "  19 -1.0502158e+04 8.86e-04 2.98e+00  -8.6 1.99e+01  -3.1 1.00e+00 1.00e+00f  1\n",
      "iter    objective    inf_pr   inf_du lg(mu)  ||d||  lg(rg) alpha_du alpha_pr  ls\n",
      "  20 -1.0502422e+04 2.96e-04 8.86e-01  -8.6 8.05e+00  -2.7 1.00e+00 1.00e+00f  1\n",
      "  21 -1.0503063e+04 7.26e-04 2.62e+00  -8.6 1.78e+01  -3.2 1.00e+00 1.00e+00f  1\n",
      "  22 -1.0503248e+04 2.44e-04 7.57e-01  -8.6 7.20e+00  -2.7 1.00e+00 1.00e+00f  1\n",
      "  23 -1.0503684e+04 6.33e-04 2.20e+00  -8.6 1.56e+01  -3.2 1.00e+00 1.00e+00f  1\n",
      "  24 -1.0503810e+04 1.99e-04 6.28e-01  -8.6 6.38e+00  -2.8 1.00e+00 1.00e+00f  1\n",
      "  25 -1.0504103e+04 5.56e-04 1.75e+00  -8.6 1.35e+01  -3.3 1.00e+00 1.00e+00f  1\n",
      "  26 -1.0504187e+04 1.58e-04 5.08e-01  -8.6 5.60e+00  -2.8 1.00e+00 1.00e+00f  1\n",
      "  27 -1.0504386e+04 4.70e-04 1.32e+00  -8.6 1.14e+01  -3.3 1.00e+00 1.00e+00f  1\n",
      "  28 -1.0504442e+04 1.22e-04 4.09e-01  -8.6 4.87e+00  -2.9 1.00e+00 1.00e+00f  1\n",
      "  29 -1.0504578e+04 3.70e-04 9.49e-01  -8.6 9.45e+00  -3.4 1.00e+00 1.00e+00f  1\n",
      "\n",
      "Number of Iterations....: 29\n",
      "\n",
      "                                   (scaled)                 (unscaled)\n",
      "Objective...............:  -6.3027469835359689e+03   -1.0504578305893301e+04\n",
      "Dual infeasibility......:   9.4881529625979144e-01    1.5813588270996555e+00\n",
      "Constraint violation....:   3.7002607466263272e-12    3.7002607466263271e-04\n",
      "Complementarity.........:   2.5058983506450761e-09    4.1764972510751348e-09\n",
      "Overall NLP error.......:   1.7237280161383551e-07    1.5813588270996555e+00\n",
      "\n",
      "\n",
      "Number of objective function evaluations             = 30\n",
      "Number of objective gradient evaluations             = 30\n",
      "Number of equality constraint evaluations            = 30\n",
      "Number of inequality constraint evaluations          = 0\n",
      "Number of equality constraint Jacobian evaluations   = 30\n",
      "Number of inequality constraint Jacobian evaluations = 0\n",
      "Number of Lagrangian Hessian evaluations             = 29\n",
      "Total CPU secs in IPOPT (w/o function evaluations)   =      2.652\n",
      "Total CPU secs in NLP function evaluations           =      1.399\n",
      "\n",
      "EXIT: Solved To Acceptable Level.\n"
     ]
    }
   ],
   "source": [
    "JuMP.optimize!(m)"
   ]
  },
  {
   "cell_type": "code",
   "execution_count": 8,
   "metadata": {
    "slideshow": {
     "slide_type": "subslide"
    }
   },
   "outputs": [
    {
     "name": "stdout",
     "output_type": "stream",
     "text": [
      "** Optimal profits for the firm = 10505.0\n",
      "** Optimal wages given result = [709.041, 754.498, 773.379]\n",
      "** Optimal effort demanded = 2.1226467752833096\n"
     ]
    }
   ],
   "source": [
    "println(\"** Optimal profits for the firm = \", round(JuMP.objective_value(m)))\n",
    "println(\"** Optimal wages given result = \", JuMP.value.(w))\n",
    "println(\"** Optimal effort demanded = \", JuMP.value(e))"
   ]
  },
  {
   "cell_type": "markdown",
   "metadata": {
    "slideshow": {
     "slide_type": "slide"
    }
   },
   "source": [
    "### Point b\n",
    "Assume now that the only verifiable variable in the relationship is the result $x$."
   ]
  },
  {
   "cell_type": "markdown",
   "metadata": {
    "slideshow": {
     "slide_type": "subslide"
    }
   },
   "source": [
    "#### Solution Point b"
   ]
  },
  {
   "cell_type": "code",
   "execution_count": 9,
   "metadata": {
    "slideshow": {
     "slide_type": "fragment"
    }
   },
   "outputs": [],
   "source": [
    "m = Model(with_optimizer(Ipopt.Optimizer));"
   ]
  },
  {
   "cell_type": "code",
   "execution_count": 10,
   "metadata": {
    "slideshow": {
     "slide_type": "fragment"
    }
   },
   "outputs": [],
   "source": [
    "@variable(m, w[1:3] >= 0);\n",
    "\n",
    "eₕ = 3;\n",
    "eₗ = 0;"
   ]
  },
  {
   "cell_type": "code",
   "execution_count": 11,
   "metadata": {
    "slideshow": {
     "slide_type": "fragment"
    }
   },
   "outputs": [],
   "source": [
    "#Profit Objective\n",
    "@NLobjective(m, Max, (0.2*(10000+0-w[1])+0.4*(10000+1000-w[2]) + 0.4*(10000+2500-w[3])))"
   ]
  },
  {
   "cell_type": "code",
   "execution_count": 12,
   "metadata": {
    "slideshow": {
     "slide_type": "fragment"
    }
   },
   "outputs": [],
   "source": [
    "#Participation Constraint\n",
    "@NLconstraint(m, (0.2*(sqrt(w[1]) - eₕ^2) +0.4*(sqrt(w[2]) - eₕ^2) + 0.4*(sqrt(w[3]) - eₕ^2)) == 21);"
   ]
  },
  {
   "cell_type": "code",
   "execution_count": 13,
   "metadata": {
    "slideshow": {
     "slide_type": "fragment"
    }
   },
   "outputs": [],
   "source": [
    "#Incentive Compatibility\n",
    "@NLconstraint(m, (0.2*(sqrt(w[1]) - eₕ^2) +0.4*(sqrt(w[2]) - eₕ^2) + 0.4*(sqrt(w[3]) - eₕ^2)) >= (0.4*(sqrt(w[1]) - eₗ^2)+0.4*(sqrt(w[2]) - eₗ^2) + 0.2*(sqrt(w[3]) - eₗ^2)));"
   ]
  },
  {
   "cell_type": "code",
   "execution_count": 14,
   "metadata": {
    "slideshow": {
     "slide_type": "fragment"
    }
   },
   "outputs": [
    {
     "name": "stdout",
     "output_type": "stream",
     "text": [
      "This is Ipopt version 3.12.10, running with linear solver mumps.\n",
      "NOTE: Other linear solvers might be more efficient (see Ipopt documentation).\n",
      "\n",
      "Number of nonzeros in equality constraint Jacobian...:        3\n",
      "Number of nonzeros in inequality constraint Jacobian.:        3\n",
      "Number of nonzeros in Lagrangian Hessian.............:        6\n",
      "\n",
      "Total number of variables............................:        3\n",
      "                     variables with only lower bounds:        3\n",
      "                variables with lower and upper bounds:        0\n",
      "                     variables with only upper bounds:        0\n",
      "Total number of equality constraints.................:        1\n",
      "Total number of inequality constraints...............:        1\n",
      "        inequality constraints with only lower bounds:        1\n",
      "   inequality constraints with lower and upper bounds:        0\n",
      "        inequality constraints with only upper bounds:        0\n",
      "\n",
      "iter    objective    inf_pr   inf_du lg(mu)  ||d||  lg(rg) alpha_du alpha_pr  ls\n",
      "   0 -1.1399990e+04 2.99e+01 1.00e+00  -1.0 0.00e+00    -  0.00e+00 0.00e+00   0\n",
      "   1 -1.1399959e+04 2.98e+01 1.44e+00  -1.0 8.21e+00    -  1.22e-03 5.15e-03h  1\n",
      "   2 -1.1386908e+04 2.67e+01 2.73e+02  -1.0 2.10e+01    -  3.72e-03 1.00e+00h  1\n",
      "   3 -1.1386115e+04 2.66e+01 2.71e+02  -1.0 2.17e+02    -  5.83e-03 5.04e-03h  1\n",
      "   4 -1.1385627e+04 2.65e+01 1.21e+02  -1.0 3.65e+02    -  6.52e-02 2.17e-03h  1\n",
      "   5 -1.1346849e+04 2.35e+01 1.78e+03  -1.0 3.74e+02    -  1.00e+00 1.69e-01h  1\n",
      "   6 -1.1336903e+04 2.30e+01 1.74e+03  -1.0 6.41e+02    -  1.21e-01 2.53e-02h  1\n",
      "   7 -1.1334964e+04 2.29e+01 3.57e+03  -1.0 6.92e+02    -  1.00e+00 4.65e-03h  1\n",
      "   8 -1.0913942e+04 1.06e+01 2.58e+02  -1.0 7.14e+02    -  1.54e-01 1.00e+00h  1\n",
      "   9 -1.0543973e+04 4.30e+00 2.17e+05  -1.0 9.38e+02    -  9.83e-01 6.90e-01h  1\n",
      "The equality constraints contain an invalid number\n",
      "Warning: Cutting back alpha due to evaluation error\n",
      "iter    objective    inf_pr   inf_du lg(mu)  ||d||  lg(rg) alpha_du alpha_pr  ls\n",
      "  10 -1.0543963e+04 4.30e+00 6.16e+08  -1.0 4.23e+02   2.0 1.00e+00 3.41e-05h  2\n",
      "  11 -1.0254531e+04 3.11e-01 6.07e+06  -1.0 5.14e+02    -  9.90e-01 1.00e+00h  1\n",
      "  12 -1.0230129e+04 1.62e-03 1.57e+04  -2.5 4.47e+01    -  9.97e-01 1.00e+00h  1\n",
      "  13 -1.0229999e+04 1.95e-07 7.25e-01  -3.8 2.42e-01    -  9.92e-01 1.00e+00h  1\n",
      "  14 -1.0230000e+04 1.59e-04 2.67e+00  -5.7 1.25e-01    -  7.81e-01 1.00e+00f  1\n",
      "  15 -1.0230000e+04 4.00e-05 4.76e-01  -5.7 1.41e-06   1.5 1.00e+00 1.00e+00h  1\n",
      "  16 -1.0230000e+04 7.65e-06 2.15e-01  -5.7 4.49e-02    -  1.00e+00 1.00e+00h  1\n",
      "  17 -1.0230000e+04 4.67e-05 7.13e-01  -8.6 4.83e-02    -  1.00e+00 1.00e+00h  1\n",
      "The equality constraints contain an invalid number\n",
      "Warning: Cutting back alpha due to evaluation error\n",
      "  18 -1.0230000e+04 3.30e-05 2.45e-01  -8.6 4.70e-02    -  1.00e+00 3.81e-01h  2\n",
      "The equality constraints contain an invalid number\n",
      "Warning: Cutting back alpha due to evaluation error\n",
      "  19 -1.0230000e+04 1.92e-05 2.41e-01  -8.6 2.82e-02    -  1.00e+00 5.00e-01h  2\n",
      "The equality constraints contain an invalid number\n",
      "Warning: Cutting back alpha due to evaluation error\n",
      "iter    objective    inf_pr   inf_du lg(mu)  ||d||  lg(rg) alpha_du alpha_pr  ls\n",
      "  20 -1.0230000e+04 1.24e-05 2.67e-01  -8.6 1.95e-02    -  1.00e+00 5.00e-01h  2\n",
      "The equality constraints contain an invalid number\n",
      "Warning: Cutting back alpha due to evaluation error\n",
      "  21 -1.0230000e+04 1.07e-05 8.01e-01  -8.6 1.52e-02    -  1.00e+00 4.80e-01h  2\n",
      "  22 -1.0230000e+04 2.95e-06 1.28e+00  -8.6 1.15e-07   1.0 7.49e-01 1.00e+00h  1\n",
      "The equality constraints contain an invalid number\n",
      "Warning: Cutting back alpha due to evaluation error\n",
      "The equality constraints contain an invalid number\n",
      "Warning: Cutting back alpha due to evaluation error\n",
      "  23 -1.0230000e+04 3.84e-06 1.16e+00  -8.6 5.19e-02    -  1.00e+00 4.47e-02h  3\n",
      "The equality constraints contain an invalid number\n",
      "Warning: Cutting back alpha due to evaluation error\n",
      "The equality constraints contain an invalid number\n",
      "Warning: Cutting back alpha due to evaluation error\n",
      "  24 -1.0230000e+04 7.28e-06 2.18e+00  -8.6 2.74e-02    -  1.00e+00 9.98e-02h  3\n",
      "  25 -1.0230000e+04 3.34e-06 2.92e+00  -8.6 9.02e-08   0.6 1.00e+00 1.00e+00h  1\n",
      "  26 -1.0230000e+04 5.98e-07 1.08e+00  -8.6 1.20e-07   0.1 1.00e+00 1.00e+00h  1\n",
      "The equality constraints contain an invalid number\n",
      "Warning: Cutting back alpha due to evaluation error\n",
      "The equality constraints contain an invalid number\n",
      "Warning: Cutting back alpha due to evaluation error\n",
      "The equality constraints contain an invalid number\n",
      "Warning: Cutting back alpha due to evaluation error\n",
      "  27 -1.0230000e+04 1.63e-06 8.94e-01  -8.6 1.88e-02    -  1.00e+00 8.09e-02h  4\n",
      "The equality constraints contain an invalid number\n",
      "Warning: Cutting back alpha due to evaluation error\n",
      "The equality constraints contain an invalid number\n",
      "Warning: Cutting back alpha due to evaluation error\n",
      "The equality constraints contain an invalid number\n",
      "Warning: Cutting back alpha due to evaluation error\n",
      "The equality constraints contain an invalid number\n",
      "Warning: Cutting back alpha due to evaluation error\n",
      "The equality constraints contain an invalid number\n",
      "Warning: Cutting back alpha due to evaluation error\n",
      "  28 -1.0230000e+04 1.92e-06 7.73e-01  -8.6 2.11e-02    -  1.00e+00 3.12e-02h  6\n",
      "  29 -1.0230000e+04 4.02e-07 5.78e-01  -8.6 4.80e-07  -0.4 1.00e+00 1.00e+00h  1\n",
      "The equality constraints contain an invalid number\n",
      "Warning: Cutting back alpha due to evaluation error\n",
      "The equality constraints contain an invalid number\n",
      "Warning: Cutting back alpha due to evaluation error\n",
      "iter    objective    inf_pr   inf_du lg(mu)  ||d||  lg(rg) alpha_du alpha_pr  ls\n",
      "  30 -1.0230000e+04 1.22e-06 5.14e-01  -8.6 3.62e-03    -  1.00e+00 2.50e-01h  3\n",
      "The equality constraints contain an invalid number\n",
      "Warning: Cutting back alpha due to evaluation error\n",
      "The equality constraints contain an invalid number\n",
      "Warning: Cutting back alpha due to evaluation error\n",
      "  31 -1.0230000e+04 1.23e-06 5.00e-01  -8.6 1.75e-03    -  1.00e+00 2.50e-01h  3\n",
      "\n",
      "Number of Iterations....: 31\n",
      "\n",
      "                                   (scaled)                 (unscaled)\n",
      "Objective...............:  -1.0230000000597522e+04   -1.0230000000597522e+04\n",
      "Dual infeasibility......:   4.9968789045040196e-01    4.9968789045040196e-01\n",
      "Constraint violation....:   1.2292614712805516e-14    1.2292614712805516e-06\n",
      "Complementarity.........:   2.5488900144548342e-09    2.5488900144548342e-09\n",
      "Overall NLP error.......:   4.9968796290091602e-08    4.9968789045040196e-01\n",
      "\n",
      "\n",
      "Number of objective function evaluations             = 32\n",
      "Number of objective gradient evaluations             = 32\n",
      "Number of equality constraint evaluations            = 53\n",
      "Number of inequality constraint evaluations          = 32\n",
      "Number of equality constraint Jacobian evaluations   = 32\n",
      "Number of inequality constraint Jacobian evaluations = 32\n",
      "Number of Lagrangian Hessian evaluations             = 31\n",
      "Total CPU secs in IPOPT (w/o function evaluations)   =      0.012\n",
      "Total CPU secs in NLP function evaluations           =      0.001\n",
      "\n",
      "EXIT: Solved To Acceptable Level.\n"
     ]
    }
   ],
   "source": [
    "JuMP.optimize!(m)"
   ]
  },
  {
   "cell_type": "code",
   "execution_count": 15,
   "metadata": {
    "slideshow": {
     "slide_type": "subslide"
    }
   },
   "outputs": [
    {
     "name": "stdout",
     "output_type": "stream",
     "text": [
      "** Optimal profits for the firm = 10230.0\n",
      "** Optimal wages given result = [0.0, 900.0, 2025.0]\n"
     ]
    }
   ],
   "source": [
    "println(\"** Optimal profits for the firm = \", round(JuMP.objective_value(m)))\n",
    "println(\"** Optimal wages given result = \", round.(JuMP.value.(w)))"
   ]
  },
  {
   "cell_type": "markdown",
   "metadata": {
    "slideshow": {
     "slide_type": "slide"
    }
   },
   "source": [
    "### Point c\n",
    "In a case in which effort is not observable (as in point b) what contract the principal should provide?"
   ]
  },
  {
   "cell_type": "markdown",
   "metadata": {
    "slideshow": {
     "slide_type": "slide"
    }
   },
   "source": [
    "## Ex 2"
   ]
  },
  {
   "cell_type": "markdown",
   "metadata": {
    "slideshow": {
     "slide_type": "subslide"
    }
   },
   "source": [
    "A principal (P) delegates an agent (A) the production of a good. The utility for the principal when the agent produces $q$ units of the good and receives a payment $w$ from the principal is $U_p(q,w) = R(q) - w$, with $R(q) = 14 \\ln q$. The utility function for the agent is $U_{AL}(w,q) = w - c_L q$ if he has low costs ($c_L$) and $U_{AH}(w,q) = w - c_H q$ if he has high costs ($c_H$), with $c_H = 4$ and $c_L = 2$. The agent knows whether his cost of production is high or low, and the reservation utility for both types of agent is $0$. The principal can make a take-it-or-leave-it offer to the agent. The quantity produced and the payment to the agent are verifiable. "
   ]
  },
  {
   "cell_type": "markdown",
   "metadata": {
    "slideshow": {
     "slide_type": "slide"
    }
   },
   "source": [
    "### Point a\n",
    "Assume that the principal knows the production cost of the agent. Find the contracts $(q_L^\\star,w_L^\\star)$ and $(q_H^\\star,q_H^\\star)$ the principal would deem optimal to propose to, respectively, an agent with a low cost and one with high cost. Is $q_L^\\star$ greater, equal or lower than $q_H^\\star$? Is $w_L^\\star$ greater, equal or lower than $w_H^\\star$?"
   ]
  },
  {
   "cell_type": "markdown",
   "metadata": {
    "slideshow": {
     "slide_type": "subslide"
    }
   },
   "source": [
    "#### Solution Point a"
   ]
  },
  {
   "cell_type": "code",
   "execution_count": 16,
   "metadata": {
    "slideshow": {
     "slide_type": "fragment"
    }
   },
   "outputs": [],
   "source": [
    "function R(quantity)\n",
    "    return 14*log(quantity)\n",
    "    end;\n",
    "\n",
    "function Uₚ(quantity,wage)\n",
    "    return R(quantity) - wage\n",
    "    end;\n",
    "\n",
    "function Uₐ(quantity,wage,cost)\n",
    "    return wage - cost*quantity\n",
    "    end;"
   ]
  },
  {
   "cell_type": "code",
   "execution_count": 17,
   "metadata": {
    "slideshow": {
     "slide_type": "fragment"
    }
   },
   "outputs": [],
   "source": [
    "m = Model(with_optimizer(Ipopt.Optimizer));"
   ]
  },
  {
   "cell_type": "code",
   "execution_count": 18,
   "metadata": {
    "slideshow": {
     "slide_type": "fragment"
    }
   },
   "outputs": [],
   "source": [
    "@variable(m, w[1:2] >= 0);\n",
    "@variable(m, q[1:2] >= 0);\n",
    "\n",
    "cₗ = 2;\n",
    "cₕ = 4;"
   ]
  },
  {
   "cell_type": "code",
   "execution_count": 19,
   "metadata": {
    "slideshow": {
     "slide_type": "fragment"
    }
   },
   "outputs": [],
   "source": [
    "register(m, :R, 1, R, autodiff=true)\n",
    "register(m, :Uₚ, 2, Uₚ, autodiff=true)\n",
    "register(m, :Uₐ, 3, Uₐ, autodiff=true)"
   ]
  },
  {
   "cell_type": "code",
   "execution_count": 20,
   "metadata": {
    "slideshow": {
     "slide_type": "fragment"
    }
   },
   "outputs": [],
   "source": [
    "#Profit Objective\n",
    "@NLobjective(m, Max, Uₚ(q[1],w[1]) + Uₚ(q[2],w[2]))"
   ]
  },
  {
   "cell_type": "code",
   "execution_count": 21,
   "metadata": {
    "slideshow": {
     "slide_type": "fragment"
    }
   },
   "outputs": [],
   "source": [
    "#Participation Constraint\n",
    "@NLconstraint(m, Uₐ(q[1],w[1],cₗ) + Uₐ(q[2],w[2],cₕ) >= 0);"
   ]
  },
  {
   "cell_type": "code",
   "execution_count": 22,
   "metadata": {
    "slideshow": {
     "slide_type": "subslide"
    }
   },
   "outputs": [
    {
     "data": {
      "text/latex": [
       "$$ \\begin{alignat*}{1}\\max\\quad & Uₚ(q_{1}, w_{1}) + Uₚ(q_{2}, w_{2})\\\\\n",
       "\\text{Subject to} \\quad & w_{1} \\geq 0.0\\\\\n",
       " & w_{2} \\geq 0.0\\\\\n",
       " & q_{1} \\geq 0.0\\\\\n",
       " & q_{2} \\geq 0.0\\\\\n",
       " & (Uₐ(q_{1}, w_{1}, 2.0) + Uₐ(q_{2}, w_{2}, 4.0)) - 0.0 \\geq 0\\\\\n",
       "\\end{alignat*}\n",
       " $$"
      ],
      "text/plain": [
       "A JuMP Model\n",
       "Maximization problem with:\n",
       "Variables: 4\n",
       "Objective function type: Nonlinear\n",
       "`VariableRef`-in-`MathOptInterface.GreaterThan{Float64}`: 4 constraints\n",
       "Nonlinear: 1 constraint\n",
       "Model mode: AUTOMATIC\n",
       "CachingOptimizer state: EMPTY_OPTIMIZER\n",
       "Solver name: SolverName() attribute not implemented by the optimizer.\n",
       "Names registered in the model: q, w"
      ]
     },
     "execution_count": 22,
     "metadata": {},
     "output_type": "execute_result"
    }
   ],
   "source": [
    "m"
   ]
  },
  {
   "cell_type": "code",
   "execution_count": 23,
   "metadata": {
    "slideshow": {
     "slide_type": "subslide"
    }
   },
   "outputs": [
    {
     "name": "stdout",
     "output_type": "stream",
     "text": [
      "This is Ipopt version 3.12.10, running with linear solver mumps.\n",
      "NOTE: Other linear solvers might be more efficient (see Ipopt documentation).\n",
      "\n",
      "Number of nonzeros in equality constraint Jacobian...:        0\n",
      "Number of nonzeros in inequality constraint Jacobian.:        4\n",
      "Number of nonzeros in Lagrangian Hessian.............:        0\n",
      "\n",
      "Total number of variables............................:        4\n",
      "                     variables with only lower bounds:        4\n",
      "                variables with lower and upper bounds:        0\n",
      "                     variables with only upper bounds:        0\n",
      "Total number of equality constraints.................:        0\n",
      "Total number of inequality constraints...............:        1\n",
      "        inequality constraints with only lower bounds:        1\n",
      "   inequality constraints with lower and upper bounds:        0\n",
      "        inequality constraints with only upper bounds:        0\n",
      "\n",
      "iter    objective    inf_pr   inf_du lg(mu)  ||d||  lg(rg) alpha_du alpha_pr  ls\n",
      "   0  1.2896479e+02 4.00e-02 6.70e+02   0.0 0.00e+00    -  0.00e+00 0.00e+00   0\n",
      "   1  1.1408704e+02 4.97e-02 3.65e+02   0.0 7.19e+00    -  1.60e-03 3.45e-03f  1\n",
      "   2  1.7906226e+02 0.00e+00 1.66e+05  -0.6 1.16e-01    -  1.00e+00 4.69e-01h  1\n",
      "   3  1.2214204e+02 7.54e-03 8.06e+02  -0.6 7.77e-02    -  1.00e+00 6.95e-01f  1\n",
      "   4  1.2304267e+02 0.00e+00 5.03e+02  -1.6 2.20e-03    -  1.00e+00 1.00e+00h  1\n",
      "   5  1.1114165e+02 0.00e+00 5.74e+02  -1.2 3.02e-02    -  1.00e+00 1.00e+00f  1\n",
      "   6  1.0255508e+02 0.00e+00 5.19e+02  -1.2 3.72e-02    -  1.00e+00 1.00e+00f  1\n",
      "   7  9.0859218e+01 0.00e+00 4.21e+02  -1.4 8.06e-02    -  1.00e+00 1.00e+00f  1\n",
      "   8  7.8148935e+01 0.00e+00 2.80e+02  -1.1 1.25e-01    -  1.00e+00 1.00e+00f  1\n",
      "   9  6.5106679e+01 0.00e+00 1.76e+02  -1.1 1.87e-01    -  1.00e+00 1.00e+00f  1\n",
      "iter    objective    inf_pr   inf_du lg(mu)  ||d||  lg(rg) alpha_du alpha_pr  ls\n",
      "  10  6.4866341e+01 0.00e+00 1.17e+02  -0.7 1.92e+00    -  1.00e+00 5.49e-02f  3\n",
      "  11  4.5643072e+01 0.00e+00 6.70e+01  -6.7 5.47e-01    -  2.69e-01 1.00e+00f  1\n",
      "  12  4.2297490e+01 0.00e+00 5.99e+01  -1.2 6.39e-01    -  1.00e+00 2.90e-01f  1\n",
      "  13  2.8043148e+01 0.00e+00 3.35e+01  -1.3 7.78e-01    -  1.00e+00 1.00e+00f  1\n",
      "  14  1.8308500e+01 0.00e+00 2.22e+01  -1.4 8.24e-01    -  1.00e+00 1.00e+00f  1\n",
      "  15  8.7639634e+00 0.00e+00 1.42e+01  -1.5 1.34e+00    -  1.00e+00 1.00e+00f  1\n",
      "  16  1.5552542e+00 0.00e+00 9.61e+00  -1.7 1.77e+00    -  1.00e+00 1.00e+00f  1\n",
      "  17  4.7644510e-01 0.00e+00 6.51e+00  -0.4 6.18e+01    -  1.00e+00 1.94e-02f  3\n",
      "  18 -5.8097090e+00 0.00e+00 4.53e+00  -0.6 2.11e+00    -  9.97e-01 1.00e+00f  1\n",
      "  19 -1.0361170e+01 0.00e+00 2.69e+00  -0.7 2.06e+00    -  1.00e+00 1.00e+00f  1\n",
      "iter    objective    inf_pr   inf_du lg(mu)  ||d||  lg(rg) alpha_du alpha_pr  ls\n",
      "  20 -1.3416433e+01 0.00e+00 1.73e+00  -1.3 1.85e+00    -  9.98e-01 1.00e+00f  1\n",
      "  21 -1.5183881e+01 0.00e+00 1.10e+00  -1.8 1.69e+00    -  1.00e+00 1.00e+00f  1\n",
      "  22 -1.6113761e+01 0.00e+00 6.81e-01  -2.7 1.23e+00    -  1.00e+00 1.00e+00f  1\n",
      "  23 -1.6571770e+01 0.00e+00 3.62e-01  -3.4 6.70e-01    -  1.00e+00 1.00e+00f  1\n",
      "  24 -1.6620083e+01 0.00e+00 9.98e-02  -5.5 4.18e+00    -  1.00e+00 4.31e-01f  2\n",
      "  25 -1.6779220e+01 0.00e+00 1.85e-02  -4.5 1.60e+00    -  1.00e+00 1.00e+00f  1\n",
      "  26 -1.6781391e+01 0.00e+00 1.86e-03  -6.7 1.38e-01    -  1.00e+00 9.80e-01f  1\n",
      "  27 -1.6781424e+01 0.00e+00 1.00e-04  -8.5 2.01e-02    -  1.00e+00 1.00e+00f  1\n",
      "  28 -1.6781424e+01 0.00e+00 9.27e-06 -11.0 2.75e-04    -  1.00e+00 1.00e+00h  1\n",
      "  29 -1.6781424e+01 0.00e+00 1.54e-07 -11.0 1.50e-05    -  1.00e+00 1.00e+00h  1\n",
      "iter    objective    inf_pr   inf_du lg(mu)  ||d||  lg(rg) alpha_du alpha_pr  ls\n",
      "  30 -1.6781424e+01 0.00e+00 4.10e-08 -11.0 1.98e-06    -  1.00e+00 1.00e+00h  1\n",
      "  31 -1.6781424e+01 0.00e+00 1.96e-09 -11.0 3.27e-08    -  1.00e+00 1.00e+00h  1\n",
      "\n",
      "Number of Iterations....: 31\n",
      "\n",
      "                                   (scaled)                 (unscaled)\n",
      "Objective...............:  -1.6781423655699538e+01   -1.6781423655699538e+01\n",
      "Dual infeasibility......:   1.9557461680696033e-09    1.9557461680696033e-09\n",
      "Constraint violation....:   0.0000000000000000e+00    0.0000000000000000e+00\n",
      "Complementarity.........:   1.0000000000000547e-11    1.0000000000000547e-11\n",
      "Overall NLP error.......:   1.9557461680696033e-09    1.9557461680696033e-09\n",
      "\n",
      "\n",
      "Number of objective function evaluations             = 39\n",
      "Number of objective gradient evaluations             = 32\n",
      "Number of equality constraint evaluations            = 0\n",
      "Number of inequality constraint evaluations          = 39\n",
      "Number of equality constraint Jacobian evaluations   = 0\n",
      "Number of inequality constraint Jacobian evaluations = 32\n",
      "Number of Lagrangian Hessian evaluations             = 0\n",
      "Total CPU secs in IPOPT (w/o function evaluations)   =      0.609\n",
      "Total CPU secs in NLP function evaluations           =      0.001\n",
      "\n",
      "EXIT: Optimal Solution Found.\n"
     ]
    }
   ],
   "source": [
    "JuMP.optimize!(m)"
   ]
  },
  {
   "cell_type": "code",
   "execution_count": 24,
   "metadata": {},
   "outputs": [
    {
     "name": "stdout",
     "output_type": "stream",
     "text": [
      "Optimal wages are = [14.0, 14.0]\n",
      "Optimal quantity = [7.0, 3.5]\n"
     ]
    }
   ],
   "source": [
    "println(\"Optimal wages are = \", JuMP.value.(w))\n",
    "println(\"Optimal quantity = \", JuMP.value.(q))"
   ]
  },
  {
   "cell_type": "markdown",
   "metadata": {
    "slideshow": {
     "slide_type": "slide"
    }
   },
   "source": [
    "### Point b\n",
    "Assume now that the principal does not know the production cost of the agent, but she attaches probability 0.25 to the agent having a low cost of production. Find the contracts $(q_L^{\\star\\star}, w_L^{\\star\\star})$ and $(q_H^{\\star\\star}, w_H^{\\star\\star})$ the principal would deem optimal to propose to the agent, such that an agent with a low cost of production chooses contract $(q_L^{\\star\\star}, w_L^{\\star\\star})$ and an agent with high cost of production chooses the contract $(q_H^{\\star\\star}, w_H^{\\star\\star})$."
   ]
  },
  {
   "cell_type": "markdown",
   "metadata": {
    "slideshow": {
     "slide_type": "subslide"
    }
   },
   "source": [
    "#### Solution Point b"
   ]
  },
  {
   "cell_type": "code",
   "execution_count": 25,
   "metadata": {
    "slideshow": {
     "slide_type": "fragment"
    }
   },
   "outputs": [],
   "source": [
    "function R(quantity)\n",
    "    return 14*log(quantity)\n",
    "    end;\n",
    "\n",
    "function Uₚ(quantity,wage)\n",
    "    return R(quantity) - wage\n",
    "    end;\n",
    "\n",
    "function Uₐ(quantity,wage,cost)\n",
    "    return wage - cost*quantity\n",
    "    end;"
   ]
  },
  {
   "cell_type": "code",
   "execution_count": 26,
   "metadata": {
    "slideshow": {
     "slide_type": "fragment"
    }
   },
   "outputs": [],
   "source": [
    "m = Model(with_optimizer(Ipopt.Optimizer));"
   ]
  },
  {
   "cell_type": "code",
   "execution_count": 27,
   "metadata": {
    "slideshow": {
     "slide_type": "fragment"
    }
   },
   "outputs": [],
   "source": [
    "@variable(m, w[1:2] >= 0);\n",
    "@variable(m, q[1:2] >= 0);\n",
    "\n",
    "cₗ = 2;\n",
    "cₕ = 4;\n",
    "\n",
    "pₗ = 0.25;\n",
    "pₕ = 1-pₗ;"
   ]
  },
  {
   "cell_type": "code",
   "execution_count": 28,
   "metadata": {
    "slideshow": {
     "slide_type": "fragment"
    }
   },
   "outputs": [],
   "source": [
    "register(m, :R, 1, R, autodiff=true)\n",
    "register(m, :Uₚ, 2, Uₚ, autodiff=true)\n",
    "register(m, :Uₐ, 3, Uₐ, autodiff=true)"
   ]
  },
  {
   "cell_type": "code",
   "execution_count": 29,
   "metadata": {
    "slideshow": {
     "slide_type": "fragment"
    }
   },
   "outputs": [],
   "source": [
    "#Profit Objective\n",
    "@NLobjective(m, Max, pₗ*Uₚ(q[1],w[1]) + pₕ*Uₚ(q[2],w[2]))"
   ]
  },
  {
   "cell_type": "code",
   "execution_count": 30,
   "metadata": {
    "slideshow": {
     "slide_type": "fragment"
    }
   },
   "outputs": [],
   "source": [
    "#Participation Constraint low cost type\n",
    "@NLconstraint(m, Uₐ(q[1],w[1],cₗ) >= 0);\n",
    "#Participation Constraint high cost type\n",
    "@NLconstraint(m, Uₐ(q[2],w[2],cₕ) >= 0);"
   ]
  },
  {
   "cell_type": "code",
   "execution_count": 31,
   "metadata": {
    "slideshow": {
     "slide_type": "fragment"
    }
   },
   "outputs": [],
   "source": [
    "#Incentive Compatibility low cost type\n",
    "@NLconstraint(m, Uₐ(q[1],w[1],cₗ) >= Uₐ(q[2],w[2],cₗ));\n",
    "#Incentive Compatibility high cost type\n",
    "@NLconstraint(m, Uₐ(q[2],w[2],cₕ) >= Uₐ(q[1],w[1],cₕ));"
   ]
  },
  {
   "cell_type": "code",
   "execution_count": 32,
   "metadata": {
    "slideshow": {
     "slide_type": "subslide"
    }
   },
   "outputs": [
    {
     "data": {
      "text/latex": [
       "$$ \\begin{alignat*}{1}\\max\\quad & 0.25 * Uₚ(q_{1}, w_{1}) + 0.75 * Uₚ(q_{2}, w_{2})\\\\\n",
       "\\text{Subject to} \\quad & w_{1} \\geq 0.0\\\\\n",
       " & w_{2} \\geq 0.0\\\\\n",
       " & q_{1} \\geq 0.0\\\\\n",
       " & q_{2} \\geq 0.0\\\\\n",
       " & Uₐ(q_{1}, w_{1}, 2.0) - 0.0 \\geq 0\\\\\n",
       " & Uₐ(q_{2}, w_{2}, 4.0) - 0.0 \\geq 0\\\\\n",
       " & Uₐ(q_{1}, w_{1}, 2.0) - Uₐ(q_{2}, w_{2}, 2.0) \\geq 0\\\\\n",
       " & Uₐ(q_{2}, w_{2}, 4.0) - Uₐ(q_{1}, w_{1}, 4.0) \\geq 0\\\\\n",
       "\\end{alignat*}\n",
       " $$"
      ],
      "text/plain": [
       "A JuMP Model\n",
       "Maximization problem with:\n",
       "Variables: 4\n",
       "Objective function type: Nonlinear\n",
       "`VariableRef`-in-`MathOptInterface.GreaterThan{Float64}`: 4 constraints\n",
       "Nonlinear: 4 constraints\n",
       "Model mode: AUTOMATIC\n",
       "CachingOptimizer state: EMPTY_OPTIMIZER\n",
       "Solver name: SolverName() attribute not implemented by the optimizer.\n",
       "Names registered in the model: q, w"
      ]
     },
     "execution_count": 32,
     "metadata": {},
     "output_type": "execute_result"
    }
   ],
   "source": [
    "m"
   ]
  },
  {
   "cell_type": "code",
   "execution_count": 33,
   "metadata": {
    "slideshow": {
     "slide_type": "subslide"
    }
   },
   "outputs": [
    {
     "name": "stdout",
     "output_type": "stream",
     "text": [
      "This is Ipopt version 3.12.10, running with linear solver mumps.\n",
      "NOTE: Other linear solvers might be more efficient (see Ipopt documentation).\n",
      "\n",
      "Number of nonzeros in equality constraint Jacobian...:        0\n",
      "Number of nonzeros in inequality constraint Jacobian.:       12\n",
      "Number of nonzeros in Lagrangian Hessian.............:        0\n",
      "\n",
      "Total number of variables............................:        4\n",
      "                     variables with only lower bounds:        4\n",
      "                variables with lower and upper bounds:        0\n",
      "                     variables with only upper bounds:        0\n",
      "Total number of equality constraints.................:        0\n",
      "Total number of inequality constraints...............:        4\n",
      "        inequality constraints with only lower bounds:        4\n",
      "   inequality constraints with lower and upper bounds:        0\n",
      "        inequality constraints with only upper bounds:        0\n",
      "\n",
      "iter    objective    inf_pr   inf_du lg(mu)  ||d||  lg(rg) alpha_du alpha_pr  ls\n",
      "   0  6.4482397e+01 3.00e-02 2.60e+02   0.0 0.00e+00    -  0.00e+00 0.00e+00   0\n",
      "   1  5.7635827e+01 3.97e-02 2.81e+02   0.0 2.86e+00    -  5.28e-03 5.15e-03f  1\n",
      "   2  5.6886332e+01 2.97e-02 2.09e+02  -0.9 1.00e-01    -  1.00e+00 1.21e-01f  1\n",
      "   3  5.1596216e+01 2.40e-02 2.87e+02   0.9 1.04e+00    -  2.91e-01 4.21e-02f  1\n",
      "   4  5.0022727e+01 2.41e-02 2.30e+02  -0.7 5.42e-02    -  6.13e-01 2.77e-01f  1\n",
      "   5  4.0436571e+01 0.00e+00 4.79e+01  -0.1 2.24e-01    -  8.31e-01 1.00e+00f  1\n",
      "   6  3.5448584e+01 0.00e+00 3.03e+01  -0.9 1.13e-01    -  7.68e-01 1.00e+00f  1\n",
      "   7  2.8360225e+01 0.00e+00 1.87e+01  -1.0 2.71e-01    -  1.00e+00 1.00e+00f  1\n",
      "   8  2.2354195e+01 0.00e+00 1.20e+01  -0.9 5.29e-01    -  1.00e+00 1.00e+00f  1\n",
      "   9  1.9041299e+01 0.00e+00 9.09e+00  -1.1 5.90e-01    -  1.00e+00 4.27e-01f  1\n",
      "iter    objective    inf_pr   inf_du lg(mu)  ||d||  lg(rg) alpha_du alpha_pr  ls\n",
      "  10  1.4839493e+01 0.00e+00 3.67e+00  -0.8 1.04e+00    -  1.00e+00 1.00e+00f  1\n",
      "  11  8.5294258e+00 0.00e+00 3.16e+00  -0.8 1.16e+00    -  1.00e+00 1.00e+00f  1\n",
      "  12  4.0343970e+00 0.00e+00 2.14e+00  -0.7 1.83e+00    -  9.63e-01 1.00e+00f  1\n",
      "  13  2.1521200e-01 0.00e+00 1.06e+00  -1.0 2.16e+00    -  9.31e-01 1.00e+00f  1\n",
      "  14 -2.2264169e+00 0.00e+00 5.20e-01  -1.1 2.92e+00    -  8.66e-01 1.00e+00f  1\n",
      "  15 -3.4573742e+00 0.00e+00 2.57e-01  -1.4 3.19e+00    -  9.61e-01 7.63e-01f  1\n",
      "  16 -4.1334519e+00 0.00e+00 8.57e-02  -1.7 3.43e+00    -  9.28e-01 1.00e+00f  1\n",
      "  17 -4.3184369e+00 0.00e+00 2.92e-02  -2.3 2.57e+00    -  9.62e-01 1.00e+00f  1\n",
      "  18 -4.3431879e+00 0.00e+00 3.87e-03  -3.2 1.07e+00    -  9.87e-01 1.00e+00f  1\n",
      "  19 -4.3453786e+00 0.00e+00 8.24e-03  -4.6 6.12e-01    -  9.98e-01 1.00e+00f  1\n",
      "iter    objective    inf_pr   inf_du lg(mu)  ||d||  lg(rg) alpha_du alpha_pr  ls\n",
      "  20 -4.3461128e+00 0.00e+00 3.66e-04  -6.2 2.02e-01    -  1.00e+00 1.00e+00f  1\n",
      "  21 -4.3461146e+00 0.00e+00 1.24e-05  -8.3 5.90e-03    -  1.00e+00 1.00e+00f  1\n",
      "  22 -4.3461146e+00 0.00e+00 1.11e-08 -11.0 2.94e-04    -  1.00e+00 1.00e+00h  1\n",
      "  23 -4.3461146e+00 0.00e+00 8.75e-11 -11.0 3.26e-07    -  1.00e+00 1.00e+00h  1\n",
      "\n",
      "Number of Iterations....: 23\n",
      "\n",
      "                                   (scaled)                 (unscaled)\n",
      "Objective...............:  -4.3461145651887492e+00   -4.3461145651887492e+00\n",
      "Dual infeasibility......:   8.7525764413953766e-11    8.7525764413953766e-11\n",
      "Constraint violation....:   0.0000000000000000e+00    0.0000000000000000e+00\n",
      "Complementarity.........:   1.0000000008900193e-11    1.0000000008900193e-11\n",
      "Overall NLP error.......:   8.7525764413953766e-11    8.7525764413953766e-11\n",
      "\n",
      "\n",
      "Number of objective function evaluations             = 24\n",
      "Number of objective gradient evaluations             = 24\n",
      "Number of equality constraint evaluations            = 0\n",
      "Number of inequality constraint evaluations          = 24\n",
      "Number of equality constraint Jacobian evaluations   = 0\n",
      "Number of inequality constraint Jacobian evaluations = 24\n",
      "Number of Lagrangian Hessian evaluations             = 0\n",
      "Total CPU secs in IPOPT (w/o function evaluations)   =      0.453\n",
      "Total CPU secs in NLP function evaluations           =      0.001\n",
      "\n",
      "EXIT: Optimal Solution Found.\n"
     ]
    }
   ],
   "source": [
    "JuMP.optimize!(m)"
   ]
  },
  {
   "cell_type": "code",
   "execution_count": 34,
   "metadata": {
    "slideshow": {
     "slide_type": "subslide"
    }
   },
   "outputs": [
    {
     "name": "stdout",
     "output_type": "stream",
     "text": [
      " Optimal wages are = [20.0, 12.0]\n",
      " Optimal quantity = [7.0, 3.0]\n"
     ]
    }
   ],
   "source": [
    "println(\" Optimal wages are = \", round.(JuMP.value.(w)))\n",
    "println(\" Optimal quantity = \", round.(JuMP.value.(q)))"
   ]
  }
 ],
 "metadata": {
  "@webio": {
   "lastCommId": null,
   "lastKernelId": null
  },
  "celltoolbar": "Slideshow",
  "kernelspec": {
   "display_name": "Julia 1.1.0",
   "language": "julia",
   "name": "julia-1.1"
  },
  "language_info": {
   "file_extension": ".jl",
   "mimetype": "application/julia",
   "name": "julia",
   "version": "1.2.0"
  },
  "rise": {
   "enable_chalkboard": false,
   "scroll": true,
   "theme": "serif"
  },
  "toc": {
   "base_numbering": 1,
   "nav_menu": {},
   "number_sections": false,
   "sideBar": true,
   "skip_h1_title": false,
   "title_cell": "Table of Contents",
   "title_sidebar": "Contents",
   "toc_cell": false,
   "toc_position": {},
   "toc_section_display": true,
   "toc_window_display": false
  }
 },
 "nbformat": 4,
 "nbformat_minor": 4
}
