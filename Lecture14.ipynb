{
 "cells": [
  {
   "cell_type": "markdown",
   "metadata": {
    "slideshow": {
     "slide_type": "slide"
    }
   },
   "source": [
    "# Lecture 14\n",
    "## Non Linear Optimization with JuMP (Part 3)\n",
    "## Date: 29.11"
   ]
  },
  {
   "cell_type": "code",
   "execution_count": 1,
   "metadata": {
    "slideshow": {
     "slide_type": "skip"
    }
   },
   "outputs": [],
   "source": [
    "using JuMP, Ipopt, Plots"
   ]
  },
  {
   "cell_type": "markdown",
   "metadata": {
    "slideshow": {
     "slide_type": "slide"
    }
   },
   "source": [
    "# Further exercises"
   ]
  },
  {
   "cell_type": "markdown",
   "metadata": {
    "slideshow": {
     "slide_type": "slide"
    }
   },
   "source": [
    "## Ex 1"
   ]
  },
  {
   "cell_type": "markdown",
   "metadata": {
    "slideshow": {
     "slide_type": "slide"
    }
   },
   "source": [
    "Consider a relationship between a principal and an agent in which the agent's effort influences the result. The agent can choose between low effort $e = 0$, or high effort $e = 3$. His utility function is $U(w,e) = \\sqrt{w} - e^2$, where $w$ represent the wage and $e$ the effort. His reservation utility is $21$. The production such that only three results $x$ are possible, where $x$ represents the value of the result to the principal: $x \\in \\{0,1000,2500\\}$. The principal has a utility function $B(x,w) = 10000 + x - w$, where $10000$ is the principal's initial wealth.\n",
    "\n",
    "The probabilities conditional on effort are the following:\n",
    "\n",
    "|.       | Pr$(x=0|e)$ | Pr$(x=1000|e)$ | Pr$(x=2500|e)$ |\n",
    "|:------:|:-----------:|:--------------:|:--------------:|\n",
    "|$e = 0$ | 0.4         | 0.4            | 0.2            |\n",
    "|$e = 3$ | 0.2         | 0.4            | 0.4            | \n",
    "\n",
    "The timing of the game is as follows. First the risk neutral principal propose one or more contracts. Then the risk averse agent choses the contract, if any, to accept (if does not accept any contract, he will get his reservation utility). Finally the agent chooses the level of effort."
   ]
  },
  {
   "cell_type": "markdown",
   "metadata": {
    "slideshow": {
     "slide_type": "slide"
    }
   },
   "source": [
    "### Point a\n",
    "Assume agent's effort level is verifiable. Find a sub-game perfect equilibrium of the game that characterize the optimal contract for the principal."
   ]
  },
  {
   "cell_type": "markdown",
   "metadata": {},
   "source": [
    "#### Solution Point a"
   ]
  },
  {
   "cell_type": "code",
   "execution_count": 2,
   "metadata": {},
   "outputs": [],
   "source": [
    "m = Model(with_optimizer(Ipopt.Optimizer));"
   ]
  },
  {
   "cell_type": "code",
   "execution_count": 3,
   "metadata": {},
   "outputs": [],
   "source": [
    "@variable(m, w[1:3] >= 0);\n",
    "\n",
    "@variable(m, 0 <= e <= 3);"
   ]
  },
  {
   "cell_type": "code",
   "execution_count": 4,
   "metadata": {},
   "outputs": [],
   "source": [
    "#Profit Objective\n",
    "@NLobjective(m, Max, (e/3)*(0.2*(10000+0-w[1])+0.4*(10000+1000-w[2]) + 0.4*(10000+2500-w[3])) + (1-(e/3))*(0.4*(10000+0-w[1])+0.4*(10000+1000-w[2]) + 0.2*(10000+2500-w[3])))"
   ]
  },
  {
   "cell_type": "code",
   "execution_count": 5,
   "metadata": {},
   "outputs": [],
   "source": [
    "#Participation Constraint\n",
    "@NLconstraint(m, (e/3)*(0.2*(sqrt(w[1]) - e^2) +0.4*(sqrt(w[2]) - e^2) + 0.4*(sqrt(w[3]) - e^2)) + (1-(e/3))*(0.4*(sqrt(w[1]) - e^2)+0.4*(sqrt(w[2]) - e^2) + 0.2*(sqrt(w[3]) - e^2)) == 21);"
   ]
  },
  {
   "cell_type": "code",
   "execution_count": 6,
   "metadata": {},
   "outputs": [
    {
     "name": "stdout",
     "output_type": "stream",
     "text": [
      "\n",
      "******************************************************************************\n",
      "This program contains Ipopt, a library for large-scale nonlinear optimization.\n",
      " Ipopt is released as open source code under the Eclipse Public License (EPL).\n",
      "         For more information visit http://projects.coin-or.org/Ipopt\n",
      "******************************************************************************\n",
      "\n",
      "This is Ipopt version 3.12.10, running with linear solver mumps.\n",
      "NOTE: Other linear solvers might be more efficient (see Ipopt documentation).\n",
      "\n",
      "Number of nonzeros in equality constraint Jacobian...:        4\n",
      "Number of nonzeros in inequality constraint Jacobian.:        0\n",
      "Number of nonzeros in Lagrangian Hessian.............:       20\n",
      "\n",
      "Total number of variables............................:        4\n",
      "                     variables with only lower bounds:        3\n",
      "                variables with lower and upper bounds:        1\n",
      "                     variables with only upper bounds:        0\n",
      "Total number of equality constraints.................:        1\n",
      "Total number of inequality constraints...............:        0\n",
      "        inequality constraints with only lower bounds:        0\n",
      "   inequality constraints with lower and upper bounds:        0\n",
      "        inequality constraints with only upper bounds:        0\n",
      "\n",
      "iter    objective    inf_pr   inf_du lg(mu)  ||d||  lg(rg) alpha_du alpha_pr  ls\n",
      "   0 -1.0901657e+04 2.09e+01 1.00e+02  -1.0 0.00e+00    -  0.00e+00 0.00e+00   0\n",
      "   1 -1.1072599e+04 2.01e+01 3.91e+02  -1.0 4.64e+00    -  2.18e-03 1.00e+00f  1\n",
      "   2 -1.0888949e+04 1.75e+01 5.01e+01  -1.0 5.23e+01    -  9.49e-02 2.10e-01h  1\n",
      "   3 -1.0883984e+04 1.71e+01 5.34e+01  -1.0 1.56e+02    -  9.60e-02 2.53e-02h  1\n",
      "   4 -1.0747283e+04 8.75e+00 3.43e+02  -1.0 1.69e+02    -  8.03e-01 1.00e+00h  1\n",
      "   5 -1.0668041e+04 5.98e+00 2.16e+01  -1.0 2.70e+02    -  6.69e-01 3.51e-01h  1\n",
      "   6 -1.0483219e+04 8.71e-01 2.69e+02  -2.5 2.25e+02    -  5.64e-01 1.00e+00h  1\n",
      "   7 -1.0447753e+04 1.83e-02 8.15e+01  -2.5 4.08e+01    -  8.88e-01 1.00e+00h  1\n",
      "   8 -1.0455606e+04 4.00e-02 9.88e+01  -3.8 6.53e+01    -  1.42e-02 1.00e+00f  1\n",
      "   9 -1.0727454e+04 6.27e+00 3.81e+01  -3.8 2.22e+03  -4.0 3.31e-04 3.25e-01f  1\n",
      "iter    objective    inf_pr   inf_du lg(mu)  ||d||  lg(rg) alpha_du alpha_pr  ls\n",
      "  10 -1.0751557e+04 6.24e+00 1.22e+01  -3.8 4.09e+03    -  5.08e-02 1.21e-01f  2\n",
      "  11 -1.0444019e+04 1.44e+00 7.08e+01  -3.8 7.16e+02    -  4.11e-01 1.00e+00h  1\n",
      "  12 -1.0502241e+04 1.90e+00 9.57e+00  -3.8 3.04e+03    -  1.87e-01 1.99e-01f  2\n",
      "  13 -1.0430071e+04 5.84e-01 4.51e+01  -3.8 5.31e+02    -  1.00e+00 1.00e+00h  1\n",
      "  14 -1.0434606e+04 5.33e+00 1.21e+02  -5.7 1.99e+03    -  1.92e-01 5.72e-01f  1\n",
      "  15 -1.0118072e+04 8.26e-01 8.25e+01  -5.7 7.97e+02    -  2.99e-01 1.00e+00h  1\n",
      "  16 -1.0167624e+04 3.77e-01 4.46e+01  -5.7 1.97e+02    -  5.33e-01 1.00e+00f  1\n",
      "  17 -1.0293000e+04 5.80e-01 2.36e+01  -5.7 4.32e+02    -  5.71e-01 1.00e+00f  1\n",
      "  18 -1.0388242e+04 6.31e-01 2.07e+01  -5.7 4.19e+02    -  4.87e-01 1.00e+00f  1\n",
      "  19 -1.0423064e+04 4.12e-01 2.21e+01  -5.7 2.48e+02    -  1.00e+00 1.00e+00f  1\n",
      "iter    objective    inf_pr   inf_du lg(mu)  ||d||  lg(rg) alpha_du alpha_pr  ls\n",
      "  20 -1.0430265e+04 1.71e-01 1.19e+01  -8.6 1.43e+02    -  3.33e-01 1.00e+00f  1\n",
      "  21 -1.0442146e+04 1.07e-01 3.99e+00  -8.6 6.03e+01    -  8.49e-01 1.00e+00f  1\n",
      "  22 -1.0464259e+04 1.35e-01 1.25e+00  -8.6 1.26e+01    -  3.96e-01 1.00e+00f  1\n",
      "  23 -1.0498972e+04 2.09e-01 5.28e+00  -8.6 2.21e+01    -  1.00e+00 1.00e+00f  1\n",
      "  24 -1.0546529e+04 3.13e-01 1.12e+01  -8.6 5.52e+01    -  4.25e-01 1.00e+00f  1\n",
      "  25 -1.0597206e+04 4.17e-01 1.99e+01  -8.6 1.30e+02    -  1.00e+00 1.00e+00f  1\n",
      "  26 -1.0622727e+04 3.85e-01 2.67e+01  -8.6 2.29e+02    -  6.06e-01 1.00e+00f  1\n",
      "  27 -1.0611409e+04 3.18e-01 2.01e+01  -8.6 2.42e+02    -  1.00e+00 1.00e+00h  1\n",
      "  28 -1.0641521e+04 1.00e+00 4.27e+01  -8.6 2.75e+03    -  1.33e-01 1.33e-01f  2\n",
      "  29 -1.0650623e+04 4.58e+00 2.70e+03  -8.6 2.75e+03  -4.5 1.96e-01 2.61e-01f  1\n",
      "iter    objective    inf_pr   inf_du lg(mu)  ||d||  lg(rg) alpha_du alpha_pr  ls\n",
      "  30 -1.0420214e+04 3.01e-01 1.69e+03  -8.6 2.28e+02    -  1.00e+00 1.00e+00h  1\n",
      "  31 -1.0415407e+04 1.55e-01 1.10e+03  -8.6 2.28e+02    -  3.25e-01 1.00e+00h  1\n",
      "  32 -1.0408963e+04 3.37e-02 5.95e+02  -8.6 1.08e+02    -  1.00e+00 1.00e+00h  1\n",
      "  33 -1.0408064e+04 1.26e-02 3.56e+02  -8.6 6.65e+01    -  3.64e-01 1.00e+00h  1\n",
      "  34 -1.0407791e+04 4.35e-03 2.02e+02  -8.6 3.58e+01    -  1.00e+00 1.00e+00h  1\n",
      "  35 -1.0407980e+04 2.77e-03 1.18e+02  -8.6 2.06e+01    -  3.72e-01 1.00e+00f  1\n",
      "  36 -1.0408450e+04 3.08e-03 6.75e+01  -8.6 1.15e+01    -  1.00e+00 1.00e+00f  1\n",
      "  37 -1.0409331e+04 4.92e-03 3.91e+01  -8.6 6.37e+00    -  3.74e-01 1.00e+00f  1\n",
      "  38 -1.0410856e+04 8.25e-03 2.25e+01  -8.6 3.88e+00    -  1.00e+00 1.00e+00f  1\n",
      "  39 -1.0413497e+04 1.43e-02 1.30e+01  -8.6 3.77e+00    -  3.76e-01 1.00e+00f  1\n",
      "iter    objective    inf_pr   inf_du lg(mu)  ||d||  lg(rg) alpha_du alpha_pr  ls\n",
      "  40 -1.0418011e+04 2.44e-02 7.47e+00  -8.6 3.59e+00    -  1.00e+00 1.00e+00f  1\n",
      "  41 -1.0425686e+04 4.18e-02 4.29e+00  -8.6 7.84e+00    -  3.80e-01 1.00e+00f  1\n",
      "  42 -1.0438515e+04 7.08e-02 2.45e+00  -8.6 1.24e+01    -  1.00e+00 1.00e+00f  1\n",
      "  43 -1.0459413e+04 1.18e-01 3.26e+00  -8.6 2.13e+01    -  3.89e-01 1.00e+00f  1\n",
      "  44 -1.0491769e+04 1.91e-01 5.85e+00  -8.6 3.46e+01    -  1.00e+00 1.00e+00f  1\n",
      "  45 -1.0537216e+04 2.92e-01 1.06e+01  -8.6 5.42e+01    -  4.21e-01 1.00e+00f  1\n",
      "  46 -1.0567034e+04 1.17e-02 1.55e+01  -8.6 1.13e+02    -  1.00e+00 1.00e+00F  1\n",
      "  47 -1.0597569e+04 4.19e-02 3.07e+01  -8.6 2.40e+02    -  5.39e-01 1.00e+00F  1\n",
      "  48 -1.0620055e+04 2.16e-01 1.40e+00  -8.6 2.46e+02    -  1.00e+00 1.00e+00f  1\n",
      "  49 -1.0623571e+04 3.41e-01 2.43e+01  -8.6 1.43e+04    -  3.25e-02 1.27e-02f  3\n",
      "iter    objective    inf_pr   inf_du lg(mu)  ||d||  lg(rg) alpha_du alpha_pr  ls\n",
      "  50 -1.0624697e+04 3.66e-01 1.26e+01  -8.6 4.58e+02  -4.1 9.12e-01 5.00e-01f  2\n",
      "  51 -1.0628576e+04 9.16e-01 4.23e+01  -8.6 6.26e+03    -  7.06e-02 5.88e-02f  2\n",
      "  52 -1.0666159e+04 4.82e+00 2.60e+03  -8.6 7.41e+03  -4.5 1.55e-01 1.07e-01f  1\n",
      "  53 -1.0418118e+04 2.89e-01 1.58e+03  -8.6 2.68e+02    -  1.00e+00 1.00e+00h  1\n",
      "  54 -1.0418615e+04 1.99e-01 1.19e+03  -8.6 2.58e+02    -  3.16e-01 5.00e-01f  2\n",
      "  55 -1.0407883e+04 1.03e-02 7.05e+02  -8.6 6.38e+01    -  1.00e+00 1.00e+00h  1\n",
      "  56 -1.0407476e+04 1.63e-03 4.03e+02  -8.6 2.01e+01    -  3.78e-01 1.00e+00h  1\n",
      "  57 -1.0407590e+04 1.20e-03 2.34e+02  -8.6 1.15e+01    -  1.00e+00 1.00e+00f  1\n",
      "  58 -1.0407834e+04 1.50e-03 1.35e+02  -8.6 6.64e+00    -  3.76e-01 1.00e+00f  1\n",
      "  59 -1.0408278e+04 2.44e-03 7.79e+01  -8.6 3.59e+00    -  1.00e+00 1.00e+00f  1\n",
      "iter    objective    inf_pr   inf_du lg(mu)  ||d||  lg(rg) alpha_du alpha_pr  ls\n",
      "  60 -1.0409048e+04 4.15e-03 4.49e+01  -8.6 2.20e+00    -  3.76e-01 1.00e+00f  1\n",
      "  61 -1.0410383e+04 7.18e-03 2.59e+01  -8.6 1.89e+00    -  1.00e+00 1.00e+00f  1\n",
      "  62 -1.0412679e+04 1.24e-02 1.49e+01  -8.6 1.73e+00    -  3.76e-01 1.00e+00f  1\n",
      "  63 -1.0416621e+04 2.13e-02 8.60e+00  -8.6 3.98e+00    -  1.00e+00 1.00e+00f  1\n",
      "  64 -1.0423329e+04 3.65e-02 4.94e+00  -8.6 6.33e+00    -  3.79e-01 1.00e+00f  1\n",
      "  65 -1.0434604e+04 6.20e-02 2.83e+00  -8.6 1.11e+01    -  1.00e+00 1.00e+00f  1\n",
      "  66 -1.0453118e+04 1.04e-01 2.79e+00  -8.6 1.86e+01    -  3.88e-01 1.00e+00f  1\n",
      "  67 -1.0482254e+04 1.69e-01 5.04e+00  -8.6 3.07e+01    -  1.00e+00 1.00e+00f  1\n",
      "  68 -1.0524498e+04 2.64e-01 9.11e+00  -8.6 4.86e+01    -  4.15e-01 1.00e+00f  1\n",
      "  69 -1.0576069e+04 3.76e-01 1.61e+01  -8.6 9.11e+01    -  1.00e+00 1.00e+00f  1\n",
      "iter    objective    inf_pr   inf_du lg(mu)  ||d||  lg(rg) alpha_du alpha_pr  ls\n",
      "  70 -1.0594503e+04 1.89e-02 2.17e+01  -8.6 1.90e+02    -  5.38e-01 1.00e+00F  1\n",
      "  71 -1.0618511e+04 3.26e-01 3.41e+01  -8.6 2.81e+02    -  1.00e+00 1.00e+00f  1\n",
      "  72 -1.0629583e+04 6.68e-01 1.20e+00  -8.6 6.14e+04    -  9.53e-03 5.00e-03f  2\n",
      "  73 -1.0635704e+04 8.02e-01 4.28e+01  -8.6 5.69e+02    -  4.36e-01 5.00e-01f  2\n",
      "  74 -1.0649276e+04 1.09e+00 4.39e+00  -8.6 2.91e+03    -  3.21e-01 1.02e-01f  2\n",
      "  75 -1.0641731e+04 7.47e-01 2.65e+01  -8.6 3.81e+02    -  1.00e+00 5.00e-01h  2\n",
      "  76 -1.0636314e+04 6.66e-01 2.58e+00  -8.6 5.07e+02    -  1.00e+00 2.40e-01h  3\n",
      "  77 -1.0637235e+04 6.00e-01 2.13e+01  -8.6 5.73e+02    -  4.98e-01 2.50e-01f  3\n",
      "  78 -1.0637239e+04 5.94e-01 2.00e+01  -8.6 7.86e+02    -  1.00e+00 1.01e-02f  7\n",
      "  79 -1.0631781e+04 5.58e-01 1.36e+00  -8.6 6.03e+02    -  1.00e+00 2.07e-01h  3\n",
      "iter    objective    inf_pr   inf_du lg(mu)  ||d||  lg(rg) alpha_du alpha_pr  ls\n",
      "  80 -1.0635904e+04 5.93e-01 2.49e+01  -8.6 7.90e+02    -  4.00e-01 2.32e-01f  3\n",
      "  81 -1.0639050e+04 6.43e-01 6.77e+00  -8.6 3.32e+03    -  1.79e-01 4.20e-02f  3\n",
      "  82 -1.0598674e+04 6.84e-01 5.98e+01  -8.6 4.63e+02    -  1.00e+00 1.00e+00w  1\n",
      "  83 -1.0660975e+04 4.77e+00 2.19e+03  -8.6 1.66e+03  -4.1 2.88e-01 5.31e-01h  1\n",
      "  84 -1.0422175e+04 3.29e-01 1.45e+03  -8.6 2.38e+02    -  1.00e+00 1.00e+00h  1\n",
      "  85 -1.0414784e+04 1.43e-01 9.52e+02  -8.6 2.19e+02    -  3.21e-01 1.00e+00h  1\n",
      "  86 -1.0408886e+04 3.18e-02 5.17e+02  -8.6 1.05e+02    -  1.00e+00 1.00e+00h  1\n",
      "  87 -1.0408059e+04 1.19e-02 3.09e+02  -8.6 6.40e+01    -  3.64e-01 1.00e+00h  1\n",
      "  88 -1.0407840e+04 4.25e-03 1.75e+02  -8.6 3.46e+01    -  1.00e+00 1.00e+00h  1\n",
      "  89 -1.0408081e+04 2.93e-03 1.02e+02  -8.6 1.97e+01    -  3.72e-01 1.00e+00f  1\n",
      "iter    objective    inf_pr   inf_du lg(mu)  ||d||  lg(rg) alpha_du alpha_pr  ls\n",
      "  90 -1.0408631e+04 3.47e-03 5.87e+01  -8.6 1.11e+01    -  1.00e+00 1.00e+00f  1\n",
      "  91 -1.0409645e+04 5.62e-03 3.40e+01  -8.6 6.09e+00    -  3.74e-01 1.00e+00f  1\n",
      "  92 -1.0411398e+04 9.47e-03 1.96e+01  -8.6 3.78e+00    -  1.00e+00 1.00e+00f  1\n",
      "  93 -1.0414428e+04 1.64e-02 1.13e+01  -8.6 4.08e+00    -  3.76e-01 1.00e+00f  1\n",
      "  94 -1.0419598e+04 2.80e-02 6.48e+00  -8.6 4.24e+00    -  1.00e+00 1.00e+00f  1\n",
      "  95 -1.0428362e+04 4.79e-02 3.72e+00  -8.6 8.91e+00    -  3.80e-01 1.00e+00f  1\n",
      "  96 -1.0442931e+04 8.07e-02 2.12e+00  -8.6 1.42e+01    -  1.00e+00 1.00e+00f  1\n",
      "  97 -1.0466430e+04 1.34e-01 3.78e+00  -8.6 2.42e+01    -  3.92e-01 1.00e+00f  1\n",
      "  98 -1.0502136e+04 2.14e-01 6.81e+00  -8.6 3.90e+01    -  1.00e+00 1.00e+00f  1\n",
      "  99 -1.0550384e+04 3.21e-01 1.23e+01  -8.6 5.99e+01    -  4.29e-01 1.00e+00f  1\n",
      "iter    objective    inf_pr   inf_du lg(mu)  ||d||  lg(rg) alpha_du alpha_pr  ls\n",
      " 100 -1.0577786e+04 1.42e-02 1.77e+01  -8.6 1.37e+02    -  1.00e+00 1.00e+00F  1\n",
      " 101 -1.0623372e+04 4.75e-01 3.73e+01  -8.6 2.70e+02    -  5.65e-01 1.00e+00f  1\n",
      " 102 -1.0626995e+04 4.85e-01 1.26e+01  -8.6 6.49e+02    -  7.86e-01 1.92e-01f  3\n",
      " 103 -1.0627053e+04 4.57e-01 1.45e+01  -8.6 3.55e+02    -  1.00e+00 6.25e-02f  5\n",
      " 104 -1.0613103e+04 2.88e-01 3.57e+01  -8.6 3.01e+02    -  1.00e+00 1.00e+00h  1\n",
      " 105 -1.0627682e+04 3.60e-01 1.44e+01  -8.6 3.88e+03  -4.6 1.44e-01 4.50e-02f  3\n",
      " 106 -1.0627777e+04 3.57e-01 9.85e+00  -8.6 1.83e+03    -  8.20e-01 1.79e-02f  5\n",
      " 107 -1.0613204e+04 4.95e-02 1.29e+01  -8.6 1.33e+02    -  9.29e-01 1.00e+00h  1\n",
      " 108 -1.0614591e+04 1.48e-01 1.40e+01  -8.6 3.69e+02  -4.2 1.00e+00 5.00e-01f  2\n",
      " 109 -1.0623366e+04 2.76e-01 1.37e+01  -8.6 1.47e+03  -4.6 3.41e-01 1.27e-01f  3\n",
      "iter    objective    inf_pr   inf_du lg(mu)  ||d||  lg(rg) alpha_du alpha_pr  ls\n",
      " 110 -1.0624304e+04 2.69e-01 5.28e+00  -8.6 5.35e+02  -4.2 1.00e+00 2.50e-01f  3\n",
      " 111 -1.0625036e+04 2.74e-01 7.23e+00  -8.6 9.49e+02  -4.7 6.04e-01 9.93e-02f  4\n",
      " 112 -1.0573701e+04 1.84e-01 4.27e+01  -8.6 3.11e+02  -4.3 1.00e+00 1.00e+00H  1\n",
      " 113 -1.0659223e+04 1.25e+00 3.17e+01  -8.6 1.59e+03    -  2.30e-01 2.42e-01f  2\n",
      " 114 -1.0659620e+04 1.39e+00 6.56e+00  -8.6 1.41e+03    -  4.92e-01 1.95e-01f  2\n",
      " 115 -1.0659622e+04 1.36e+00 5.74e+00  -8.6 4.18e+02    -  1.00e+00 1.56e-02f  7\n",
      " 116 -1.0651423e+04 9.48e-01 2.20e+01  -8.6 4.17e+02    -  1.00e+00 5.00e-01h  2\n",
      " 117 -1.0644046e+04 8.23e-01 7.12e-01  -8.6 5.19e+02    -  8.19e-01 2.36e-01h  3\n",
      " 118 -1.0644299e+04 7.44e-01 7.77e+00  -8.6 5.50e+02    -  9.71e-01 1.25e-01f  4\n",
      " 119 -1.0613659e+04 2.02e-01 2.59e+01  -8.6 2.64e+02    -  1.00e+00 1.00e+00h  1\n",
      "iter    objective    inf_pr   inf_du lg(mu)  ||d||  lg(rg) alpha_du alpha_pr  ls\n",
      " 120 -1.0622395e+04 2.11e-01 5.11e+00  -8.6 3.42e+02  -3.8 1.00e+00 5.00e-01f  2\n",
      " 121 -1.0610716e+04 9.09e-02 2.01e+01  -8.6 1.78e+02  -4.3 1.00e+00 1.00e+00h  1\n",
      " 122 -1.0619336e+04 1.55e-01 9.03e+00  -8.6 3.64e+02  -3.9 1.00e+00 5.00e-01f  2\n",
      " 123 -1.0619631e+04 1.47e-01 8.29e-01  -8.6 4.69e+02  -4.4 1.00e+00 1.25e-01f  4\n",
      " 124 -1.0612547e+04 9.36e-03 6.43e+00  -8.6 4.54e+01  -3.9 1.00e+00 1.00e+00h  1\n",
      " 125 -1.0612966e+04 6.26e-02 1.13e+01  -8.6 5.18e+02  -4.4 1.00e+00 2.50e-01f  3\n",
      " 126 -1.0616437e+04 1.18e-01 1.23e+01  -8.6 3.28e+02  -4.0 1.00e+00 5.00e-01f  2\n",
      " 127 -1.0619105e+04 1.40e-01 7.57e-01  -8.6 1.03e+03  -4.5 5.58e-01 9.25e-02f  4\n",
      " 128 -1.0611895e+04 4.29e-02 1.36e+01  -8.6 1.08e+02  -4.0 1.00e+00 1.00e+00h  1\n",
      " 129 -1.0616160e+04 7.48e-02 3.62e-01  -8.6 1.38e+03  -4.5 3.84e-01 6.93e-02f  4\n",
      "iter    objective    inf_pr   inf_du lg(mu)  ||d||  lg(rg) alpha_du alpha_pr  ls\n",
      " 130 -1.0612454e+04 8.83e-03 6.75e+00  -8.6 4.90e+01  -4.1 1.00e+00 1.00e+00h  1\n",
      " 131 -1.0613531e+04 3.83e-02 5.79e+00  -8.6 1.10e+03  -4.6 5.10e-01 8.67e-02f  4\n",
      " 132 -1.0614723e+04 4.76e-02 4.68e+00  -8.6 3.13e+02  -4.1 1.00e+00 2.50e-01f  3\n",
      " 133 -1.0614966e+04 5.27e-02 1.38e+00  -8.6 1.02e+03  -4.6 5.89e-01 4.68e-02f  5\n",
      " 134 -1.0614966e+04 5.23e-02 1.21e+00  -8.6 1.64e+02  -4.2 1.00e+00 7.81e-03f  8\n",
      " 135 -1.0615120e+04 6.94e-02 7.65e+00  -8.6 1.06e+05  -4.7 7.16e-03 7.10e-04f  4\n",
      " 136 -1.0615844e+04 6.71e-02 1.68e+00  -8.6 3.35e+02  -4.2 8.85e-01 1.25e-01f  4\n",
      " 137 -1.0615847e+04 6.68e-02 9.52e-01  -8.6 1.11e+03  -4.7 1.00e+00 5.37e-03f  8\n",
      " 138 -1.0612682e+04 3.29e-04 7.20e-01  -8.6 1.09e+01  -4.3 1.00e+00 1.00e+00h  1\n",
      " 139 -1.0612683e+04 2.35e-04 3.94e-02  -8.6 7.18e+00  -3.9 1.00e+00 5.00e-01f  2\n",
      "iter    objective    inf_pr   inf_du lg(mu)  ||d||  lg(rg) alpha_du alpha_pr  ls\n",
      " 140 -1.0612683e+04 2.16e-04 2.76e-01  -9.0 1.47e+01  -4.3 1.00e+00 1.25e-01f  4\n",
      " 141 -1.0612676e+04 3.63e-05 7.51e-02  -9.0 1.77e+00  -3.9 1.00e+00 1.00e+00h  1\n",
      " 142 -1.0612676e+04 1.21e-04 6.21e-01  -9.0 2.18e+01  -4.4 1.00e+00 2.50e-01f  3\n",
      " 143 -1.0612683e+04 2.10e-04 3.88e-01  -9.0 1.25e+01  -4.0 1.00e+00 5.00e-01f  2\n",
      " 144 -1.0612687e+04 2.95e-04 3.83e-01  -9.0 4.76e+01  -4.4 1.00e+00 1.25e-01f  4\n",
      " 145 -1.0612688e+04 2.52e-04 4.54e-02  -9.0 1.17e+01  -4.0 1.00e+00 2.50e-01f  3\n",
      " 146 -1.0612676e+04 4.54e-06 1.09e-01  -9.0 1.16e+00  -4.5 1.00e+00 1.00e+00h  1\n",
      " 147 -1.0612676e+04 1.90e-05 2.12e-01  -9.0 4.46e+00  -4.1 1.00e+00 5.00e-01f  2\n",
      " 148 -1.0612677e+04 3.44e-05 7.95e-02  -9.0 3.67e+01  -4.5 1.00e+00 6.25e-02f  5\n",
      " 149 -1.0612677e+04 3.14e-05 9.69e-02  -9.0 5.22e+00  -4.1 1.00e+00 2.50e-01f  3\n",
      "iter    objective    inf_pr   inf_du lg(mu)  ||d||  lg(rg) alpha_du alpha_pr  ls\n",
      " 150 -1.0612677e+04 3.09e-05 4.66e-02  -9.0 1.25e+01  -4.6 1.00e+00 3.12e-02f  6\n",
      "\n",
      "Number of Iterations....: 150\n",
      "\n",
      "                                   (scaled)                 (unscaled)\n",
      "Objective...............:  -6.3676063262926255e+03   -1.0612677210487729e+04\n",
      "Dual infeasibility......:   4.6632360026149684e-02    7.7720600043582957e-02\n",
      "Constraint violation....:   3.0879748887713275e-13    3.0879748887713276e-05\n",
      "Complementarity.........:   9.2389347006141873e-10    1.5398224501023674e-09\n",
      "Overall NLP error.......:   9.7130747894353697e-09    7.7720600043582957e-02\n",
      "\n",
      "\n",
      "Number of objective function evaluations             = 433\n",
      "Number of objective gradient evaluations             = 151\n",
      "Number of equality constraint evaluations            = 433\n",
      "Number of inequality constraint evaluations          = 0\n",
      "Number of equality constraint Jacobian evaluations   = 151\n",
      "Number of inequality constraint Jacobian evaluations = 0\n",
      "Number of Lagrangian Hessian evaluations             = 150\n",
      "Total CPU secs in IPOPT (w/o function evaluations)   =      3.266\n",
      "Total CPU secs in NLP function evaluations           =      2.462\n",
      "\n",
      "EXIT: Optimal Solution Found.\n"
     ]
    }
   ],
   "source": [
    "JuMP.optimize!(m)"
   ]
  },
  {
   "cell_type": "code",
   "execution_count": 7,
   "metadata": {},
   "outputs": [
    {
     "name": "stdout",
     "output_type": "stream",
     "text": [
      "** Optimal profits for the firm = 10613.0\n",
      "** Optimal wages given result = [576.104, 576.488, 576.809]\n",
      "** Optimal effort demanded = 1.7349441509494572\n"
     ]
    }
   ],
   "source": [
    "println(\"** Optimal profits for the firm = \", round(JuMP.objective_value(m)))\n",
    "println(\"** Optimal wages given result = \", JuMP.value.(w))\n",
    "println(\"** Optimal effort demanded = \", JuMP.value(e))"
   ]
  },
  {
   "cell_type": "markdown",
   "metadata": {
    "slideshow": {
     "slide_type": "fragment"
    }
   },
   "source": [
    "### Point b\n",
    "Assume now that the only verifiable variable in the relationship is the result $x$."
   ]
  },
  {
   "cell_type": "markdown",
   "metadata": {},
   "source": [
    "#### Solution Point b"
   ]
  },
  {
   "cell_type": "code",
   "execution_count": 8,
   "metadata": {},
   "outputs": [],
   "source": [
    "m = Model(with_optimizer(Ipopt.Optimizer));"
   ]
  },
  {
   "cell_type": "code",
   "execution_count": 9,
   "metadata": {},
   "outputs": [],
   "source": [
    "@variable(m, w[1:3] >= 0);\n",
    "\n",
    "eₕ = 3;\n",
    "eₗ = 0;"
   ]
  },
  {
   "cell_type": "code",
   "execution_count": 10,
   "metadata": {},
   "outputs": [],
   "source": [
    "#Profit Objective\n",
    "@NLobjective(m, Max, (0.2*(10000+0-w[1])+0.4*(10000+1000-w[2]) + 0.4*(10000+2500-w[3])))"
   ]
  },
  {
   "cell_type": "code",
   "execution_count": 11,
   "metadata": {},
   "outputs": [],
   "source": [
    "#Participation Constraint\n",
    "@NLconstraint(m, (0.2*(sqrt(w[1]) - eₕ^2) +0.4*(sqrt(w[2]) - eₕ^2) + 0.4*(sqrt(w[3]) - eₕ^2)) == 21);"
   ]
  },
  {
   "cell_type": "code",
   "execution_count": 12,
   "metadata": {},
   "outputs": [],
   "source": [
    "#Incentive Compatibility\n",
    "@NLconstraint(m, (0.2*(sqrt(w[1]) - eₕ^2) +0.4*(sqrt(w[2]) - eₕ^2) + 0.4*(sqrt(w[3]) - eₕ^2)) >= (0.4*(sqrt(w[1]) - eₗ^2)+0.4*(sqrt(w[2]) - eₗ^2) + 0.2*(sqrt(w[3]) - eₗ^2)));"
   ]
  },
  {
   "cell_type": "code",
   "execution_count": 13,
   "metadata": {},
   "outputs": [
    {
     "name": "stdout",
     "output_type": "stream",
     "text": [
      "This is Ipopt version 3.12.10, running with linear solver mumps.\n",
      "NOTE: Other linear solvers might be more efficient (see Ipopt documentation).\n",
      "\n",
      "Number of nonzeros in equality constraint Jacobian...:        3\n",
      "Number of nonzeros in inequality constraint Jacobian.:        3\n",
      "Number of nonzeros in Lagrangian Hessian.............:        6\n",
      "\n",
      "Total number of variables............................:        3\n",
      "                     variables with only lower bounds:        3\n",
      "                variables with lower and upper bounds:        0\n",
      "                     variables with only upper bounds:        0\n",
      "Total number of equality constraints.................:        1\n",
      "Total number of inequality constraints...............:        1\n",
      "        inequality constraints with only lower bounds:        1\n",
      "   inequality constraints with lower and upper bounds:        0\n",
      "        inequality constraints with only upper bounds:        0\n",
      "\n",
      "iter    objective    inf_pr   inf_du lg(mu)  ||d||  lg(rg) alpha_du alpha_pr  ls\n",
      "   0 -1.1399990e+04 2.99e+01 1.00e+00  -1.0 0.00e+00    -  0.00e+00 0.00e+00   0\n",
      "   1 -1.1399959e+04 2.98e+01 1.44e+00  -1.0 8.21e+00    -  1.22e-03 5.15e-03h  1\n",
      "   2 -1.1386908e+04 2.67e+01 2.73e+02  -1.0 2.10e+01    -  3.72e-03 1.00e+00h  1\n",
      "   3 -1.1386115e+04 2.66e+01 2.71e+02  -1.0 2.17e+02    -  5.83e-03 5.04e-03h  1\n",
      "   4 -1.1385627e+04 2.65e+01 1.21e+02  -1.0 3.65e+02    -  6.52e-02 2.17e-03h  1\n",
      "   5 -1.1346849e+04 2.35e+01 1.78e+03  -1.0 3.74e+02    -  1.00e+00 1.69e-01h  1\n",
      "   6 -1.1336903e+04 2.30e+01 1.74e+03  -1.0 6.41e+02    -  1.21e-01 2.53e-02h  1\n",
      "   7 -1.1334964e+04 2.29e+01 3.57e+03  -1.0 6.92e+02    -  1.00e+00 4.65e-03h  1\n",
      "   8 -1.0913942e+04 1.06e+01 2.58e+02  -1.0 7.14e+02    -  1.54e-01 1.00e+00h  1\n",
      "   9 -1.0543973e+04 4.30e+00 2.17e+05  -1.0 9.38e+02    -  9.83e-01 6.90e-01h  1\n",
      "The equality constraints contain an invalid number\n",
      "Warning: Cutting back alpha due to evaluation error\n",
      "iter    objective    inf_pr   inf_du lg(mu)  ||d||  lg(rg) alpha_du alpha_pr  ls\n",
      "  10 -1.0543963e+04 4.30e+00 6.16e+08  -1.0 4.23e+02   2.0 1.00e+00 3.41e-05h  2\n",
      "  11 -1.0254531e+04 3.11e-01 6.07e+06  -1.0 5.14e+02    -  9.90e-01 1.00e+00h  1\n",
      "  12 -1.0230129e+04 1.62e-03 1.57e+04  -2.5 4.47e+01    -  9.97e-01 1.00e+00h  1\n",
      "  13 -1.0229999e+04 1.95e-07 7.25e-01  -3.8 2.42e-01    -  9.92e-01 1.00e+00h  1\n",
      "  14 -1.0230000e+04 1.59e-04 2.67e+00  -5.7 1.25e-01    -  7.81e-01 1.00e+00f  1\n",
      "  15 -1.0230000e+04 4.00e-05 4.76e-01  -5.7 1.41e-06   1.5 1.00e+00 1.00e+00h  1\n",
      "  16 -1.0230000e+04 7.65e-06 2.15e-01  -5.7 4.49e-02    -  1.00e+00 1.00e+00h  1\n",
      "  17 -1.0230000e+04 4.67e-05 7.13e-01  -8.6 4.83e-02    -  1.00e+00 1.00e+00h  1\n",
      "The equality constraints contain an invalid number\n",
      "Warning: Cutting back alpha due to evaluation error\n",
      "  18 -1.0230000e+04 3.30e-05 2.45e-01  -8.6 4.70e-02    -  1.00e+00 3.81e-01h  2\n",
      "The equality constraints contain an invalid number\n",
      "Warning: Cutting back alpha due to evaluation error\n",
      "  19 -1.0230000e+04 1.92e-05 2.41e-01  -8.6 2.82e-02    -  1.00e+00 5.00e-01h  2\n",
      "The equality constraints contain an invalid number\n",
      "Warning: Cutting back alpha due to evaluation error\n",
      "iter    objective    inf_pr   inf_du lg(mu)  ||d||  lg(rg) alpha_du alpha_pr  ls\n",
      "  20 -1.0230000e+04 1.24e-05 2.67e-01  -8.6 1.95e-02    -  1.00e+00 5.00e-01h  2\n",
      "The equality constraints contain an invalid number\n",
      "Warning: Cutting back alpha due to evaluation error\n",
      "  21 -1.0230000e+04 1.07e-05 8.01e-01  -8.6 1.52e-02    -  1.00e+00 4.80e-01h  2\n",
      "  22 -1.0230000e+04 2.95e-06 1.28e+00  -8.6 1.15e-07   1.0 7.49e-01 1.00e+00h  1\n",
      "The equality constraints contain an invalid number\n",
      "Warning: Cutting back alpha due to evaluation error\n",
      "The equality constraints contain an invalid number\n",
      "Warning: Cutting back alpha due to evaluation error\n",
      "  23 -1.0230000e+04 3.84e-06 1.16e+00  -8.6 5.19e-02    -  1.00e+00 4.47e-02h  3\n",
      "The equality constraints contain an invalid number\n",
      "Warning: Cutting back alpha due to evaluation error\n",
      "The equality constraints contain an invalid number\n",
      "Warning: Cutting back alpha due to evaluation error\n",
      "  24 -1.0230000e+04 7.28e-06 2.18e+00  -8.6 2.74e-02    -  1.00e+00 9.98e-02h  3\n",
      "  25 -1.0230000e+04 3.34e-06 2.92e+00  -8.6 9.02e-08   0.6 1.00e+00 1.00e+00h  1\n",
      "  26 -1.0230000e+04 5.98e-07 1.08e+00  -8.6 1.20e-07   0.1 1.00e+00 1.00e+00h  1\n",
      "The equality constraints contain an invalid number\n",
      "Warning: Cutting back alpha due to evaluation error\n",
      "The equality constraints contain an invalid number\n",
      "Warning: Cutting back alpha due to evaluation error\n",
      "The equality constraints contain an invalid number\n",
      "Warning: Cutting back alpha due to evaluation error\n",
      "  27 -1.0230000e+04 1.63e-06 8.94e-01  -8.6 1.88e-02    -  1.00e+00 8.09e-02h  4\n",
      "The equality constraints contain an invalid number\n",
      "Warning: Cutting back alpha due to evaluation error\n",
      "The equality constraints contain an invalid number\n",
      "Warning: Cutting back alpha due to evaluation error\n",
      "The equality constraints contain an invalid number\n",
      "Warning: Cutting back alpha due to evaluation error\n",
      "The equality constraints contain an invalid number\n",
      "Warning: Cutting back alpha due to evaluation error\n",
      "The equality constraints contain an invalid number\n",
      "Warning: Cutting back alpha due to evaluation error\n",
      "  28 -1.0230000e+04 1.92e-06 7.73e-01  -8.6 2.11e-02    -  1.00e+00 3.12e-02h  6\n",
      "  29 -1.0230000e+04 4.02e-07 5.78e-01  -8.6 4.80e-07  -0.4 1.00e+00 1.00e+00h  1\n",
      "The equality constraints contain an invalid number\n",
      "Warning: Cutting back alpha due to evaluation error\n",
      "The equality constraints contain an invalid number\n",
      "Warning: Cutting back alpha due to evaluation error\n",
      "iter    objective    inf_pr   inf_du lg(mu)  ||d||  lg(rg) alpha_du alpha_pr  ls\n",
      "  30 -1.0230000e+04 1.22e-06 5.14e-01  -8.6 3.62e-03    -  1.00e+00 2.50e-01h  3\n",
      "The equality constraints contain an invalid number\n",
      "Warning: Cutting back alpha due to evaluation error\n",
      "The equality constraints contain an invalid number\n",
      "Warning: Cutting back alpha due to evaluation error\n",
      "  31 -1.0230000e+04 1.23e-06 5.00e-01  -8.6 1.75e-03    -  1.00e+00 2.50e-01h  3\n",
      "\n",
      "Number of Iterations....: 31\n",
      "\n",
      "                                   (scaled)                 (unscaled)\n",
      "Objective...............:  -1.0230000000597522e+04   -1.0230000000597522e+04\n",
      "Dual infeasibility......:   4.9968789045040196e-01    4.9968789045040196e-01\n",
      "Constraint violation....:   1.2292614712805516e-14    1.2292614712805516e-06\n",
      "Complementarity.........:   2.5488900144548342e-09    2.5488900144548342e-09\n",
      "Overall NLP error.......:   4.9968796290091602e-08    4.9968789045040196e-01\n",
      "\n",
      "\n",
      "Number of objective function evaluations             = 32\n",
      "Number of objective gradient evaluations             = 32\n",
      "Number of equality constraint evaluations            = 53\n",
      "Number of inequality constraint evaluations          = 32\n",
      "Number of equality constraint Jacobian evaluations   = 32\n",
      "Number of inequality constraint Jacobian evaluations = 32\n",
      "Number of Lagrangian Hessian evaluations             = 31\n",
      "Total CPU secs in IPOPT (w/o function evaluations)   =      0.010\n",
      "Total CPU secs in NLP function evaluations           =      0.001\n",
      "\n",
      "EXIT: Solved To Acceptable Level.\n"
     ]
    }
   ],
   "source": [
    "JuMP.optimize!(m)"
   ]
  },
  {
   "cell_type": "code",
   "execution_count": 14,
   "metadata": {},
   "outputs": [
    {
     "name": "stdout",
     "output_type": "stream",
     "text": [
      "** Optimal profits for the firm = 10230.0\n",
      "** Optimal wages given result = [0.0, 900.0, 2025.0]\n"
     ]
    }
   ],
   "source": [
    "println(\"** Optimal profits for the firm = \", round(JuMP.objective_value(m)))\n",
    "println(\"** Optimal wages given result = \", round.(JuMP.value.(w)))"
   ]
  },
  {
   "cell_type": "markdown",
   "metadata": {
    "slideshow": {
     "slide_type": "fragment"
    }
   },
   "source": [
    "### Point c\n",
    "In a case in which effort is not observable (as in point b) what contract the principal should provide?"
   ]
  },
  {
   "cell_type": "markdown",
   "metadata": {},
   "source": [
    "## Ex 2"
   ]
  },
  {
   "cell_type": "markdown",
   "metadata": {},
   "source": [
    "A principal (P) delegates an agent (A) the production of a good. The utility for the principal when the agent produces $q$ units of the good and receives a payment $w$ from the principal is $U_p(q,w) = R(q) - w$, with $R(q) = 14 \\ln q$. The utility function for the agent is $U_{AL}(w,q) = w - c_L q$ if he has low costs ($c_L$) and $U_{AH}(w,q) = w - c_H q$ if he has high costs ($c_H$), with $c_H = 4$ and $c_L = 2$. The agent knows whether his cost of production is high or low, and the reservation utility for both types of agent is $0$. The principal can make a take-it-or-leave-it offer to the agent. The quantity produced and the payment to the agent are verifiable. "
   ]
  },
  {
   "cell_type": "markdown",
   "metadata": {
    "slideshow": {
     "slide_type": "slide"
    }
   },
   "source": [
    "### Point a\n",
    "Assume that the principal knows the production cost of the agent. Find the contracts $(q_L^\\star,w_L^\\star)$ and $(q_H^\\star,q_H^\\star)$ the principal would deem optimal to propose to, respectively, an agent with a low cost and one with high cost. Is $q_L^\\star$ greater, equal or lower than $q_H^\\star$? Is $w_L^\\star$ greater, equal or lower than $w_H^\\star$?"
   ]
  },
  {
   "cell_type": "markdown",
   "metadata": {},
   "source": [
    "#### Solution Point a"
   ]
  },
  {
   "cell_type": "code",
   "execution_count": 15,
   "metadata": {},
   "outputs": [],
   "source": [
    "function R(quantity)\n",
    "    return 14*log(quantity)\n",
    "    end;\n",
    "\n",
    "function Uₚ(quantity,wage)\n",
    "    return R(quantity) - wage\n",
    "    end;\n",
    "\n",
    "function Uₐ(quantity,wage,cost)\n",
    "    return wage - cost*quantity\n",
    "    end;"
   ]
  },
  {
   "cell_type": "code",
   "execution_count": 16,
   "metadata": {},
   "outputs": [],
   "source": [
    "m = Model(with_optimizer(Ipopt.Optimizer));"
   ]
  },
  {
   "cell_type": "code",
   "execution_count": 17,
   "metadata": {},
   "outputs": [],
   "source": [
    "@variable(m, w[1:2] >= 0);\n",
    "@variable(m, q[1:2] >= 0);\n",
    "\n",
    "cₗ = 2;\n",
    "cₕ = 4;"
   ]
  },
  {
   "cell_type": "code",
   "execution_count": 18,
   "metadata": {},
   "outputs": [],
   "source": [
    "register(m, :R, 1, R, autodiff=true)\n",
    "register(m, :Uₚ, 2, Uₚ, autodiff=true)\n",
    "register(m, :Uₐ, 3, Uₐ, autodiff=true)"
   ]
  },
  {
   "cell_type": "code",
   "execution_count": 19,
   "metadata": {},
   "outputs": [],
   "source": [
    "#Profit Objective\n",
    "@NLobjective(m, Max, Uₚ(q[1],w[1]) + Uₚ(q[2],w[2]))"
   ]
  },
  {
   "cell_type": "code",
   "execution_count": 20,
   "metadata": {},
   "outputs": [],
   "source": [
    "#Participation Constraint\n",
    "@NLconstraint(m, Uₐ(q[1],w[1],cₗ) + Uₐ(q[2],w[2],cₕ) >= 0);"
   ]
  },
  {
   "cell_type": "code",
   "execution_count": 21,
   "metadata": {},
   "outputs": [
    {
     "data": {
      "text/latex": [
       "$$ \\begin{alignat*}{1}\\max\\quad & Uₚ(q_{1}, w_{1}) + Uₚ(q_{2}, w_{2})\\\\\n",
       "\\text{Subject to} \\quad & w_{1} \\geq 0.0\\\\\n",
       " & w_{2} \\geq 0.0\\\\\n",
       " & q_{1} \\geq 0.0\\\\\n",
       " & q_{2} \\geq 0.0\\\\\n",
       " & (Uₐ(q_{1}, w_{1}, 2.0) + Uₐ(q_{2}, w_{2}, 4.0)) - 0.0 \\geq 0\\\\\n",
       "\\end{alignat*}\n",
       " $$"
      ],
      "text/plain": [
       "A JuMP Model\n",
       "Maximization problem with:\n",
       "Variables: 4\n",
       "Objective function type: Nonlinear\n",
       "`VariableRef`-in-`MathOptInterface.GreaterThan{Float64}`: 4 constraints\n",
       "Nonlinear: 1 constraint\n",
       "Model mode: AUTOMATIC\n",
       "CachingOptimizer state: EMPTY_OPTIMIZER\n",
       "Solver name: SolverName() attribute not implemented by the optimizer.\n",
       "Names registered in the model: q, w"
      ]
     },
     "execution_count": 21,
     "metadata": {},
     "output_type": "execute_result"
    }
   ],
   "source": [
    "m"
   ]
  },
  {
   "cell_type": "code",
   "execution_count": 22,
   "metadata": {},
   "outputs": [
    {
     "name": "stdout",
     "output_type": "stream",
     "text": [
      "This is Ipopt version 3.12.10, running with linear solver mumps.\n",
      "NOTE: Other linear solvers might be more efficient (see Ipopt documentation).\n",
      "\n",
      "Number of nonzeros in equality constraint Jacobian...:        0\n",
      "Number of nonzeros in inequality constraint Jacobian.:        4\n",
      "Number of nonzeros in Lagrangian Hessian.............:        0\n",
      "\n",
      "Total number of variables............................:        4\n",
      "                     variables with only lower bounds:        4\n",
      "                variables with lower and upper bounds:        0\n",
      "                     variables with only upper bounds:        0\n",
      "Total number of equality constraints.................:        0\n",
      "Total number of inequality constraints...............:        1\n",
      "        inequality constraints with only lower bounds:        1\n",
      "   inequality constraints with lower and upper bounds:        0\n",
      "        inequality constraints with only upper bounds:        0\n",
      "\n",
      "iter    objective    inf_pr   inf_du lg(mu)  ||d||  lg(rg) alpha_du alpha_pr  ls\n",
      "   0  1.2896479e+02 4.00e-02 6.70e+02   0.0 0.00e+00    -  0.00e+00 0.00e+00   0\n",
      "   1  1.1408704e+02 4.97e-02 3.65e+02   0.0 7.19e+00    -  1.60e-03 3.45e-03f  1\n",
      "   2  1.7906226e+02 0.00e+00 1.66e+05  -0.6 1.16e-01    -  1.00e+00 4.69e-01h  1\n",
      "   3  1.2214204e+02 7.54e-03 8.06e+02  -0.6 7.77e-02    -  1.00e+00 6.95e-01f  1\n",
      "   4  1.2304267e+02 0.00e+00 5.03e+02  -1.6 2.20e-03    -  1.00e+00 1.00e+00h  1\n",
      "   5  1.1114165e+02 0.00e+00 5.74e+02  -1.2 3.02e-02    -  1.00e+00 1.00e+00f  1\n",
      "   6  1.0255508e+02 0.00e+00 5.19e+02  -1.2 3.72e-02    -  1.00e+00 1.00e+00f  1\n",
      "   7  9.0859218e+01 0.00e+00 4.21e+02  -1.4 8.06e-02    -  1.00e+00 1.00e+00f  1\n",
      "   8  7.8148935e+01 0.00e+00 2.80e+02  -1.1 1.25e-01    -  1.00e+00 1.00e+00f  1\n",
      "   9  6.5106679e+01 0.00e+00 1.76e+02  -1.1 1.87e-01    -  1.00e+00 1.00e+00f  1\n",
      "iter    objective    inf_pr   inf_du lg(mu)  ||d||  lg(rg) alpha_du alpha_pr  ls\n",
      "  10  6.4866341e+01 0.00e+00 1.17e+02  -0.7 1.92e+00    -  1.00e+00 5.49e-02f  3\n",
      "  11  4.5643072e+01 0.00e+00 6.70e+01  -6.7 5.47e-01    -  2.69e-01 1.00e+00f  1\n",
      "  12  4.2297490e+01 0.00e+00 5.99e+01  -1.2 6.39e-01    -  1.00e+00 2.90e-01f  1\n",
      "  13  2.8043148e+01 0.00e+00 3.35e+01  -1.3 7.78e-01    -  1.00e+00 1.00e+00f  1\n",
      "  14  1.8308500e+01 0.00e+00 2.22e+01  -1.4 8.24e-01    -  1.00e+00 1.00e+00f  1\n",
      "  15  8.7639634e+00 0.00e+00 1.42e+01  -1.5 1.34e+00    -  1.00e+00 1.00e+00f  1\n",
      "  16  1.5552542e+00 0.00e+00 9.61e+00  -1.7 1.77e+00    -  1.00e+00 1.00e+00f  1\n",
      "  17  4.7644510e-01 0.00e+00 6.51e+00  -0.4 6.18e+01    -  1.00e+00 1.94e-02f  3\n",
      "  18 -5.8097090e+00 0.00e+00 4.53e+00  -0.6 2.11e+00    -  9.97e-01 1.00e+00f  1\n",
      "  19 -1.0361170e+01 0.00e+00 2.69e+00  -0.7 2.06e+00    -  1.00e+00 1.00e+00f  1\n",
      "iter    objective    inf_pr   inf_du lg(mu)  ||d||  lg(rg) alpha_du alpha_pr  ls\n",
      "  20 -1.3416433e+01 0.00e+00 1.73e+00  -1.3 1.85e+00    -  9.98e-01 1.00e+00f  1\n",
      "  21 -1.5183881e+01 0.00e+00 1.10e+00  -1.8 1.69e+00    -  1.00e+00 1.00e+00f  1\n",
      "  22 -1.6113761e+01 0.00e+00 6.81e-01  -2.7 1.23e+00    -  1.00e+00 1.00e+00f  1\n",
      "  23 -1.6571770e+01 0.00e+00 3.62e-01  -3.4 6.70e-01    -  1.00e+00 1.00e+00f  1\n",
      "  24 -1.6620083e+01 0.00e+00 9.98e-02  -5.5 4.18e+00    -  1.00e+00 4.31e-01f  2\n",
      "  25 -1.6779220e+01 0.00e+00 1.85e-02  -4.5 1.60e+00    -  1.00e+00 1.00e+00f  1\n",
      "  26 -1.6781391e+01 0.00e+00 1.86e-03  -6.7 1.38e-01    -  1.00e+00 9.80e-01f  1\n",
      "  27 -1.6781424e+01 0.00e+00 1.00e-04  -8.5 2.01e-02    -  1.00e+00 1.00e+00f  1\n",
      "  28 -1.6781424e+01 0.00e+00 9.27e-06 -11.0 2.75e-04    -  1.00e+00 1.00e+00h  1\n",
      "  29 -1.6781424e+01 0.00e+00 1.54e-07 -11.0 1.50e-05    -  1.00e+00 1.00e+00h  1\n",
      "iter    objective    inf_pr   inf_du lg(mu)  ||d||  lg(rg) alpha_du alpha_pr  ls\n",
      "  30 -1.6781424e+01 0.00e+00 4.10e-08 -11.0 1.98e-06    -  1.00e+00 1.00e+00h  1\n",
      "  31 -1.6781424e+01 0.00e+00 1.96e-09 -11.0 3.27e-08    -  1.00e+00 1.00e+00h  1\n",
      "\n",
      "Number of Iterations....: 31\n",
      "\n",
      "                                   (scaled)                 (unscaled)\n",
      "Objective...............:  -1.6781423655699538e+01   -1.6781423655699538e+01\n",
      "Dual infeasibility......:   1.9557461680696033e-09    1.9557461680696033e-09\n",
      "Constraint violation....:   0.0000000000000000e+00    0.0000000000000000e+00\n",
      "Complementarity.........:   1.0000000000000547e-11    1.0000000000000547e-11\n",
      "Overall NLP error.......:   1.9557461680696033e-09    1.9557461680696033e-09\n",
      "\n",
      "\n",
      "Number of objective function evaluations             = 39\n",
      "Number of objective gradient evaluations             = 32\n",
      "Number of equality constraint evaluations            = 0\n",
      "Number of inequality constraint evaluations          = 39\n",
      "Number of equality constraint Jacobian evaluations   = 0\n",
      "Number of inequality constraint Jacobian evaluations = 32\n",
      "Number of Lagrangian Hessian evaluations             = 0\n",
      "Total CPU secs in IPOPT (w/o function evaluations)   =      0.601\n",
      "Total CPU secs in NLP function evaluations           =      0.001\n",
      "\n",
      "EXIT: Optimal Solution Found.\n"
     ]
    }
   ],
   "source": [
    "JuMP.optimize!(m)"
   ]
  },
  {
   "cell_type": "code",
   "execution_count": 23,
   "metadata": {},
   "outputs": [
    {
     "name": "stdout",
     "output_type": "stream",
     "text": [
      "Optimal wages are = [14.0, 14.0]\n",
      "Optimal quantity = [7.0, 3.5]\n"
     ]
    }
   ],
   "source": [
    "println(\"Optimal wages are = \", JuMP.value.(w))\n",
    "println(\"Optimal quantity = \", JuMP.value.(q))"
   ]
  },
  {
   "cell_type": "markdown",
   "metadata": {},
   "source": [
    "### Point b\n",
    "Assume now that the principal does not know the production cost of the agent, but she attaches probability 0.25 to the agent having a low cost of production. Find the contracts $(q_L^{\\star\\star}, w_L^{\\star\\star})$ and $(q_H^{\\star\\star}, w_H^{\\star\\star})$ the principal would deem optimal to propose to the agent, such that an agent with a low cost of production chooses contract $(q_L^{\\star\\star}, w_L^{\\star\\star})$ and an agent with high cost of production chooses the contract $(q_H^{\\star\\star}, w_H^{\\star\\star})$."
   ]
  },
  {
   "cell_type": "markdown",
   "metadata": {},
   "source": [
    "#### Solution Point b"
   ]
  },
  {
   "cell_type": "code",
   "execution_count": 24,
   "metadata": {},
   "outputs": [],
   "source": [
    "function R(quantity)\n",
    "    return 14*log(quantity)\n",
    "    end;\n",
    "\n",
    "function Uₚ(quantity,wage)\n",
    "    return R(quantity) - wage\n",
    "    end;\n",
    "\n",
    "function Uₐ(quantity,wage,cost)\n",
    "    return wage - cost*quantity\n",
    "    end;"
   ]
  },
  {
   "cell_type": "code",
   "execution_count": 25,
   "metadata": {},
   "outputs": [],
   "source": [
    "m = Model(with_optimizer(Ipopt.Optimizer));"
   ]
  },
  {
   "cell_type": "code",
   "execution_count": 26,
   "metadata": {},
   "outputs": [],
   "source": [
    "@variable(m, w[1:2] >= 0);\n",
    "@variable(m, q[1:2] >= 0);\n",
    "\n",
    "cₗ = 2;\n",
    "cₕ = 4;\n",
    "\n",
    "pₗ = 0.25;\n",
    "pₕ = 1-pₗ;"
   ]
  },
  {
   "cell_type": "code",
   "execution_count": 27,
   "metadata": {},
   "outputs": [],
   "source": [
    "register(m, :R, 1, R, autodiff=true)\n",
    "register(m, :Uₚ, 2, Uₚ, autodiff=true)\n",
    "register(m, :Uₐ, 3, Uₐ, autodiff=true)"
   ]
  },
  {
   "cell_type": "code",
   "execution_count": 28,
   "metadata": {},
   "outputs": [],
   "source": [
    "#Profit Objective\n",
    "@NLobjective(m, Max, pₗ*Uₚ(q[1],w[1]) + pₕ*Uₚ(q[2],w[2]))"
   ]
  },
  {
   "cell_type": "code",
   "execution_count": 29,
   "metadata": {},
   "outputs": [],
   "source": [
    "#Participation Constraint low cost type\n",
    "@NLconstraint(m, Uₐ(q[1],w[1],cₗ) >= 0);\n",
    "#Participation Constraint high cost type\n",
    "@NLconstraint(m, Uₐ(q[2],w[2],cₕ) >= 0);"
   ]
  },
  {
   "cell_type": "code",
   "execution_count": 30,
   "metadata": {},
   "outputs": [],
   "source": [
    "#Incentive Compatibility low cost type\n",
    "@NLconstraint(m, Uₐ(q[1],w[1],cₗ) >= Uₐ(q[2],w[2],cₗ));\n",
    "#Incentive Compatibility high cost type\n",
    "@NLconstraint(m, Uₐ(q[2],w[2],cₕ) >= Uₐ(q[1],w[1],cₕ));"
   ]
  },
  {
   "cell_type": "code",
   "execution_count": 31,
   "metadata": {},
   "outputs": [
    {
     "data": {
      "text/latex": [
       "$$ \\begin{alignat*}{1}\\max\\quad & 0.25 * Uₚ(q_{1}, w_{1}) + 0.75 * Uₚ(q_{2}, w_{2})\\\\\n",
       "\\text{Subject to} \\quad & w_{1} \\geq 0.0\\\\\n",
       " & w_{2} \\geq 0.0\\\\\n",
       " & q_{1} \\geq 0.0\\\\\n",
       " & q_{2} \\geq 0.0\\\\\n",
       " & Uₐ(q_{1}, w_{1}, 2.0) - 0.0 \\geq 0\\\\\n",
       " & Uₐ(q_{2}, w_{2}, 4.0) - 0.0 \\geq 0\\\\\n",
       " & Uₐ(q_{1}, w_{1}, 2.0) - Uₐ(q_{2}, w_{2}, 2.0) \\geq 0\\\\\n",
       " & Uₐ(q_{2}, w_{2}, 4.0) - Uₐ(q_{1}, w_{1}, 4.0) \\geq 0\\\\\n",
       "\\end{alignat*}\n",
       " $$"
      ],
      "text/plain": [
       "A JuMP Model\n",
       "Maximization problem with:\n",
       "Variables: 4\n",
       "Objective function type: Nonlinear\n",
       "`VariableRef`-in-`MathOptInterface.GreaterThan{Float64}`: 4 constraints\n",
       "Nonlinear: 4 constraints\n",
       "Model mode: AUTOMATIC\n",
       "CachingOptimizer state: EMPTY_OPTIMIZER\n",
       "Solver name: SolverName() attribute not implemented by the optimizer.\n",
       "Names registered in the model: q, w"
      ]
     },
     "execution_count": 31,
     "metadata": {},
     "output_type": "execute_result"
    }
   ],
   "source": [
    "m"
   ]
  },
  {
   "cell_type": "code",
   "execution_count": 32,
   "metadata": {},
   "outputs": [
    {
     "name": "stdout",
     "output_type": "stream",
     "text": [
      "This is Ipopt version 3.12.10, running with linear solver mumps.\n",
      "NOTE: Other linear solvers might be more efficient (see Ipopt documentation).\n",
      "\n",
      "Number of nonzeros in equality constraint Jacobian...:        0\n",
      "Number of nonzeros in inequality constraint Jacobian.:       12\n",
      "Number of nonzeros in Lagrangian Hessian.............:        0\n",
      "\n",
      "Total number of variables............................:        4\n",
      "                     variables with only lower bounds:        4\n",
      "                variables with lower and upper bounds:        0\n",
      "                     variables with only upper bounds:        0\n",
      "Total number of equality constraints.................:        0\n",
      "Total number of inequality constraints...............:        4\n",
      "        inequality constraints with only lower bounds:        4\n",
      "   inequality constraints with lower and upper bounds:        0\n",
      "        inequality constraints with only upper bounds:        0\n",
      "\n",
      "iter    objective    inf_pr   inf_du lg(mu)  ||d||  lg(rg) alpha_du alpha_pr  ls\n",
      "   0  6.4482397e+01 3.00e-02 2.60e+02   0.0 0.00e+00    -  0.00e+00 0.00e+00   0\n",
      "   1  5.7635827e+01 3.97e-02 2.81e+02   0.0 2.86e+00    -  5.28e-03 5.15e-03f  1\n",
      "   2  5.6886332e+01 2.97e-02 2.09e+02  -0.9 1.00e-01    -  1.00e+00 1.21e-01f  1\n",
      "   3  5.1596216e+01 2.40e-02 2.87e+02   0.9 1.04e+00    -  2.91e-01 4.21e-02f  1\n",
      "   4  5.0022727e+01 2.41e-02 2.30e+02  -0.7 5.42e-02    -  6.13e-01 2.77e-01f  1\n",
      "   5  4.0436571e+01 0.00e+00 4.79e+01  -0.1 2.24e-01    -  8.31e-01 1.00e+00f  1\n",
      "   6  3.5448584e+01 0.00e+00 3.03e+01  -0.9 1.13e-01    -  7.68e-01 1.00e+00f  1\n",
      "   7  2.8360225e+01 0.00e+00 1.87e+01  -1.0 2.71e-01    -  1.00e+00 1.00e+00f  1\n",
      "   8  2.2354195e+01 0.00e+00 1.20e+01  -0.9 5.29e-01    -  1.00e+00 1.00e+00f  1\n",
      "   9  1.9041299e+01 0.00e+00 9.09e+00  -1.1 5.90e-01    -  1.00e+00 4.27e-01f  1\n",
      "iter    objective    inf_pr   inf_du lg(mu)  ||d||  lg(rg) alpha_du alpha_pr  ls\n",
      "  10  1.4839493e+01 0.00e+00 3.67e+00  -0.8 1.04e+00    -  1.00e+00 1.00e+00f  1\n",
      "  11  8.5294258e+00 0.00e+00 3.16e+00  -0.8 1.16e+00    -  1.00e+00 1.00e+00f  1\n",
      "  12  4.0343970e+00 0.00e+00 2.14e+00  -0.7 1.83e+00    -  9.63e-01 1.00e+00f  1\n",
      "  13  2.1521200e-01 0.00e+00 1.06e+00  -1.0 2.16e+00    -  9.31e-01 1.00e+00f  1\n",
      "  14 -2.2264169e+00 0.00e+00 5.20e-01  -1.1 2.92e+00    -  8.66e-01 1.00e+00f  1\n",
      "  15 -3.4573742e+00 0.00e+00 2.57e-01  -1.4 3.19e+00    -  9.61e-01 7.63e-01f  1\n",
      "  16 -4.1334519e+00 0.00e+00 8.57e-02  -1.7 3.43e+00    -  9.28e-01 1.00e+00f  1\n",
      "  17 -4.3184369e+00 0.00e+00 2.92e-02  -2.3 2.57e+00    -  9.62e-01 1.00e+00f  1\n",
      "  18 -4.3431879e+00 0.00e+00 3.87e-03  -3.2 1.07e+00    -  9.87e-01 1.00e+00f  1\n",
      "  19 -4.3453786e+00 0.00e+00 8.24e-03  -4.6 6.12e-01    -  9.98e-01 1.00e+00f  1\n",
      "iter    objective    inf_pr   inf_du lg(mu)  ||d||  lg(rg) alpha_du alpha_pr  ls\n",
      "  20 -4.3461128e+00 0.00e+00 3.66e-04  -6.2 2.02e-01    -  1.00e+00 1.00e+00f  1\n",
      "  21 -4.3461146e+00 0.00e+00 1.24e-05  -8.3 5.90e-03    -  1.00e+00 1.00e+00f  1\n",
      "  22 -4.3461146e+00 0.00e+00 1.11e-08 -11.0 2.94e-04    -  1.00e+00 1.00e+00h  1\n",
      "  23 -4.3461146e+00 0.00e+00 8.75e-11 -11.0 3.26e-07    -  1.00e+00 1.00e+00h  1\n",
      "\n",
      "Number of Iterations....: 23\n",
      "\n",
      "                                   (scaled)                 (unscaled)\n",
      "Objective...............:  -4.3461145651887492e+00   -4.3461145651887492e+00\n",
      "Dual infeasibility......:   8.7525764413953766e-11    8.7525764413953766e-11\n",
      "Constraint violation....:   0.0000000000000000e+00    0.0000000000000000e+00\n",
      "Complementarity.........:   1.0000000008900193e-11    1.0000000008900193e-11\n",
      "Overall NLP error.......:   8.7525764413953766e-11    8.7525764413953766e-11\n",
      "\n",
      "\n",
      "Number of objective function evaluations             = 24\n",
      "Number of objective gradient evaluations             = 24\n",
      "Number of equality constraint evaluations            = 0\n",
      "Number of inequality constraint evaluations          = 24\n",
      "Number of equality constraint Jacobian evaluations   = 0\n",
      "Number of inequality constraint Jacobian evaluations = 24\n",
      "Number of Lagrangian Hessian evaluations             = 0\n",
      "Total CPU secs in IPOPT (w/o function evaluations)   =      0.447\n",
      "Total CPU secs in NLP function evaluations           =      0.001\n",
      "\n",
      "EXIT: Optimal Solution Found.\n"
     ]
    }
   ],
   "source": [
    "JuMP.optimize!(m)"
   ]
  },
  {
   "cell_type": "code",
   "execution_count": 33,
   "metadata": {},
   "outputs": [
    {
     "name": "stdout",
     "output_type": "stream",
     "text": [
      " Optimal wages are = [20.0, 12.0]\n",
      " Optimal quantity = [7.0, 3.0]\n"
     ]
    }
   ],
   "source": [
    "println(\" Optimal wages are = \", round.(JuMP.value.(w)))\n",
    "println(\" Optimal quantity = \", round.(JuMP.value.(q)))"
   ]
  }
 ],
 "metadata": {
  "@webio": {
   "lastCommId": null,
   "lastKernelId": null
  },
  "celltoolbar": "Slideshow",
  "kernelspec": {
   "display_name": "Julia 1.1.0",
   "language": "julia",
   "name": "julia-1.1"
  },
  "language_info": {
   "file_extension": ".jl",
   "mimetype": "application/julia",
   "name": "julia",
   "version": "1.1.0"
  },
  "rise": {
   "autolaunch": false,
   "enable_chalkboard": true,
   "scroll": true
  },
  "toc": {
   "base_numbering": 1,
   "nav_menu": {},
   "number_sections": false,
   "sideBar": true,
   "skip_h1_title": false,
   "title_cell": "Table of Contents",
   "title_sidebar": "Contents",
   "toc_cell": false,
   "toc_position": {},
   "toc_section_display": true,
   "toc_window_display": false
  }
 },
 "nbformat": 4,
 "nbformat_minor": 4
}
