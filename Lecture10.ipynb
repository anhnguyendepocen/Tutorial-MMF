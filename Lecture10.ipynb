{
 "cells": [
  {
   "cell_type": "markdown",
   "metadata": {
    "slideshow": {
     "slide_type": "slide"
    }
   },
   "source": [
    "# Lecture 10\n",
    "## Symbolic Non Linear Optimization (Part 2)\n",
    "## Date: 21.11"
   ]
  },
  {
   "cell_type": "code",
   "execution_count": 1,
   "metadata": {
    "slideshow": {
     "slide_type": "skip"
    }
   },
   "outputs": [],
   "source": [
    "using LinearAlgebra;\n",
    "using SymPy;\n",
    "using Plots;"
   ]
  },
  {
   "cell_type": "code",
   "execution_count": 2,
   "metadata": {
    "slideshow": {
     "slide_type": "skip"
    }
   },
   "outputs": [
    {
     "data": {
      "text/plain": [
       "(x, y, z)"
      ]
     },
     "execution_count": 2,
     "metadata": {},
     "output_type": "execute_result"
    }
   ],
   "source": [
    "x,y,z = Sym(\"x,y,z\")"
   ]
  },
  {
   "cell_type": "markdown",
   "metadata": {
    "slideshow": {
     "slide_type": "slide"
    }
   },
   "source": [
    "## Recap exercises"
   ]
  },
  {
   "cell_type": "markdown",
   "metadata": {
    "slideshow": {
     "slide_type": "slide"
    }
   },
   "source": [
    "### Ex 1 "
   ]
  },
  {
   "cell_type": "markdown",
   "metadata": {
    "slideshow": {
     "slide_type": "subslide"
    }
   },
   "source": [
    "Given $h(x,y)$ as:\n",
    "\n",
    "$$ h(x,y) = e^{-x^2}(2xy-y^2) $$\n",
    "\n",
    "Test the algorithm you defined in the previous lecture to get the critical points and their nature. "
   ]
  },
  {
   "cell_type": "markdown",
   "metadata": {
    "slideshow": {
     "slide_type": "subslide"
    }
   },
   "source": [
    "#### Solution"
   ]
  },
  {
   "cell_type": "code",
   "execution_count": 3,
   "metadata": {
    "slideshow": {
     "slide_type": "fragment"
    }
   },
   "outputs": [
    {
     "data": {
      "text/plain": [
       "h (generic function with 1 method)"
      ]
     },
     "execution_count": 3,
     "metadata": {},
     "output_type": "execute_result"
    }
   ],
   "source": [
    "h(x,y) = exp(-x^2)*(2*x*y - y^2)"
   ]
  },
  {
   "cell_type": "code",
   "execution_count": 4,
   "metadata": {
    "slideshow": {
     "slide_type": "fragment"
    }
   },
   "outputs": [],
   "source": [
    "#Compute gradient\n",
    "∇h = [diff(h(x,y),i) for i in free_symbols(h(x,y))];\n",
    "\n",
    "#Get the critical points\n",
    "critical_points = solve(∇h);\n",
    "\n",
    "#Compute the Hessian\n",
    "Hh = hessian(h(x,y),[x,y]);"
   ]
  },
  {
   "cell_type": "code",
   "execution_count": 5,
   "metadata": {
    "slideshow": {
     "slide_type": "fragment"
    }
   },
   "outputs": [
    {
     "name": "stdout",
     "output_type": "stream",
     "text": [
      "The point\n",
      "Dict{Any,Any}(y=>-1,x=>-1)\n",
      "The point is a local maximum\n",
      "\n",
      "The point\n",
      "Dict{Any,Any}(y=>0,x=>0)\n",
      "The point is a saddle\n",
      "\n",
      "The point\n",
      "Dict{Any,Any}(y=>1,x=>1)\n",
      "The point is a local maximum\n",
      "\n"
     ]
    }
   ],
   "source": [
    "for q in critical_points \n",
    "    global H_in_P = [subs(Hh[i,j],q) for i in 1:2, j in 1:2]\n",
    "    println(\"The point\")\n",
    "    println(q)\n",
    "    \n",
    "    if prod([i>0  for i in eigvals(H_in_P)])\n",
    "        println(\"The point is a local minimum\")\n",
    "    elseif prod([i<0  for i in eigvals(H_in_P)])\n",
    "        println(\"The point is a local maximum\")    \n",
    "    else \n",
    "        println(\"The point is a saddle\")\n",
    "    end\n",
    "    \n",
    "    println(\"\")\n",
    "    \n",
    "end"
   ]
  },
  {
   "cell_type": "markdown",
   "metadata": {
    "slideshow": {
     "slide_type": "slide"
    }
   },
   "source": [
    "### Ex 2 "
   ]
  },
  {
   "cell_type": "markdown",
   "metadata": {
    "slideshow": {
     "slide_type": "subslide"
    }
   },
   "source": [
    "Given $h(x,y)$ as:\n",
    "\n",
    "$$ h(x,y) = e^x(2x^2-xy+y^2) $$\n",
    "\n",
    "Test the algorithm you defined in the previous lecture to get the critical points and their nature. "
   ]
  },
  {
   "cell_type": "markdown",
   "metadata": {
    "slideshow": {
     "slide_type": "subslide"
    }
   },
   "source": [
    "#### Solution"
   ]
  },
  {
   "cell_type": "code",
   "execution_count": 6,
   "metadata": {
    "slideshow": {
     "slide_type": "fragment"
    }
   },
   "outputs": [
    {
     "data": {
      "text/latex": [
       "\\begin{equation*}x^{2} + 2 x y + 2 x z + 2 y^{2} + 3 z^{2}\\end{equation*}"
      ],
      "text/plain": [
       " 2                      2      2\n",
       "x  + 2⋅x⋅y + 2⋅x⋅z + 2⋅y  + 3⋅z "
      ]
     },
     "execution_count": 6,
     "metadata": {},
     "output_type": "execute_result"
    }
   ],
   "source": [
    "f = x^2 + 2*y^2 + 3*z^2 + 2*x*y + 2*x*z"
   ]
  },
  {
   "cell_type": "code",
   "execution_count": 7,
   "metadata": {
    "slideshow": {
     "slide_type": "fragment"
    }
   },
   "outputs": [],
   "source": [
    "#Compute gradient\n",
    "∇f = [diff(f,i) for i in free_symbols(f)];\n",
    "\n",
    "#Get the critical points\n",
    "critical_points = solve(∇f,dict = true);\n",
    "\n",
    "#Compute the Hessian\n",
    "Hf = hessian(f,free_symbols(f));"
   ]
  },
  {
   "cell_type": "code",
   "execution_count": 8,
   "metadata": {
    "slideshow": {
     "slide_type": "fragment"
    }
   },
   "outputs": [
    {
     "name": "stdout",
     "output_type": "stream",
     "text": [
      "The point\n",
      "Dict{Any,Any}(y=>0,x=>0,z=>0)\n",
      "The point is a local minimum\n",
      "\n"
     ]
    }
   ],
   "source": [
    "for q in critical_points \n",
    "    H_in_P = [subs(Hf[i,j],q) for i in 1:length(free_symbols(f)), j in 1:length(free_symbols(f))]\n",
    "    \n",
    "    println(\"The point\")\n",
    "    println(q)\n",
    "    \n",
    "    principal_minor = [det(H_in_P[1:i,1:i]) for i in 1:size(H_in_P)[1]]\n",
    "    \n",
    "    principal_minor_sign_flipped = principal_minor .* [(-1)^i for i in 1:length(principal_minor)]\n",
    "    \n",
    "    if prod([i>0  for i in principal_minor])\n",
    "        println(\"The point is a local minimum\")\n",
    "    elseif prod([i>0  for i in principal_minor_sign_flipped])\n",
    "        println(\"The point is a local maximum\")    \n",
    "    else \n",
    "        println(\"The point is a saddle\")\n",
    "    end\n",
    "    \n",
    "    println(\"\")\n",
    "    \n",
    "end"
   ]
  },
  {
   "cell_type": "markdown",
   "metadata": {
    "slideshow": {
     "slide_type": "slide"
    }
   },
   "source": [
    "## Constrained optimization"
   ]
  },
  {
   "cell_type": "markdown",
   "metadata": {
    "slideshow": {
     "slide_type": "subslide"
    }
   },
   "source": [
    "### Ex 1\n",
    "Given the function $f(x,y,z)$:\n",
    "\n",
    "$$\n",
    "x+2z \\text{ s.t. } \\begin{cases} x^2+y^2+z^2 = 5 \\end{cases}\n",
    "$$\n",
    "\n",
    "Develop an algorithm that finds the critical points and their nature of the above constrained maximization problem."
   ]
  },
  {
   "cell_type": "markdown",
   "metadata": {
    "slideshow": {
     "slide_type": "subslide"
    }
   },
   "source": [
    "#### Solution"
   ]
  },
  {
   "cell_type": "code",
   "execution_count": 9,
   "metadata": {
    "slideshow": {
     "slide_type": "fragment"
    }
   },
   "outputs": [
    {
     "ename": "UndefVarError",
     "evalue": "UndefVarError: constraint not defined",
     "output_type": "error",
     "traceback": [
      "UndefVarError: constraint not defined",
      "",
      "Stacktrace:",
      " [1] top-level scope at In[9]:4"
     ]
    }
   ],
   "source": [
    "f = x + 2z;\n",
    "\n",
    "constraints = [x^2 + y^2 + z^2 - 5];\n",
    "\n",
    "lagrange_multipliers = symbols(\"λ1:\"*string(length(constraint)+1));\n",
    "variables = setdiff(free_symbols(Λ),lagrange_multipliers);\n",
    "\n",
    "n = length(variables);\n",
    "m = length(lagrange_multipliers);\n",
    "\n",
    "last_minors = n-m;"
   ]
  },
  {
   "cell_type": "code",
   "execution_count": 10,
   "metadata": {
    "slideshow": {
     "slide_type": "fragment"
    }
   },
   "outputs": [
    {
     "ename": "UndefVarError",
     "evalue": "UndefVarError: lagrange_multipliers not defined",
     "output_type": "error",
     "traceback": [
      "UndefVarError: lagrange_multipliers not defined",
      "",
      "Stacktrace:",
      " [1] top-level scope at In[10]:1"
     ]
    }
   ],
   "source": [
    "Λ = f -sum(lagrange_multipliers.*constraints) "
   ]
  },
  {
   "cell_type": "code",
   "execution_count": 11,
   "metadata": {
    "slideshow": {
     "slide_type": "fragment"
    }
   },
   "outputs": [
    {
     "ename": "UndefVarError",
     "evalue": "UndefVarError: Λ not defined",
     "output_type": "error",
     "traceback": [
      "UndefVarError: Λ not defined",
      "",
      "Stacktrace:",
      " [1] top-level scope at In[11]:1"
     ]
    }
   ],
   "source": [
    "#Compute gradient\n",
    "∇Λ = [diff(Λ,i) for i in free_symbols(Λ)];\n",
    "\n",
    "#Get the critical points\n",
    "critical_points = solve(∇Λ,dict = true);"
   ]
  },
  {
   "cell_type": "code",
   "execution_count": 12,
   "metadata": {
    "slideshow": {
     "slide_type": "fragment"
    }
   },
   "outputs": [
    {
     "ename": "UndefVarError",
     "evalue": "UndefVarError: Λ not defined",
     "output_type": "error",
     "traceback": [
      "UndefVarError: Λ not defined",
      "",
      "Stacktrace:",
      " [1] top-level scope at In[12]:1"
     ]
    }
   ],
   "source": [
    "#Compute the Hessian\n",
    "HΛ = hessian(Λ,variables)\n",
    "\n",
    "#Compute partial derivatives of constraints\n",
    "∇constraints = [diff(constraints[k],i) for i in variables, k in 1:length(constraints)]\n",
    "\n",
    "#Evaluate the leading part of the bordered Hessian\n",
    "leading = zeros(length(constraints),length(constraints));\n",
    "\n",
    "#Get the bordered Hessian\n",
    "bordered_hessian = hcat(vcat(leading,∇constraints),vcat((∇constraints.T),HΛ))"
   ]
  },
  {
   "cell_type": "code",
   "execution_count": 13,
   "metadata": {
    "slideshow": {
     "slide_type": "fragment"
    }
   },
   "outputs": [
    {
     "ename": "UndefVarError",
     "evalue": "UndefVarError: bordered_hessian not defined",
     "output_type": "error",
     "traceback": [
      "UndefVarError: bordered_hessian not defined",
      "",
      "Stacktrace:",
      " [1] top-level scope at In[13]:3"
     ]
    }
   ],
   "source": [
    "for q in critical_points \n",
    "    \n",
    "    global BH_in_P = [subs(bordered_hessian[i,j],q) for i in 1:size(bordered_hessian)[1], j in 1:size(bordered_hessian)[1]]\n",
    "    \n",
    "    println(\"The point\")\n",
    "    println(q)\n",
    "    \n",
    "    principal_minor = [det(BH_in_P[1:i,1:i]) for i in (size(BH_in_P)[1]-last_minors + 1):size(BH_in_P)[1]] .* (-1)^m   \n",
    "    \n",
    "    principal_minor_sign_flipped = [det(BH_in_P[1:i,1:i]) for i in (size(BH_in_P)[1]-last_minors + 1):size(BH_in_P)[1]] .* [(-1)^(n+i-length(principal_minor)) for i in 1:length(principal_minor)]\n",
    "    \n",
    "    if prod([i>0  for i in principal_minor])\n",
    "        println(\"The point is a local minimum\")\n",
    "    elseif prod([i>0  for i in principal_minor_sign_flipped])\n",
    "        println(\"The point is a local maximum\")    \n",
    "    else \n",
    "        println(\"The point is a saddle\")\n",
    "    end\n",
    "    \n",
    "    println(\"\")\n",
    "    \n",
    "end"
   ]
  },
  {
   "cell_type": "code",
   "execution_count": 14,
   "metadata": {
    "slideshow": {
     "slide_type": "fragment"
    }
   },
   "outputs": [
    {
     "ename": "UndefVarError",
     "evalue": "UndefVarError: BH_in_P not defined",
     "output_type": "error",
     "traceback": [
      "UndefVarError: BH_in_P not defined",
      "",
      "Stacktrace:",
      " [1] top-level scope at In[14]:1"
     ]
    }
   ],
   "source": [
    "BH_in_P"
   ]
  },
  {
   "cell_type": "code",
   "execution_count": 15,
   "metadata": {
    "slideshow": {
     "slide_type": "fragment"
    }
   },
   "outputs": [
    {
     "ename": "UndefVarError",
     "evalue": "UndefVarError: BH_in_P not defined",
     "output_type": "error",
     "traceback": [
      "UndefVarError: BH_in_P not defined",
      "",
      "Stacktrace:",
      " [1] top-level scope at In[15]:1"
     ]
    }
   ],
   "source": [
    "principal_minor = [det(BH_in_P[1:i,1:i]) for i in (size(BH_in_P)[1]-last_minors + 1):size(BH_in_P)[1]]"
   ]
  },
  {
   "cell_type": "markdown",
   "metadata": {
    "slideshow": {
     "slide_type": "subslide"
    }
   },
   "source": [
    "### Ex 2\n",
    "Given the function $f(x,y,z)$:\n",
    "\n",
    "$$\n",
    "y \\text{ s.t. } \\begin{cases} x^2+y^2+z^2 = 2 \\\\ y=z \\end{cases}\n",
    "$$\n",
    "\n",
    "Test the algorithm you developed."
   ]
  },
  {
   "cell_type": "markdown",
   "metadata": {
    "slideshow": {
     "slide_type": "subslide"
    }
   },
   "source": [
    "#### Solution"
   ]
  },
  {
   "cell_type": "code",
   "execution_count": 16,
   "metadata": {
    "slideshow": {
     "slide_type": "fragment"
    }
   },
   "outputs": [
    {
     "ename": "UndefVarError",
     "evalue": "UndefVarError: Λ not defined",
     "output_type": "error",
     "traceback": [
      "UndefVarError: Λ not defined",
      "",
      "Stacktrace:",
      " [1] top-level scope at In[16]:6"
     ]
    }
   ],
   "source": [
    "f = y;\n",
    "\n",
    "constraints = [x^2+y^2+z^2 - 2, y-z];\n",
    "\n",
    "lagrange_multipliers = symbols(\"λ1:\"*string(length(constraints)+1));\n",
    "variables = setdiff(free_symbols(Λ),lagrange_multipliers);\n",
    "\n",
    "n = length(variables);\n",
    "m = length(lagrange_multipliers);\n",
    "\n",
    "last_minors = n-m;"
   ]
  },
  {
   "cell_type": "code",
   "execution_count": 17,
   "metadata": {
    "slideshow": {
     "slide_type": "fragment"
    }
   },
   "outputs": [
    {
     "data": {
      "text/latex": [
       "\\begin{equation*}y - λ1 \\left(x^{2} + y^{2} + z^{2} - 2\\right) - λ2 \\left(y - z\\right)\\end{equation*}"
      ],
      "text/plain": [
       "       ⎛ 2    2    2    ⎞             \n",
       "y - λ1⋅⎝x  + y  + z  - 2⎠ - λ2⋅(y - z)"
      ]
     },
     "execution_count": 17,
     "metadata": {},
     "output_type": "execute_result"
    }
   ],
   "source": [
    "Λ = f -sum(lagrange_multipliers.*constraints) "
   ]
  },
  {
   "cell_type": "code",
   "execution_count": 18,
   "metadata": {
    "slideshow": {
     "slide_type": "fragment"
    }
   },
   "outputs": [],
   "source": [
    "#Compute gradient\n",
    "∇Λ = [diff(Λ,i) for i in free_symbols(Λ)];\n",
    "\n",
    "#Get the critical points\n",
    "critical_points = solve(∇Λ,dict = true);"
   ]
  },
  {
   "cell_type": "code",
   "execution_count": 19,
   "metadata": {
    "slideshow": {
     "slide_type": "fragment"
    }
   },
   "outputs": [
    {
     "ename": "UndefVarError",
     "evalue": "UndefVarError: variables not defined",
     "output_type": "error",
     "traceback": [
      "UndefVarError: variables not defined",
      "",
      "Stacktrace:",
      " [1] top-level scope at In[19]:1"
     ]
    }
   ],
   "source": [
    "#Compute the Hessian\n",
    "HΛ = hessian(Λ,variables)\n",
    "\n",
    "#Compute partial derivatives of constraints\n",
    "∇constraints = [diff(constraints[k],i) for i in variables, k in 1:length(constraints)]\n",
    "\n",
    "#Evaluate the leading part of the bordered Hessian\n",
    "leading = zeros(length(constraints),length(constraints));\n",
    "\n",
    "#Get the bordered Hessian\n",
    "bordered_hessian = hcat(vcat(leading,∇constraints),vcat((∇constraints.T),HΛ))"
   ]
  },
  {
   "cell_type": "code",
   "execution_count": 20,
   "metadata": {
    "slideshow": {
     "slide_type": "fragment"
    }
   },
   "outputs": [
    {
     "ename": "UndefVarError",
     "evalue": "UndefVarError: bordered_hessian not defined",
     "output_type": "error",
     "traceback": [
      "UndefVarError: bordered_hessian not defined",
      "",
      "Stacktrace:",
      " [1] top-level scope at In[20]:3"
     ]
    }
   ],
   "source": [
    "for q in critical_points \n",
    "    \n",
    "    global BH_in_P = [subs(bordered_hessian[i,j],q) for i in 1:size(bordered_hessian)[1], j in 1:size(bordered_hessian)[1]]\n",
    "    \n",
    "    println(\"The point\")\n",
    "    println(q)\n",
    "    \n",
    "    principal_minor = [det(BH_in_P[1:i,1:i]) for i in (size(BH_in_P)[1]-last_minors + 1):size(BH_in_P)[1]] .* (-1)^m   \n",
    "    \n",
    "    principal_minor_sign_flipped = [det(BH_in_P[1:i,1:i]) for i in (size(BH_in_P)[1]-last_minors + 1):size(BH_in_P)[1]] .* [(-1)^(n+i-length(principal_minor)) for i in 1:length(principal_minor)]\n",
    "    \n",
    "    if prod([i>0  for i in principal_minor])\n",
    "        println(\"The point is a local minimum\")\n",
    "    elseif prod([i>0  for i in principal_minor_sign_flipped])\n",
    "        println(\"The point is a local maximum\")    \n",
    "    else \n",
    "        println(\"The point is a saddle\")\n",
    "    end\n",
    "    \n",
    "    println(\"\")\n",
    "    \n",
    "end"
   ]
  }
 ],
 "metadata": {
  "@webio": {
   "lastCommId": null,
   "lastKernelId": null
  },
  "celltoolbar": "Slideshow",
  "kernelspec": {
   "display_name": "Julia 1.1.0",
   "language": "julia",
   "name": "julia-1.1"
  },
  "language_info": {
   "file_extension": ".jl",
   "mimetype": "application/julia",
   "name": "julia",
   "version": "1.1.0"
  },
  "rise": {
   "enable_chalkboard": false,
   "scroll": true,
   "theme": "serif"
  },
  "toc": {
   "base_numbering": 1,
   "nav_menu": {},
   "number_sections": false,
   "sideBar": true,
   "skip_h1_title": false,
   "title_cell": "Table of Contents",
   "title_sidebar": "Contents",
   "toc_cell": false,
   "toc_position": {},
   "toc_section_display": true,
   "toc_window_display": false
  }
 },
 "nbformat": 4,
 "nbformat_minor": 4
}
