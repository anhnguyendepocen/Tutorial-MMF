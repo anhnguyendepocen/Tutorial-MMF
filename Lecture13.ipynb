{
 "cells": [
  {
   "cell_type": "markdown",
   "metadata": {
    "slideshow": {
     "slide_type": "slide"
    }
   },
   "source": [
    "# Lecture 13\n",
    "## Non Linear Optimization with JuMP (Part 2)\n",
    "## Date: 28.11"
   ]
  },
  {
   "cell_type": "markdown",
   "metadata": {
    "slideshow": {
     "slide_type": "subslide"
    }
   },
   "source": [
    "## Constrained Non Linear Optimization"
   ]
  },
  {
   "cell_type": "markdown",
   "metadata": {
    "slideshow": {
     "slide_type": "subslide"
    }
   },
   "source": [
    "In order to solve constrained non linear problems we can leverage ```JuMP``` (as we did for linear problems) using non linear solvers such as the ```Ipopt```."
   ]
  },
  {
   "cell_type": "markdown",
   "metadata": {
    "slideshow": {
     "slide_type": "subslide"
    }
   },
   "source": [
    "### Example "
   ]
  },
  {
   "cell_type": "markdown",
   "metadata": {
    "slideshow": {
     "slide_type": "subslide"
    }
   },
   "source": [
    "Take the following constrained minimization problem:\n",
    "$$\n",
    "\\text{min } (x_1 - 3)^3 + (x_2 - 4)^2 \\text{ s.t. } \\begin{cases} (x_1 - 1)^2 + (x_2 + 1)^3 + e^{-x_1} \\leq 1 \\end{cases}\n",
    "$$"
   ]
  },
  {
   "cell_type": "markdown",
   "metadata": {
    "slideshow": {
     "slide_type": "subslide"
    }
   },
   "source": [
    "In ```JuMP``` we can express it as:"
   ]
  },
  {
   "cell_type": "code",
   "execution_count": 1,
   "metadata": {
    "slideshow": {
     "slide_type": "fragment"
    }
   },
   "outputs": [],
   "source": [
    "using JuMP, Ipopt;"
   ]
  },
  {
   "cell_type": "code",
   "execution_count": 2,
   "metadata": {
    "slideshow": {
     "slide_type": "fragment"
    }
   },
   "outputs": [],
   "source": [
    "m = Model(with_optimizer(Ipopt.Optimizer));"
   ]
  },
  {
   "cell_type": "code",
   "execution_count": 3,
   "metadata": {
    "slideshow": {
     "slide_type": "fragment"
    }
   },
   "outputs": [
    {
     "data": {
      "text/plain": [
       "2-element Array{VariableRef,1}:\n",
       " x[1]\n",
       " x[2]"
      ]
     },
     "execution_count": 3,
     "metadata": {},
     "output_type": "execute_result"
    }
   ],
   "source": [
    "@variable(m, x[1:2])"
   ]
  },
  {
   "cell_type": "code",
   "execution_count": 4,
   "metadata": {
    "slideshow": {
     "slide_type": "fragment"
    }
   },
   "outputs": [],
   "source": [
    "@NLobjective(m, Min, (x[1]-3)^3 + (x[2]-4)^2)"
   ]
  },
  {
   "cell_type": "code",
   "execution_count": 5,
   "metadata": {
    "slideshow": {
     "slide_type": "fragment"
    }
   },
   "outputs": [
    {
     "data": {
      "text/latex": [
       "$$ ((x_{1} - 1.0) ^ 2.0 + (x_{2} + 1.0) ^ 3.0 + exp(-x_{1})) - 1.0 \\leq 0 $$"
      ],
      "text/plain": [
       "((x[1] - 1.0) ^ 2.0 + (x[2] + 1.0) ^ 3.0 + exp(-x[1])) - 1.0 ≤ 0"
      ]
     },
     "execution_count": 5,
     "metadata": {},
     "output_type": "execute_result"
    }
   ],
   "source": [
    "@NLconstraint(m, (x[1]-1)^2 + (x[2]+1)^3 + exp(-x[1]) <= 1)"
   ]
  },
  {
   "cell_type": "code",
   "execution_count": 6,
   "metadata": {
    "slideshow": {
     "slide_type": "subslide"
    }
   },
   "outputs": [
    {
     "name": "stdout",
     "output_type": "stream",
     "text": [
      "\n",
      "******************************************************************************\n",
      "This program contains Ipopt, a library for large-scale nonlinear optimization.\n",
      " Ipopt is released as open source code under the Eclipse Public License (EPL).\n",
      "         For more information visit http://projects.coin-or.org/Ipopt\n",
      "******************************************************************************\n",
      "\n",
      "This is Ipopt version 3.12.10, running with linear solver mumps.\n",
      "NOTE: Other linear solvers might be more efficient (see Ipopt documentation).\n",
      "\n",
      "Number of nonzeros in equality constraint Jacobian...:        0\n",
      "Number of nonzeros in inequality constraint Jacobian.:        2\n",
      "Number of nonzeros in Lagrangian Hessian.............:        4\n",
      "\n",
      "Total number of variables............................:        2\n",
      "                     variables with only lower bounds:        0\n",
      "                variables with lower and upper bounds:        0\n",
      "                     variables with only upper bounds:        0\n",
      "Total number of equality constraints.................:        0\n",
      "Total number of inequality constraints...............:        1\n",
      "        inequality constraints with only lower bounds:        0\n",
      "   inequality constraints with lower and upper bounds:        0\n",
      "        inequality constraints with only upper bounds:        1\n",
      "\n",
      "iter    objective    inf_pr   inf_du lg(mu)  ||d||  lg(rg) alpha_du alpha_pr  ls\n",
      "   0 -1.1000000e+01 2.00e+00 1.03e+01  -1.0 0.00e+00    -  0.00e+00 0.00e+00   0\n",
      "   1 -2.7940943e+00 7.05e-01 3.15e+00  -1.0 5.31e-01    -  1.00e+00 1.00e+00h  1\n",
      "   2  3.0252074e+00 1.24e-01 1.20e+00  -1.0 2.96e-01    -  1.00e+00 1.00e+00h  1\n",
      "   3  4.4351082e+00 0.00e+00 1.50e-01  -1.0 5.43e-02    -  1.00e+00 1.00e+00h  1\n",
      "   4  4.4112067e+00 0.00e+00 2.19e-04  -2.5 8.60e-03    -  1.00e+00 1.00e+00h  1\n",
      "   5  4.4092612e+00 0.00e+00 2.49e-07  -3.8 1.69e-04    -  1.00e+00 1.00e+00f  1\n",
      "   6  4.4091126e+00 0.00e+00 1.24e-09  -5.7 1.28e-05    -  1.00e+00 1.00e+00h  1\n",
      "   7  4.4091108e+00 0.00e+00 1.92e-13  -8.6 1.59e-07    -  1.00e+00 1.00e+00h  1\n",
      "\n",
      "Number of Iterations....: 7\n",
      "\n",
      "                                   (scaled)                 (unscaled)\n",
      "Objective...............:   4.4091107643665541e+00    4.4091107643665541e+00\n",
      "Dual infeasibility......:   1.9184653865522705e-13    1.9184653865522705e-13\n",
      "Constraint violation....:   0.0000000000000000e+00    0.0000000000000000e+00\n",
      "Complementarity.........:   2.5060365853569629e-09    2.5060365853569629e-09\n",
      "Overall NLP error.......:   2.5060365853569629e-09    2.5060365853569629e-09\n",
      "\n",
      "\n",
      "Number of objective function evaluations             = 8\n",
      "Number of objective gradient evaluations             = 8\n",
      "Number of equality constraint evaluations            = 0\n",
      "Number of inequality constraint evaluations          = 8\n",
      "Number of equality constraint Jacobian evaluations   = 0\n",
      "Number of inequality constraint Jacobian evaluations = 8\n",
      "Number of Lagrangian Hessian evaluations             = 7\n",
      "Total CPU secs in IPOPT (w/o function evaluations)   =      2.695\n",
      "Total CPU secs in NLP function evaluations           =      0.735\n",
      "\n",
      "EXIT: Optimal Solution Found.\n"
     ]
    }
   ],
   "source": [
    "JuMP.optimize!(m)"
   ]
  },
  {
   "cell_type": "code",
   "execution_count": 7,
   "metadata": {
    "slideshow": {
     "slide_type": "subslide"
    }
   },
   "outputs": [
    {
     "name": "stdout",
     "output_type": "stream",
     "text": [
      "** Optimal objective function value = 4.409110764366554\n",
      "** Optimal solution = [0.492399, -0.491889]\n"
     ]
    }
   ],
   "source": [
    "println(\"** Optimal objective function value = \", JuMP.objective_value(m))\n",
    "println(\"** Optimal solution = \", JuMP.value.(x))"
   ]
  },
  {
   "cell_type": "markdown",
   "metadata": {
    "slideshow": {
     "slide_type": "subslide"
    }
   },
   "source": [
    "Another awesome, however more complex, example is given at the [juliaopt webpage](https://www.juliaopt.org/notebooks/JuMP-Rocket.html)"
   ]
  },
  {
   "cell_type": "markdown",
   "metadata": {
    "slideshow": {
     "slide_type": "slide"
    }
   },
   "source": [
    "### Exercise"
   ]
  },
  {
   "cell_type": "markdown",
   "metadata": {
    "slideshow": {
     "slide_type": "subslide"
    }
   },
   "source": [
    "A worker can exert two effort levels, high or low, which induce a production error with probability 0.25 and 0.75 respectively. His utility function id $U(w,e) = 100 - \\frac{10}{w} - v$, where $w$ is the wage and $v$ takes the value of 2 if effort is high and 0 if effort is low. Production errors are observable and so can be introduced into the worker's contract, but effort cannot. The product obtained is worth 20 if there are no errors and 0 otherwise. The principal is risk neutral. Assume the worker has reservation utility equal to $\\bar{U} = 0$. Calculate the optimal contract and the effort that the principal desires, under condition of symmetric information."
   ]
  },
  {
   "cell_type": "markdown",
   "metadata": {
    "slideshow": {
     "slide_type": "subslide"
    }
   },
   "source": [
    "### Exercise"
   ]
  },
  {
   "cell_type": "code",
   "execution_count": 8,
   "metadata": {
    "slideshow": {
     "slide_type": "fragment"
    }
   },
   "outputs": [],
   "source": [
    "model = Model(with_optimizer(Ipopt.Optimizer));"
   ]
  },
  {
   "cell_type": "code",
   "execution_count": 9,
   "metadata": {
    "slideshow": {
     "slide_type": "fragment"
    }
   },
   "outputs": [],
   "source": [
    "xₕ = 20;\n",
    "xₗ = 0;"
   ]
  },
  {
   "cell_type": "code",
   "execution_count": 10,
   "metadata": {
    "slideshow": {
     "slide_type": "fragment"
    }
   },
   "outputs": [],
   "source": [
    "@variable(model, wₗ >= 0, start = 0.0);\n",
    "@variable(model, wₕ >= 0, start = 0.0);\n",
    "\n",
    "@variable(model, 0<=e<=1, start = 0.0);"
   ]
  },
  {
   "cell_type": "code",
   "execution_count": 11,
   "metadata": {
    "slideshow": {
     "slide_type": "fragment"
    }
   },
   "outputs": [],
   "source": [
    "@NLobjective(model, Max, e*(0.75(xₕ - wₕ) + 0.25(xₗ - wₗ) + (1-e)*(0.25(xₕ - wₕ) + 0.75(xₗ - wₗ))))"
   ]
  },
  {
   "cell_type": "code",
   "execution_count": 12,
   "metadata": {
    "slideshow": {
     "slide_type": "fragment"
    }
   },
   "outputs": [],
   "source": [
    "#Think economically why this constraint is binding\n",
    "@NLconstraint(model, e*(0.75(100 - 10/wₕ - 2) + 0.25(100 - 10/wₗ - 2)) + (1-e)*(0.25(100 - 10/wₕ - 0) + 0.75(100 - 10/wₗ - 0)) == 0);"
   ]
  },
  {
   "cell_type": "code",
   "execution_count": 13,
   "metadata": {
    "slideshow": {
     "slide_type": "fragment"
    }
   },
   "outputs": [
    {
     "data": {
      "text/latex": [
       "$$ \\begin{alignat*}{1}\\max\\quad & e * (0.75 * (20.0 - wₕ) + 0.25 * (0.0 - wₗ) + (1.0 - e) * (0.25 * (20.0 - wₕ) + 0.75 * (0.0 - wₗ)))\\\\\n",
       "\\text{Subject to} \\quad & wₗ \\geq 0.0\\\\\n",
       " & wₕ \\geq 0.0\\\\\n",
       " & e \\geq 0.0\\\\\n",
       " & e \\leq 1.0\\\\\n",
       " & (e * (0.75 * ((100.0 - 10.0 / wₕ) - 2.0) + 0.25 * ((100.0 - 10.0 / wₗ) - 2.0)) + (1.0 - e) * (0.25 * ((100.0 - 10.0 / wₕ) - 0.0) + 0.75 * ((100.0 - 10.0 / wₗ) - 0.0))) - 0.0 = 0\\\\\n",
       "\\end{alignat*}\n",
       " $$"
      ],
      "text/plain": [
       "A JuMP Model\n",
       "Maximization problem with:\n",
       "Variables: 3\n",
       "Objective function type: Nonlinear\n",
       "`VariableRef`-in-`MathOptInterface.GreaterThan{Float64}`: 3 constraints\n",
       "`VariableRef`-in-`MathOptInterface.LessThan{Float64}`: 1 constraint\n",
       "Nonlinear: 1 constraint\n",
       "Model mode: AUTOMATIC\n",
       "CachingOptimizer state: EMPTY_OPTIMIZER\n",
       "Solver name: SolverName() attribute not implemented by the optimizer.\n",
       "Names registered in the model: e, wₕ, wₗ"
      ]
     },
     "execution_count": 13,
     "metadata": {},
     "output_type": "execute_result"
    }
   ],
   "source": [
    "model"
   ]
  },
  {
   "cell_type": "code",
   "execution_count": 14,
   "metadata": {
    "slideshow": {
     "slide_type": "subslide"
    }
   },
   "outputs": [
    {
     "name": "stdout",
     "output_type": "stream",
     "text": [
      "This is Ipopt version 3.12.10, running with linear solver mumps.\n",
      "NOTE: Other linear solvers might be more efficient (see Ipopt documentation).\n",
      "\n",
      "Number of nonzeros in equality constraint Jacobian...:        3\n",
      "Number of nonzeros in inequality constraint Jacobian.:        0\n",
      "Number of nonzeros in Lagrangian Hessian.............:       12\n",
      "\n",
      "Total number of variables............................:        3\n",
      "                     variables with only lower bounds:        2\n",
      "                variables with lower and upper bounds:        1\n",
      "                     variables with only upper bounds:        0\n",
      "Total number of equality constraints.................:        1\n",
      "Total number of inequality constraints...............:        0\n",
      "        inequality constraints with only lower bounds:        0\n",
      "   inequality constraints with lower and upper bounds:        0\n",
      "        inequality constraints with only upper bounds:        0\n",
      "\n",
      "iter    objective    inf_pr   inf_du lg(mu)  ||d||  lg(rg) alpha_du alpha_pr  ls\n",
      "   0 -1.9930080e-01 9.00e+02 1.99e+01  -1.0 0.00e+00    -  0.00e+00 0.00e+00   0\n",
      "   1 -2.3774588e-01 1.48e+03 1.98e+01  -1.0 2.39e+00    -  4.30e-03 6.13e-03h  2\n",
      "   2 -3.4373442e+00 6.79e+02 1.72e+01  -1.0 1.69e-01   2.0 1.69e-01 1.00e+00h  1\n",
      "   3 -1.4261367e+01 1.91e+02 1.01e+01  -1.0 7.56e-01   1.5 1.00e+00 1.00e+00h  1\n",
      "   4 -1.4909432e+01 1.83e+02 1.02e+01  -1.0 1.65e+00    -  3.87e-01 3.82e-02h  1\n",
      "   5 -1.4810101e+01 8.13e+01 1.05e+00  -1.0 1.01e-02    -  7.67e-01 1.00e+00h  1\n",
      "   6 -1.4839260e+01 8.05e+01 2.66e+00  -1.0 9.36e-02    -  1.00e+00 5.00e-01h  2\n",
      "   7 -1.4834820e+01 5.16e+01 3.93e-01  -1.0 4.20e-02    -  6.34e-01 1.00e+00h  1\n",
      "   8 -1.4803779e+01 3.39e+01 9.57e-01  -1.0 1.24e-01   1.0 1.00e+00 1.00e+00h  1\n",
      "   9 -1.4782981e+01 6.96e+00 1.28e-01  -1.0 3.63e-02    -  1.00e+00 1.00e+00h  1\n",
      "iter    objective    inf_pr   inf_du lg(mu)  ||d||  lg(rg) alpha_du alpha_pr  ls\n",
      "  10 -1.4743883e+01 2.69e+00 1.45e-01  -1.0 1.51e-01    -  1.00e+00 1.00e+00h  1\n",
      "  11 -1.4745465e+01 8.40e-02 1.22e-02  -1.0 7.39e-03    -  1.00e+00 1.00e+00h  1\n",
      "  12 -1.4929640e+01 2.20e+02 1.41e+01  -2.5 3.70e-01    -  9.51e-01 1.00e+00h  1\n",
      "  13 -1.4907906e+01 9.49e+01 6.84e+00  -2.5 2.47e-02    -  1.00e+00 1.00e+00h  1\n",
      "  14 -1.4893199e+01 3.59e+01 3.31e+00  -2.5 1.50e-02    -  1.00e+00 1.00e+00h  1\n",
      "  15 -1.4889574e+01 1.17e+01 1.39e+00  -2.5 1.60e-02    -  1.00e+00 1.00e+00h  1\n",
      "  16 -1.4894330e+01 4.98e+00 5.21e-01  -2.5 1.68e-02    -  1.00e+00 1.00e+00h  1\n",
      "  17 -1.4896830e+01 2.65e+00 1.59e-01  -2.5 1.79e-02    -  1.00e+00 1.00e+00h  1\n",
      "  18 -1.4895997e+01 8.63e-01 3.49e-02  -2.5 1.47e-02    -  1.00e+00 1.00e+00h  1\n",
      "  19 -1.4895198e+01 8.42e-02 6.70e-03  -2.5 5.68e-03    -  1.00e+00 1.00e+00h  1\n",
      "iter    objective    inf_pr   inf_du lg(mu)  ||d||  lg(rg) alpha_du alpha_pr  ls\n",
      "  20 -1.4895105e+01 7.27e-04 6.26e-04  -2.5 5.66e-04    -  1.00e+00 1.00e+00h  1\n",
      "  21 -1.4897837e+01 2.55e-02 9.02e-03  -3.8 2.99e-03    -  1.00e+00 1.00e+00h  1\n",
      "  22 -1.4897809e+01 8.09e-05 2.08e-04  -3.8 1.80e-04    -  1.00e+00 1.00e+00h  1\n",
      "  23 -1.4897958e+01 7.06e-05 4.93e-04  -5.7 1.52e-04    -  1.00e+00 1.00e+00h  1\n",
      "  24 -1.4897957e+01 3.47e-08 4.44e-06  -5.7 3.40e-06    -  1.00e+00 1.00e+00h  1\n",
      "  25 -1.4897959e+01 1.09e-08 6.12e-06  -8.6 1.88e-06    -  1.00e+00 1.00e+00h  1\n",
      "  26 -1.4897959e+01 4.45e-12 5.02e-08  -8.6 3.77e-08    -  1.00e+00 1.00e+00h  1\n",
      "  27 -1.4897959e+01 1.23e-15 2.51e-14  -8.6 8.59e-15    -  1.00e+00 1.00e+00h  1\n",
      "\n",
      "Number of Iterations....: 27\n",
      "\n",
      "                                   (scaled)                 (unscaled)\n",
      "Objective...............:  -1.4897959281146740e+01   -1.4897959281146740e+01\n",
      "Dual infeasibility......:   2.5125050549158146e-14    2.5125050549158146e-14\n",
      "Constraint violation....:   1.2330842040210496e-15    1.2330842040210496e-15\n",
      "Complementarity.........:   2.5059041997943686e-09    2.5059041997943686e-09\n",
      "Overall NLP error.......:   2.5059041997943686e-09    2.5059041997943686e-09\n",
      "\n",
      "\n",
      "Number of objective function evaluations             = 33\n",
      "Number of objective gradient evaluations             = 28\n",
      "Number of equality constraint evaluations            = 33\n",
      "Number of inequality constraint evaluations          = 0\n",
      "Number of equality constraint Jacobian evaluations   = 28\n",
      "Number of inequality constraint Jacobian evaluations = 0\n",
      "Number of Lagrangian Hessian evaluations             = 27\n",
      "Total CPU secs in IPOPT (w/o function evaluations)   =      0.005\n",
      "Total CPU secs in NLP function evaluations           =      0.586\n",
      "\n",
      "EXIT: Optimal Solution Found.\n"
     ]
    }
   ],
   "source": [
    "JuMP.optimize!(model)"
   ]
  },
  {
   "cell_type": "code",
   "execution_count": 15,
   "metadata": {
    "slideshow": {
     "slide_type": "subslide"
    }
   },
   "outputs": [
    {
     "name": "stdout",
     "output_type": "stream",
     "text": [
      "** Optimal profits = 14.89795928114674\n",
      "** Optimal low outcome wage = 0.10204081885273428\n",
      "** Optimal high outcome wage = 0.10204081551153305\n",
      "** Optimal effort = 1.0\n"
     ]
    }
   ],
   "source": [
    "println(\"** Optimal profits = \", JuMP.objective_value(model))\n",
    "println(\"** Optimal low outcome wage = \", JuMP.value.(wₗ))\n",
    "println(\"** Optimal high outcome wage = \", JuMP.value.(wₕ))\n",
    "println(\"** Optimal effort = \", JuMP.value.(e))"
   ]
  },
  {
   "cell_type": "markdown",
   "metadata": {
    "slideshow": {
     "slide_type": "fragment"
    }
   },
   "source": [
    "Did you noticed something interesting?"
   ]
  },
  {
   "cell_type": "markdown",
   "metadata": {
    "slideshow": {
     "slide_type": "slide"
    }
   },
   "source": [
    "### What about Mixed Integer?"
   ]
  },
  {
   "cell_type": "markdown",
   "metadata": {
    "slideshow": {
     "slide_type": "subslide"
    }
   },
   "source": [
    "In this case you have two ways:\n",
    "\n",
    "* Using solvers already provided by the ```JuMP``` package such as:\n",
    " * Juniper;\n",
    " * SCIP.\n",
    "* Using solvers that support the ```.nl``` format by means of the ```AmplNLWriter```."
   ]
  },
  {
   "cell_type": "markdown",
   "metadata": {
    "slideshow": {
     "slide_type": "subslide"
    }
   },
   "source": [
    "#### An example using AmplNLWriter"
   ]
  },
  {
   "cell_type": "markdown",
   "metadata": {
    "slideshow": {
     "slide_type": "subslide"
    }
   },
   "source": [
    "First thing first you need to install the ```AmplNLWriter``` package into Julia."
   ]
  },
  {
   "cell_type": "code",
   "execution_count": 16,
   "metadata": {
    "slideshow": {
     "slide_type": "fragment"
    }
   },
   "outputs": [],
   "source": [
    "using AmplNLWriter"
   ]
  },
  {
   "cell_type": "markdown",
   "metadata": {
    "slideshow": {
     "slide_type": "fragment"
    }
   },
   "source": [
    "Then you need to get the source code from the [AMPL page](https://ampl.com/products/solvers/open-source/)."
   ]
  },
  {
   "cell_type": "markdown",
   "metadata": {
    "slideshow": {
     "slide_type": "fragment"
    }
   },
   "source": [
    "Save it in whatever directory you like, I the ```bonmin``` solver in ```~/Solvers/bonmin``` "
   ]
  },
  {
   "cell_type": "code",
   "execution_count": 17,
   "metadata": {
    "slideshow": {
     "slide_type": "subslide"
    }
   },
   "outputs": [],
   "source": [
    "m = Model(with_optimizer(AmplNLWriter.Optimizer, \"/home/mrepetto94/Solvers/bonmin/bonmin\"));"
   ]
  },
  {
   "cell_type": "code",
   "execution_count": 18,
   "metadata": {
    "slideshow": {
     "slide_type": "fragment"
    }
   },
   "outputs": [
    {
     "data": {
      "text/plain": [
       "2-element Array{VariableRef,1}:\n",
       " x[1]\n",
       " x[2]"
      ]
     },
     "execution_count": 18,
     "metadata": {},
     "output_type": "execute_result"
    }
   ],
   "source": [
    "@variable(m, x[1:2], Int)"
   ]
  },
  {
   "cell_type": "code",
   "execution_count": 19,
   "metadata": {
    "slideshow": {
     "slide_type": "fragment"
    }
   },
   "outputs": [],
   "source": [
    "@NLobjective(m, Min, (x[1]-3)^3 + (x[2]-4)^2)"
   ]
  },
  {
   "cell_type": "code",
   "execution_count": 20,
   "metadata": {
    "slideshow": {
     "slide_type": "fragment"
    }
   },
   "outputs": [
    {
     "data": {
      "text/latex": [
       "$$ ((x_{1} - 1.0) ^ 2.0 + (x_{2} + 1.0) ^ 3.0 + exp(-x_{1})) - 1.0 \\leq 0 $$"
      ],
      "text/plain": [
       "((x[1] - 1.0) ^ 2.0 + (x[2] + 1.0) ^ 3.0 + exp(-x[1])) - 1.0 ≤ 0"
      ]
     },
     "execution_count": 20,
     "metadata": {},
     "output_type": "execute_result"
    }
   ],
   "source": [
    "@NLconstraint(m, (x[1]-1)^2 + (x[2]+1)^3 + exp(-x[1]) <= 1)"
   ]
  },
  {
   "cell_type": "code",
   "execution_count": 21,
   "metadata": {
    "slideshow": {
     "slide_type": "subslide"
    }
   },
   "outputs": [
    {
     "name": "stdout",
     "output_type": "stream",
     "text": [
      "Bonmin 1.8.6 using Cbc 2.9.9 and Ipopt 3.12.8\n",
      "bonmin: \n",
      "\n",
      "******************************************************************************\n",
      "This program contains Ipopt, a library for large-scale nonlinear optimization.\n",
      " Ipopt is released as open source code under the Eclipse Public License (EPL).\n",
      "         For more information visit http://projects.coin-or.org/Ipopt\n",
      "******************************************************************************\n",
      "\n",
      "NLP0012I \n",
      "              Num      Status      Obj             It       time                 Location\n",
      "NLP0014I             1         OPT 4.4091108        7 0.002301\n",
      "NLP0012I \n",
      "              Num      Status      Obj             It       time                 Location\n",
      "NLP0014I             1      INFEAS 0.33907697       24 0.007433\n",
      "Error in an AMPL evaluation. Run with \"halt_on_ampl_error yes\" to see details.\n",
      "Error in an AMPL evaluation. Run with \"halt_on_ampl_error yes\" to see details.\n",
      "Error in an AMPL evaluation. Run with \"halt_on_ampl_error yes\" to see details.\n",
      "NLP0014I             2         OPT -1124.6509      134 0.033441\n",
      "NLP0014I             3         OPT 9.1543195        8 0.001908\n",
      "NLP0014I             4         OPT 7.7545576        6 0.00148\n",
      "NLP0014I             5      INFEAS 0.33907697       24 0.006953\n",
      "NLP0014I             6         OPT 7.7545576        6 0.000791\n",
      "Cbc0010I After 0 nodes, 1 on tree, 1e+50 best solution, best possible -1.7976931e+308 (0.05 seconds)\n",
      "Error in an AMPL evaluation. Run with \"halt_on_ampl_error yes\" to see details.\n",
      "NLP0014I             7         OPT -1124.6509       46 0.011151\n",
      "NLP0014I             8         OPT 17        5 0.001398\n",
      "NLP0012I \n",
      "              Num      Status      Obj             It       time                 Location\n",
      "NLP0014I             1         OPT 17        0 0\n",
      "Cbc0004I Integer solution of 17 found after 57 iterations and 2 nodes (0.07 seconds)\n",
      "Error in an AMPL evaluation. Run with \"halt_on_ampl_error yes\" to see details.\n",
      "Error in an AMPL evaluation. Run with \"halt_on_ampl_error yes\" to see details.\n",
      "Error in an AMPL evaluation. Run with \"halt_on_ampl_error yes\" to see details.\n",
      "NLP0014I             9         OPT -1124.0001       23 0.004848\n",
      "NLP0014I            10         OPT -1124.4259       42 0.010721\n",
      "NLP0014I            11      INFEAS 8322.4632       28 0.011096\n",
      "NLP0014I            12         OPT -1094.6219       38 0.013581\n",
      "NLP0014I            13         OPT -1092.14       53 0.017386\n",
      "NLP0014I            14         OPT -1052.0001       11 0.001783\n",
      "NLP0014I             2         OPT -1052        0 0\n",
      "Cbc0004I Integer solution of -1052 found after 252 iterations and 8 nodes (0.13 seconds)\n",
      "NLP0014I            15         OPT -1102.5523        9 0.00116\n",
      "NLP0014I            16         OPT -828.00005        8 0.00105\n",
      "NLP0014I            17      INFEAS 194.46291       12 0.003753\n",
      "NLP0014I            18         OPT -1090.4784        7 0.001296\n",
      "NLP0014I            19         OPT -1041        8 0.001491\n",
      "NLP0014I            20         OPT -794.56526       10 0.001083\n",
      "NLP0012I \n",
      "              Num      Status      Obj             It       time                 Location\n",
      "NLP0014I            21         OPT -949.9881       46 0.012794\n",
      "NLP0014I            22      INFEAS 202.08368       12 0.004767\n",
      "Cbc0001I Search completed - best objective -1052, took 364 iterations and 16 nodes (0.16 seconds)\n",
      "Cbc0032I Strong branching done 2 times (172 iterations), fathomed 0 nodes and fixed 1 variables\n",
      "Cbc0035I Maximum depth 4, 0 variables fixed on reduced cost\n",
      "\n",
      " \t\"Finished\"\n"
     ]
    }
   ],
   "source": [
    "JuMP.optimize!(m)"
   ]
  },
  {
   "cell_type": "code",
   "execution_count": 22,
   "metadata": {
    "slideshow": {
     "slide_type": "subslide"
    }
   },
   "outputs": [
    {
     "name": "stdout",
     "output_type": "stream",
     "text": [
      "** Optimal objective function value = -1052.0\n",
      "** Optimal solution = [-9.0, -22.0]\n"
     ]
    }
   ],
   "source": [
    "println(\"** Optimal objective function value = \", JuMP.objective_value(m))\n",
    "println(\"** Optimal solution = \", JuMP.value.(x))"
   ]
  },
  {
   "cell_type": "markdown",
   "metadata": {
    "slideshow": {
     "slide_type": "subslide"
    }
   },
   "source": [
    "### Exercise"
   ]
  },
  {
   "cell_type": "markdown",
   "metadata": {
    "slideshow": {
     "slide_type": "subslide"
    }
   },
   "source": [
    "Try to achieve the same result but this time using a solver already provided by ```JuMP```."
   ]
  },
  {
   "cell_type": "markdown",
   "metadata": {
    "slideshow": {
     "slide_type": "subslide"
    }
   },
   "source": [
    "### One last exercise"
   ]
  },
  {
   "cell_type": "markdown",
   "metadata": {
    "slideshow": {
     "slide_type": "subslide"
    }
   },
   "source": [
    "A worker can exert two effort levels, high or low, which induce a production error with probability 0.25 and 0.75 respectively. His utility function id $U(w,e) = 100 - \\frac{10}{w} - v$, where $w$ is the wage and $v$ takes the value of 2 if effort is high and 0 if effort is low. Production errors are observable and so can be introduced into the worker's contract, but effort cannot. The product obtained is worth 20 if there are no errors and 0 otherwise. The principal is risk neutral. Assume the worker has reservation utility equal to $\\bar{U} = 0$. Calculate the optimal contract and the effort that the principal desires, under condition of **asymmetric information** on the agent's behavior.\n",
    "\n",
    "**Hint:** in asymmetric information the principal offers two types of contracts since the only thing it can see is the outcome."
   ]
  },
  {
   "cell_type": "markdown",
   "metadata": {
    "slideshow": {
     "slide_type": "subslide"
    }
   },
   "source": [
    "### Solution"
   ]
  },
  {
   "cell_type": "code",
   "execution_count": 23,
   "metadata": {
    "slideshow": {
     "slide_type": "fragment"
    }
   },
   "outputs": [],
   "source": [
    "model = Model(with_optimizer(Ipopt.Optimizer));"
   ]
  },
  {
   "cell_type": "code",
   "execution_count": 24,
   "metadata": {
    "slideshow": {
     "slide_type": "fragment"
    }
   },
   "outputs": [],
   "source": [
    "xₕ = 20;\n",
    "xₗ = 0;"
   ]
  },
  {
   "cell_type": "code",
   "execution_count": 25,
   "metadata": {
    "slideshow": {
     "slide_type": "fragment"
    }
   },
   "outputs": [],
   "source": [
    "@variable(model, wₗ >= 0, start = 0.0);\n",
    "@variable(model, wₕ >= 0, start = 0.0);"
   ]
  },
  {
   "cell_type": "code",
   "execution_count": 26,
   "metadata": {
    "slideshow": {
     "slide_type": "fragment"
    }
   },
   "outputs": [],
   "source": [
    "#I want to maximize only for the high type \n",
    "@NLobjective(model, Max, (0.75(xₕ - wₕ)+ 0.25(xₗ - wₗ)))"
   ]
  },
  {
   "cell_type": "code",
   "execution_count": 27,
   "metadata": {
    "slideshow": {
     "slide_type": "fragment"
    }
   },
   "outputs": [],
   "source": [
    "#Participation constraint -high type- \n",
    "@NLconstraint(model, (0.75(100 - 10/wₕ - 2) + 0.25(100 - 10/wₗ - 2)) == 0);\n",
    "\n",
    "#Incentive compatibility -high type-\n",
    "@NLconstraint(model, (0.75(100 - 10/wₕ - 2) + 0.25(100 - 10/wₗ - 2)) >= (0.25(100 - 10/wₕ - 0) + 0.75(100 - 10/wₗ - 0)));"
   ]
  },
  {
   "cell_type": "code",
   "execution_count": 28,
   "metadata": {
    "slideshow": {
     "slide_type": "subslide"
    }
   },
   "outputs": [
    {
     "data": {
      "text/latex": [
       "$$ \\begin{alignat*}{1}\\max\\quad & 0.75 * (20.0 - wₕ) + 0.25 * (0.0 - wₗ)\\\\\n",
       "\\text{Subject to} \\quad & wₗ \\geq 0.0\\\\\n",
       " & wₕ \\geq 0.0\\\\\n",
       " & (0.75 * ((100.0 - 10.0 / wₕ) - 2.0) + 0.25 * ((100.0 - 10.0 / wₗ) - 2.0)) - 0.0 = 0\\\\\n",
       " & (0.75 * ((100.0 - 10.0 / wₕ) - 2.0) + 0.25 * ((100.0 - 10.0 / wₗ) - 2.0)) - (0.25 * ((100.0 - 10.0 / wₕ) - 0.0) + 0.75 * ((100.0 - 10.0 / wₗ) - 0.0)) \\geq 0\\\\\n",
       "\\end{alignat*}\n",
       " $$"
      ],
      "text/plain": [
       "A JuMP Model\n",
       "Maximization problem with:\n",
       "Variables: 2\n",
       "Objective function type: Nonlinear\n",
       "`VariableRef`-in-`MathOptInterface.GreaterThan{Float64}`: 2 constraints\n",
       "Nonlinear: 2 constraints\n",
       "Model mode: AUTOMATIC\n",
       "CachingOptimizer state: EMPTY_OPTIMIZER\n",
       "Solver name: SolverName() attribute not implemented by the optimizer.\n",
       "Names registered in the model: wₕ, wₗ"
      ]
     },
     "execution_count": 28,
     "metadata": {},
     "output_type": "execute_result"
    }
   ],
   "source": [
    "model"
   ]
  },
  {
   "cell_type": "code",
   "execution_count": 29,
   "metadata": {
    "slideshow": {
     "slide_type": "subslide"
    }
   },
   "outputs": [
    {
     "name": "stdout",
     "output_type": "stream",
     "text": [
      "This is Ipopt version 3.12.10, running with linear solver mumps.\n",
      "NOTE: Other linear solvers might be more efficient (see Ipopt documentation).\n",
      "\n",
      "Number of nonzeros in equality constraint Jacobian...:        2\n",
      "Number of nonzeros in inequality constraint Jacobian.:        2\n",
      "Number of nonzeros in Lagrangian Hessian.............:        4\n",
      "\n",
      "Total number of variables............................:        2\n",
      "                     variables with only lower bounds:        2\n",
      "                variables with lower and upper bounds:        0\n",
      "                     variables with only upper bounds:        0\n",
      "Total number of equality constraints.................:        1\n",
      "Total number of inequality constraints...............:        1\n",
      "        inequality constraints with only lower bounds:        1\n",
      "   inequality constraints with lower and upper bounds:        0\n",
      "        inequality constraints with only upper bounds:        0\n",
      "\n",
      "iter    objective    inf_pr   inf_du lg(mu)  ||d||  lg(rg) alpha_du alpha_pr  ls\n",
      "   0 -1.4990000e+01 9.02e+02 1.00e+00  -1.0 0.00e+00    -  0.00e+00 0.00e+00   0\n",
      "   1 -1.4980980e+01 4.28e+02 6.32e+00  -1.0 1.00e-01    -  9.90e-01 1.00e+00h  1\n",
      "   2 -1.4965505e+01 1.92e+02 9.21e-01  -1.0 1.00e+01    -  7.97e-01 1.00e+00f  1\n",
      "   3 -1.4942531e+01 7.85e+01 1.27e+00  -1.0 4.59e+01    -  1.00e+00 1.00e+00h  1\n",
      "   4 -1.4870525e+01 2.01e+01 5.63e-01  -1.0 1.86e+02    -  3.97e-01 1.00e+00H  1\n",
      "   5 -1.4879285e+01 9.94e+00 5.55e-01  -1.0 8.40e+01  -4.0 5.49e-01 7.41e-02h  2\n",
      "   6 -1.4896671e+01 1.87e+00 8.40e-02  -1.0 1.71e+02    -  1.00e+00 1.00e+00h  1\n",
      "   7 -1.4854615e+01 5.13e+00 2.56e-01  -1.0 1.09e+02    -  1.00e+00 1.00e+00H  1\n",
      "   8 -1.4833206e+01 5.67e+00 1.43e-01  -1.0 1.32e+01    -  1.00e+00 1.00e+00h  1\n",
      "   9 -1.4840217e+01 8.40e-01 1.00e-02  -1.0 8.09e+00    -  1.00e+00 1.00e+00h  1\n",
      "iter    objective    inf_pr   inf_du lg(mu)  ||d||  lg(rg) alpha_du alpha_pr  ls\n",
      "  10 -1.4839316e+01 7.68e-03 4.27e-04  -1.0 2.73e-01    -  1.00e+00 1.00e+00h  1\n",
      "  11 -1.4910642e+01 2.25e+01 5.05e-01  -2.5 4.94e+01    -  7.81e-01 1.00e+00h  1\n",
      "  12 -1.4896186e+01 9.37e-01 2.05e-01  -2.5 2.65e+01    -  9.73e-01 1.00e+00H  1\n",
      "  13 -1.4896301e+01 1.25e-01 2.41e-02  -2.5 2.61e+00    -  1.00e+00 1.00e+00h  1\n",
      "  14 -1.4896388e+01 7.27e-03 6.87e-04  -2.5 8.49e-01    -  1.00e+00 1.00e+00h  1\n",
      "  15 -1.4897735e+01 2.97e-01 5.61e-03  -3.8 6.78e+00    -  9.69e-01 1.00e+00h  1\n",
      "  16 -1.4897803e+01 6.80e-02 7.95e-04  -3.8 2.83e+00    -  1.00e+00 1.00e+00h  1\n",
      "  17 -1.4897817e+01 7.92e-03 8.45e-05  -3.8 9.50e-01    -  1.00e+00 1.00e+00h  1\n",
      "  18 -1.4897818e+01 1.59e-04 1.56e-06  -3.8 1.36e-01    -  1.00e+00 1.00e+00h  1\n",
      "  19 -1.4897914e+01 1.60e-02 1.60e-04  -5.7 1.49e+00    -  9.91e-01 1.00e+00h  1\n",
      "iter    objective    inf_pr   inf_du lg(mu)  ||d||  lg(rg) alpha_du alpha_pr  ls\n",
      "  20 -1.4897924e+01 2.77e-03 2.30e-05  -5.7 5.92e-01    -  1.00e+00 1.00e+00h  1\n",
      "  21 -1.4897926e+01 1.70e-04 1.37e-06  -5.7 1.47e-01    -  1.00e+00 1.00e+00h  1\n",
      "  22 -1.4897926e+01 8.05e-07 6.45e-09  -5.7 1.01e-02    -  1.00e+00 1.00e+00h  1\n",
      "  23 -1.4897928e+01 2.38e-05 2.06e-07  -8.6 5.64e-02    -  1.00e+00 1.00e+00h  1\n",
      "  24 -1.4897928e+01 1.92e-08 1.53e-10  -8.6 1.57e-03    -  1.00e+00 1.00e+00h  1\n",
      "\n",
      "Number of Iterations....: 24\n",
      "\n",
      "                                   (scaled)                 (unscaled)\n",
      "Objective...............:  -1.4897927934599176e+01   -1.4897927934599176e+01\n",
      "Dual infeasibility......:   1.5324933768944882e-10    1.5324933768944882e-10\n",
      "Constraint violation....:   1.9224010827656458e-16    1.9224010827656457e-08\n",
      "Complementarity.........:   2.5440266452762186e-09    2.5440266452762186e-09\n",
      "Overall NLP error.......:   2.5440266452762186e-09    1.9224010827656457e-08\n",
      "\n",
      "\n",
      "Number of objective function evaluations             = 33\n",
      "Number of objective gradient evaluations             = 25\n",
      "Number of equality constraint evaluations            = 33\n",
      "Number of inequality constraint evaluations          = 33\n",
      "Number of equality constraint Jacobian evaluations   = 25\n",
      "Number of inequality constraint Jacobian evaluations = 25\n",
      "Number of Lagrangian Hessian evaluations             = 24\n",
      "Total CPU secs in IPOPT (w/o function evaluations)   =      0.006\n",
      "Total CPU secs in NLP function evaluations           =      0.001\n",
      "\n",
      "EXIT: Optimal Solution Found.\n"
     ]
    }
   ],
   "source": [
    "JuMP.optimize!(model);"
   ]
  },
  {
   "cell_type": "code",
   "execution_count": 30,
   "metadata": {
    "slideshow": {
     "slide_type": "subslide"
    }
   },
   "outputs": [
    {
     "name": "stdout",
     "output_type": "stream",
     "text": [
      "** Optimal profits = 14.897927934599176\n",
      "** Optimal low wage = 0.09900978006012431\n",
      "** Optimal high wage = 0.10309282718105858\n"
     ]
    }
   ],
   "source": [
    "println(\"** Optimal profits = \", JuMP.objective_value(model))\n",
    "println(\"** Optimal low wage = \", JuMP.value.(wₗ))\n",
    "println(\"** Optimal high wage = \", JuMP.value.(wₕ))"
   ]
  },
  {
   "cell_type": "code",
   "execution_count": 31,
   "metadata": {
    "slideshow": {
     "slide_type": "fragment"
    }
   },
   "outputs": [
    {
     "data": {
      "text/plain": [
       "true"
      ]
     },
     "execution_count": 31,
     "metadata": {},
     "output_type": "execute_result"
    }
   ],
   "source": [
    "JuMP.value.(wₕ) > JuMP.value.(wₗ)"
   ]
  },
  {
   "cell_type": "markdown",
   "metadata": {
    "slideshow": {
     "slide_type": "fragment"
    }
   },
   "source": [
    "In this setting Asymmetric information was a good or bad thing for the firm?"
   ]
  }
 ],
 "metadata": {
  "@webio": {
   "lastCommId": null,
   "lastKernelId": null
  },
  "celltoolbar": "Slideshow",
  "kernelspec": {
   "display_name": "Julia 1.1.0",
   "language": "julia",
   "name": "julia-1.1"
  },
  "language_info": {
   "file_extension": ".jl",
   "mimetype": "application/julia",
   "name": "julia",
   "version": "1.2.0"
  },
  "rise": {
   "enable_chalkboard": false,
   "scroll": true,
   "theme": "serif"
  },
  "toc": {
   "base_numbering": 1,
   "nav_menu": {},
   "number_sections": false,
   "sideBar": true,
   "skip_h1_title": false,
   "title_cell": "Table of Contents",
   "title_sidebar": "Contents",
   "toc_cell": false,
   "toc_position": {},
   "toc_section_display": true,
   "toc_window_display": false
  }
 },
 "nbformat": 4,
 "nbformat_minor": 4
}
