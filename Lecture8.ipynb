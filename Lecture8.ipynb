{
 "cells": [
  {
   "cell_type": "markdown",
   "metadata": {
    "slideshow": {
     "slide_type": "slide"
    }
   },
   "source": [
    "# Lecture 8\n",
    "## Linear Optimization with JuMP (Part 3)\n",
    "## Date: 16.11"
   ]
  },
  {
   "cell_type": "markdown",
   "metadata": {
    "slideshow": {
     "slide_type": "slide"
    }
   },
   "source": [
    "### Recap exercises"
   ]
  },
  {
   "cell_type": "markdown",
   "metadata": {
    "slideshow": {
     "slide_type": "subslide"
    }
   },
   "source": [
    "### Ex1"
   ]
  },
  {
   "cell_type": "markdown",
   "metadata": {
    "slideshow": {
     "slide_type": "subslide"
    }
   },
   "source": [
    "Suppose a consumer can consume two types of discrete (therefore not continuous) foods, one healthy in which the payoff is one, whereas the second food (unhealthy) returns a payoff of two per unit. The price of the two goods are respectively two and one and the consumer has a budget of ten money to spend on those. Given the higher payoff of the unhealthy food as well as the cheap price, the social planner imposed a tax that impacts on consumer's utility such that when the good two is consumed there is a *una tantum fee* to pay of 10.\n",
    "\n",
    "Model the problem using JuMP and find the optimal bundle, moreover argue on how much the tax imposed should be to discourage consumption of the unhealthy food 2."
   ]
  },
  {
   "cell_type": "markdown",
   "metadata": {
    "slideshow": {
     "slide_type": "subslide"
    }
   },
   "source": [
    "#### Solution"
   ]
  },
  {
   "cell_type": "code",
   "execution_count": 1,
   "metadata": {
    "slideshow": {
     "slide_type": "fragment"
    }
   },
   "outputs": [
    {
     "name": "stdout",
     "output_type": "stream",
     "text": [
      "Max x1 + 2 x2 - 10 x3\n",
      "Subject to\n",
      " x3 binary\n",
      " x1 integer\n",
      " x2 integer\n",
      " x1 ≥ 0.0\n",
      " x2 ≥ 0.0\n",
      " 2 x1 + x2 ≤ 10.0\n",
      " x2 - 10 x3 ≤ 0.0\n",
      "Optimal Solutions:\n",
      "x1 = 0.0\n",
      "x2 = 10.0\n",
      "x3 = 1.0\n"
     ]
    }
   ],
   "source": [
    "using JuMP, GLPK\n",
    "\n",
    "# Preparing an optimization model\n",
    "m = Model(with_optimizer(GLPK.Optimizer))\n",
    "\n",
    "# Declaring variables\n",
    "@variable(m, x1 >=0, Int)\n",
    "@variable(m, x2 >=0, Int)\n",
    "@variable(m, x3, Bin)\n",
    "\n",
    "# Setting the objective\n",
    "@objective(m, Max, x1 + 2x2 - 10x3)\n",
    "    #+ 5x3)\n",
    "\n",
    "# Adding constraints\n",
    "@constraint(m, constraint1,  2x1 + x2 <= 10)\n",
    "@constraint(m, constraint2,  x2 <= 10*x3)\n",
    "\n",
    "# Printing the prepared optimization model\n",
    "print(m)\n",
    "\n",
    "# Solving the optimization problem\n",
    "JuMP.optimize!(m)\n",
    "\n",
    "# Printing the optimal solutions obtained\n",
    "println(\"Optimal Solutions:\")\n",
    "println(\"x1 = \", JuMP.value(x1))\n",
    "println(\"x2 = \", JuMP.value(x2))\n",
    "println(\"x3 = \", JuMP.value(x3))"
   ]
  },
  {
   "cell_type": "markdown",
   "metadata": {
    "slideshow": {
     "slide_type": "subslide"
    }
   },
   "source": [
    "### Ex2"
   ]
  },
  {
   "cell_type": "markdown",
   "metadata": {
    "slideshow": {
     "slide_type": "subslide"
    }
   },
   "source": [
    "Suppose there is a freight train with limited capacity of say ten tons. This train has enough fuel to pursue only one trip and because of the limited capacity cannot carry all the five goods, that has respectively a weight of: two, eight, four, two, five. This goods provides also different profits to the to the sender for an amount respectively: five, three, two, seven, four.\n",
    "\n",
    "Solve the problem using JuMP, moreover think of a case in which the train is allowed to pursue more than one trip and the sender wants to know the optimal schedule for each trip."
   ]
  },
  {
   "cell_type": "markdown",
   "metadata": {
    "slideshow": {
     "slide_type": "subslide"
    }
   },
   "source": [
    "#### Solution"
   ]
  },
  {
   "cell_type": "code",
   "execution_count": 2,
   "metadata": {
    "slideshow": {
     "slide_type": "fragment"
    }
   },
   "outputs": [
    {
     "name": "stdout",
     "output_type": "stream",
     "text": [
      "Optimal Solutions:\n",
      "x = [1.0, 0.0, 0.0, 1.0, 1.0]\n"
     ]
    }
   ],
   "source": [
    "profit = [5, 3, 2, 7, 4]\n",
    "weight = [2, 8, 4, 2, 5]\n",
    "    \n",
    "capacity = 10\n",
    "\n",
    "model = Model(with_optimizer(GLPK.Optimizer))\n",
    "    \n",
    "@variable(model, x[1:5], Bin)\n",
    "    \n",
    "# Objective: maximize profit\n",
    "@objective(model, Max, profit' * x)\n",
    "\n",
    "# Constraint: can carry all\n",
    "@constraint(model, weight' * x <= capacity)\n",
    "\n",
    "# Solve problem using MIP solver\n",
    "JuMP.optimize!(model)\n",
    "\n",
    "# Printing the optimal solutions obtained\n",
    "println(\"Optimal Solutions:\")\n",
    "println(\"x = \", JuMP.value.(x))"
   ]
  },
  {
   "cell_type": "markdown",
   "metadata": {
    "slideshow": {
     "slide_type": "slide"
    }
   },
   "source": [
    "### Dual problem"
   ]
  },
  {
   "cell_type": "markdown",
   "metadata": {
    "slideshow": {
     "slide_type": "slide"
    }
   },
   "source": [
    "Confronted with an optimization problem involving scarce resources, an economist will often ask: **What happens to the optimal solution if the availability of the resources changes?**\n",
    "\n",
    "For linear programming problems, answers to questions like this are intimately related to the so-called **Duality Theory** of Linear Problems."
   ]
  },
  {
   "cell_type": "markdown",
   "metadata": {
    "slideshow": {
     "slide_type": "subslide"
    }
   },
   "source": [
    "#### Example"
   ]
  },
  {
   "cell_type": "markdown",
   "metadata": {
    "slideshow": {
     "slide_type": "subslide"
    }
   },
   "source": [
    "Take the baker problem we solved graphically in the first lecture on Linear Programming."
   ]
  },
  {
   "cell_type": "markdown",
   "metadata": {
    "slideshow": {
     "slide_type": "fragment"
    }
   },
   "source": [
    "$$\n",
    "\\text{Maximize } 20x_1 + 30x_2 \\text{ s.t. } \\begin{cases} 3x_1 + 6x_2 \\leq 150 \\\\ x_1 + 0.5 x_2 \\leq 22 \\\\ x_1 + x_2 \\leq 27.5 \\\\ x_1, x_2 \\in \\mathbb{R}_+ \\end{cases}\n",
    "$$\n",
    "\n",
    "**Exercise:** try to translate the problem into JuMP (try to do it in a form that is as compact as possible)."
   ]
  },
  {
   "cell_type": "code",
   "execution_count": 3,
   "metadata": {
    "slideshow": {
     "slide_type": "subslide"
    }
   },
   "outputs": [],
   "source": [
    "profit = [20, 30];\n",
    "\n",
    "cake_A_costs = [3,1,1];\n",
    "cake_B_costs = [6,0.5,1];\n",
    "\n",
    "boundaries = [150,22,27.5];"
   ]
  },
  {
   "cell_type": "code",
   "execution_count": 4,
   "metadata": {
    "slideshow": {
     "slide_type": "fragment"
    }
   },
   "outputs": [],
   "source": [
    "model = Model(with_optimizer(GLPK.Optimizer));"
   ]
  },
  {
   "cell_type": "code",
   "execution_count": 5,
   "metadata": {
    "slideshow": {
     "slide_type": "fragment"
    }
   },
   "outputs": [],
   "source": [
    "@variable(model, x[1:2] >= 0, base_name = \"Cake\");"
   ]
  },
  {
   "cell_type": "code",
   "execution_count": 6,
   "metadata": {
    "slideshow": {
     "slide_type": "fragment"
    }
   },
   "outputs": [],
   "source": [
    "@objective(model, Max, profit' * x);"
   ]
  },
  {
   "cell_type": "code",
   "execution_count": 7,
   "metadata": {
    "slideshow": {
     "slide_type": "fragment"
    }
   },
   "outputs": [
    {
     "data": {
      "text/plain": [
       "3-element Array{ConstraintRef{Model,MathOptInterface.ConstraintIndex{MathOptInterface.ScalarAffineFunction{Float64},MathOptInterface.LessThan{Float64}},ScalarShape},1}:\n",
       " 3 Cake[1] + 6 Cake[2] ≤ 150.0\n",
       " Cake[1] + 0.5 Cake[2] ≤ 22.0 \n",
       " Cake[1] + Cake[2] ≤ 27.5     "
      ]
     },
     "execution_count": 7,
     "metadata": {},
     "output_type": "execute_result"
    }
   ],
   "source": [
    "@constraint(model, con, (x[1].* cake_A_costs) + (x[2].* cake_B_costs) .<= boundaries); "
   ]
  },
  {
   "cell_type": "code",
   "execution_count": 8,
   "metadata": {
    "slideshow": {
     "slide_type": "subslide"
    }
   },
   "outputs": [
    {
     "data": {
      "text/latex": [
       "$$ \\begin{alignat*}{1}\\max\\quad & 20 Cake_{1} + 30 Cake_{2}\\\\\n",
       "\\text{Subject to} \\quad & Cake_{1} \\geq 0.0\\\\\n",
       " & Cake_{2} \\geq 0.0\\\\\n",
       " & 3 Cake_{1} + 6 Cake_{2} \\leq 150.0\\\\\n",
       " & Cake_{1} + 0.5 Cake_{2} \\leq 22.0\\\\\n",
       " & Cake_{1} + Cake_{2} \\leq 27.5\\\\\n",
       "\\end{alignat*}\n",
       " $$"
      ],
      "text/plain": [
       "A JuMP Model\n",
       "Maximization problem with:\n",
       "Variables: 2\n",
       "Objective function type: GenericAffExpr{Float64,VariableRef}\n",
       "`VariableRef`-in-`MathOptInterface.GreaterThan{Float64}`: 2 constraints\n",
       "`GenericAffExpr{Float64,VariableRef}`-in-`MathOptInterface.LessThan{Float64}`: 3 constraints\n",
       "Model mode: AUTOMATIC\n",
       "CachingOptimizer state: EMPTY_OPTIMIZER\n",
       "Solver name: GLPK\n",
       "Names registered in the model: con, x"
      ]
     },
     "execution_count": 8,
     "metadata": {},
     "output_type": "execute_result"
    }
   ],
   "source": [
    "model"
   ]
  },
  {
   "cell_type": "code",
   "execution_count": 9,
   "metadata": {
    "slideshow": {
     "slide_type": "subslide"
    }
   },
   "outputs": [
    {
     "name": "stdout",
     "output_type": "stream",
     "text": [
      "Optimal Solutions:\n",
      "x = [5.0, 22.5]\n"
     ]
    }
   ],
   "source": [
    "JuMP.optimize!(model)\n",
    "\n",
    "# Printing the optimal solutions obtained\n",
    "println(\"Optimal Solutions:\")\n",
    "println(\"x = \", JuMP.value.(x))"
   ]
  },
  {
   "cell_type": "markdown",
   "metadata": {
    "slideshow": {
     "slide_type": "subslide"
    }
   },
   "source": [
    "#### Back to the example "
   ]
  },
  {
   "cell_type": "markdown",
   "metadata": {
    "slideshow": {
     "slide_type": "subslide"
    }
   },
   "source": [
    "Now suppose the baker wants to become a **franchisee** and sell the ingredients to an **entrant** who will take the business, therefore the **entrant** will like to **minimize its expenditures** provided that the **profits for the franchisee** will stay the same as in the **primal problem**. \n",
    "\n",
    "This kind of problem is called **dual**. "
   ]
  },
  {
   "cell_type": "markdown",
   "metadata": {
    "slideshow": {
     "slide_type": "subslide"
    }
   },
   "source": [
    "#### Exercise"
   ]
  },
  {
   "cell_type": "markdown",
   "metadata": {
    "slideshow": {
     "slide_type": "subslide"
    }
   },
   "source": [
    "Formulate the dual problem"
   ]
  },
  {
   "cell_type": "markdown",
   "metadata": {
    "slideshow": {
     "slide_type": "subslide"
    }
   },
   "source": [
    "##### Solution"
   ]
  },
  {
   "cell_type": "code",
   "execution_count": 10,
   "metadata": {
    "slideshow": {
     "slide_type": "fragment"
    }
   },
   "outputs": [],
   "source": [
    "model_dual = Model(with_optimizer(GLPK.Optimizer));"
   ]
  },
  {
   "cell_type": "code",
   "execution_count": 11,
   "metadata": {
    "slideshow": {
     "slide_type": "fragment"
    }
   },
   "outputs": [],
   "source": [
    "@variable(model_dual, u[1:3] >= 0, base_name = \"Price\");"
   ]
  },
  {
   "cell_type": "code",
   "execution_count": 12,
   "metadata": {
    "slideshow": {
     "slide_type": "fragment"
    }
   },
   "outputs": [],
   "source": [
    "@objective(model_dual, Min, boundaries' * u);"
   ]
  },
  {
   "cell_type": "code",
   "execution_count": 13,
   "metadata": {
    "slideshow": {
     "slide_type": "fragment"
    }
   },
   "outputs": [],
   "source": [
    "@constraint(model_dual, [i' * u for i in [cake_A_costs, cake_B_costs]] .>= profit);"
   ]
  },
  {
   "cell_type": "code",
   "execution_count": 14,
   "metadata": {
    "slideshow": {
     "slide_type": "subslide"
    }
   },
   "outputs": [
    {
     "data": {
      "text/latex": [
       "$$ \\begin{alignat*}{1}\\min\\quad & 150 Price_{1} + 22 Price_{2} + 27.5 Price_{3}\\\\\n",
       "\\text{Subject to} \\quad & Price_{1} \\geq 0.0\\\\\n",
       " & Price_{2} \\geq 0.0\\\\\n",
       " & Price_{3} \\geq 0.0\\\\\n",
       " & 3 Price_{1} + Price_{2} + Price_{3} \\geq 20.0\\\\\n",
       " & 6 Price_{1} + 0.5 Price_{2} + Price_{3} \\geq 30.0\\\\\n",
       "\\end{alignat*}\n",
       " $$"
      ],
      "text/plain": [
       "A JuMP Model\n",
       "Minimization problem with:\n",
       "Variables: 3\n",
       "Objective function type: GenericAffExpr{Float64,VariableRef}\n",
       "`VariableRef`-in-`MathOptInterface.GreaterThan{Float64}`: 3 constraints\n",
       "`GenericAffExpr{Float64,VariableRef}`-in-`MathOptInterface.GreaterThan{Float64}`: 2 constraints\n",
       "Model mode: AUTOMATIC\n",
       "CachingOptimizer state: EMPTY_OPTIMIZER\n",
       "Solver name: GLPK\n",
       "Names registered in the model: u"
      ]
     },
     "execution_count": 14,
     "metadata": {},
     "output_type": "execute_result"
    }
   ],
   "source": [
    "model_dual"
   ]
  },
  {
   "cell_type": "code",
   "execution_count": 15,
   "metadata": {
    "slideshow": {
     "slide_type": "fragment"
    }
   },
   "outputs": [
    {
     "name": "stdout",
     "output_type": "stream",
     "text": [
      "Optimal Dual Solutions:\n",
      "u = [3.33333, 0.0, 10.0]\n"
     ]
    }
   ],
   "source": [
    "JuMP.optimize!(model_dual)\n",
    "\n",
    "# Printing the optimal solutions obtained\n",
    "println(\"Optimal Dual Solutions:\")\n",
    "println(\"u = \", JuMP.value.(u))"
   ]
  },
  {
   "cell_type": "markdown",
   "metadata": {
    "slideshow": {
     "slide_type": "subslide"
    }
   },
   "source": [
    "Can we get the dual solutions without building the dual problem using JuMP? **Yes**"
   ]
  },
  {
   "cell_type": "code",
   "execution_count": 16,
   "metadata": {
    "slideshow": {
     "slide_type": "fragment"
    }
   },
   "outputs": [
    {
     "name": "stdout",
     "output_type": "stream",
     "text": [
      "Optimal Solutions:\n",
      "x = [5.0, 22.5]\n"
     ]
    }
   ],
   "source": [
    "JuMP.optimize!(model)\n",
    "\n",
    "# Printing the optimal solutions obtained\n",
    "println(\"Optimal Solutions:\")\n",
    "println(\"x = \", JuMP.value.(x))"
   ]
  },
  {
   "cell_type": "code",
   "execution_count": 17,
   "metadata": {
    "slideshow": {
     "slide_type": "fragment"
    }
   },
   "outputs": [
    {
     "name": "stdout",
     "output_type": "stream",
     "text": [
      "Dual Variables:\n",
      "dual = [3.33333, 0.0, 10.0]\n"
     ]
    }
   ],
   "source": [
    "# Printing the optimal dual variables\n",
    "println(\"Dual Variables:\")\n",
    "println(\"dual = \", JuMP.shadow_price.(con))"
   ]
  },
  {
   "cell_type": "markdown",
   "metadata": {
    "slideshow": {
     "slide_type": "slide"
    }
   },
   "source": [
    "### Duality Theorem"
   ]
  },
  {
   "cell_type": "markdown",
   "metadata": {
    "slideshow": {
     "slide_type": "subslide"
    }
   },
   "source": [
    "Suppose the **primal problem** has (finite) optimal solution. Then the **dual problem** also has a (finite) optimal solution, and the corresponding values of the objective functions are equal. If the **primal** has no bounded optimum, then **dual** has no feasible solution. Symmetrically, if the **primal** has no feasible solution, then the **dual** has no bounded optimum."
   ]
  },
  {
   "cell_type": "markdown",
   "metadata": {
    "slideshow": {
     "slide_type": "subslide"
    }
   },
   "source": [
    "### Exercise"
   ]
  },
  {
   "cell_type": "markdown",
   "metadata": {
    "slideshow": {
     "slide_type": "subslide"
    }
   },
   "source": [
    "A firm produces two goods $A$ and $B$. The firm earns a profit of $300$ from each unit of good $A$,\n",
    "and $200$ from each unit of $B$. There are three stages of the production process. Good $A$ requires\n",
    "six hours in production, then four hours in assembly, and finally five hours of packing. The corresponding numbers for $B$ are three, six, and five, respectively. The total number of hours available\n",
    "for the three stages are $54$, $48$, and $50$, respectively.\n",
    "\n",
    "1. Formulate and solve the $LP$ problem of maximizing profits subject to the given constraints;\n",
    "2. Write down and solve the dual problem;\n",
    "3. By how much would the optimal profit increase if the firm gets two hours more preparation time and one more packing time?"
   ]
  },
  {
   "cell_type": "markdown",
   "metadata": {
    "slideshow": {
     "slide_type": "subslide"
    }
   },
   "source": [
    "#### Solution"
   ]
  },
  {
   "cell_type": "markdown",
   "metadata": {
    "slideshow": {
     "slide_type": "subslide"
    }
   },
   "source": [
    "##### Point 1"
   ]
  },
  {
   "cell_type": "code",
   "execution_count": 18,
   "metadata": {
    "slideshow": {
     "slide_type": "fragment"
    }
   },
   "outputs": [],
   "source": [
    "profits = [300, 200];\n",
    "\n",
    "good_A_prices = [6, 4, 5];\n",
    "good_B_prices = [3, 6, 5];\n",
    "\n",
    "hours_available = [54, 48, 50];"
   ]
  },
  {
   "cell_type": "code",
   "execution_count": 19,
   "metadata": {
    "slideshow": {
     "slide_type": "fragment"
    }
   },
   "outputs": [],
   "source": [
    "model = Model(with_optimizer(GLPK.Optimizer));\n",
    "\n",
    "@variable(model, x[1:2] >= 0, base_name = \"Good\");\n",
    "\n",
    "@objective(model, Max, profits' * x);\n",
    "\n",
    "@constraint(model, (x[1] .* good_A_prices) + (x[2] .* good_B_prices) .<= hours_available);"
   ]
  },
  {
   "cell_type": "code",
   "execution_count": 20,
   "metadata": {
    "slideshow": {
     "slide_type": "fragment"
    }
   },
   "outputs": [
    {
     "data": {
      "text/latex": [
       "$$ \\begin{alignat*}{1}\\max\\quad & 300 Good_{1} + 200 Good_{2}\\\\\n",
       "\\text{Subject to} \\quad & Good_{1} \\geq 0.0\\\\\n",
       " & Good_{2} \\geq 0.0\\\\\n",
       " & 6 Good_{1} + 3 Good_{2} \\leq 54.0\\\\\n",
       " & 4 Good_{1} + 6 Good_{2} \\leq 48.0\\\\\n",
       " & 5 Good_{1} + 5 Good_{2} \\leq 50.0\\\\\n",
       "\\end{alignat*}\n",
       " $$"
      ],
      "text/plain": [
       "A JuMP Model\n",
       "Maximization problem with:\n",
       "Variables: 2\n",
       "Objective function type: GenericAffExpr{Float64,VariableRef}\n",
       "`VariableRef`-in-`MathOptInterface.GreaterThan{Float64}`: 2 constraints\n",
       "`GenericAffExpr{Float64,VariableRef}`-in-`MathOptInterface.LessThan{Float64}`: 3 constraints\n",
       "Model mode: AUTOMATIC\n",
       "CachingOptimizer state: EMPTY_OPTIMIZER\n",
       "Solver name: GLPK\n",
       "Names registered in the model: x"
      ]
     },
     "execution_count": 20,
     "metadata": {},
     "output_type": "execute_result"
    }
   ],
   "source": [
    "model"
   ]
  },
  {
   "cell_type": "code",
   "execution_count": 21,
   "metadata": {
    "slideshow": {
     "slide_type": "fragment"
    }
   },
   "outputs": [
    {
     "name": "stdout",
     "output_type": "stream",
     "text": [
      "Optimal Solutions:\n",
      "x = [8.0, 2.0]\n"
     ]
    }
   ],
   "source": [
    "JuMP.optimize!(model)\n",
    "\n",
    "# Printing the optimal solutions obtained\n",
    "println(\"Optimal Solutions:\")\n",
    "println(\"x = \", JuMP.value.(x))"
   ]
  },
  {
   "cell_type": "markdown",
   "metadata": {
    "slideshow": {
     "slide_type": "subslide"
    }
   },
   "source": [
    "##### Point 2"
   ]
  },
  {
   "cell_type": "code",
   "execution_count": 22,
   "metadata": {
    "slideshow": {
     "slide_type": "fragment"
    }
   },
   "outputs": [],
   "source": [
    "model_dual = Model(with_optimizer(GLPK.Optimizer));"
   ]
  },
  {
   "cell_type": "code",
   "execution_count": 23,
   "metadata": {
    "slideshow": {
     "slide_type": "fragment"
    }
   },
   "outputs": [],
   "source": [
    "@variable(model_dual, u[1:3] >= 0, base_name = \"Price\");"
   ]
  },
  {
   "cell_type": "code",
   "execution_count": 24,
   "metadata": {
    "slideshow": {
     "slide_type": "fragment"
    }
   },
   "outputs": [],
   "source": [
    "@objective(model_dual, Min, hours_available' * u);"
   ]
  },
  {
   "cell_type": "code",
   "execution_count": 25,
   "metadata": {
    "slideshow": {
     "slide_type": "fragment"
    }
   },
   "outputs": [],
   "source": [
    "@constraint(model_dual, [i' * u for i in [good_A_prices,good_B_prices]] .>= profits);"
   ]
  },
  {
   "cell_type": "code",
   "execution_count": 26,
   "metadata": {
    "slideshow": {
     "slide_type": "fragment"
    }
   },
   "outputs": [
    {
     "data": {
      "text/latex": [
       "$$ \\begin{alignat*}{1}\\min\\quad & 54 Price_{1} + 48 Price_{2} + 50 Price_{3}\\\\\n",
       "\\text{Subject to} \\quad & Price_{1} \\geq 0.0\\\\\n",
       " & Price_{2} \\geq 0.0\\\\\n",
       " & Price_{3} \\geq 0.0\\\\\n",
       " & 6 Price_{1} + 4 Price_{2} + 5 Price_{3} \\geq 300.0\\\\\n",
       " & 3 Price_{1} + 6 Price_{2} + 5 Price_{3} \\geq 200.0\\\\\n",
       "\\end{alignat*}\n",
       " $$"
      ],
      "text/plain": [
       "A JuMP Model\n",
       "Minimization problem with:\n",
       "Variables: 3\n",
       "Objective function type: GenericAffExpr{Float64,VariableRef}\n",
       "`VariableRef`-in-`MathOptInterface.GreaterThan{Float64}`: 3 constraints\n",
       "`GenericAffExpr{Float64,VariableRef}`-in-`MathOptInterface.GreaterThan{Float64}`: 2 constraints\n",
       "Model mode: AUTOMATIC\n",
       "CachingOptimizer state: EMPTY_OPTIMIZER\n",
       "Solver name: GLPK\n",
       "Names registered in the model: u"
      ]
     },
     "execution_count": 26,
     "metadata": {},
     "output_type": "execute_result"
    }
   ],
   "source": [
    "model_dual"
   ]
  },
  {
   "cell_type": "code",
   "execution_count": 27,
   "metadata": {
    "slideshow": {
     "slide_type": "fragment"
    }
   },
   "outputs": [
    {
     "name": "stdout",
     "output_type": "stream",
     "text": [
      "Optimal Dual Solutions:\n",
      "u = [33.3333, 0.0, 20.0]\n"
     ]
    }
   ],
   "source": [
    "JuMP.optimize!(model_dual)\n",
    "\n",
    "# Printing the optimal solutions obtained\n",
    "println(\"Optimal Dual Solutions:\")\n",
    "println(\"u = \", JuMP.value.(u))"
   ]
  },
  {
   "cell_type": "markdown",
   "metadata": {
    "slideshow": {
     "slide_type": "subslide"
    }
   },
   "source": [
    "##### Point 3"
   ]
  },
  {
   "cell_type": "code",
   "execution_count": 28,
   "metadata": {
    "slideshow": {
     "slide_type": "fragment"
    }
   },
   "outputs": [
    {
     "data": {
      "text/plain": [
       "86.66666666666667"
      ]
     },
     "execution_count": 28,
     "metadata": {},
     "output_type": "execute_result"
    }
   ],
   "source": [
    "Δπ = JuMP.value(u[1])*2 + JuMP.value(u[3])*1"
   ]
  }
 ],
 "metadata": {
  "@webio": {
   "lastCommId": null,
   "lastKernelId": null
  },
  "celltoolbar": "Slideshow",
  "kernelspec": {
   "display_name": "Julia 1.1.0",
   "language": "julia",
   "name": "julia-1.1"
  },
  "language_info": {
   "file_extension": ".jl",
   "mimetype": "application/julia",
   "name": "julia",
   "version": "1.2.0"
  },
  "rise": {
   "enable_chalkboard": false,
   "scroll": true,
   "theme": "serif"
  },
  "toc": {
   "base_numbering": 1,
   "nav_menu": {},
   "number_sections": false,
   "sideBar": true,
   "skip_h1_title": false,
   "title_cell": "Table of Contents",
   "title_sidebar": "Contents",
   "toc_cell": false,
   "toc_position": {},
   "toc_section_display": true,
   "toc_window_display": false
  }
 },
 "nbformat": 4,
 "nbformat_minor": 4
}
