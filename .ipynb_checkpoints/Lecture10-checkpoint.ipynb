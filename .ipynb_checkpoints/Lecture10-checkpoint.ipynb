{
 "cells": [
  {
   "cell_type": "markdown",
   "metadata": {
    "slideshow": {
     "slide_type": "slide"
    }
   },
   "source": [
    "# Lecture 10\n",
    "## Symbolic Non Linear Optimization (Part 2)\n",
    "## Date: 21.11"
   ]
  },
  {
   "cell_type": "code",
   "execution_count": 4,
   "metadata": {},
   "outputs": [],
   "source": [
    "using LinearAlgebra\n",
    "using SymPy\n",
    "using Plots"
   ]
  },
  {
   "cell_type": "code",
   "execution_count": 11,
   "metadata": {},
   "outputs": [
    {
     "data": {
      "text/plain": [
       "(x, y, z)"
      ]
     },
     "execution_count": 11,
     "metadata": {},
     "output_type": "execute_result"
    }
   ],
   "source": [
    "x,y,z = Sym(\"x,y,z\")"
   ]
  },
  {
   "cell_type": "markdown",
   "metadata": {},
   "source": [
    "## Recap exercises"
   ]
  },
  {
   "cell_type": "markdown",
   "metadata": {},
   "source": [
    "### Ex 1 "
   ]
  },
  {
   "cell_type": "markdown",
   "metadata": {},
   "source": [
    "Given $h(x,y)$ as:\n",
    "\n",
    "$$ h(x,y) = e^{-x^2}(2xy-y^2) $$\n",
    "\n",
    "Test the algorithm you defined in the previous lecture to get the critical points and their nature. "
   ]
  },
  {
   "cell_type": "markdown",
   "metadata": {},
   "source": [
    "#### Solution"
   ]
  },
  {
   "cell_type": "code",
   "execution_count": 8,
   "metadata": {},
   "outputs": [
    {
     "data": {
      "text/plain": [
       "h (generic function with 1 method)"
      ]
     },
     "execution_count": 8,
     "metadata": {},
     "output_type": "execute_result"
    }
   ],
   "source": [
    "h(x,y) = exp(-x^2)*(2*x*y - y^2)"
   ]
  },
  {
   "cell_type": "code",
   "execution_count": 9,
   "metadata": {},
   "outputs": [],
   "source": [
    "#Compute gradient\n",
    "∇h = [diff(h(x,y),i) for i in free_symbols(h(x,y))];\n",
    "\n",
    "#Get the critical points\n",
    "critical_points = solve(∇h);\n",
    "\n",
    "#Compute the Hessian\n",
    "Hh = hessian(h(x,y),[x,y]);"
   ]
  },
  {
   "cell_type": "code",
   "execution_count": 10,
   "metadata": {},
   "outputs": [
    {
     "name": "stdout",
     "output_type": "stream",
     "text": [
      "The point\n",
      "Dict{Any,Any}(x=>-1,y=>-1)\n",
      "The point is a local maximum\n",
      "\n",
      "The point\n",
      "Dict{Any,Any}(x=>0,y=>0)\n",
      "The point is a saddle\n",
      "\n",
      "The point\n",
      "Dict{Any,Any}(x=>1,y=>1)\n",
      "The point is a local maximum\n",
      "\n"
     ]
    }
   ],
   "source": [
    "for q in critical_points \n",
    "    global H_in_P = [subs(Hh[i,j],q) for i in 1:2, j in 1:2]\n",
    "    println(\"The point\")\n",
    "    println(q)\n",
    "    \n",
    "    if prod([i>0  for i in eigvals(H_in_P)])\n",
    "        println(\"The point is a local minimum\")\n",
    "    elseif prod([i<0  for i in eigvals(H_in_P)])\n",
    "        println(\"The point is a local maximum\")    \n",
    "    else \n",
    "        println(\"The point is a saddle\")\n",
    "    end\n",
    "    \n",
    "    println(\"\")\n",
    "    \n",
    "end"
   ]
  },
  {
   "cell_type": "markdown",
   "metadata": {},
   "source": [
    "### Ex 2 "
   ]
  },
  {
   "cell_type": "markdown",
   "metadata": {},
   "source": [
    "Given $h(x,y)$ as:\n",
    "\n",
    "$$ h(x,y) = e^x(2x^2-xy+y^2) $$\n",
    "\n",
    "Test the algorithm you defined in the previous lecture to get the critical points and their nature. "
   ]
  },
  {
   "cell_type": "markdown",
   "metadata": {},
   "source": [
    "#### Solution"
   ]
  },
  {
   "cell_type": "code",
   "execution_count": 59,
   "metadata": {},
   "outputs": [
    {
     "data": {
      "text/latex": [
       "\\begin{equation*}- x^{2} - 2 x y - 2 x z - 2 y^{2} - 3 z^{2}\\end{equation*}"
      ],
      "text/plain": [
       "   2                      2      2\n",
       "- x  - 2⋅x⋅y - 2⋅x⋅z - 2⋅y  - 3⋅z "
      ]
     },
     "execution_count": 59,
     "metadata": {},
     "output_type": "execute_result"
    }
   ],
   "source": [
    "f = x^2 + 2*y^2 + 3*z^2 + 2*x*y + 2*x*z"
   ]
  },
  {
   "cell_type": "code",
   "execution_count": 60,
   "metadata": {},
   "outputs": [],
   "source": [
    "#Compute gradient\n",
    "∇f = [diff(f,i) for i in free_symbols(f)];\n",
    "\n",
    "#Get the critical points\n",
    "critical_points = solve(∇f,dict = true);\n",
    "\n",
    "#Compute the Hessian\n",
    "Hf = hessian(f,free_symbols(f));"
   ]
  },
  {
   "cell_type": "code",
   "execution_count": 62,
   "metadata": {},
   "outputs": [
    {
     "name": "stdout",
     "output_type": "stream",
     "text": [
      "The point\n",
      "Dict{Any,Any}(x=>0,y=>0,z=>0)\n",
      "The point is a local maximum\n",
      "\n"
     ]
    }
   ],
   "source": [
    "for q in critical_points \n",
    "    H_in_P = [subs(Hf[i,j],q) for i in 1:length(free_symbols(f)), j in 1:length(free_symbols(f))]\n",
    "    \n",
    "    println(\"The point\")\n",
    "    println(q)\n",
    "    \n",
    "    principal_minor = [det(H_in_P[1:i,1:i]) for i in 1:size(H_in_P)[1]]\n",
    "    \n",
    "    principal_minor_sign_flipped = principal_minor .* [(-1)^i for i in 1:length(principal_minor)]\n",
    "    \n",
    "    if prod([i>0  for i in principal_minor])\n",
    "        println(\"The point is a local minimum\")\n",
    "    elseif prod([i>0  for i in principal_minor_sign_flipped])\n",
    "        println(\"The point is a local maximum\")    \n",
    "    else \n",
    "        println(\"The point is a saddle\")\n",
    "    end\n",
    "    \n",
    "    println(\"\")\n",
    "    \n",
    "end"
   ]
  },
  {
   "cell_type": "markdown",
   "metadata": {},
   "source": [
    "## Constrained optimization"
   ]
  },
  {
   "cell_type": "markdown",
   "metadata": {},
   "source": [
    "### Ex 1\n",
    "Given the function $f(x,y,z)$:\n",
    "\n",
    "$$\n",
    "x+2z \\text{ s.t. } \\begin{cases} x^2+y^2+z^2 = 5 \\end{cases}\n",
    "$$\n",
    "\n",
    "Develop an algorithm that finds the critical points and their nature of the above constrained maximization problem."
   ]
  },
  {
   "cell_type": "code",
   "execution_count": 156,
   "metadata": {},
   "outputs": [],
   "source": [
    "f = x + 2z;\n",
    "\n",
    "constraints = [x^2 + y^2 + z^2 - 5];\n",
    "\n",
    "lagrange_multipliers = symbols(\"λ1:\"*string(length(constraint)+1));\n",
    "variables = setdiff(free_symbols(Λ),lagrange_multipliers);\n",
    "\n",
    "n = length(variables);\n",
    "m = length(lagrange_multipliers);\n",
    "\n",
    "last_minors = n-m;"
   ]
  },
  {
   "cell_type": "code",
   "execution_count": 140,
   "metadata": {},
   "outputs": [
    {
     "data": {
      "text/latex": [
       "\\begin{equation*}x + 2 z - λ1 \\left(x^{2} + y^{2} + z^{2} - 5\\right)\\end{equation*}"
      ],
      "text/plain": [
       "             ⎛ 2    2    2    ⎞\n",
       "x + 2⋅z - λ1⋅⎝x  + y  + z  - 5⎠"
      ]
     },
     "execution_count": 140,
     "metadata": {},
     "output_type": "execute_result"
    }
   ],
   "source": [
    "Λ = f -sum(lagrange_multipliers.*constraints) "
   ]
  },
  {
   "cell_type": "code",
   "execution_count": 141,
   "metadata": {},
   "outputs": [],
   "source": [
    "#Compute gradient\n",
    "∇Λ = [diff(Λ,i) for i in free_symbols(Λ)];\n",
    "\n",
    "#Get the critical points\n",
    "critical_points = solve(∇Λ,dict = true);"
   ]
  },
  {
   "cell_type": "code",
   "execution_count": 142,
   "metadata": {},
   "outputs": [
    {
     "data": {
      "text/latex": [
       "\\[\\left[ \\begin{array}{rrrr}0.0&2 x&2 y&2 z\\\\2 x&- 2 λ1&0&0\\\\2 y&0&- 2 λ1&0\\\\2 z&0&0&- 2 λ1\\end{array}\\right]\\]"
      ],
      "text/plain": [
       "4×4 Array{Sym,2}:\n",
       " 0.0    2*x    2*y    2*z\n",
       " 2*x  -2*λ1      0      0\n",
       " 2*y      0  -2*λ1      0\n",
       " 2*z      0      0  -2*λ1"
      ]
     },
     "execution_count": 142,
     "metadata": {},
     "output_type": "execute_result"
    }
   ],
   "source": [
    "#Compute the Hessian\n",
    "HΛ = hessian(Λ,variables)\n",
    "\n",
    "#Compute partial derivatives of constraints\n",
    "∇constraints = [diff(constraints[k],i) for i in variables, k in 1:length(constraints)]\n",
    "\n",
    "#Evaluate the leading part of the bordered Hessian\n",
    "leading = zeros(length(constraints),length(constraints));\n",
    "\n",
    "#Get the bordered Hessian\n",
    "bordered_hessian = hcat(vcat(leading,∇constraints),vcat((∇constraints.T),HΛ))"
   ]
  },
  {
   "cell_type": "code",
   "execution_count": 174,
   "metadata": {},
   "outputs": [
    {
     "name": "stdout",
     "output_type": "stream",
     "text": [
      "The point\n",
      "Dict{Any,Any}(x=>-1,y=>0,z=>-2,λ1=>-1/2)\n",
      "The point is a local minimum\n",
      "\n",
      "The point\n",
      "Dict{Any,Any}(x=>1,y=>0,z=>2,λ1=>1/2)\n",
      "The point is a local maximum\n",
      "\n"
     ]
    }
   ],
   "source": [
    "for q in critical_points \n",
    "    \n",
    "    global BH_in_P = [subs(bordered_hessian[i,j],q) for i in 1:size(bordered_hessian)[1], j in 1:size(bordered_hessian)[1]]\n",
    "    \n",
    "    println(\"The point\")\n",
    "    println(q)\n",
    "    \n",
    "    principal_minor = [det(BH_in_P[1:i,1:i]) for i in (size(BH_in_P)[1]-last_minors + 1):size(BH_in_P)[1]] .* (-1)^m   \n",
    "    \n",
    "    principal_minor_sign_flipped = [det(BH_in_P[1:i,1:i]) for i in (size(BH_in_P)[1]-last_minors + 1):size(BH_in_P)[1]] .* [(-1)^(n+i-length(principal_minor)) for i in 1:length(principal_minor)]\n",
    "    \n",
    "    if prod([i>0  for i in principal_minor])\n",
    "        println(\"The point is a local minimum\")\n",
    "    elseif prod([i>0  for i in principal_minor_sign_flipped])\n",
    "        println(\"The point is a local maximum\")    \n",
    "    else \n",
    "        println(\"The point is a saddle\")\n",
    "    end\n",
    "    \n",
    "    println(\"\")\n",
    "    \n",
    "end"
   ]
  },
  {
   "cell_type": "code",
   "execution_count": 170,
   "metadata": {},
   "outputs": [
    {
     "data": {
      "text/latex": [
       "\\[\\left[ \\begin{array}{rrrr}0.0&2&0&4\\\\2&-1&0&0\\\\0&0&-1&0\\\\4&0&0&-1\\end{array}\\right]\\]"
      ],
      "text/plain": [
       "4×4 Array{Sym,2}:\n",
       " 0.0   2   0   4\n",
       "   2  -1   0   0\n",
       "   0   0  -1   0\n",
       "   4   0   0  -1"
      ]
     },
     "execution_count": 170,
     "metadata": {},
     "output_type": "execute_result"
    }
   ],
   "source": [
    "BH_in_P"
   ]
  },
  {
   "cell_type": "code",
   "execution_count": 175,
   "metadata": {},
   "outputs": [
    {
     "data": {
      "text/latex": [
       "\\[ \\left[ \\begin{array}{r}4\\\\-20\\end{array} \\right] \\]"
      ],
      "text/plain": [
       "2-element Array{Sym,1}:\n",
       "   4\n",
       " -20"
      ]
     },
     "execution_count": 175,
     "metadata": {},
     "output_type": "execute_result"
    }
   ],
   "source": [
    "principal_minor = [det(BH_in_P[1:i,1:i]) for i in (size(BH_in_P)[1]-last_minors + 1):size(BH_in_P)[1]]"
   ]
  },
  {
   "cell_type": "markdown",
   "metadata": {},
   "source": [
    "### Ex 2\n",
    "Given the function $f(x,y,z)$:\n",
    "\n",
    "$$\n",
    "y \\text{ s.t. } \\begin{cases} x^2+y^2+z^2 = 2 \\\\ y=z \\end{cases}\n",
    "$$\n",
    "\n",
    "Test the algorithm you developed."
   ]
  },
  {
   "cell_type": "code",
   "execution_count": 180,
   "metadata": {},
   "outputs": [],
   "source": [
    "f = y;\n",
    "\n",
    "constraints = [x^2+y^2+z^2 - 2, y-z];\n",
    "\n",
    "lagrange_multipliers = symbols(\"λ1:\"*string(length(constraints)+1));\n",
    "variables = setdiff(free_symbols(Λ),lagrange_multipliers);\n",
    "\n",
    "n = length(variables);\n",
    "m = length(lagrange_multipliers);\n",
    "\n",
    "last_minors = n-m;"
   ]
  },
  {
   "cell_type": "code",
   "execution_count": 182,
   "metadata": {},
   "outputs": [
    {
     "data": {
      "text/latex": [
       "\\begin{equation*}y - λ1 \\left(x^{2} + y^{2} + z^{2} - 2\\right) - λ2 \\left(y - z\\right)\\end{equation*}"
      ],
      "text/plain": [
       "       ⎛ 2    2    2    ⎞             \n",
       "y - λ1⋅⎝x  + y  + z  - 2⎠ - λ2⋅(y - z)"
      ]
     },
     "execution_count": 182,
     "metadata": {},
     "output_type": "execute_result"
    }
   ],
   "source": [
    "Λ = f -sum(lagrange_multipliers.*constraints) "
   ]
  },
  {
   "cell_type": "code",
   "execution_count": 183,
   "metadata": {},
   "outputs": [],
   "source": [
    "#Compute gradient\n",
    "∇Λ = [diff(Λ,i) for i in free_symbols(Λ)];\n",
    "\n",
    "#Get the critical points\n",
    "critical_points = solve(∇Λ,dict = true);"
   ]
  },
  {
   "cell_type": "code",
   "execution_count": 184,
   "metadata": {},
   "outputs": [
    {
     "data": {
      "text/latex": [
       "\\[\\left[ \\begin{array}{rrrrr}0.0&0.0&2 x&2 y&2 z\\\\0.0&0.0&0&1&-1\\\\2 x&0&- 2 λ1&0&0\\\\2 y&1&0&- 2 λ1&0\\\\2 z&-1&0&0&- 2 λ1\\end{array}\\right]\\]"
      ],
      "text/plain": [
       "5×5 Array{Sym,2}:\n",
       " 0.0  0.0    2*x    2*y    2*z\n",
       " 0.0  0.0      0      1     -1\n",
       " 2*x    0  -2*λ1      0      0\n",
       " 2*y    1      0  -2*λ1      0\n",
       " 2*z   -1      0      0  -2*λ1"
      ]
     },
     "execution_count": 184,
     "metadata": {},
     "output_type": "execute_result"
    }
   ],
   "source": [
    "#Compute the Hessian\n",
    "HΛ = hessian(Λ,variables)\n",
    "\n",
    "#Compute partial derivatives of constraints\n",
    "∇constraints = [diff(constraints[k],i) for i in variables, k in 1:length(constraints)]\n",
    "\n",
    "#Evaluate the leading part of the bordered Hessian\n",
    "leading = zeros(length(constraints),length(constraints));\n",
    "\n",
    "#Get the bordered Hessian\n",
    "bordered_hessian = hcat(vcat(leading,∇constraints),vcat((∇constraints.T),HΛ))"
   ]
  },
  {
   "cell_type": "code",
   "execution_count": 185,
   "metadata": {},
   "outputs": [
    {
     "name": "stdout",
     "output_type": "stream",
     "text": [
      "The point\n",
      "Dict{Any,Any}(x=>0,y=>-1,λ2=>1/2,z=>-1,λ1=>-1/4)\n",
      "The point is a local minimum\n",
      "\n",
      "The point\n",
      "Dict{Any,Any}(x=>0,y=>1,λ2=>1/2,z=>1,λ1=>1/4)\n",
      "The point is a local maximum\n",
      "\n"
     ]
    }
   ],
   "source": [
    "for q in critical_points \n",
    "    \n",
    "    global BH_in_P = [subs(bordered_hessian[i,j],q) for i in 1:size(bordered_hessian)[1], j in 1:size(bordered_hessian)[1]]\n",
    "    \n",
    "    println(\"The point\")\n",
    "    println(q)\n",
    "    \n",
    "    principal_minor = [det(BH_in_P[1:i,1:i]) for i in (size(BH_in_P)[1]-last_minors + 1):size(BH_in_P)[1]] .* (-1)^m   \n",
    "    \n",
    "    principal_minor_sign_flipped = [det(BH_in_P[1:i,1:i]) for i in (size(BH_in_P)[1]-last_minors + 1):size(BH_in_P)[1]] .* [(-1)^(n+i-length(principal_minor)) for i in 1:length(principal_minor)]\n",
    "    \n",
    "    if prod([i>0  for i in principal_minor])\n",
    "        println(\"The point is a local minimum\")\n",
    "    elseif prod([i>0  for i in principal_minor_sign_flipped])\n",
    "        println(\"The point is a local maximum\")    \n",
    "    else \n",
    "        println(\"The point is a saddle\")\n",
    "    end\n",
    "    \n",
    "    println(\"\")\n",
    "    \n",
    "end"
   ]
  }
 ],
 "metadata": {
  "@webio": {
   "lastCommId": null,
   "lastKernelId": null
  },
  "celltoolbar": "Slideshow",
  "kernelspec": {
   "display_name": "Julia 1.1.0",
   "language": "julia",
   "name": "julia-1.1"
  },
  "language_info": {
   "file_extension": ".jl",
   "mimetype": "application/julia",
   "name": "julia",
   "version": "1.1.0"
  },
  "rise": {
   "autolaunch": false,
   "enable_chalkboard": true,
   "scroll": true
  },
  "toc": {
   "base_numbering": 1,
   "nav_menu": {},
   "number_sections": false,
   "sideBar": true,
   "skip_h1_title": false,
   "title_cell": "Table of Contents",
   "title_sidebar": "Contents",
   "toc_cell": false,
   "toc_position": {},
   "toc_section_display": true,
   "toc_window_display": false
  }
 },
 "nbformat": 4,
 "nbformat_minor": 4
}
