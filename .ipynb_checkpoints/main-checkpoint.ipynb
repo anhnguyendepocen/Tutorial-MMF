{
 "cells": [
  {
   "cell_type": "markdown",
   "metadata": {
    "slideshow": {
     "slide_type": "slide"
    }
   },
   "source": [
    "# Mathematical Methods for Finance\n",
    "## Tutorial Notebook\n",
    "### Author: Marco Repetto*\n",
    "\n",
    "&nbsp;\n",
    "\n",
    "&nbsp;\n",
    "\n",
    "&nbsp;\n",
    "\n",
    "*Data Scientist at Siemens, PhD candidate in Economics and Statistics at Università degli Studi Milano Bicocca \n",
    "\n"
   ]
  },
  {
   "cell_type": "markdown",
   "metadata": {
    "slideshow": {
     "slide_type": "slide"
    }
   },
   "source": [
    "## Where you can find this tutorial notebook\n",
    "This tutorial is available in an ad-hoc repository I created on Github at [https://github.com/mrepetto94/Tutorial-MMF](https://github.com/mrepetto94/Tutorial-MMF) ."
   ]
  },
  {
   "cell_type": "markdown",
   "metadata": {
    "slideshow": {
     "slide_type": "slide"
    }
   },
   "source": [
    "## Tutorial outline\n",
    "1. Workstation set-up\n",
    "2. Julia Programming (part 1)\n",
    "3. Julia Programming (part 2)\n",
    "4. Linear Optimization with JuMP\n",
    "5. Non Linear Optimization with JuMP (Part 1)\n",
    "6. Non Linear Optimization with JuMP (Part 2)\n",
    "7. Non Linear Optimization in MATLAB\n",
    "8. Ordinary Differential Equation with MATLAB (Part 1)\n",
    "9. Ordinary Differential Equation with MATLAB (Part 2)\n",
    "10. Partial Differential Equation with MATLAB"
   ]
  },
  {
   "cell_type": "markdown",
   "metadata": {
    "slideshow": {
     "slide_type": "slide"
    }
   },
   "source": [
    "## Lecture 1\n",
    "### Workstation set-up\n",
    "### Date: 28.09"
   ]
  },
  {
   "cell_type": "markdown",
   "metadata": {
    "slideshow": {
     "slide_type": "skip"
    }
   },
   "source": [
    "### Outline\n",
    "* The Julia language\n",
    "* Why Julia?\n",
    "* How to install Julia\n",
    "* How to install Packages into Julia with Pkg\n",
    "* Necessary packages for this course\n",
    "    * JuMP\n",
    "    * GLPK\n",
    "    * Coin-Or\n",
    "* On Julia Developing Environments\n",
    "    * JUNO\n",
    "    * Jupyter\n",
    "    * Emacs\n",
    "* MATLAB\n",
    "* Why MATLAB?\n",
    "* How to install MATLAB\n",
    "* Octave: a MATLAB emulator"
   ]
  },
  {
   "cell_type": "markdown",
   "metadata": {
    "slideshow": {
     "slide_type": "subslide"
    }
   },
   "source": [
    "### The Julia language\n",
    "*Julia is a **high-level programming** language designed for **high-performance** numerical analysis and computational science.*  -Wikipedia"
   ]
  },
  {
   "cell_type": "markdown",
   "metadata": {
    "slideshow": {
     "slide_type": "subslide"
    }
   },
   "source": [
    "### Why Julia?\n",
    "Many reasons... But chiefly:\n",
    "1. Julia is fast\n",
    "2. Dynamic\n",
    "3. Optionally typed\n",
    "4. General\n",
    "5. Easy to use\n",
    "6. Open source"
   ]
  },
  {
   "cell_type": "markdown",
   "metadata": {
    "slideshow": {
     "slide_type": "subslide"
    }
   },
   "source": [
    "### How to install Julia\n",
    "#### Mac\n",
    "##### Recommended way: Homebrew\n",
    "* Step 1: open the terminal\n",
    "* Step 2: visit [https://brew.sh/](https://brew.sh/), copy and paste the install Homebrew instructions into the terminal and run it, this command may require you to give super user privileges (you'll be asked to prompt the password)\n",
    "* Step 3: to install Julia type in the terminal ```brew cask install julia```\n",
    "* Step 4: now type ```julia``` in the terminal to check whether PATH was updated correctly\n",
    "\n",
    "##### Not recommended way \n",
    "Download the .dmg installation package from [https://julialang.org/downloads/](https://julialang.org/downloads/) and run it."
   ]
  },
  {
   "cell_type": "markdown",
   "metadata": {
    "slideshow": {
     "slide_type": "subslide"
    }
   },
   "source": [
    "#### Windows\n",
    "* Step 1: Download the .exe installation package from [https://julialang.org/downloads/](https://julialang.org/downloads/) and run it\n",
    "* Step 2: Install Julia in ```C:\\julia``` or the default destination\n",
    "* Step 3: Open the Command Prompt and type ``` setx PATH \"%PATH%;\"your julia installation\"\\bin\" ``` where ```\"your julia installation\"``` means the destination of the Julia's installation folder;\n",
    "* Step 4: Check whether you successfully updated the path by typing ```echo %PATH%```\n",
    "* Step 5: Type ```julia``` in the Prompt or in the PowerShell "
   ]
  },
  {
   "cell_type": "markdown",
   "metadata": {
    "slideshow": {
     "slide_type": "subslide"
    }
   },
   "source": [
    "#### GNU/Linux\n",
    "Simply open the terminal and type ```julia```, the package manager of your distribution will do the rest."
   ]
  },
  {
   "cell_type": "markdown",
   "metadata": {
    "slideshow": {
     "slide_type": "subslide"
    }
   },
   "source": [
    "### How to install Packages into Julia with Pkg\n",
    "To install packages into Julia simply start it, by typing ```julia``` in the prompt/terminal, then press ```]```. Alternatively you can load the the Pkg library and type:\n",
    "```julia\n",
    "using Pkg\n",
    "\n",
    "Pkg.add(\"The package to install\")\n",
    "```"
   ]
  },
  {
   "cell_type": "markdown",
   "metadata": {
    "slideshow": {
     "slide_type": "subslide"
    }
   },
   "source": [
    "### Necessary packages for this course\n",
    "#### GLPK\n",
    "GLPK stands for GNU Linear Programming Kit which is a Mixed Integer Linear Programming (MILP) solver, you can install it by typing: ``` Pkg.add(\"GLPK\") ```.\n",
    "#### Optim\n",
    "The package implements some optimization algorithms for unconstrained nonlinear optimization problems. You can install it by typing: ``` Pkg.add(\"Optim\") ```.\n",
    "#### Ipopt\n",
    "Ipopt stands for Interior Point OPTimizer, is a solver for constrained nonlinear optimization problems. You can install it by typing: ``` Pkg.add(\"Ipopt\") ```.\n",
    "#### JuMP\n",
    "JuMP is a domain-specific modeling language for mathematical optimization embedded in Julia. The main aim of JuMP is to make it easier to specify and solve optimization problems.  You can install it by typing: ```Pkg.add(\"JuMP\") ```."
   ]
  },
  {
   "cell_type": "markdown",
   "metadata": {
    "slideshow": {
     "slide_type": "subslide"
    }
   },
   "source": [
    "### On Julia Developing Environments\n",
    "<img src=\"img/real_programmers.png\" alt=\"Drawing\" style=\"width: 1500px;\"/>"
   ]
  },
  {
   "cell_type": "markdown",
   "metadata": {
    "slideshow": {
     "slide_type": "subslide"
    }
   },
   "source": [
    "#### Jupyter\n",
    "Jupyter notebooks are **interactive programming environments** that allow for the framework of **literate computing**. This very notebook/slide-show is a Jupyter notebook. To install it on your machine you need to install Python and the IJulia package, you can do that with the following code:\n",
    "```julia\n",
    "ENV[\"PYTHON\"] = \"\"\n",
    "\"\"\n",
    "\n",
    "ENV[\"JUPYTER\"] = \"\"\n",
    "\"\"\n",
    "\n",
    "using Pkg\n",
    "Pkg.add(\"IJulia\")\n",
    "\n",
    "\n",
    "\n",
    "using IJulia\n",
    "notebook() #To open the IJulia notebook\n",
    "```"
   ]
  },
  {
   "cell_type": "markdown",
   "metadata": {
    "slideshow": {
     "slide_type": "subslide"
    }
   },
   "source": [
    "#### JUNO\n",
    "Juno is a powerful yet flexible fully-fledged IDE built on top of Atom text editor, in order to install it follow these steps:\n",
    "1. Download, install and open Atom you find it at [https://atom.io/](https://atom.io/)\n",
    "2. In Atom, go to Settings and go to the \"Install\" panel\n",
    "3. Type ```uber-juno``` into the search box and hit enter\n",
    "4. Click the install button on the package of the same name"
   ]
  },
  {
   "cell_type": "markdown",
   "metadata": {
    "slideshow": {
     "slide_type": "subslide"
    }
   },
   "source": [
    "#### Other IDEs\n",
    "##### Emacs\n",
    "Emacs is not simply an IDE, its almost a operating system! You can edit notebooks produce documents with Julia snippets and many more things. The main drawback is the learning curve it carries.\n",
    "##### Vi\n",
    "The Vi is probably the most important text editor used nowadays. It is so important that is packaged by default into both Mac and GNU/Linux systems. Simply type ```vi``` in terminal. The Vi has the same drawback as Emacs, meaning that for a common user is not the most immediate alternative."
   ]
  },
  {
   "cell_type": "markdown",
   "metadata": {
    "slideshow": {
     "slide_type": "subslide"
    }
   },
   "source": [
    "### MATLAB\n",
    "*MATLAB, stand for matrix laboratory, is a **multi-paradigm numerical computing environment** and **proprietary** programming language developed by MathWorks. MATLAB allows **matrix manipulations**, **plotting of functions and data**, implementation of algorithms, and creation of user interfaces.* -Wikipedia"
   ]
  },
  {
   "cell_type": "markdown",
   "metadata": {
    "slideshow": {
     "slide_type": "subslide"
    }
   },
   "source": [
    "### Why MATLAB?\n",
    "1. Is proprietary\n",
    "2. MATLAB has 35 years history\n",
    "3. Is a well established standard\n",
    "4. Academia and professionals built a lot on top of it"
   ]
  },
  {
   "cell_type": "markdown",
   "metadata": {
    "slideshow": {
     "slide_type": "subslide"
    }
   },
   "source": [
    "### How to install MATLAB\n",
    "* Step 1: register to [https://www.mathworks.com/academia/tah-portal/universita-degli-studi-di-milano-968349.html](https://www.mathworks.com/academia/tah-portal/universita-degli-studi-di-milano-968349.html) with your university mail and download the installer\n",
    "* Step 2: run the installer and install MATLAB\n",
    "* Step 3: register your copy of MATLAB using the university login you created in Mathworks\n",
    "\n",
    "**Please do not use cracked versions of MATLAB as there are open-source alternatives to it!**"
   ]
  },
  {
   "cell_type": "markdown",
   "metadata": {
    "slideshow": {
     "slide_type": "subslide"
    }
   },
   "source": [
    "### Octave: a MATLAB emulator\n",
    "*GNU Octave is a **high-level language**, primarily intended for **numerical computations**. It provides a convenient command line interface for solving linear and nonlinear problems numerically, and for performing other numerical experiments, using a language that is **mostly compatible with MATLAB**.* -GNU Octave wiki"
   ]
  },
  {
   "cell_type": "markdown",
   "metadata": {
    "slideshow": {
     "slide_type": "slide"
    }
   },
   "source": [
    "## Lecture 2\n",
    "### Julia Programming (Part 1)\n",
    "### Date: 05.10"
   ]
  },
  {
   "cell_type": "markdown",
   "metadata": {
    "slideshow": {
     "slide_type": "subslide"
    }
   },
   "source": [
    "### The initial set-up\n",
    "Start a Jupyter Notebook or create a script on Juno. For those who use Jupyter, create a notebook with the Julia kernel. "
   ]
  },
  {
   "cell_type": "markdown",
   "metadata": {
    "slideshow": {
     "slide_type": "subslide"
    }
   },
   "source": [
    "A basic functionality of the Julia console is the calculator, look at the snippet below:"
   ]
  },
  {
   "cell_type": "code",
   "execution_count": 2,
   "metadata": {
    "slideshow": {
     "slide_type": "fragment"
    }
   },
   "outputs": [
    {
     "data": {
      "text/plain": [
       "12"
      ]
     },
     "execution_count": 2,
     "metadata": {},
     "output_type": "execute_result"
    }
   ],
   "source": [
    "5+7"
   ]
  },
  {
   "cell_type": "code",
   "execution_count": 4,
   "metadata": {
    "slideshow": {
     "slide_type": "fragment"
    }
   },
   "outputs": [
    {
     "data": {
      "text/plain": [
       "12"
      ]
     },
     "execution_count": 4,
     "metadata": {},
     "output_type": "execute_result"
    }
   ],
   "source": [
    "ans"
   ]
  },
  {
   "cell_type": "markdown",
   "metadata": {
    "slideshow": {
     "slide_type": "subslide"
    }
   },
   "source": [
    "you can execute other Julia script using the ```include```"
   ]
  },
  {
   "cell_type": "code",
   "execution_count": 7,
   "metadata": {
    "slideshow": {
     "slide_type": "fragment"
    }
   },
   "outputs": [
    {
     "name": "stdout",
     "output_type": "stream",
     "text": [
      "Hello world!"
     ]
    }
   ],
   "source": [
    "include(\"script/hello.jl\")"
   ]
  },
  {
   "cell_type": "markdown",
   "metadata": {
    "slideshow": {
     "slide_type": "subslide"
    }
   },
   "source": [
    "### Variables\n",
    "A variable is simply a name associated to a value, some example:"
   ]
  },
  {
   "cell_type": "code",
   "execution_count": 11,
   "metadata": {
    "slideshow": {
     "slide_type": "fragment"
    }
   },
   "outputs": [
    {
     "data": {
      "text/plain": [
       "2"
      ]
     },
     "execution_count": 11,
     "metadata": {},
     "output_type": "execute_result"
    }
   ],
   "source": [
    "x = 2"
   ]
  },
  {
   "cell_type": "code",
   "execution_count": 13,
   "metadata": {
    "slideshow": {
     "slide_type": "fragment"
    }
   },
   "outputs": [
    {
     "data": {
      "text/plain": [
       "3"
      ]
     },
     "execution_count": 13,
     "metadata": {},
     "output_type": "execute_result"
    }
   ],
   "source": [
    "x + 1"
   ]
  },
  {
   "cell_type": "code",
   "execution_count": 15,
   "metadata": {
    "slideshow": {
     "slide_type": "fragment"
    }
   },
   "outputs": [
    {
     "data": {
      "text/plain": [
       "2"
      ]
     },
     "execution_count": 15,
     "metadata": {},
     "output_type": "execute_result"
    }
   ],
   "source": [
    "x = 1 + 1"
   ]
  },
  {
   "cell_type": "code",
   "execution_count": 17,
   "metadata": {
    "slideshow": {
     "slide_type": "fragment"
    }
   },
   "outputs": [
    {
     "data": {
      "text/plain": [
       "\"Hello world!\""
      ]
     },
     "execution_count": 17,
     "metadata": {},
     "output_type": "execute_result"
    }
   ],
   "source": [
    "x = \"Hello world!\""
   ]
  },
  {
   "cell_type": "code",
   "execution_count": 19,
   "metadata": {
    "slideshow": {
     "slide_type": "fragment"
    }
   },
   "outputs": [
    {
     "data": {
      "text/plain": [
       "1.0"
      ]
     },
     "execution_count": 19,
     "metadata": {},
     "output_type": "execute_result"
    }
   ],
   "source": [
    "x = 1.0"
   ]
  },
  {
   "cell_type": "code",
   "execution_count": 21,
   "metadata": {
    "slideshow": {
     "slide_type": "fragment"
    }
   },
   "outputs": [
    {
     "data": {
      "text/plain": [
       "-3"
      ]
     },
     "execution_count": 21,
     "metadata": {},
     "output_type": "execute_result"
    }
   ],
   "source": [
    "x = -3"
   ]
  },
  {
   "cell_type": "markdown",
   "metadata": {
    "slideshow": {
     "slide_type": "subslide"
    }
   },
   "source": [
    "### Tips\n",
    "You can avoid Julia to print the assignment by using ```;```"
   ]
  },
  {
   "cell_type": "code",
   "execution_count": 23,
   "metadata": {
    "slideshow": {
     "slide_type": "fragment"
    }
   },
   "outputs": [],
   "source": [
    "x = 2;"
   ]
  },
  {
   "cell_type": "markdown",
   "metadata": {
    "slideshow": {
     "slide_type": "fragment"
    }
   },
   "source": [
    "A very useful feature of Julia is the support of unicode names in UTF-8 encodings, in other words you can use other character than latin"
   ]
  },
  {
   "cell_type": "code",
   "execution_count": 24,
   "metadata": {
    "slideshow": {
     "slide_type": "fragment"
    }
   },
   "outputs": [
    {
     "data": {
      "text/plain": [
       "3.14"
      ]
     },
     "execution_count": 24,
     "metadata": {},
     "output_type": "execute_result"
    }
   ],
   "source": [
    "π = 3.14"
   ]
  },
  {
   "cell_type": "code",
   "execution_count": 27,
   "metadata": {
    "slideshow": {
     "slide_type": "fragment"
    }
   },
   "outputs": [
    {
     "name": "stdout",
     "output_type": "stream",
     "text": [
      "\"\u001b[36mπ\u001b[39m\" can be typed by \u001b[36m\\pi<tab>\u001b[39m\n",
      "\n",
      "search: \u001b[0m\u001b[1mπ\u001b[22m\n",
      "\n"
     ]
    },
    {
     "data": {
      "text/latex": [
       "No documentation found.\n",
       "\n",
       "\\texttt{π} is of type \\texttt{Float64}.\n",
       "\n",
       "\\section{Summary}\n",
       "\\begin{verbatim}\n",
       "primitive type Float64 <: AbstractFloat\n",
       "\\end{verbatim}\n",
       "\\section{Supertype Hierarchy}\n",
       "\\begin{verbatim}\n",
       "Float64 <: AbstractFloat <: Real <: Number <: Any\n",
       "\\end{verbatim}\n"
      ],
      "text/markdown": [
       "No documentation found.\n",
       "\n",
       "`π` is of type `Float64`.\n",
       "\n",
       "# Summary\n",
       "\n",
       "```\n",
       "primitive type Float64 <: AbstractFloat\n",
       "```\n",
       "\n",
       "# Supertype Hierarchy\n",
       "\n",
       "```\n",
       "Float64 <: AbstractFloat <: Real <: Number <: Any\n",
       "```\n"
      ],
      "text/plain": [
       "  No documentation found.\n",
       "\n",
       "  \u001b[36mπ\u001b[39m is of type \u001b[36mFloat64\u001b[39m.\n",
       "\n",
       "\u001b[1m  Summary\u001b[22m\n",
       "\u001b[1m  ≡≡≡≡≡≡≡≡≡\u001b[22m\n",
       "\n",
       "\u001b[36m  primitive type Float64 <: AbstractFloat\u001b[39m\n",
       "\n",
       "\u001b[1m  Supertype Hierarchy\u001b[22m\n",
       "\u001b[1m  ≡≡≡≡≡≡≡≡≡≡≡≡≡≡≡≡≡≡≡≡≡\u001b[22m\n",
       "\n",
       "\u001b[36m  Float64 <: AbstractFloat <: Real <: Number <: Any\u001b[39m"
      ]
     },
     "execution_count": 27,
     "metadata": {},
     "output_type": "execute_result"
    }
   ],
   "source": [
    "?π"
   ]
  },
  {
   "cell_type": "markdown",
   "metadata": {
    "slideshow": {
     "slide_type": "subslide"
    }
   },
   "source": [
    "### Variable type\n",
    "#### Integer types\n",
    "|Type|Signed?|Number of bits|Smallest value|Largest value|\n",
    "| --- | --- | --- | --- | --- |\n",
    "|Int8|✓ |  8|-2^7|2^7 - 1|\n",
    "|UInt8| . |8\t|0\t|2^8 - 1|\n",
    "|Int16|✓| 16|-2^15|2^15 - 1|\n",
    "|UInt16|.|16|\t0|\t2^16 - 1|\n",
    "|Int32|✓|32|-2^31|2^31 - 1|\n",
    "|UInt32|.|32|0|2^32 - 1|\n",
    "|Int64|✓|64|-2^63|2^63 - 1|\n",
    "|UInt64|.|64|0|2^64 - 1|\n",
    "|Int128|✓|128|-2^127|2^127 - 1|\n",
    "|UInt128|.|128|0|2^128 - 1|\n",
    "|Bool|N/A|8|false (0)|true (1)|\n",
    "\n",
    "#### Floating-point types\n",
    "|Type|\tPrecision|\tNumber of bits|\n",
    "|---|---|---|\n",
    "|Float16|\thalf|\t16|\n",
    "|Float32|\tsingle|\t32|\n",
    "|Float64|\tdouble|\t64|"
   ]
  },
  {
   "cell_type": "markdown",
   "metadata": {
    "slideshow": {
     "slide_type": "subslide"
    }
   },
   "source": [
    "In order to discover the type of the variable you can use the ```typeof()``` function"
   ]
  },
  {
   "cell_type": "code",
   "execution_count": 31,
   "metadata": {
    "slideshow": {
     "slide_type": "fragment"
    }
   },
   "outputs": [
    {
     "data": {
      "text/plain": [
       "Int64"
      ]
     },
     "execution_count": 31,
     "metadata": {},
     "output_type": "execute_result"
    }
   ],
   "source": [
    "x = 1;\n",
    "typeof(x)"
   ]
  },
  {
   "cell_type": "code",
   "execution_count": 36,
   "metadata": {
    "slideshow": {
     "slide_type": "fragment"
    }
   },
   "outputs": [
    {
     "data": {
      "text/plain": [
       "Float64"
      ]
     },
     "execution_count": 36,
     "metadata": {},
     "output_type": "execute_result"
    }
   ],
   "source": [
    "x = 1.234\n",
    "typeof(x)"
   ]
  },
  {
   "cell_type": "markdown",
   "metadata": {
    "slideshow": {
     "slide_type": "subslide"
    }
   },
   "source": [
    "### Mathematical operations \n",
    "To make numeric formulae and expressions clearer, Julia allows variables to be immediately preceded by a numeric literal, implying multiplication. An example:"
   ]
  },
  {
   "cell_type": "code",
   "execution_count": 38,
   "metadata": {
    "slideshow": {
     "slide_type": "fragment"
    }
   },
   "outputs": [
    {
     "data": {
      "text/plain": [
       "10"
      ]
     },
     "execution_count": 38,
     "metadata": {},
     "output_type": "execute_result"
    }
   ],
   "source": [
    "x = 3;\n",
    "\n",
    "2x^2 - 3x + 1"
   ]
  },
  {
   "cell_type": "code",
   "execution_count": 41,
   "metadata": {
    "slideshow": {
     "slide_type": "fragment"
    }
   },
   "outputs": [
    {
     "data": {
      "text/plain": [
       "13.0"
      ]
     },
     "execution_count": 41,
     "metadata": {},
     "output_type": "execute_result"
    }
   ],
   "source": [
    "1.5x^2 - .5x + 1"
   ]
  },
  {
   "cell_type": "markdown",
   "metadata": {
    "slideshow": {
     "slide_type": "subslide"
    }
   },
   "source": [
    "What you cannot do is implying multiplication involving parenthesis as follows"
   ]
  },
  {
   "cell_type": "code",
   "execution_count": 43,
   "metadata": {
    "slideshow": {
     "slide_type": "fragment"
    }
   },
   "outputs": [
    {
     "ename": "MethodError",
     "evalue": "MethodError: objects of type Int64 are not callable",
     "output_type": "error",
     "traceback": [
      "MethodError: objects of type Int64 are not callable",
      "",
      "Stacktrace:",
      " [1] top-level scope at In[43]:1"
     ]
    }
   ],
   "source": [
    "(x-1)(x+1)"
   ]
  },
  {
   "cell_type": "code",
   "execution_count": 45,
   "metadata": {
    "slideshow": {
     "slide_type": "fragment"
    }
   },
   "outputs": [
    {
     "ename": "MethodError",
     "evalue": "MethodError: objects of type Int64 are not callable",
     "output_type": "error",
     "traceback": [
      "MethodError: objects of type Int64 are not callable",
      "",
      "Stacktrace:",
      " [1] top-level scope at In[45]:1"
     ]
    }
   ],
   "source": [
    "x(x+1)"
   ]
  },
  {
   "cell_type": "markdown",
   "metadata": {
    "slideshow": {
     "slide_type": "fragment"
    }
   },
   "source": [
    "The only operation allowed is when the variable appears after, as in the example"
   ]
  },
  {
   "cell_type": "code",
   "execution_count": 48,
   "metadata": {
    "slideshow": {
     "slide_type": "fragment"
    }
   },
   "outputs": [
    {
     "data": {
      "text/plain": [
       "6"
      ]
     },
     "execution_count": 48,
     "metadata": {},
     "output_type": "execute_result"
    }
   ],
   "source": [
    "(x-1)x"
   ]
  },
  {
   "cell_type": "markdown",
   "metadata": {
    "slideshow": {
     "slide_type": "subslide"
    }
   },
   "source": [
    "In the following table you have the main allowed arithmetic operators\n",
    "\n",
    "|Expression|\tName|\tDescription|\n",
    "|---|---|---|\n",
    "|```+x```|\tunary plus|\tthe identity operation|\n",
    "|```-x```|\tunary minus|\tmaps values to their additive inverses|\n",
    "|```x + y```|\tbinary plus|\tperforms addition|\n",
    "|```x - y```|\tbinary minus|\tperforms subtraction|\n",
    "|```x * y```|\ttimes|\tperforms multiplication|\n",
    "|```x / y```|\tdivide|\tperforms division|\n",
    "|```x ÷ y```|\tinteger divide|\t```x / y```, truncated to an integer|\n",
    "|```x \\ y```|\tinverse divide|\tequivalent to ```y / x```|\n",
    "|```x ^ y```|\tpower|\traises x to the yth power|\n",
    "|```x % y```|\tremainder|\tequivalent to ```rem(x,y)```|\n",
    "\n",
    "Boolean negation is given by ```!```"
   ]
  },
  {
   "cell_type": "markdown",
   "metadata": {
    "slideshow": {
     "slide_type": "subslide"
    }
   },
   "source": [
    " ### Updating operators\n",
    "Every binary arithmetic has an updating version that assigns the result of the operation back into its left operand. This functionality is assessed using ```=``` attached to the operator."
   ]
  },
  {
   "cell_type": "code",
   "execution_count": 51,
   "metadata": {
    "slideshow": {
     "slide_type": "fragment"
    }
   },
   "outputs": [
    {
     "data": {
      "text/plain": [
       "4"
      ]
     },
     "execution_count": 51,
     "metadata": {},
     "output_type": "execute_result"
    }
   ],
   "source": [
    "x = 1;\n",
    "x += 3"
   ]
  },
  {
   "cell_type": "code",
   "execution_count": 53,
   "metadata": {
    "slideshow": {
     "slide_type": "fragment"
    }
   },
   "outputs": [
    {
     "data": {
      "text/plain": [
       "4"
      ]
     },
     "execution_count": 53,
     "metadata": {},
     "output_type": "execute_result"
    }
   ],
   "source": [
    "x"
   ]
  },
  {
   "cell_type": "markdown",
   "metadata": {
    "slideshow": {
     "slide_type": "subslide"
    }
   },
   "source": [
    "### Piece-wise operations\n",
    "You can do piece-wise operation by attaching a dot to the operator, consider for example the not defined operation"
   ]
  },
  {
   "cell_type": "code",
   "execution_count": 55,
   "metadata": {
    "slideshow": {
     "slide_type": "fragment"
    }
   },
   "outputs": [
    {
     "ename": "MethodError",
     "evalue": "MethodError: no method matching ^(::Array{Int64,1}, ::Int64)\nClosest candidates are:\n  ^(!Matched::Float16, ::Integer) at math.jl:795\n  ^(!Matched::Missing, ::Integer) at missing.jl:124\n  ^(!Matched::Missing, ::Number) at missing.jl:97\n  ...",
     "output_type": "error",
     "traceback": [
      "MethodError: no method matching ^(::Array{Int64,1}, ::Int64)\nClosest candidates are:\n  ^(!Matched::Float16, ::Integer) at math.jl:795\n  ^(!Matched::Missing, ::Integer) at missing.jl:124\n  ^(!Matched::Missing, ::Number) at missing.jl:97\n  ...",
      "",
      "Stacktrace:",
      " [1] macro expansion at ./none:0 [inlined]",
      " [2] literal_pow(::typeof(^), ::Array{Int64,1}, ::Val{3}) at ./none:0",
      " [3] top-level scope at In[55]:1"
     ]
    }
   ],
   "source": [
    "[1,2,3] ^ 3"
   ]
  },
  {
   "cell_type": "markdown",
   "metadata": {
    "slideshow": {
     "slide_type": "fragment"
    }
   },
   "source": [
    "Suppose we want instead the following vector:\n",
    "$$\n",
    "\\begin{bmatrix}\n",
    "1^3 \\\\\n",
    "2^3 \\\\\n",
    "3^3\n",
    "\\end{bmatrix}\n",
    "$$"
   ]
  },
  {
   "cell_type": "code",
   "execution_count": 62,
   "metadata": {
    "slideshow": {
     "slide_type": "fragment"
    }
   },
   "outputs": [
    {
     "data": {
      "text/plain": [
       "3-element Array{Int64,1}:\n",
       "  1\n",
       "  8\n",
       " 27"
      ]
     },
     "execution_count": 62,
     "metadata": {},
     "output_type": "execute_result"
    }
   ],
   "source": [
    "[1,2,3] .^ 3"
   ]
  },
  {
   "cell_type": "markdown",
   "metadata": {
    "slideshow": {
     "slide_type": "subslide"
    }
   },
   "source": [
    "If you create a custom operator the piece-wise operation is enabled by default, an example"
   ]
  },
  {
   "cell_type": "code",
   "execution_count": 66,
   "metadata": {
    "slideshow": {
     "slide_type": "fragment"
    }
   },
   "outputs": [
    {
     "data": {
      "text/plain": [
       "3-element Array{Int64,1}:\n",
       "  2\n",
       "  6\n",
       " 12"
      ]
     },
     "execution_count": 66,
     "metadata": {},
     "output_type": "execute_result"
    }
   ],
   "source": [
    "⋅(A,B) = A*B;\n",
    "\n",
    "[1,2,3] .⋅ [2,3,4]"
   ]
  },
  {
   "cell_type": "markdown",
   "metadata": {
    "slideshow": {
     "slide_type": "subslide"
    }
   },
   "source": [
    "### Numeric Comparisons\n",
    "The following table gives a description of the possible comparison operators\n",
    "\n",
    "|Operator|\tName|\n",
    "|---|---|\n",
    "|```==```|\tequality|\n",
    "|```!=, ≠```|inequality|\n",
    "|```<```\t|less than|\n",
    "|```<=, ≤```|less than or equal to|\n",
    "|```>```|greater than|\n",
    "|```>=, ≥```|greater than or equal to|\n",
    "\n",
    "Other possible tests are\n",
    "\n",
    "|Function|\tTests if|\n",
    "|---|---|\n",
    "|```isequal(x, y)```|\tx and y are identical|\n",
    "|```isfinite(x)```|\tx is a finite number|\n",
    "|```isinf(x)```|\tx is infinite|\n",
    "|```isnan(x)```|\tx is not a number|\n"
   ]
  },
  {
   "cell_type": "code",
   "execution_count": 68,
   "metadata": {
    "slideshow": {
     "slide_type": "subslide"
    }
   },
   "outputs": [
    {
     "data": {
      "text/plain": [
       "true"
      ]
     },
     "execution_count": 68,
     "metadata": {},
     "output_type": "execute_result"
    }
   ],
   "source": [
    "1 == 1"
   ]
  },
  {
   "cell_type": "code",
   "execution_count": 69,
   "metadata": {
    "slideshow": {
     "slide_type": "fragment"
    }
   },
   "outputs": [
    {
     "data": {
      "text/plain": [
       "false"
      ]
     },
     "execution_count": 69,
     "metadata": {},
     "output_type": "execute_result"
    }
   ],
   "source": [
    "1 == 2"
   ]
  },
  {
   "cell_type": "code",
   "execution_count": 71,
   "metadata": {
    "slideshow": {
     "slide_type": "fragment"
    }
   },
   "outputs": [
    {
     "data": {
      "text/plain": [
       "true"
      ]
     },
     "execution_count": 71,
     "metadata": {},
     "output_type": "execute_result"
    }
   ],
   "source": [
    "1 != 2"
   ]
  },
  {
   "cell_type": "code",
   "execution_count": 73,
   "metadata": {
    "slideshow": {
     "slide_type": "fragment"
    }
   },
   "outputs": [
    {
     "data": {
      "text/plain": [
       "true"
      ]
     },
     "execution_count": 73,
     "metadata": {},
     "output_type": "execute_result"
    }
   ],
   "source": [
    "1 == 1.0"
   ]
  },
  {
   "cell_type": "code",
   "execution_count": 75,
   "metadata": {
    "slideshow": {
     "slide_type": "fragment"
    }
   },
   "outputs": [
    {
     "data": {
      "text/plain": [
       "true"
      ]
     },
     "execution_count": 75,
     "metadata": {},
     "output_type": "execute_result"
    }
   ],
   "source": [
    "1 < 2"
   ]
  },
  {
   "cell_type": "code",
   "execution_count": 77,
   "metadata": {
    "slideshow": {
     "slide_type": "fragment"
    }
   },
   "outputs": [
    {
     "data": {
      "text/plain": [
       "false"
      ]
     },
     "execution_count": 77,
     "metadata": {},
     "output_type": "execute_result"
    }
   ],
   "source": [
    "1.0 > 3"
   ]
  },
  {
   "cell_type": "code",
   "execution_count": 80,
   "metadata": {
    "slideshow": {
     "slide_type": "fragment"
    }
   },
   "outputs": [
    {
     "data": {
      "text/plain": [
       "true"
      ]
     },
     "execution_count": 80,
     "metadata": {},
     "output_type": "execute_result"
    }
   ],
   "source": [
    "isinf(log(0))"
   ]
  },
  {
   "cell_type": "markdown",
   "metadata": {
    "slideshow": {
     "slide_type": "subslide"
    }
   },
   "source": [
    "### Exercises\n",
    "#### Ex 1\n",
    "Given the following set of numbers:\n",
    "$$\n",
    "A = \n",
    "\\begin{bmatrix}\n",
    "1 \\\\\n",
    "2 \\\\\n",
    "3 \\\\\n",
    "4 \\\\\n",
    "5 \\\\\n",
    "6 \\\\\n",
    "7 \\\\\n",
    "8 \\\\\n",
    "9 \\\\\n",
    "10\n",
    "\\end{bmatrix}\n",
    "$$\n",
    "\n",
    "Create the set $B$ and $C$ containing respectively the even and odd numbers of $A$. In other words find:\n",
    "$$\n",
    "B = \\{x \\in A | x \\text{ is even}\\}\n",
    "$$\n",
    "\n",
    "$$\n",
    "C = \\{x \\in A | x \\text{ is odd}\\}\n",
    "$$"
   ]
  },
  {
   "cell_type": "markdown",
   "metadata": {
    "slideshow": {
     "slide_type": "subslide"
    }
   },
   "source": [
    "#### Solution\n",
    "Even numbers are numbers that divided by 2 have no reminder conversely the opposite are odd numbers, using the operators we saw previously"
   ]
  },
  {
   "cell_type": "code",
   "execution_count": 18,
   "metadata": {
    "slideshow": {
     "slide_type": "fragment"
    }
   },
   "outputs": [
    {
     "name": "stdout",
     "output_type": "stream",
     "text": [
      "[2, 4, 6, 8, 10]"
     ]
    }
   ],
   "source": [
    "A = [1,2,3,4,5,6,7,8,9,10];\n",
    "\n",
    "B = A[A .% 2 .== 0];\n",
    "print(B)"
   ]
  },
  {
   "cell_type": "code",
   "execution_count": 19,
   "metadata": {
    "slideshow": {
     "slide_type": "fragment"
    }
   },
   "outputs": [
    {
     "name": "stdout",
     "output_type": "stream",
     "text": [
      "[1, 3, 5, 7, 9]"
     ]
    }
   ],
   "source": [
    "C = A[.!(A .% 2 .== 0)];\n",
    "\n",
    "print(C)"
   ]
  },
  {
   "cell_type": "markdown",
   "metadata": {
    "slideshow": {
     "slide_type": "subslide"
    }
   },
   "source": [
    "#### Ex 2\n",
    "Given the set of numbers:\n",
    "$$\n",
    "A = [1\\dots 100]\n",
    "$$\n",
    "Define the set $B$ containing all the multiple of $3$ that are greater than $50$"
   ]
  },
  {
   "cell_type": "markdown",
   "metadata": {
    "slideshow": {
     "slide_type": "subslide"
    }
   },
   "source": [
    "#### Solution\n",
    "The solution is as simple as:"
   ]
  },
  {
   "cell_type": "code",
   "execution_count": 1,
   "metadata": {
    "slideshow": {
     "slide_type": "fragment"
    }
   },
   "outputs": [
    {
     "data": {
      "text/plain": [
       "17-element Array{Int64,1}:\n",
       " 51\n",
       " 54\n",
       " 57\n",
       " 60\n",
       " 63\n",
       " 66\n",
       " 69\n",
       " 72\n",
       " 75\n",
       " 78\n",
       " 81\n",
       " 84\n",
       " 87\n",
       " 90\n",
       " 93\n",
       " 96\n",
       " 99"
      ]
     },
     "execution_count": 1,
     "metadata": {},
     "output_type": "execute_result"
    }
   ],
   "source": [
    "A = 1:100;\n",
    "B = A[(A .% 3 .== 0) .& (A .> 50)]"
   ]
  },
  {
   "cell_type": "markdown",
   "metadata": {},
   "source": [
    "### Final remarks\n",
    "In Julia there are plenty of math operation implemented by default, you can have a look at them at the [official documentation](https://docs.julialang.org/en/v1/manual/mathematical-operations/#Operator-Precedence-and-Associativity-1)."
   ]
  },
  {
   "cell_type": "markdown",
   "metadata": {
    "slideshow": {
     "slide_type": "slide"
    }
   },
   "source": [
    "## Lecture 3\n",
    "### Julia Programming (Part 2)\n",
    "### Date: 12.10"
   ]
  },
  {
   "cell_type": "markdown",
   "metadata": {
    "slideshow": {
     "slide_type": "subslide"
    }
   },
   "source": [
    "### Linear Algebra\n",
    "In order to use all the linear algebra functions we need to use the ad-hoc package"
   ]
  },
  {
   "cell_type": "code",
   "execution_count": 26,
   "metadata": {
    "slideshow": {
     "slide_type": "fragment"
    }
   },
   "outputs": [],
   "source": [
    "using LinearAlgebra"
   ]
  },
  {
   "cell_type": "markdown",
   "metadata": {
    "slideshow": {
     "slide_type": "subslide"
    }
   },
   "source": [
    "As we saw in the last lecture, initializing a vector is as simple as:"
   ]
  },
  {
   "cell_type": "code",
   "execution_count": 34,
   "metadata": {
    "slideshow": {
     "slide_type": "fragment"
    }
   },
   "outputs": [
    {
     "data": {
      "text/plain": [
       "1×3 Array{Int64,2}:\n",
       " 1  2  3"
      ]
     },
     "execution_count": 34,
     "metadata": {},
     "output_type": "execute_result"
    }
   ],
   "source": [
    "A = [1 2 3]"
   ]
  },
  {
   "cell_type": "markdown",
   "metadata": {
    "slideshow": {
     "slide_type": "fragment"
    }
   },
   "source": [
    "Using commas you are creating a column vector, but **be careful**"
   ]
  },
  {
   "cell_type": "code",
   "execution_count": 35,
   "metadata": {
    "slideshow": {
     "slide_type": "fragment"
    }
   },
   "outputs": [
    {
     "data": {
      "text/plain": [
       "true"
      ]
     },
     "execution_count": 35,
     "metadata": {},
     "output_type": "execute_result"
    }
   ],
   "source": [
    "[1,2,3]' == A"
   ]
  },
  {
   "cell_type": "code",
   "execution_count": 36,
   "metadata": {
    "slideshow": {
     "slide_type": "fragment"
    }
   },
   "outputs": [
    {
     "data": {
      "text/plain": [
       "false"
      ]
     },
     "execution_count": 36,
     "metadata": {},
     "output_type": "execute_result"
    }
   ],
   "source": [
    "[1,2,3] == A'"
   ]
  },
  {
   "cell_type": "markdown",
   "metadata": {
    "slideshow": {
     "slide_type": "subslide"
    }
   },
   "source": [
    "And for a matrix you can simply use a semicolon ```;``` to define the new rows"
   ]
  },
  {
   "cell_type": "code",
   "execution_count": 37,
   "metadata": {
    "slideshow": {
     "slide_type": "fragment"
    }
   },
   "outputs": [
    {
     "data": {
      "text/plain": [
       "3×3 Array{Int64,2}:\n",
       " 1  2  3\n",
       " 4  5  6\n",
       " 7  8  9"
      ]
     },
     "execution_count": 37,
     "metadata": {},
     "output_type": "execute_result"
    }
   ],
   "source": [
    "B = [ 1  2  3; 4  5  6; 7 8 9]"
   ]
  },
  {
   "cell_type": "markdown",
   "metadata": {
    "slideshow": {
     "slide_type": "fragment"
    }
   },
   "source": [
    "You can access the element of a matrix using ```[i,j]``` where ```i``` represent the row and ```j``` the column an example"
   ]
  },
  {
   "cell_type": "code",
   "execution_count": 23,
   "metadata": {
    "slideshow": {
     "slide_type": "fragment"
    }
   },
   "outputs": [
    {
     "data": {
      "text/plain": [
       "3"
      ]
     },
     "execution_count": 23,
     "metadata": {},
     "output_type": "execute_result"
    }
   ],
   "source": [
    "B[1,3]"
   ]
  },
  {
   "cell_type": "markdown",
   "metadata": {
    "slideshow": {
     "slide_type": "fragment"
    }
   },
   "source": [
    "you can access more than just an element using ranges"
   ]
  },
  {
   "cell_type": "code",
   "execution_count": 25,
   "metadata": {
    "slideshow": {
     "slide_type": "fragment"
    }
   },
   "outputs": [
    {
     "data": {
      "text/plain": [
       "3×2 Array{Int64,2}:\n",
       " 1  2\n",
       " 4  5\n",
       " 7  8"
      ]
     },
     "execution_count": 25,
     "metadata": {},
     "output_type": "execute_result"
    }
   ],
   "source": [
    "B[1:3,1:2]"
   ]
  },
  {
   "cell_type": "markdown",
   "metadata": {
    "slideshow": {
     "slide_type": "subslide"
    }
   },
   "source": [
    "### Exercises\n",
    "#### Ex 1\n",
    "Given $A = \\begin{bmatrix} 1 & 2 & -3 \\\\ 5 & 0 & 2 \\\\ 1 & -1 & 1 \\end{bmatrix}$, $B = \\begin{bmatrix} 3 & -1 & 2 \\\\ 4 & 2 & 5 \\\\ 2 & 0 & 3 \\end{bmatrix}$ and $C = \\begin{bmatrix} 4 & 1 & 2 \\\\ 0 & 3 & 2 \\\\ 1 & -2 & 3 \\end{bmatrix}$ then compute:\n",
    "* $AB$\n",
    "* $BA$\n",
    "* $A(BC)$\n",
    "* $(AB)C$"
   ]
  },
  {
   "cell_type": "markdown",
   "metadata": {
    "slideshow": {
     "slide_type": "subslide"
    }
   },
   "source": [
    "#### Solution"
   ]
  },
  {
   "cell_type": "code",
   "execution_count": 8,
   "metadata": {
    "slideshow": {
     "slide_type": "fragment"
    }
   },
   "outputs": [],
   "source": [
    "A = [1 2 -3; 5 0 2; 1 -1 1];\n",
    "B = [3 -1 2; 4 2 5; 2 0 3];\n",
    "C = [4 1 2; 0 3 2; 1 -2 3];"
   ]
  },
  {
   "cell_type": "code",
   "execution_count": 19,
   "metadata": {
    "slideshow": {
     "slide_type": "fragment"
    }
   },
   "outputs": [
    {
     "data": {
      "text/latex": [
       "\\begin{equation}\n",
       "\\left[\n",
       "\\begin{array}{ccc}\n",
       "5 & 3 & 3 \\\\\n",
       "19 & -5 & 16 \\\\\n",
       "1 & -3 & 0 \\\\\n",
       "\\end{array}\n",
       "\\right]\n",
       "\\end{equation}\n"
      ],
      "text/plain": [
       "L\"\\begin{equation}\n",
       "\\left[\n",
       "\\begin{array}{ccc}\n",
       "5 & 3 & 3 \\\\\n",
       "19 & -5 & 16 \\\\\n",
       "1 & -3 & 0 \\\\\n",
       "\\end{array}\n",
       "\\right]\n",
       "\\end{equation}\n",
       "\""
      ]
     },
     "execution_count": 19,
     "metadata": {},
     "output_type": "execute_result"
    }
   ],
   "source": [
    "using Latexify\n",
    "\n",
    "latexify(A*B)"
   ]
  },
  {
   "cell_type": "code",
   "execution_count": 20,
   "metadata": {
    "slideshow": {
     "slide_type": "fragment"
    }
   },
   "outputs": [
    {
     "data": {
      "text/latex": [
       "\\begin{equation}\n",
       "\\left[\n",
       "\\begin{array}{ccc}\n",
       "0 & 4 & -9 \\\\\n",
       "19 & 3 & -3 \\\\\n",
       "5 & 1 & -3 \\\\\n",
       "\\end{array}\n",
       "\\right]\n",
       "\\end{equation}\n"
      ],
      "text/plain": [
       "L\"\\begin{equation}\n",
       "\\left[\n",
       "\\begin{array}{ccc}\n",
       "0 & 4 & -9 \\\\\n",
       "19 & 3 & -3 \\\\\n",
       "5 & 1 & -3 \\\\\n",
       "\\end{array}\n",
       "\\right]\n",
       "\\end{equation}\n",
       "\""
      ]
     },
     "execution_count": 20,
     "metadata": {},
     "output_type": "execute_result"
    }
   ],
   "source": [
    "latexify(B*A)"
   ]
  },
  {
   "cell_type": "code",
   "execution_count": 21,
   "metadata": {
    "slideshow": {
     "slide_type": "fragment"
    }
   },
   "outputs": [
    {
     "data": {
      "text/latex": [
       "\\begin{equation}\n",
       "\\left[\n",
       "\\begin{array}{ccc}\n",
       "23 & 8 & 25 \\\\\n",
       "92 & -28 & 76 \\\\\n",
       "4 & -8 & -4 \\\\\n",
       "\\end{array}\n",
       "\\right]\n",
       "\\end{equation}\n"
      ],
      "text/plain": [
       "L\"\\begin{equation}\n",
       "\\left[\n",
       "\\begin{array}{ccc}\n",
       "23 & 8 & 25 \\\\\n",
       "92 & -28 & 76 \\\\\n",
       "4 & -8 & -4 \\\\\n",
       "\\end{array}\n",
       "\\right]\n",
       "\\end{equation}\n",
       "\""
      ]
     },
     "execution_count": 21,
     "metadata": {},
     "output_type": "execute_result"
    }
   ],
   "source": [
    "latexify(A*(B*C))"
   ]
  },
  {
   "cell_type": "code",
   "execution_count": 22,
   "metadata": {
    "slideshow": {
     "slide_type": "fragment"
    }
   },
   "outputs": [
    {
     "data": {
      "text/latex": [
       "\\begin{equation}\n",
       "\\left[\n",
       "\\begin{array}{ccc}\n",
       "23 & 8 & 25 \\\\\n",
       "92 & -28 & 76 \\\\\n",
       "4 & -8 & -4 \\\\\n",
       "\\end{array}\n",
       "\\right]\n",
       "\\end{equation}\n"
      ],
      "text/plain": [
       "L\"\\begin{equation}\n",
       "\\left[\n",
       "\\begin{array}{ccc}\n",
       "23 & 8 & 25 \\\\\n",
       "92 & -28 & 76 \\\\\n",
       "4 & -8 & -4 \\\\\n",
       "\\end{array}\n",
       "\\right]\n",
       "\\end{equation}\n",
       "\""
      ]
     },
     "execution_count": 22,
     "metadata": {},
     "output_type": "execute_result"
    }
   ],
   "source": [
    "latexify((A*B)*C)"
   ]
  },
  {
   "cell_type": "markdown",
   "metadata": {
    "slideshow": {
     "slide_type": "subslide"
    }
   },
   "source": [
    "#### Ex 2\n",
    "Given $A = \\begin{bmatrix} 2 & 2 \\\\ 1 & 5 \\end{bmatrix}$ and $I = \\begin{bmatrix} 1 & 0 \\\\ 0 & 1 \\end{bmatrix}$ find $C$ such that:\n",
    "$$\n",
    "(A-2I)C=I\n",
    "$$"
   ]
  },
  {
   "cell_type": "markdown",
   "metadata": {
    "slideshow": {
     "slide_type": "subslide"
    }
   },
   "source": [
    "#### Solution"
   ]
  },
  {
   "cell_type": "code",
   "execution_count": 30,
   "metadata": {
    "slideshow": {
     "slide_type": "fragment"
    }
   },
   "outputs": [
    {
     "data": {
      "text/plain": [
       "2×2 Array{Float64,2}:\n",
       " 0.0  2.0\n",
       " 1.0  3.0"
      ]
     },
     "execution_count": 30,
     "metadata": {},
     "output_type": "execute_result"
    }
   ],
   "source": [
    "A = [2 2; 1 5];\n",
    "\n",
    "D = (A-2(zeros(2,2) + I))"
   ]
  },
  {
   "cell_type": "code",
   "execution_count": 33,
   "metadata": {
    "slideshow": {
     "slide_type": "fragment"
    }
   },
   "outputs": [
    {
     "data": {
      "text/latex": [
       "\\begin{equation}\n",
       "\\left[\n",
       "\\begin{array}{cc}\n",
       "-1.5 & 1.0 \\\\\n",
       "0.5 & 0.0 \\\\\n",
       "\\end{array}\n",
       "\\right]\n",
       "\\end{equation}\n"
      ],
      "text/plain": [
       "L\"\\begin{equation}\n",
       "\\left[\n",
       "\\begin{array}{cc}\n",
       "-1.5 & 1.0 \\\\\n",
       "0.5 & 0.0 \\\\\n",
       "\\end{array}\n",
       "\\right]\n",
       "\\end{equation}\n",
       "\""
      ]
     },
     "execution_count": 33,
     "metadata": {},
     "output_type": "execute_result"
    }
   ],
   "source": [
    "latexify(I/D)"
   ]
  },
  {
   "cell_type": "markdown",
   "metadata": {
    "slideshow": {
     "slide_type": "subslide"
    }
   },
   "source": [
    "#### Ex 3\n",
    "Solve the following systems:\n",
    "1. $ \\begin{matrix} x_1 + x_2 &=& 3 \\\\ 3x_1 + 5x_2 &=& 5 \\end{matrix} $\n",
    "\n",
    "\n",
    "2. $ \\begin{matrix} x_1 + 2x_2 + x_3 &=& 4 \\\\ x_1 - x_2 + x_3 &=& 5 \\\\ 2x_1 + 3x_2 - x_3 &=& 1 \\end{matrix} $\n",
    "\n",
    "\n",
    "3. $ \\begin{matrix} 2x_1 - 3x_2 + x_3 &=& 0 \\\\ x_1 + x_2 - x_3 &=& 0 \\end{matrix} $\n",
    "\n",
    "**hint**: if you want to use Gaussian-Jordan elimination load, the library ```RowEchelon```\n"
   ]
  },
  {
   "cell_type": "markdown",
   "metadata": {
    "slideshow": {
     "slide_type": "subslide"
    }
   },
   "source": [
    "#### Solution"
   ]
  },
  {
   "cell_type": "code",
   "execution_count": 42,
   "metadata": {
    "slideshow": {
     "slide_type": "fragment"
    }
   },
   "outputs": [
    {
     "data": {
      "text/plain": [
       "2-element Array{Float64,1}:\n",
       "  5.0\n",
       " -2.0"
      ]
     },
     "execution_count": 42,
     "metadata": {},
     "output_type": "execute_result"
    }
   ],
   "source": [
    "A = [1 1; 3 5]\n",
    "B = [3; 5]\n",
    "\n",
    "A \\ B"
   ]
  },
  {
   "cell_type": "code",
   "execution_count": 46,
   "metadata": {
    "slideshow": {
     "slide_type": "fragment"
    }
   },
   "outputs": [
    {
     "data": {
      "text/plain": [
       "3-element Array{Float64,1}:\n",
       "  2.2222222222222223\n",
       " -0.3333333333333333\n",
       "  2.444444444444444 "
      ]
     },
     "execution_count": 46,
     "metadata": {},
     "output_type": "execute_result"
    }
   ],
   "source": [
    "A = [1 2 1; 1 -1 1; 2 3 -1]\n",
    "B = [4; 5; 1]\n",
    "\n",
    "A \\ B"
   ]
  },
  {
   "cell_type": "code",
   "execution_count": 49,
   "metadata": {
    "slideshow": {
     "slide_type": "fragment"
    }
   },
   "outputs": [
    {
     "data": {
      "text/plain": [
       "2×4 Array{Float64,2}:\n",
       " 1.0  0.0  -0.4  0.0\n",
       " 0.0  1.0  -0.6  0.0"
      ]
     },
     "execution_count": 49,
     "metadata": {},
     "output_type": "execute_result"
    }
   ],
   "source": [
    "using RowEchelon\n",
    "\n",
    "Augmented = [2 -3 1 0; 1 1 -1 0]\n",
    "\n",
    "rref(Augmented)"
   ]
  },
  {
   "cell_type": "markdown",
   "metadata": {},
   "source": [
    "### Printing "
   ]
  },
  {
   "cell_type": "code",
   "execution_count": null,
   "metadata": {},
   "outputs": [],
   "source": []
  },
  {
   "cell_type": "markdown",
   "metadata": {},
   "source": [
    "### Control flow and Functions"
   ]
  },
  {
   "cell_type": "code",
   "execution_count": null,
   "metadata": {},
   "outputs": [],
   "source": []
  },
  {
   "cell_type": "code",
   "execution_count": null,
   "metadata": {},
   "outputs": [],
   "source": []
  },
  {
   "cell_type": "markdown",
   "metadata": {},
   "source": []
  },
  {
   "cell_type": "markdown",
   "metadata": {
    "slideshow": {
     "slide_type": "slide"
    }
   },
   "source": [
    "## Lecture 4\n",
    "### Linear Optimization with JuMP\n",
    "### Date: 19.10"
   ]
  },
  {
   "cell_type": "markdown",
   "metadata": {
    "slideshow": {
     "slide_type": "slide"
    }
   },
   "source": [
    "## Lecture 5 \n",
    "### Non Linear Optimization with JuMP (Part 1)\n",
    "### Date: 26.10"
   ]
  },
  {
   "cell_type": "markdown",
   "metadata": {
    "slideshow": {
     "slide_type": "slide"
    }
   },
   "source": [
    "## Lecture 6\n",
    "### Non Linear Optimization with JuMP (Part 2)\n",
    "### Date: 30.10"
   ]
  },
  {
   "cell_type": "markdown",
   "metadata": {
    "slideshow": {
     "slide_type": "slide"
    }
   },
   "source": [
    "## Lecture 7\n",
    "### Optimization in Matlab\n",
    "### Date: 31.10"
   ]
  },
  {
   "cell_type": "markdown",
   "metadata": {
    "slideshow": {
     "slide_type": "slide"
    }
   },
   "source": [
    "## Lecture 8\n",
    "### Ordinary Differential Equation with Matlab (Part 1)\n",
    "### Date: 09.11"
   ]
  },
  {
   "cell_type": "markdown",
   "metadata": {
    "slideshow": {
     "slide_type": "slide"
    }
   },
   "source": [
    "## Lecture 9\n",
    "### Ordinary Differential Equation with Matlab (Part 2)\n",
    "### Date: 16.11"
   ]
  },
  {
   "cell_type": "markdown",
   "metadata": {
    "slideshow": {
     "slide_type": "slide"
    }
   },
   "source": [
    "## Lecture 10 \n",
    "### Partial Differential Equation with Matlab\n",
    "### Date: 23.11"
   ]
  }
 ],
 "metadata": {
  "celltoolbar": "Slideshow",
  "kernelspec": {
   "display_name": "Julia 1.1.0",
   "language": "julia",
   "name": "julia-1.1"
  },
  "language_info": {
   "file_extension": ".jl",
   "mimetype": "application/julia",
   "name": "julia",
   "version": "1.1.0"
  },
  "rise": {
   "autolaunch": false,
   "enable_chalkboard": true,
   "scroll": true
  }
 },
 "nbformat": 4,
 "nbformat_minor": 4
}
