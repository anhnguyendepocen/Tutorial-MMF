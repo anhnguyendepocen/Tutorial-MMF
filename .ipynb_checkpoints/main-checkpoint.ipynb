{
 "cells": [
  {
   "cell_type": "markdown",
   "metadata": {
    "slideshow": {
     "slide_type": "slide"
    }
   },
   "source": [
    "# Mathematical Methods for Finance\n",
    "## Tutorial Notebook\n",
    "### Author: Marco Repetto*\n",
    "\n",
    "&nbsp;\n",
    "\n",
    "&nbsp;\n",
    "\n",
    "&nbsp;\n",
    "\n",
    "*Data Scientist at Siemens, PhD candidate in Economics and Statistics at Università degli Studi Milano Bicocca \n",
    "\n"
   ]
  },
  {
   "cell_type": "markdown",
   "metadata": {
    "slideshow": {
     "slide_type": "slide"
    }
   },
   "source": [
    "## Where you can find this tutorial notebook\n",
    "This tutorial is available in an ad-hoc repository I created on Github at [https://github.com/mrepetto94/Tutorial-MMF](https://github.com/mrepetto94/Tutorial-MMF) ."
   ]
  },
  {
   "cell_type": "markdown",
   "metadata": {
    "slideshow": {
     "slide_type": "slide"
    }
   },
   "source": [
    "## Tutorial outline\n",
    "1. Workstation set-up\n",
    "2. Julia Programming (part 1)\n",
    "3. Julia Programming (part 2)\n",
    "4. Linear Optimization with JuMP\n",
    "5. Non Linear Optimization with JuMP (Part 1)\n",
    "6. Non Linear Optimization with JuMP (Part 2)\n",
    "7. Non Linear Optimization in MATLAB\n",
    "8. Ordinary Differential Equation with MATLAB (Part 1)\n",
    "9. Ordinary Differential Equation with MATLAB (Part 2)\n",
    "10. Partial Differential Equation with MATLAB"
   ]
  },
  {
   "cell_type": "markdown",
   "metadata": {
    "slideshow": {
     "slide_type": "slide"
    }
   },
   "source": [
    "## Lecture 1\n",
    "### Workstation set-up\n",
    "### Date: 28.09"
   ]
  },
  {
   "cell_type": "markdown",
   "metadata": {
    "slideshow": {
     "slide_type": "skip"
    }
   },
   "source": [
    "### Outline\n",
    "* The Julia language\n",
    "* Why Julia?\n",
    "* How to install Julia\n",
    "* How to install Packages into Julia with Pkg\n",
    "* Necessary packages for this course\n",
    "    * JuMP\n",
    "    * GLPK\n",
    "    * Coin-Or\n",
    "* On Julia Developing Environments\n",
    "    * JUNO\n",
    "    * Jupyter\n",
    "    * Emacs\n",
    "* MATLAB\n",
    "* Why MATLAB?\n",
    "* How to install MATLAB\n",
    "* Octave: a MATLAB emulator"
   ]
  },
  {
   "cell_type": "markdown",
   "metadata": {
    "slideshow": {
     "slide_type": "subslide"
    }
   },
   "source": [
    "### The Julia language\n",
    "*Julia is a **high-level programming** language designed for **high-performance** numerical analysis and computational science.*  -Wikipedia"
   ]
  },
  {
   "cell_type": "markdown",
   "metadata": {
    "slideshow": {
     "slide_type": "subslide"
    }
   },
   "source": [
    "### Why Julia?\n",
    "Many reasons... But chiefly:\n",
    "1. Julia is fast\n",
    "2. Dynamic\n",
    "3. Optionally typed\n",
    "4. General\n",
    "5. Easy to use\n",
    "6. Open source"
   ]
  },
  {
   "cell_type": "markdown",
   "metadata": {
    "slideshow": {
     "slide_type": "subslide"
    }
   },
   "source": [
    "### How to install Julia\n",
    "#### Mac\n",
    "##### Recommended way: Homebrew\n",
    "* Step 1: open the terminal\n",
    "* Step 2: visit [https://brew.sh/](https://brew.sh/), copy and paste the install Homebrew instructions into the terminal and run it, this command may require you to give super user privileges (you'll be asked to prompt the password)\n",
    "* Step 3: to install Julia type in the terminal ```brew cask install julia```\n",
    "* Step 4: now type ```julia``` in the terminal to check whether PATH was updated correctly\n",
    "\n",
    "##### Not recommended way \n",
    "Download the .dmg installation package from [https://julialang.org/downloads/](https://julialang.org/downloads/) and run it."
   ]
  },
  {
   "cell_type": "markdown",
   "metadata": {
    "slideshow": {
     "slide_type": "subslide"
    }
   },
   "source": [
    "#### Windows\n",
    "* Step 1: Download the .exe installation package from [https://julialang.org/downloads/](https://julialang.org/downloads/) and run it\n",
    "* Step 2: Install Julia in ```C:\\julia``` or the default destination\n",
    "* Step 3: Open the Command Prompt and type ``` setx PATH \"%PATH%;\"your julia installation\"\\bin\" ``` where ```\"your julia installation\"``` means the destination of the Julia's installation folder;\n",
    "* Step 4: Check whether you successfully updated the path by typing ```echo %PATH%```\n",
    "* Step 5: Type ```julia``` in the Prompt or in the PowerShell "
   ]
  },
  {
   "cell_type": "markdown",
   "metadata": {
    "slideshow": {
     "slide_type": "subslide"
    }
   },
   "source": [
    "#### GNU/Linux\n",
    "Simply open the terminal and type ```julia```, the package manager of your distribution will do the rest."
   ]
  },
  {
   "cell_type": "markdown",
   "metadata": {
    "slideshow": {
     "slide_type": "subslide"
    }
   },
   "source": [
    "### How to install Packages into Julia with Pkg\n",
    "To install packages into Julia simply start it, by typing ```julia``` in the prompt/terminal, then press ```]```. Alternatively you can load the the Pkg library and type:\n",
    "```julia\n",
    "using Pkg\n",
    "\n",
    "Pkg.add(\"The package to install\")\n",
    "```"
   ]
  },
  {
   "cell_type": "markdown",
   "metadata": {
    "slideshow": {
     "slide_type": "subslide"
    }
   },
   "source": [
    "### Necessary packages for this course\n",
    "#### GLPK\n",
    "GLPK stands for GNU Linear Programming Kit which is a Mixed Integer Linear Programming (MILP) solver, you can install it by typing: ``` Pkg.add(\"GLPK\") ```.\n",
    "#### Optim\n",
    "The package implements some optimization algorithms for unconstrained nonlinear optimization problems. You can install it by typing: ``` Pkg.add(\"Optim\") ```.\n",
    "#### Ipopt\n",
    "Ipopt stands for Interior Point OPTimizer, is a solver for constrained nonlinear optimization problems. You can install it by typing: ``` Pkg.add(\"Ipopt\") ```.\n",
    "#### JuMP\n",
    "JuMP is a domain-specific modeling language for mathematical optimization embedded in Julia. The main aim of JuMP is to make it easier to specify and solve optimization problems.  You can install it by typing: ```Pkg.add(\"JuMP\") ```."
   ]
  },
  {
   "cell_type": "markdown",
   "metadata": {
    "slideshow": {
     "slide_type": "subslide"
    }
   },
   "source": [
    "### On Julia Developing Environments\n",
    "<img src=\"img/real_programmers.png\">"
   ]
  },
  {
   "cell_type": "markdown",
   "metadata": {
    "slideshow": {
     "slide_type": "subslide"
    }
   },
   "source": [
    "#### Jupyter\n",
    "Jupyter notebooks are **interactive programming environments** that allow for the framework of **literate computing**. This very notebook/slide-show is a Jupyter notebook. To install it on your machine you need to install Python and the IJulia package, you can do that with the following code:\n",
    "```julia\n",
    "ENV[\"PYTHON\"] = \"\"\n",
    "\"\"\n",
    "\n",
    "ENV[\"JUPYTER\"] = \"\"\n",
    "\"\"\n",
    "\n",
    "using Pkg\n",
    "Pkg.add(\"IJulia\")\n",
    "\n",
    "\n",
    "\n",
    "using IJulia\n",
    "notebook() #To open the IJulia notebook\n",
    "```"
   ]
  },
  {
   "cell_type": "markdown",
   "metadata": {
    "slideshow": {
     "slide_type": "subslide"
    }
   },
   "source": [
    "#### JUNO\n",
    "Juno is a powerful yet flexible fully-fledged IDE built on top of Atom text editor, in order to install it follow these steps:\n",
    "1. Download, install and open Atom you find it at [https://atom.io/](https://atom.io/)\n",
    "2. In Atom, go to Settings and go to the \"Install\" panel\n",
    "3. Type ```uber-juno``` into the search box and hit enter\n",
    "4. Click the install button on the package of the same name"
   ]
  },
  {
   "cell_type": "markdown",
   "metadata": {
    "slideshow": {
     "slide_type": "subslide"
    }
   },
   "source": [
    "#### Other IDEs\n",
    "##### Emacs\n",
    "Emacs is not simply an IDE, its almost a operating system! You can edit notebooks produce documents with Julia snippets and many more things. The main drawback is the learning curve it carries.\n",
    "##### Vi\n",
    "The Vi is probably the most important text editor used nowadays. It is so important that is packaged by default into both Mac and GNU/Linux systems. Simply type ```vi``` in terminal. The Vi has the same drawback as Emacs, meaning that for a common user is not the most immediate alternative."
   ]
  },
  {
   "cell_type": "markdown",
   "metadata": {
    "slideshow": {
     "slide_type": "subslide"
    }
   },
   "source": [
    "### MATLAB\n",
    "*MATLAB, stand for matrix laboratory, is a **multi-paradigm numerical computing environment** and **proprietary** programming language developed by MathWorks. MATLAB allows **matrix manipulations**, **plotting of functions and data**, implementation of algorithms, and creation of user interfaces.* -Wikipedia"
   ]
  },
  {
   "cell_type": "markdown",
   "metadata": {
    "slideshow": {
     "slide_type": "subslide"
    }
   },
   "source": [
    "### Why MATLAB?\n",
    "1. Is proprietary\n",
    "2. MATLAB has 35 years history\n",
    "3. Is a well established standard\n",
    "4. Academia and professionals built a lot on top of it"
   ]
  },
  {
   "cell_type": "markdown",
   "metadata": {
    "slideshow": {
     "slide_type": "subslide"
    }
   },
   "source": [
    "### How to install MATLAB\n",
    "* Step 1: register to [https://www.mathworks.com/academia/tah-portal/universita-degli-studi-di-milano-968349.html](https://www.mathworks.com/academia/tah-portal/universita-degli-studi-di-milano-968349.html) with your university mail and download the installer\n",
    "* Step 2: run the installer and install MATLAB\n",
    "* Step 3: register your copy of MATLAB using the university login you created in Mathworks\n",
    "\n",
    "**Please do not use cracked versions of MATLAB as there are open-source alternatives to it!**"
   ]
  },
  {
   "cell_type": "markdown",
   "metadata": {
    "slideshow": {
     "slide_type": "subslide"
    }
   },
   "source": [
    "### Octave: a MATLAB emulator\n",
    "*GNU Octave is a **high-level language**, primarily intended for **numerical computations**. It provides a convenient command line interface for solving linear and nonlinear problems numerically, and for performing other numerical experiments, using a language that is **mostly compatible with MATLAB**.* -GNU Octave wiki"
   ]
  },
  {
   "cell_type": "markdown",
   "metadata": {
    "slideshow": {
     "slide_type": "slide"
    }
   },
   "source": [
    "## Lecture 2\n",
    "### Julia Programming (Part 1)\n",
    "### Date: 05.10"
   ]
  },
  {
   "cell_type": "markdown",
   "metadata": {
    "slideshow": {
     "slide_type": "slide"
    }
   },
   "source": [
    "## Lecture 3\n",
    "### Julia Programming (Part 2)\n",
    "### Date: 12.10"
   ]
  },
  {
   "cell_type": "markdown",
   "metadata": {
    "slideshow": {
     "slide_type": "slide"
    }
   },
   "source": [
    "## Lecture 4\n",
    "### Linear Optimization with JuMP\n",
    "### Date: 19.10"
   ]
  },
  {
   "cell_type": "markdown",
   "metadata": {
    "slideshow": {
     "slide_type": "slide"
    }
   },
   "source": [
    "## Lecture 5 \n",
    "### Non Linear Optimization with JuMP (Part 1)\n",
    "### Date: 26.10"
   ]
  },
  {
   "cell_type": "markdown",
   "metadata": {
    "slideshow": {
     "slide_type": "slide"
    }
   },
   "source": [
    "## Lecture 6\n",
    "### Non Linear Optimization with JuMP (Part 2)\n",
    "### Date: 30.10"
   ]
  },
  {
   "cell_type": "markdown",
   "metadata": {
    "slideshow": {
     "slide_type": "slide"
    }
   },
   "source": [
    "## Lecture 7\n",
    "### Optimization in Matlab\n",
    "### Date: 31.10"
   ]
  },
  {
   "cell_type": "markdown",
   "metadata": {
    "slideshow": {
     "slide_type": "slide"
    }
   },
   "source": [
    "## Lecture 8\n",
    "### Ordinary Differential Equation with Matlab (Part 1)\n",
    "### Date: 09.11"
   ]
  },
  {
   "cell_type": "markdown",
   "metadata": {
    "slideshow": {
     "slide_type": "slide"
    }
   },
   "source": [
    "## Lecture 9\n",
    "### Ordinary Differential Equation with Matlab (Part 2)\n",
    "### Date: 16.11"
   ]
  },
  {
   "cell_type": "markdown",
   "metadata": {
    "slideshow": {
     "slide_type": "slide"
    }
   },
   "source": [
    "## Lecture 10 \n",
    "### Partial Differential Equation with Matlab\n",
    "### Date: 23.11"
   ]
  }
 ],
 "metadata": {
  "celltoolbar": "Slideshow",
  "kernelspec": {
   "display_name": "Julia 1.1.0",
   "language": "julia",
   "name": "julia-1.1"
  },
  "language_info": {
   "file_extension": ".jl",
   "mimetype": "application/julia",
   "name": "julia",
   "version": "1.1.0"
  },
  "rise": {
   "autolaunch": false,
   "enable_chalkboard": true,
   "scroll": true
  }
 },
 "nbformat": 4,
 "nbformat_minor": 4
}
