{
 "cells": [
  {
   "cell_type": "markdown",
   "metadata": {
    "slideshow": {
     "slide_type": "slide"
    }
   },
   "source": [
    "# Lecture 6\n",
    "## Linear Optimization with JuMP (Part 1)\n",
    "## Date: 14.11"
   ]
  },
  {
   "cell_type": "markdown",
   "metadata": {
    "slideshow": {
     "slide_type": "slide"
    }
   },
   "source": [
    "*If one would take statistics about which mathematical problem is using up most of the computer time in\n",
    "the world, then (not counting database handling problems like sorting and searching) the answer would\n",
    "probably be linear programming.*\n",
    "\n",
    "-László Lovász (1980)"
   ]
  },
  {
   "cell_type": "markdown",
   "metadata": {
    "slideshow": {
     "slide_type": "slide"
    }
   },
   "source": [
    "# Introduction\n",
    "A **linear programming problem** may be defined as the problem of **maximizing** or **minimizing** a **linear function** subject to linear constraints. The constraints may be expressed both in terms of equalities or inequalities."
   ]
  },
  {
   "cell_type": "markdown",
   "metadata": {
    "slideshow": {
     "slide_type": "subslide"
    }
   },
   "source": [
    "As economists we tend to live in a linear, and sometimes quadratic world. Although this is true in many cases **this is not always true** so try to be **skeptic** about it."
   ]
  },
  {
   "cell_type": "markdown",
   "metadata": {
    "slideshow": {
     "slide_type": "slide"
    }
   },
   "source": [
    "## Formulation\n",
    "The standard (LP) formulation is the following:\n",
    "\n",
    "\\begin{align}\n",
    "\\underset{x}{\\text{Maximize }} &  c'x  \\\\\n",
    "  \\text{subject to } & \\\\\n",
    "  &Ax \\leq b \\\\\n",
    "  & x \\geq 0\n",
    "\\end{align}\n",
    "\n",
    "Where:\n",
    "* $x$ is the variable array to be maximized/minimized;\n",
    "* $c$ and $b$ represent the coefficients array;\n",
    "* $A$ is a matrix of coefficients.\n",
    "\n",
    "The function object of maximization generally is called **objective function**.\n",
    "\n",
    "\n",
    "**To be noted:** non negativity of the variable is not a requirement!"
   ]
  },
  {
   "cell_type": "markdown",
   "metadata": {
    "slideshow": {
     "slide_type": "slide"
    }
   },
   "source": [
    "Consider the following problem:\n",
    "\n",
    "\\begin{align}\n",
    "\\underset{x_1, x_2}{\\text{Maximize }} &  x_1 + x_2  \\\\\n",
    "  \\text{subject to } & \\\\\n",
    "  & x_1 + 2x_2 \\leq 4 \\\\\n",
    "  & 4x_1 + 2x_2 \\leq 12 \\\\\n",
    "  & x_1 + x_2 \\leq 1 \\\\\n",
    "  & x_1, x_2 \\geq 0\n",
    "\\end{align}"
   ]
  },
  {
   "cell_type": "markdown",
   "metadata": {
    "slideshow": {
     "slide_type": "fragment"
    }
   },
   "source": [
    "we can represent the deriving **politype** by means of Julia plotting features"
   ]
  },
  {
   "cell_type": "code",
   "execution_count": 1,
   "metadata": {
    "slideshow": {
     "slide_type": "subslide"
    }
   },
   "outputs": [],
   "source": [
    "using Plots;\n",
    "pyplot();"
   ]
  },
  {
   "cell_type": "code",
   "execution_count": null,
   "metadata": {
    "slideshow": {
     "slide_type": "fragment"
    }
   },
   "outputs": [],
   "source": [
    "f(x) = (-x + 4)/2 ;\n",
    "g(x) = (-4x + 12)/2 ;\n",
    "h(x) = (-x + 1) ;"
   ]
  },
  {
   "cell_type": "code",
   "execution_count": null,
   "metadata": {
    "slideshow": {
     "slide_type": "fragment"
    }
   },
   "outputs": [],
   "source": [
    "plot(f, 0:0.1:10, ylim=(0.0,10.0),xlim=(0.0,10.0), fill=(0, 0.1), label = \"First constraint\")\n",
    "plot!(g, 0:0.1:10, fill=(0, 0.1), label = \"Second constraint\")\n",
    "plot!(h, 0:0.1:10, fill=(0, 0.1), label = \"Third constraint\")"
   ]
  },
  {
   "cell_type": "code",
   "execution_count": null,
   "metadata": {
    "slideshow": {
     "slide_type": "subslide"
    }
   },
   "outputs": [],
   "source": [
    "x = 0:0.1:10\n",
    "y = 0:0.1:10\n",
    "f(x, y) = x+y\n",
    "X = repeat(reshape(x, 1, :), length(y), 1)\n",
    "Y = repeat(y, 1, length(x))\n",
    "Z = map(f, X, Y)\n",
    "\n",
    "contour!(x, y, Z,levels=30)"
   ]
  },
  {
   "cell_type": "markdown",
   "metadata": {
    "slideshow": {
     "slide_type": "slide"
    }
   },
   "source": [
    "### Exercises"
   ]
  },
  {
   "cell_type": "markdown",
   "metadata": {
    "slideshow": {
     "slide_type": "subslide"
    }
   },
   "source": [
    "#### Ex 1\n",
    "A baker has 150 kilograms of flour, 22 kilos of sugar, and 27.5 kilos of butter with\n",
    "which to make two types of cake. Suppose that making one dozen A cakes requires three\n",
    "kilos of flour, one kilo of sugar, and one kilo of butter, whereas making one dozen B cakes\n",
    "requires six kilos of flour, half a kilo of sugar, and one kilo of butter. Suppose that the profit\n",
    "from one dozen A cakes is 20 and from one dozen B cakes is 30. \n",
    "\n",
    "How many dozen A cakes ($x1$) and how many dozen B cakes ($x2$) will maximize the baker’s profit?"
   ]
  },
  {
   "cell_type": "markdown",
   "metadata": {
    "slideshow": {
     "slide_type": "subslide"
    }
   },
   "source": [
    "#### Solution\n",
    "As in the previous example we start defining the problem in its mathematical form:\n",
    "\n",
    "\\begin{align}\n",
    "\\underset{x_1, x_2}{\\text{Maximize }} &  20x_1 + 30x_2  \\\\\n",
    "  \\text{subject to } & \\\\\n",
    "  & 3x_1 + 6x_2 \\leq 150 \\\\\n",
    "  & x_1 + 0.5x_2 \\leq 22 \\\\\n",
    "  & x_1 + x_2 \\leq 27.5 \\\\\n",
    "  & x_2 \\geq 0 \\\\\n",
    "  & x_1 \\geq 0\n",
    "\\end{align}"
   ]
  },
  {
   "cell_type": "code",
   "execution_count": null,
   "metadata": {
    "slideshow": {
     "slide_type": "subslide"
    }
   },
   "outputs": [],
   "source": [
    "f(x) = (-3x + 150)/6 ;\n",
    "g(x) = (-x + 22)/0.5 ;\n",
    "h(x) = (-x + 27.5) ;"
   ]
  },
  {
   "cell_type": "code",
   "execution_count": null,
   "metadata": {
    "slideshow": {
     "slide_type": "fragment"
    }
   },
   "outputs": [],
   "source": [
    "plot(f, 0:0.1:150, ylim=(0,50),xlim=(0.0,50), fill=(0, 0.1), label = \"First constraint\")\n",
    "plot!(g, 0:0.1:150, fill=(0, 0.1), label = \"Second constraint\")\n",
    "plot!(h, 0:0.1:150, fill=(0, 0.1), label = \"Third constraint\")"
   ]
  },
  {
   "cell_type": "code",
   "execution_count": null,
   "metadata": {
    "slideshow": {
     "slide_type": "fragment"
    }
   },
   "outputs": [],
   "source": [
    "x = 0:0.1:150\n",
    "y = 0:0.1:150\n",
    "f(x, y) = 20x+30y\n",
    "X = repeat(reshape(x, 1, :), length(y), 1)\n",
    "Y = repeat(y, 1, length(x))\n",
    "Z = map(f, X, Y)\n",
    "\n",
    "contour!(x, y, Z,levels=100)"
   ]
  },
  {
   "cell_type": "markdown",
   "metadata": {
    "slideshow": {
     "slide_type": "slide"
    }
   },
   "source": [
    "#### Ex 2\n",
    "A firm is producing two goods, $A$ and $B$. It has two factories that jointly produce the two goods in the following quantities (per hour):\n",
    "\n",
    "| Good  | Factory 1 | Factory 2 |\n",
    "|-------|-----------|-----------|\n",
    "| **A** | 10        | 20        |\n",
    "| **B** | 25        | 25        |\n",
    "\n",
    "The firm receives an order for 300 units of A and 500 units of B. The costs of operating\n",
    "the two factories are 10 000 and 8000 per hour. \n",
    "\n",
    "Formulate the linear programming problem of minimizing the total cost of meeting this order."
   ]
  },
  {
   "cell_type": "markdown",
   "metadata": {
    "slideshow": {
     "slide_type": "subslide"
    }
   },
   "source": [
    "#### Solution\n",
    "As in the previous exercise we start defining the problem in its mathematical form:\n",
    "\n",
    "\\begin{align}\n",
    "\\underset{x_1, x_2}{\\text{Minimize }} &  10000x_1 + 8000x_2  \\\\\n",
    "  \\text{subject to } & \\\\\n",
    "  & 10 x_1 + 20 x_2 \\geq 300 \\\\\n",
    "  & 25 x_1 + 25 x_2 \\geq 500 \\\\\n",
    "  & x_2 \\geq 0 \\\\\n",
    "  & x_1 \\geq 0\n",
    "\\end{align}"
   ]
  },
  {
   "cell_type": "code",
   "execution_count": null,
   "metadata": {
    "slideshow": {
     "slide_type": "fragment"
    }
   },
   "outputs": [],
   "source": [
    "f(x) = (-10x +300)/20\n",
    "g(x) = (-25x + 500)/25 \n",
    "\n",
    "plot(f,1:50,\n",
    "    ylims=(0,50),\n",
    "    xlims=(0,50), \n",
    "    fill=([30,1000], 0.2), \n",
    "    label = \"First constraint\",\n",
    "    xlabel = \"x₁\",\n",
    "    ylabel = \"x₂\")\n",
    "\n",
    "plot!(g, 1:50,fill=([30,1000], 0.2), label = \"Second constraint\")"
   ]
  },
  {
   "cell_type": "code",
   "execution_count": null,
   "metadata": {
    "slideshow": {
     "slide_type": "fragment"
    }
   },
   "outputs": [],
   "source": [
    "x = 0:0.1:50\n",
    "y = 0:0.1:50\n",
    "f(x, y) = 10000x+8000y\n",
    "X = repeat(reshape(x, 1, :), length(y), 1)\n",
    "Y = repeat(y, 1, length(x))\n",
    "Z = map(f, X, Y)\n",
    "\n",
    "contour!(x, y, Z,levels=30)"
   ]
  },
  {
   "cell_type": "markdown",
   "metadata": {
    "slideshow": {
     "slide_type": "slide"
    }
   },
   "source": [
    "#### Ex 3\n",
    "Suppose firm A is able to produce 2 goods $x \\in \\{x_1,x_2\\}$  in continuos quantity $x \\subset \\mathbb{R}^2$. The firm goods are not sold at the same price, in particular $x_1$ guarantees twice the revenue of $x_2$. Because of this reason the management set a KPI, tracking the ratio of $x_1$ over $x_2$ to be greater than 1. Moreover the material used to produce $x_1$ can be produced with half the material used to produce $x_2$ and the total material at disposal of the firm is 50. Lastly, 30 $x_2$ units has already been booked by one of the abitual firm's customer.\n",
    "\n",
    "Depict graphically the problem and argue on the optimal solution."
   ]
  },
  {
   "cell_type": "markdown",
   "metadata": {
    "slideshow": {
     "slide_type": "subslide"
    }
   },
   "source": [
    "#### Solution\n",
    "As in the previous example we start defining the problem in its mathematical form:\n",
    "\n",
    "\\begin{align}\n",
    "\\underset{x_1, x_2}{\\text{Maximize }} &  2x_1 + x_2  \\\\\n",
    "  \\text{subject to } & \\\\\n",
    "  & \\frac{1}{2}x_1 + x_2 \\leq 50 \\\\\n",
    "  & \\frac{x_1}{x_2} \\geq 1 \\\\\n",
    "  & x_2 \\geq 30 \\\\\n",
    "  & x_1 \\geq 0\n",
    "\\end{align}"
   ]
  },
  {
   "cell_type": "code",
   "execution_count": null,
   "metadata": {
    "slideshow": {
     "slide_type": "fragment"
    }
   },
   "outputs": [],
   "source": [
    "f(x) = 30\n",
    "g(x) = -0.5x + 50 \n",
    "h(x) =  x \n",
    "\n",
    "plot(f,1:50,\n",
    "    ylims=(0,50),\n",
    "    xlims=(0,50), \n",
    "    fill=([30,1000], 0.2), \n",
    "    label = \"First constraint\",\n",
    "    xlabel = \"x₁\",\n",
    "    ylabel = \"x₂\")\n",
    "\n",
    "plot!(g, 1:50,fill=(0, 0.1), label = \"Second constraint\")\n",
    "plot!(h,1:50,fill=(0, 0.1), label = \"Third constraint\")"
   ]
  },
  {
   "cell_type": "code",
   "execution_count": null,
   "metadata": {
    "slideshow": {
     "slide_type": "subslide"
    }
   },
   "outputs": [],
   "source": [
    "x = 0:0.1:50\n",
    "y = 0:0.1:50\n",
    "f(x, y) = 2x+y\n",
    "X = repeat(reshape(x, 1, :), length(y), 1)\n",
    "Y = repeat(y, 1, length(x))\n",
    "Z = map(f, X, Y)\n",
    "\n",
    "contour!(x, y, Z,levels=30)"
   ]
  },
  {
   "cell_type": "markdown",
   "metadata": {
    "slideshow": {
     "slide_type": "slide"
    }
   },
   "source": [
    "## Some considerations"
   ]
  },
  {
   "cell_type": "markdown",
   "metadata": {
    "slideshow": {
     "slide_type": "subslide"
    }
   },
   "source": [
    "The **graphical method** showed before can be feasible in reasonably **simple** settings however in higher then 3 dimensions it becomes **not practical**.\n",
    "\n",
    "In the next lectures we'll use a **modeling language** to define such problem and an **ad-hoc solver** to find the optimal solution."
   ]
  }
 ],
 "metadata": {
  "@webio": {
   "lastCommId": null,
   "lastKernelId": null
  },
  "celltoolbar": "Slideshow",
  "kernelspec": {
   "display_name": "Julia 1.1.0",
   "language": "julia",
   "name": "julia-1.1"
  },
  "language_info": {
   "file_extension": ".jl",
   "mimetype": "application/julia",
   "name": "julia",
   "version": "1.2.0"
  },
  "rise": {
   "enable_chalkboard": false,
   "scroll": true,
   "theme": "serif"
  },
  "toc": {
   "base_numbering": 1,
   "nav_menu": {},
   "number_sections": false,
   "sideBar": true,
   "skip_h1_title": false,
   "title_cell": "Table of Contents",
   "title_sidebar": "Contents",
   "toc_cell": false,
   "toc_position": {},
   "toc_section_display": true,
   "toc_window_display": false
  }
 },
 "nbformat": 4,
 "nbformat_minor": 4
}
