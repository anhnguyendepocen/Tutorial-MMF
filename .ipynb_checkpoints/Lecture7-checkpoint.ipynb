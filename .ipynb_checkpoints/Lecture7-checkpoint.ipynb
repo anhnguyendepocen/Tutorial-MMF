{
 "cells": [
  {
   "cell_type": "markdown",
   "metadata": {
    "slideshow": {
     "slide_type": "slide"
    }
   },
   "source": [
    "# Lecture 7\n",
    "## Linear Optimization with JuMP (Part 2)\n",
    "## Date: 15.11"
   ]
  },
  {
   "cell_type": "markdown",
   "metadata": {
    "slideshow": {
     "slide_type": "subslide"
    }
   },
   "source": [
    "As we saw in the last lecture solving 2 dimensional linear problems is nothing particularly difficult, however in higher dimensions this may become a nightmare."
   ]
  },
  {
   "cell_type": "markdown",
   "metadata": {
    "slideshow": {
     "slide_type": "slide"
    }
   },
   "source": [
    "This is where ```LP``` solvers kick in. Such solvers implement **state of the art algorithms** that allows for finding a solution to our massive ```LP``` problem (provided that we formalize it correctly). "
   ]
  },
  {
   "cell_type": "markdown",
   "metadata": {
    "slideshow": {
     "slide_type": "slide"
    }
   },
   "source": [
    "The problem with such solvers is that they are mostly written in **low level languages** such as C. \n",
    "\n",
    "An example is the IBM's **CPLEX** algorithm. "
   ]
  },
  {
   "cell_type": "markdown",
   "metadata": {
    "slideshow": {
     "slide_type": "slide"
    }
   },
   "source": [
    "In order to provide a better front-end to these solvers and to create a level of abstraction from them many **Algebraic Modeling Languages** have been created.\n",
    "\n",
    "The two mostly popular ones are:\n",
    "\n",
    "1. General Algebraic Modeling System (GAMS) \n",
    "2. A Mathematical Programming Language (AMPL)\n",
    "\n",
    "These considerations are based on [NEOS-server data](https://neos-server.org/neos/report.html).\n"
   ]
  },
  {
   "cell_type": "markdown",
   "metadata": {
    "slideshow": {
     "slide_type": "slide"
    }
   },
   "source": [
    "## JuMP"
   ]
  },
  {
   "cell_type": "markdown",
   "metadata": {
    "slideshow": {
     "slide_type": "slide"
    }
   },
   "source": [
    "JuMP is a **modeling interface** and a collection of supporting packages for **mathematical optimization** that is embedded in Julia. With JuMP, users formulate various classes of optimization problems with **easy-to-read code**, and then solve these problems using state-of-the-art **open-source** and **commercial solvers**. JuMP also makes advanced optimization techniques easily accessible from a **high-level language**."
   ]
  },
  {
   "cell_type": "markdown",
   "metadata": {
    "slideshow": {
     "slide_type": "slide"
    }
   },
   "source": [
    "### An example"
   ]
  },
  {
   "cell_type": "markdown",
   "metadata": {
    "slideshow": {
     "slide_type": "subslide"
    }
   },
   "source": [
    "We start initializing the libraries:"
   ]
  },
  {
   "cell_type": "code",
   "execution_count": 1,
   "metadata": {
    "slideshow": {
     "slide_type": "fragment"
    }
   },
   "outputs": [],
   "source": [
    "using JuMP, GLPK;"
   ]
  },
  {
   "cell_type": "markdown",
   "metadata": {
    "slideshow": {
     "slide_type": "subslide"
    }
   },
   "source": [
    "Then we store in variable ```m``` the model initialization, preparing the optimization model. Morover we state the type of solver we want to use, in this case the **GNU Linear Programming Kit**."
   ]
  },
  {
   "cell_type": "code",
   "execution_count": 2,
   "metadata": {
    "slideshow": {
     "slide_type": "fragment"
    }
   },
   "outputs": [],
   "source": [
    "m = Model(with_optimizer(GLPK.Optimizer));"
   ]
  },
  {
   "cell_type": "markdown",
   "metadata": {
    "slideshow": {
     "slide_type": "subslide"
    }
   },
   "source": [
    "We declare the variables using the ```@variable``` macro. **Bear in mind** that ```@variable``` allows for many other specifications apart from numeric boundaries, take a look at the **JuMP's manual**."
   ]
  },
  {
   "cell_type": "code",
   "execution_count": 3,
   "metadata": {
    "slideshow": {
     "slide_type": "fragment"
    }
   },
   "outputs": [],
   "source": [
    "@variable(m, 0<= x1 <=10);\n",
    "@variable(m, x2 >=0);\n",
    "@variable(m, x3 >=0);"
   ]
  },
  {
   "cell_type": "markdown",
   "metadata": {
    "slideshow": {
     "slide_type": "subslide"
    }
   },
   "source": [
    "The objective function is stated using the ```@objective``` function in the following way:"
   ]
  },
  {
   "cell_type": "code",
   "execution_count": 4,
   "metadata": {
    "slideshow": {
     "slide_type": "fragment"
    }
   },
   "outputs": [
    {
     "data": {
      "text/latex": [
       "$$ x1 + 2 x2 + 5 x3 $$"
      ],
      "text/plain": [
       "x1 + 2 x2 + 5 x3"
      ]
     },
     "execution_count": 4,
     "metadata": {},
     "output_type": "execute_result"
    }
   ],
   "source": [
    "@objective(m, Max, x1 + 2x2 + 5x3)"
   ]
  },
  {
   "cell_type": "markdown",
   "metadata": {
    "slideshow": {
     "slide_type": "subslide"
    }
   },
   "source": [
    "And finally the constraints are introduced by means of the ```@constraint``` macro"
   ]
  },
  {
   "cell_type": "code",
   "execution_count": 5,
   "metadata": {
    "slideshow": {
     "slide_type": "fragment"
    }
   },
   "outputs": [
    {
     "data": {
      "text/latex": [
       "constraint1 : $ -x1 + x2 + 3 x3 \\leq -5.0 $"
      ],
      "text/plain": [
       "constraint1 : -x1 + x2 + 3 x3 ≤ -5.0"
      ]
     },
     "execution_count": 5,
     "metadata": {},
     "output_type": "execute_result"
    }
   ],
   "source": [
    "@constraint(m, constraint1, -x1 +  x2 + 3x3 <= -5)"
   ]
  },
  {
   "cell_type": "code",
   "execution_count": 6,
   "metadata": {
    "slideshow": {
     "slide_type": "fragment"
    }
   },
   "outputs": [
    {
     "data": {
      "text/latex": [
       "constraint2 : $ x1 + 3 x2 - 7 x3 \\leq 10.0 $"
      ],
      "text/plain": [
       "constraint2 : x1 + 3 x2 - 7 x3 ≤ 10.0"
      ]
     },
     "execution_count": 6,
     "metadata": {},
     "output_type": "execute_result"
    }
   ],
   "source": [
    "@constraint(m, constraint2,  x1 + 3x2 - 7x3 <= 10)"
   ]
  },
  {
   "cell_type": "markdown",
   "metadata": {
    "slideshow": {
     "slide_type": "slide"
    }
   },
   "source": [
    "#### Exercise"
   ]
  },
  {
   "cell_type": "markdown",
   "metadata": {
    "slideshow": {
     "slide_type": "subslide"
    }
   },
   "source": [
    "Given the previous model:\n",
    "\n",
    "```julia\n",
    "m = Model(with_optimizer(GLPK.Optimizer))\n",
    "\n",
    "@variable(m, 0<= x1 <=10)\n",
    "@variable(m, x2 >=0)\n",
    "@variable(m, x3 >=0)\n",
    "\n",
    "@objective(m, Max, x1 + 2x2 + 5x3)\n",
    "\n",
    "@constraint(m, constraint1, -x1 +  x2 + 3x3 <= -5)\n",
    "@constraint(m, constraint2,  x1 + 3x2 - 7x3 <= 10)\n",
    "```\n",
    "\n",
    "Write such model in the mathematical form."
   ]
  },
  {
   "cell_type": "markdown",
   "metadata": {
    "slideshow": {
     "slide_type": "subslide"
    }
   },
   "source": [
    "##### Solution"
   ]
  },
  {
   "cell_type": "markdown",
   "metadata": {
    "slideshow": {
     "slide_type": "fragment"
    }
   },
   "source": [
    "The mathematical form of the problem is:\n",
    "$$\n",
    "\\text{Maximize } x_1 + 2x_2 + 5x_3 \\text{ s.t } \\begin{cases} -x_1 + x_2 + 3x_3 \\leq -5 \\\\ x_1 + 3x_2 - 7x_3 \\leq 10 \\\\ x_1 \\leq 10 \\\\ x_i \\in \\mathbb{R}^{3}_{+}, \\quad \\forall \\quad i = 1...3 \\end{cases}\n",
    "$$"
   ]
  },
  {
   "cell_type": "markdown",
   "metadata": {
    "slideshow": {
     "slide_type": "subslide"
    }
   },
   "source": [
    "In order to debug the model is possible to print it at any time using ```print()```."
   ]
  },
  {
   "cell_type": "code",
   "execution_count": 7,
   "metadata": {
    "slideshow": {
     "slide_type": "fragment"
    }
   },
   "outputs": [
    {
     "name": "stdout",
     "output_type": "stream",
     "text": [
      "Max x1 + 2 x2 + 5 x3\n",
      "Subject to\n",
      " x1 ≥ 0.0\n",
      " x2 ≥ 0.0\n",
      " x3 ≥ 0.0\n",
      " x1 ≤ 10.0\n",
      " -x1 + x2 + 3 x3 ≤ -5.0\n",
      " x1 + 3 x2 - 7 x3 ≤ 10.0\n"
     ]
    }
   ],
   "source": [
    "print(m)"
   ]
  },
  {
   "cell_type": "markdown",
   "metadata": {
    "slideshow": {
     "slide_type": "subslide"
    }
   },
   "source": [
    "or if you are in a **Jupyter Notebook**:"
   ]
  },
  {
   "cell_type": "code",
   "execution_count": 8,
   "metadata": {
    "slideshow": {
     "slide_type": "fragment"
    }
   },
   "outputs": [
    {
     "data": {
      "text/latex": [
       "$$ \\begin{alignat*}{1}\\max\\quad & x1 + 2 x2 + 5 x3\\\\\n",
       "\\text{Subject to} \\quad & x1 \\geq 0.0\\\\\n",
       " & x2 \\geq 0.0\\\\\n",
       " & x3 \\geq 0.0\\\\\n",
       " & x1 \\leq 10.0\\\\\n",
       " & -x1 + x2 + 3 x3 \\leq -5.0\\\\\n",
       " & x1 + 3 x2 - 7 x3 \\leq 10.0\\\\\n",
       "\\end{alignat*}\n",
       " $$"
      ],
      "text/plain": [
       "A JuMP Model\n",
       "Maximization problem with:\n",
       "Variables: 3\n",
       "Objective function type: GenericAffExpr{Float64,VariableRef}\n",
       "`VariableRef`-in-`MathOptInterface.GreaterThan{Float64}`: 3 constraints\n",
       "`VariableRef`-in-`MathOptInterface.LessThan{Float64}`: 1 constraint\n",
       "`GenericAffExpr{Float64,VariableRef}`-in-`MathOptInterface.LessThan{Float64}`: 2 constraints\n",
       "Model mode: AUTOMATIC\n",
       "CachingOptimizer state: EMPTY_OPTIMIZER\n",
       "Solver name: GLPK\n",
       "Names registered in the model: constraint1, constraint2, x1, x2, x3"
      ]
     },
     "execution_count": 8,
     "metadata": {},
     "output_type": "execute_result"
    }
   ],
   "source": [
    "m"
   ]
  },
  {
   "cell_type": "markdown",
   "metadata": {
    "slideshow": {
     "slide_type": "subslide"
    }
   },
   "source": [
    "Solving the model is as easy as typing the following command:"
   ]
  },
  {
   "cell_type": "code",
   "execution_count": 9,
   "metadata": {
    "slideshow": {
     "slide_type": "fragment"
    }
   },
   "outputs": [],
   "source": [
    "optimize!(m)"
   ]
  },
  {
   "cell_type": "markdown",
   "metadata": {
    "slideshow": {
     "slide_type": "subslide"
    }
   },
   "source": [
    "After optimization has finished, we need to query for the results. This is because the solve could have terminated for a number of reasons. \n",
    "\n",
    "Since the solving procedure could have terminated for **many different reasons**, in order to assess the **status** we can use the following command:"
   ]
  },
  {
   "cell_type": "code",
   "execution_count": 10,
   "metadata": {
    "slideshow": {
     "slide_type": "fragment"
    }
   },
   "outputs": [
    {
     "data": {
      "text/plain": [
       "OPTIMAL::TerminationStatusCode = 1"
      ]
     },
     "execution_count": 10,
     "metadata": {},
     "output_type": "execute_result"
    }
   ],
   "source": [
    "termination_status(m)"
   ]
  },
  {
   "cell_type": "markdown",
   "metadata": {
    "slideshow": {
     "slide_type": "subslide"
    }
   },
   "source": [
    "To query the variables' results you can simply use the ```value()``` function."
   ]
  },
  {
   "cell_type": "code",
   "execution_count": 11,
   "metadata": {
    "slideshow": {
     "slide_type": "fragment"
    }
   },
   "outputs": [
    {
     "name": "stdout",
     "output_type": "stream",
     "text": [
      "Optimal Solutions:\n",
      "x1 = 10.0\n",
      "x2 = 2.1875\n",
      "x3 = 0.9375\n"
     ]
    }
   ],
   "source": [
    "println(\"Optimal Solutions:\")\n",
    "println(\"x1 = \", value(x1))\n",
    "println(\"x2 = \", value(x2))\n",
    "println(\"x3 = \", value(x3))"
   ]
  },
  {
   "cell_type": "markdown",
   "metadata": {
    "slideshow": {
     "slide_type": "subslide"
    }
   },
   "source": [
    "#### Exercise"
   ]
  },
  {
   "cell_type": "markdown",
   "metadata": {
    "slideshow": {
     "slide_type": "subslide"
    }
   },
   "source": [
    "A firm produces two types of television set, an inexpensive type (A) and an expensive type (B). \n",
    "The firm earns a profit of 700 from each TV of type A, and 1000 for each TV of type B. \n",
    "There are three stages of the production process, each requiring its own specialized kind of labor. \n",
    "Stage I requires three units of labor on each set of type A and five units of labor on each set of type B.\n",
    "The total available quantity of labor for this stage is 3900. \n",
    "Stage II requires one unit of labor on each set of type A and three units on each set of type B. \n",
    "The total labor available for this stage is 2100 units. \n",
    "At stage III, two units of labor are needed for each type, and 2200 units of labor are available. \n",
    "\n",
    "How many TV sets of each type should the firm produce to maximize its profit?"
   ]
  },
  {
   "cell_type": "markdown",
   "metadata": {
    "slideshow": {
     "slide_type": "subslide"
    }
   },
   "source": [
    "##### Solution"
   ]
  },
  {
   "cell_type": "code",
   "execution_count": 12,
   "metadata": {
    "slideshow": {
     "slide_type": "fragment"
    }
   },
   "outputs": [
    {
     "data": {
      "text/latex": [
       "$$ \\begin{alignat*}{1}\\max\\quad & 700 Television_{1} + 1000 Television_{2}\\\\\n",
       "\\text{Subject to} \\quad & Television_{1} \\geq 0.0\\\\\n",
       " & Television_{2} \\geq 0.0\\\\\n",
       " & 3 Television_{1} + 5 Television_{2} \\leq 3900.0\\\\\n",
       " & Television_{1} + 3 Television_{2} \\leq 2100.0\\\\\n",
       " & 2 Television_{1} + 2 Television_{2} \\leq 2200.0\\\\\n",
       "\\end{alignat*}\n",
       " $$"
      ],
      "text/plain": [
       "A JuMP Model\n",
       "Maximization problem with:\n",
       "Variables: 2\n",
       "Objective function type: GenericAffExpr{Float64,VariableRef}\n",
       "`VariableRef`-in-`MathOptInterface.GreaterThan{Float64}`: 2 constraints\n",
       "`GenericAffExpr{Float64,VariableRef}`-in-`MathOptInterface.LessThan{Float64}`: 3 constraints\n",
       "Model mode: AUTOMATIC\n",
       "CachingOptimizer state: EMPTY_OPTIMIZER\n",
       "Solver name: GLPK\n",
       "Names registered in the model: step1, step2, step3, x"
      ]
     },
     "execution_count": 12,
     "metadata": {},
     "output_type": "execute_result"
    }
   ],
   "source": [
    "m = Model(with_optimizer(GLPK.Optimizer))\n",
    "\n",
    "profits = [700 1000]\n",
    "\n",
    "step1_requirements = [3 5]\n",
    "step1_bound = 3900 \n",
    "\n",
    "step2_requirements = [1 3]\n",
    "step2_bound = 2100\n",
    "\n",
    "step3_requirements = [2 2]\n",
    "step3_bound = 2200\n",
    "\n",
    "@variable(m, x[1:2] >=0, base_name= \"Television\")\n",
    "\n",
    "@objective(m, Max, sum(profits*x))\n",
    "\n",
    "@constraint(m, step1, sum(step1_requirements * x) <= step1_bound)\n",
    "@constraint(m, step2, sum(step2_requirements * x) <= step2_bound)\n",
    "@constraint(m, step3, sum(step3_requirements * x) <= step3_bound)\n",
    "\n",
    "m"
   ]
  },
  {
   "cell_type": "code",
   "execution_count": 13,
   "metadata": {
    "slideshow": {
     "slide_type": "fragment"
    }
   },
   "outputs": [],
   "source": [
    "optimize!(m)"
   ]
  },
  {
   "cell_type": "code",
   "execution_count": 14,
   "metadata": {
    "slideshow": {
     "slide_type": "fragment"
    }
   },
   "outputs": [
    {
     "name": "stdout",
     "output_type": "stream",
     "text": [
      "Optimal Solutions:\n"
     ]
    },
    {
     "data": {
      "text/plain": [
       "Dict{String,Float64} with 2 entries:\n",
       "  \"Television[2]\" => 300.0\n",
       "  \"Television[1]\" => 800.0"
      ]
     },
     "execution_count": 14,
     "metadata": {},
     "output_type": "execute_result"
    }
   ],
   "source": [
    "println(\"Optimal Solutions:\")\n",
    "\n",
    "Dict(zip([name(x[i]) for i in 1:2],value.(x)))"
   ]
  }
 ],
 "metadata": {
  "@webio": {
   "lastCommId": null,
   "lastKernelId": null
  },
  "celltoolbar": "Slideshow",
  "kernelspec": {
   "display_name": "Julia 1.1.0",
   "language": "julia",
   "name": "julia-1.1"
  },
  "language_info": {
   "file_extension": ".jl",
   "mimetype": "application/julia",
   "name": "julia",
   "version": "1.1.0"
  },
  "rise": {
   "enable_chalkboard": false,
   "scroll": true,
   "theme": "serif"
  },
  "toc": {
   "base_numbering": 1,
   "nav_menu": {},
   "number_sections": false,
   "sideBar": true,
   "skip_h1_title": false,
   "title_cell": "Table of Contents",
   "title_sidebar": "Contents",
   "toc_cell": false,
   "toc_position": {},
   "toc_section_display": true,
   "toc_window_display": false
  }
 },
 "nbformat": 4,
 "nbformat_minor": 4
}
