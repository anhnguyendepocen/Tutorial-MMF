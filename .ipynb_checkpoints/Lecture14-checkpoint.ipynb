{
 "cells": [
  {
   "cell_type": "markdown",
   "metadata": {
    "slideshow": {
     "slide_type": "slide"
    }
   },
   "source": [
    "# Lecture 14\n",
    "## Non Linear Optimization with JuMP (Part 3)\n",
    "## Date: 29.11"
   ]
  },
  {
   "cell_type": "code",
   "execution_count": 115,
   "metadata": {
    "slideshow": {
     "slide_type": "skip"
    }
   },
   "outputs": [],
   "source": [
    "using JuMP, Ipopt, Plots"
   ]
  },
  {
   "cell_type": "markdown",
   "metadata": {
    "slideshow": {
     "slide_type": "slide"
    }
   },
   "source": [
    "# Further exercises"
   ]
  },
  {
   "cell_type": "markdown",
   "metadata": {
    "slideshow": {
     "slide_type": "slide"
    }
   },
   "source": [
    "## Ex 1"
   ]
  },
  {
   "cell_type": "markdown",
   "metadata": {
    "slideshow": {
     "slide_type": "slide"
    }
   },
   "source": [
    "Consider a relationship between a principal and an agent in which the agent's effort influences the result. The agent can choose between low effort $e = 0$, or high effort $e = 3$. His utility function is $U(w,e) = \\sqrt{w} - e^2$, where $w$ represent the wage and $e$ the effort. His reservation utility is $21$. The production such that only three results $x$ are possible, where $x$ represents the value of the result to the principal: $x \\in \\{0,1000,2500\\}$. The principal has a utility function $B(x,w) = 10000 + x - w$, where $10000$ is the principal's initial wealth.\n",
    "\n",
    "The probabilities conditional on effort are the following:\n",
    "\n",
    "|.       | Pr$(x=0|e)$ | Pr$(x=1000|e)$ | Pr$(x=2500|e)$ |\n",
    "|:------:|:-----------:|:--------------:|:--------------:|\n",
    "|$e = 0$ | 0.4         | 0.4            | 0.2            |\n",
    "|$e = 3$ | 0.2         | 0.4            | 0.4            | \n",
    "\n",
    "The timing of the game is as follows. First the risk neutral principal propose one or more contracts. Then the risk averse agent choses the contract, if any, to accept (if does not accept any contract, he will get his reservation utility). Finally the agent chooses the level of effort."
   ]
  },
  {
   "cell_type": "markdown",
   "metadata": {
    "slideshow": {
     "slide_type": "slide"
    }
   },
   "source": [
    "### Point a\n",
    "Assume agent's effort level is verifiable. Find a sub-game perfect equilibrium of the game that characterize the optimal contract for the principal."
   ]
  },
  {
   "cell_type": "markdown",
   "metadata": {},
   "source": [
    "#### Solution Point a"
   ]
  },
  {
   "cell_type": "code",
   "execution_count": 58,
   "metadata": {},
   "outputs": [],
   "source": [
    "m = Model(with_optimizer(Ipopt.Optimizer));"
   ]
  },
  {
   "cell_type": "code",
   "execution_count": 59,
   "metadata": {},
   "outputs": [],
   "source": [
    "@variable(m, w[1:3] >= 0);\n",
    "\n",
    "@variable(m, 0 <= e <= 3);"
   ]
  },
  {
   "cell_type": "code",
   "execution_count": 60,
   "metadata": {},
   "outputs": [],
   "source": [
    "#Profit Objective\n",
    "@NLobjective(m, Max, (e/3)*(0.2*(10000+0-w[1])+0.4*(10000+1000-w[2]) + 0.4*(10000+2500-w[3])) + (1-(e/3))*(0.4*(10000+0-w[1])+0.4*(10000+1000-w[2]) + 0.2*(10000+2500-w[3])))"
   ]
  },
  {
   "cell_type": "code",
   "execution_count": 61,
   "metadata": {},
   "outputs": [],
   "source": [
    "#Participation Constraint\n",
    "@NLconstraint(m, (e/3)*(0.2*(sqrt(w[1]) - e^2) +0.4*(sqrt(w[2]) - e^2) + 0.4*(sqrt(w[3]) - e^2)) + (1-(e/3))*(0.4*(sqrt(w[1]) - e^2)+0.4*(sqrt(w[2]) - e^2) + 0.2*(sqrt(w[3]) - e^2)) == 21);"
   ]
  },
  {
   "cell_type": "code",
   "execution_count": 62,
   "metadata": {},
   "outputs": [
    {
     "name": "stdout",
     "output_type": "stream",
     "text": [
      "This is Ipopt version 3.12.10, running with linear solver mumps.\n",
      "NOTE: Other linear solvers might be more efficient (see Ipopt documentation).\n",
      "\n",
      "Number of nonzeros in equality constraint Jacobian...:        3\n",
      "Number of nonzeros in inequality constraint Jacobian.:        0\n",
      "Number of nonzeros in Lagrangian Hessian.............:        3\n",
      "\n",
      "Total number of variables............................:        4\n",
      "                     variables with only lower bounds:        3\n",
      "                variables with lower and upper bounds:        1\n",
      "                     variables with only upper bounds:        0\n",
      "Total number of equality constraints.................:        1\n",
      "Total number of inequality constraints...............:        0\n",
      "        inequality constraints with only lower bounds:        0\n",
      "   inequality constraints with lower and upper bounds:        0\n",
      "        inequality constraints with only upper bounds:        0\n",
      "\n",
      "iter    objective    inf_pr   inf_du lg(mu)  ||d||  lg(rg) alpha_du alpha_pr  ls\n",
      "   0 -1.0899990e+04 2.09e+01 8.00e-01  -1.0 0.00e+00    -  0.00e+00 0.00e+00   0\n",
      "   1 -1.0898945e+04 2.00e+01 1.01e+01  -1.0 4.63e+00    -  2.18e-03 2.50e-01f  3\n",
      "   2 -1.0857418e+04 1.45e+01 3.24e+01  -1.0 4.66e+01    -  2.76e-02 1.00e+00h  1\n",
      "   3 -1.0665885e+04 5.84e+00 3.13e+01  -1.0 2.15e+02    -  2.16e-01 1.00e+00h  1\n",
      "   4 -1.0485394e+04 8.30e-01 9.07e+00  -1.0 2.02e+02    -  1.00e+00 1.00e+00h  1\n",
      "   5 -1.0451757e+04 1.66e-02 3.42e-01  -2.5 3.64e+01    -  9.16e-01 1.00e+00h  1\n",
      "   6 -1.0457307e+04 3.38e-02 4.54e-02  -3.8 6.86e+01    -  9.93e-01 1.00e+00f  1\n",
      "   7 -1.0461165e+04 5.46e-02 9.00e-03  -5.7 1.05e+02    -  1.00e+00 1.00e+00f  1\n",
      "   8 -1.0459119e+04 2.83e-03 4.39e-04  -5.7 2.98e+01    -  1.00e+00 1.00e+00h  1\n",
      "   9 -1.0459000e+04 8.15e-06 1.17e-06  -8.6 1.65e+00    -  9.98e-01 1.00e+00h  1\n",
      "\n",
      "Number of Iterations....: 9\n",
      "\n",
      "                                   (scaled)                 (unscaled)\n",
      "Objective...............:  -1.0459000342228655e+04   -1.0459000342228655e+04\n",
      "Dual infeasibility......:   1.1745966486500407e-06    1.1745966486500407e-06\n",
      "Constraint violation....:   8.1483600169462991e-14    8.1483600169462989e-06\n",
      "Complementarity.........:   8.6179336967574571e-09    8.6179336967574571e-09\n",
      "Overall NLP error.......:   8.6179336967574571e-09    8.1483600169462989e-06\n",
      "\n",
      "\n",
      "Number of objective function evaluations             = 12\n",
      "Number of objective gradient evaluations             = 10\n",
      "Number of equality constraint evaluations            = 12\n",
      "Number of inequality constraint evaluations          = 0\n",
      "Number of equality constraint Jacobian evaluations   = 10\n",
      "Number of inequality constraint Jacobian evaluations = 0\n",
      "Number of Lagrangian Hessian evaluations             = 9\n",
      "Total CPU secs in IPOPT (w/o function evaluations)   =      0.003\n",
      "Total CPU secs in NLP function evaluations           =      0.000\n",
      "\n",
      "EXIT: Optimal Solution Found.\n"
     ]
    }
   ],
   "source": [
    "JuMP.optimize!(m)"
   ]
  },
  {
   "cell_type": "code",
   "execution_count": 63,
   "metadata": {},
   "outputs": [
    {
     "name": "stdout",
     "output_type": "stream",
     "text": [
      "** Optimal profits for the firm = 10459.0\n",
      "** Optimal wages given result = [441.001, 441.001, 440.996]\n"
     ]
    },
    {
     "ename": "MethodError",
     "evalue": "MethodError: no method matching value(::Int64)\nClosest candidates are:\n  value(!Matched::NonlinearExpression) at /home/mrepetto94/.julia/packages/JuMP/ibcEh/src/nlp.jl:1126\n  value(!Matched::NonlinearParameter) at /home/mrepetto94/.julia/packages/JuMP/ibcEh/src/nlp.jl:125\n  value(!Matched::VariableRef) at /home/mrepetto94/.julia/packages/JuMP/ibcEh/src/variables.jl:721\n  ...",
     "output_type": "error",
     "traceback": [
      "MethodError: no method matching value(::Int64)\nClosest candidates are:\n  value(!Matched::NonlinearExpression) at /home/mrepetto94/.julia/packages/JuMP/ibcEh/src/nlp.jl:1126\n  value(!Matched::NonlinearParameter) at /home/mrepetto94/.julia/packages/JuMP/ibcEh/src/nlp.jl:125\n  value(!Matched::VariableRef) at /home/mrepetto94/.julia/packages/JuMP/ibcEh/src/variables.jl:721\n  ...",
      "",
      "Stacktrace:",
      " [1] top-level scope at In[63]:3"
     ]
    }
   ],
   "source": [
    "println(\"** Optimal profits for the firm = \", round(JuMP.objective_value(m)))\n",
    "println(\"** Optimal wages given result = \", JuMP.value.(w))\n",
    "println(\"** Optimal effort demanded = \", JuMP.value(e))"
   ]
  },
  {
   "cell_type": "markdown",
   "metadata": {
    "slideshow": {
     "slide_type": "fragment"
    }
   },
   "source": [
    "### Point b\n",
    "Assume now that the only verifiable variable in the relationship is the result $x$."
   ]
  },
  {
   "cell_type": "markdown",
   "metadata": {},
   "source": [
    "#### Solution Point b"
   ]
  },
  {
   "cell_type": "code",
   "execution_count": 44,
   "metadata": {},
   "outputs": [],
   "source": [
    "m = Model(with_optimizer(Ipopt.Optimizer));"
   ]
  },
  {
   "cell_type": "code",
   "execution_count": 45,
   "metadata": {},
   "outputs": [],
   "source": [
    "@variable(m, w[1:3] >= 0);\n",
    "\n",
    "eₕ = 3;\n",
    "eₗ = 0;"
   ]
  },
  {
   "cell_type": "code",
   "execution_count": 46,
   "metadata": {},
   "outputs": [],
   "source": [
    "#Profit Objective\n",
    "@NLobjective(m, Max, (0.2*(10000+0-w[1])+0.4*(10000+1000-w[2]) + 0.4*(10000+2500-w[3])))"
   ]
  },
  {
   "cell_type": "code",
   "execution_count": 47,
   "metadata": {},
   "outputs": [],
   "source": [
    "#Participation Constraint\n",
    "@NLconstraint(m, (0.2*(sqrt(w[1]) - eₕ^2) +0.4*(sqrt(w[2]) - eₕ^2) + 0.4*(sqrt(w[3]) - eₕ^2)) == 21);"
   ]
  },
  {
   "cell_type": "code",
   "execution_count": 48,
   "metadata": {},
   "outputs": [],
   "source": [
    "#Incentive Compatibility\n",
    "@NLconstraint(m, (0.2*(sqrt(w[1]) - eₕ^2) +0.4*(sqrt(w[2]) - eₕ^2) + 0.4*(sqrt(w[3]) - eₕ^2)) >= (0.4*(sqrt(w[1]) - eₗ^2)+0.4*(sqrt(w[2]) - eₗ^2) + 0.2*(sqrt(w[3]) - eₗ^2)));"
   ]
  },
  {
   "cell_type": "code",
   "execution_count": 49,
   "metadata": {},
   "outputs": [
    {
     "name": "stdout",
     "output_type": "stream",
     "text": [
      "This is Ipopt version 3.12.10, running with linear solver mumps.\n",
      "NOTE: Other linear solvers might be more efficient (see Ipopt documentation).\n",
      "\n",
      "Number of nonzeros in equality constraint Jacobian...:        3\n",
      "Number of nonzeros in inequality constraint Jacobian.:        3\n",
      "Number of nonzeros in Lagrangian Hessian.............:        6\n",
      "\n",
      "Total number of variables............................:        3\n",
      "                     variables with only lower bounds:        3\n",
      "                variables with lower and upper bounds:        0\n",
      "                     variables with only upper bounds:        0\n",
      "Total number of equality constraints.................:        1\n",
      "Total number of inequality constraints...............:        1\n",
      "        inequality constraints with only lower bounds:        1\n",
      "   inequality constraints with lower and upper bounds:        0\n",
      "        inequality constraints with only upper bounds:        0\n",
      "\n",
      "iter    objective    inf_pr   inf_du lg(mu)  ||d||  lg(rg) alpha_du alpha_pr  ls\n",
      "   0 -1.1399990e+04 2.99e+01 1.00e+00  -1.0 0.00e+00    -  0.00e+00 0.00e+00   0\n",
      "   1 -1.1399959e+04 2.98e+01 1.44e+00  -1.0 8.21e+00    -  1.22e-03 5.15e-03h  1\n",
      "   2 -1.1386908e+04 2.67e+01 2.73e+02  -1.0 2.10e+01    -  3.72e-03 1.00e+00h  1\n",
      "   3 -1.1386115e+04 2.66e+01 2.71e+02  -1.0 2.17e+02    -  5.83e-03 5.04e-03h  1\n",
      "   4 -1.1385627e+04 2.65e+01 1.21e+02  -1.0 3.65e+02    -  6.52e-02 2.17e-03h  1\n",
      "   5 -1.1346849e+04 2.35e+01 1.78e+03  -1.0 3.74e+02    -  1.00e+00 1.69e-01h  1\n",
      "   6 -1.1336903e+04 2.30e+01 1.74e+03  -1.0 6.41e+02    -  1.21e-01 2.53e-02h  1\n",
      "   7 -1.1334964e+04 2.29e+01 3.57e+03  -1.0 6.92e+02    -  1.00e+00 4.65e-03h  1\n",
      "   8 -1.0913942e+04 1.06e+01 2.58e+02  -1.0 7.14e+02    -  1.54e-01 1.00e+00h  1\n",
      "   9 -1.0543973e+04 4.30e+00 2.17e+05  -1.0 9.38e+02    -  9.83e-01 6.90e-01h  1\n",
      "The equality constraints contain an invalid number\n",
      "Warning: Cutting back alpha due to evaluation error\n",
      "iter    objective    inf_pr   inf_du lg(mu)  ||d||  lg(rg) alpha_du alpha_pr  ls\n",
      "  10 -1.0543963e+04 4.30e+00 6.16e+08  -1.0 4.23e+02   2.0 1.00e+00 3.41e-05h  2\n",
      "  11 -1.0254531e+04 3.11e-01 6.07e+06  -1.0 5.14e+02    -  9.90e-01 1.00e+00h  1\n",
      "  12 -1.0230129e+04 1.62e-03 1.57e+04  -2.5 4.47e+01    -  9.97e-01 1.00e+00h  1\n",
      "  13 -1.0229999e+04 1.95e-07 7.25e-01  -3.8 2.42e-01    -  9.92e-01 1.00e+00h  1\n",
      "  14 -1.0230000e+04 1.59e-04 2.67e+00  -5.7 1.25e-01    -  7.81e-01 1.00e+00f  1\n",
      "  15 -1.0230000e+04 4.00e-05 4.76e-01  -5.7 1.41e-06   1.5 1.00e+00 1.00e+00h  1\n",
      "  16 -1.0230000e+04 7.65e-06 2.15e-01  -5.7 4.49e-02    -  1.00e+00 1.00e+00h  1\n",
      "  17 -1.0230000e+04 4.67e-05 7.13e-01  -8.6 4.83e-02    -  1.00e+00 1.00e+00h  1\n",
      "The equality constraints contain an invalid number\n",
      "Warning: Cutting back alpha due to evaluation error\n",
      "  18 -1.0230000e+04 3.30e-05 2.45e-01  -8.6 4.70e-02    -  1.00e+00 3.81e-01h  2\n",
      "The equality constraints contain an invalid number\n",
      "Warning: Cutting back alpha due to evaluation error\n",
      "  19 -1.0230000e+04 1.92e-05 2.41e-01  -8.6 2.82e-02    -  1.00e+00 5.00e-01h  2\n",
      "The equality constraints contain an invalid number\n",
      "Warning: Cutting back alpha due to evaluation error\n",
      "iter    objective    inf_pr   inf_du lg(mu)  ||d||  lg(rg) alpha_du alpha_pr  ls\n",
      "  20 -1.0230000e+04 1.24e-05 2.67e-01  -8.6 1.95e-02    -  1.00e+00 5.00e-01h  2\n",
      "The equality constraints contain an invalid number\n",
      "Warning: Cutting back alpha due to evaluation error\n",
      "  21 -1.0230000e+04 1.07e-05 8.01e-01  -8.6 1.52e-02    -  1.00e+00 4.80e-01h  2\n",
      "  22 -1.0230000e+04 2.95e-06 1.28e+00  -8.6 1.15e-07   1.0 7.49e-01 1.00e+00h  1\n",
      "The equality constraints contain an invalid number\n",
      "Warning: Cutting back alpha due to evaluation error\n",
      "The equality constraints contain an invalid number\n",
      "Warning: Cutting back alpha due to evaluation error\n",
      "  23 -1.0230000e+04 3.84e-06 1.16e+00  -8.6 5.19e-02    -  1.00e+00 4.47e-02h  3\n",
      "The equality constraints contain an invalid number\n",
      "Warning: Cutting back alpha due to evaluation error\n",
      "The equality constraints contain an invalid number\n",
      "Warning: Cutting back alpha due to evaluation error\n",
      "  24 -1.0230000e+04 7.28e-06 2.18e+00  -8.6 2.74e-02    -  1.00e+00 9.98e-02h  3\n",
      "  25 -1.0230000e+04 3.34e-06 2.92e+00  -8.6 9.02e-08   0.6 1.00e+00 1.00e+00h  1\n",
      "  26 -1.0230000e+04 5.98e-07 1.08e+00  -8.6 1.20e-07   0.1 1.00e+00 1.00e+00h  1\n",
      "The equality constraints contain an invalid number\n",
      "Warning: Cutting back alpha due to evaluation error\n",
      "The equality constraints contain an invalid number\n",
      "Warning: Cutting back alpha due to evaluation error\n",
      "The equality constraints contain an invalid number\n",
      "Warning: Cutting back alpha due to evaluation error\n",
      "  27 -1.0230000e+04 1.63e-06 8.94e-01  -8.6 1.88e-02    -  1.00e+00 8.09e-02h  4\n",
      "The equality constraints contain an invalid number\n",
      "Warning: Cutting back alpha due to evaluation error\n",
      "The equality constraints contain an invalid number\n",
      "Warning: Cutting back alpha due to evaluation error\n",
      "The equality constraints contain an invalid number\n",
      "Warning: Cutting back alpha due to evaluation error\n",
      "The equality constraints contain an invalid number\n",
      "Warning: Cutting back alpha due to evaluation error\n",
      "The equality constraints contain an invalid number\n",
      "Warning: Cutting back alpha due to evaluation error\n",
      "  28 -1.0230000e+04 1.92e-06 7.73e-01  -8.6 2.11e-02    -  1.00e+00 3.12e-02h  6\n",
      "  29 -1.0230000e+04 4.02e-07 5.78e-01  -8.6 4.80e-07  -0.4 1.00e+00 1.00e+00h  1\n",
      "The equality constraints contain an invalid number\n",
      "Warning: Cutting back alpha due to evaluation error\n",
      "The equality constraints contain an invalid number\n",
      "Warning: Cutting back alpha due to evaluation error\n",
      "iter    objective    inf_pr   inf_du lg(mu)  ||d||  lg(rg) alpha_du alpha_pr  ls\n",
      "  30 -1.0230000e+04 1.22e-06 5.14e-01  -8.6 3.62e-03    -  1.00e+00 2.50e-01h  3\n",
      "The equality constraints contain an invalid number\n",
      "Warning: Cutting back alpha due to evaluation error\n",
      "The equality constraints contain an invalid number\n",
      "Warning: Cutting back alpha due to evaluation error\n",
      "  31 -1.0230000e+04 1.23e-06 5.00e-01  -8.6 1.75e-03    -  1.00e+00 2.50e-01h  3\n",
      "\n",
      "Number of Iterations....: 31\n",
      "\n",
      "                                   (scaled)                 (unscaled)\n",
      "Objective...............:  -1.0230000000597522e+04   -1.0230000000597522e+04\n",
      "Dual infeasibility......:   4.9968789045040196e-01    4.9968789045040196e-01\n",
      "Constraint violation....:   1.2292614712805516e-14    1.2292614712805516e-06\n",
      "Complementarity.........:   2.5488900144548342e-09    2.5488900144548342e-09\n",
      "Overall NLP error.......:   4.9968796290091602e-08    4.9968789045040196e-01\n",
      "\n",
      "\n",
      "Number of objective function evaluations             = 32\n",
      "Number of objective gradient evaluations             = 32\n",
      "Number of equality constraint evaluations            = 53\n",
      "Number of inequality constraint evaluations          = 32\n",
      "Number of equality constraint Jacobian evaluations   = 32\n",
      "Number of inequality constraint Jacobian evaluations = 32\n",
      "Number of Lagrangian Hessian evaluations             = 31\n",
      "Total CPU secs in IPOPT (w/o function evaluations)   =      0.024\n",
      "Total CPU secs in NLP function evaluations           =      0.002\n",
      "\n",
      "EXIT: Solved To Acceptable Level.\n"
     ]
    }
   ],
   "source": [
    "JuMP.optimize!(m)"
   ]
  },
  {
   "cell_type": "code",
   "execution_count": 51,
   "metadata": {},
   "outputs": [
    {
     "name": "stdout",
     "output_type": "stream",
     "text": [
      "** Optimal profits for the firm = 10230.0\n",
      "** Optimal wages given result = [0.0, 900.0, 2025.0]\n"
     ]
    }
   ],
   "source": [
    "println(\"** Optimal profits for the firm = \", round(JuMP.objective_value(m)))\n",
    "println(\"** Optimal wages given result = \", round.(JuMP.value.(w)))"
   ]
  },
  {
   "cell_type": "markdown",
   "metadata": {
    "slideshow": {
     "slide_type": "fragment"
    }
   },
   "source": [
    "### Point c\n",
    "In a case in which effort is not observable (as in point b) what contract the principal should provide?"
   ]
  },
  {
   "cell_type": "markdown",
   "metadata": {},
   "source": [
    "## Ex 2"
   ]
  },
  {
   "cell_type": "markdown",
   "metadata": {},
   "source": [
    "A principal (P) delegates an agent (A) the production of a good. The utility for the principal when the agent produces $q$ units of the good and receives a payment $w$ from the principal is $U_p(q,w) = R(q) - w$, with $R(q) = 14 \\ln q$. The utility function for the agent is $U_{AL}(w,q) = w - c_L q$ if he has low costs ($c_L$) and $U_{AH}(w,q) = w - c_H q$ if he has high costs ($c_H$), with $c_H = 4$ and $c_L = 2$. The agent knows whether his cost of production is high or low, and the reservation utility for both types of agent is $0$. The principal can make a take-it-or-leave-it offer to the agent. The quantity produced and the payment to the agent are verifiable. "
   ]
  },
  {
   "cell_type": "markdown",
   "metadata": {
    "slideshow": {
     "slide_type": "slide"
    }
   },
   "source": [
    "### Point a\n",
    "Assume that the principal knows the production cost of the agent. Find the contracts $(q_L^\\star,w_L^\\star)$ and $(q_H^\\star,q_H^\\star)$ the principal would deem optimal to propose to, respectively, an agent with a low cost and one with high cost. Is $q_L^\\star$ greater, equal or lower than $q_H^\\star$? Is $w_L^\\star$ greater, equal or lower than $w_H^\\star$?"
   ]
  },
  {
   "cell_type": "markdown",
   "metadata": {},
   "source": [
    "#### Solution Point a"
   ]
  },
  {
   "cell_type": "code",
   "execution_count": 116,
   "metadata": {},
   "outputs": [],
   "source": [
    "function R(quantity)\n",
    "    return 14*log(quantity)\n",
    "    end;\n",
    "\n",
    "function Uₚ(quantity,wage)\n",
    "    return R(quantity) - wage\n",
    "    end;\n",
    "\n",
    "function Uₐ(quantity,wage,cost)\n",
    "    return wage - cost*quantity\n",
    "    end;"
   ]
  },
  {
   "cell_type": "code",
   "execution_count": 117,
   "metadata": {},
   "outputs": [],
   "source": [
    "m = Model(with_optimizer(Ipopt.Optimizer));"
   ]
  },
  {
   "cell_type": "code",
   "execution_count": 118,
   "metadata": {},
   "outputs": [],
   "source": [
    "@variable(m, w[1:2] >= 0);\n",
    "@variable(m, q[1:2] >= 0);\n",
    "\n",
    "cₗ = 2;\n",
    "cₕ = 4;"
   ]
  },
  {
   "cell_type": "code",
   "execution_count": 119,
   "metadata": {},
   "outputs": [],
   "source": [
    "register(m, :R, 1, R, autodiff=true)\n",
    "register(m, :Uₚ, 2, Uₚ, autodiff=true)\n",
    "register(m, :Uₐ, 3, Uₐ, autodiff=true)"
   ]
  },
  {
   "cell_type": "code",
   "execution_count": 120,
   "metadata": {},
   "outputs": [],
   "source": [
    "#Profit Objective\n",
    "@NLobjective(m, Max, Uₚ(q[1],w[1]) + Uₚ(q[2],w[2]))"
   ]
  },
  {
   "cell_type": "code",
   "execution_count": 121,
   "metadata": {},
   "outputs": [],
   "source": [
    "#Participation Constraint\n",
    "@NLconstraint(m, Uₐ(q[1],w[1],cₗ) + Uₐ(q[2],w[2],cₕ) >= 0);"
   ]
  },
  {
   "cell_type": "code",
   "execution_count": 122,
   "metadata": {},
   "outputs": [
    {
     "data": {
      "text/latex": [
       "$$ \\begin{alignat*}{1}\\max\\quad & Uₚ(q_{1}, w_{1}) + Uₚ(q_{2}, w_{2})\\\\\n",
       "\\text{Subject to} \\quad & w_{1} \\geq 0.0\\\\\n",
       " & w_{2} \\geq 0.0\\\\\n",
       " & q_{1} \\geq 0.0\\\\\n",
       " & q_{2} \\geq 0.0\\\\\n",
       " & (Uₐ(q_{1}, w_{1}, 2.0) + Uₐ(q_{2}, w_{2}, 4.0)) - 0.0 \\geq 0\\\\\n",
       "\\end{alignat*}\n",
       " $$"
      ],
      "text/plain": [
       "A JuMP Model\n",
       "Maximization problem with:\n",
       "Variables: 4\n",
       "Objective function type: Nonlinear\n",
       "`VariableRef`-in-`MathOptInterface.GreaterThan{Float64}`: 4 constraints\n",
       "Nonlinear: 1 constraint\n",
       "Model mode: AUTOMATIC\n",
       "CachingOptimizer state: EMPTY_OPTIMIZER\n",
       "Solver name: SolverName() attribute not implemented by the optimizer.\n",
       "Names registered in the model: q, w"
      ]
     },
     "execution_count": 122,
     "metadata": {},
     "output_type": "execute_result"
    }
   ],
   "source": [
    "m"
   ]
  },
  {
   "cell_type": "code",
   "execution_count": 123,
   "metadata": {},
   "outputs": [
    {
     "name": "stdout",
     "output_type": "stream",
     "text": [
      "This is Ipopt version 3.12.10, running with linear solver mumps.\n",
      "NOTE: Other linear solvers might be more efficient (see Ipopt documentation).\n",
      "\n",
      "Number of nonzeros in equality constraint Jacobian...:        0\n",
      "Number of nonzeros in inequality constraint Jacobian.:        4\n",
      "Number of nonzeros in Lagrangian Hessian.............:        0\n",
      "\n",
      "Total number of variables............................:        4\n",
      "                     variables with only lower bounds:        4\n",
      "                variables with lower and upper bounds:        0\n",
      "                     variables with only upper bounds:        0\n",
      "Total number of equality constraints.................:        0\n",
      "Total number of inequality constraints...............:        1\n",
      "        inequality constraints with only lower bounds:        1\n",
      "   inequality constraints with lower and upper bounds:        0\n",
      "        inequality constraints with only upper bounds:        0\n",
      "\n",
      "iter    objective    inf_pr   inf_du lg(mu)  ||d||  lg(rg) alpha_du alpha_pr  ls\n",
      "   0  1.2896479e+02 4.00e-02 6.70e+02   0.0 0.00e+00    -  0.00e+00 0.00e+00   0\n",
      "   1  1.1408704e+02 4.97e-02 3.65e+02   0.0 7.19e+00    -  1.60e-03 3.45e-03f  1\n",
      "   2  1.7906226e+02 0.00e+00 1.66e+05  -0.6 1.16e-01    -  1.00e+00 4.69e-01h  1\n",
      "   3  1.2214204e+02 7.54e-03 8.06e+02  -0.6 7.77e-02    -  1.00e+00 6.95e-01f  1\n",
      "   4  1.2304267e+02 0.00e+00 5.03e+02  -1.6 2.20e-03    -  1.00e+00 1.00e+00h  1\n",
      "   5  1.1114165e+02 0.00e+00 5.74e+02  -1.2 3.02e-02    -  1.00e+00 1.00e+00f  1\n",
      "   6  1.0255508e+02 0.00e+00 5.19e+02  -1.2 3.72e-02    -  1.00e+00 1.00e+00f  1\n",
      "   7  9.0859218e+01 0.00e+00 4.21e+02  -1.4 8.06e-02    -  1.00e+00 1.00e+00f  1\n",
      "   8  7.8148935e+01 0.00e+00 2.80e+02  -1.1 1.25e-01    -  1.00e+00 1.00e+00f  1\n",
      "   9  6.5106679e+01 0.00e+00 1.76e+02  -1.1 1.87e-01    -  1.00e+00 1.00e+00f  1\n",
      "iter    objective    inf_pr   inf_du lg(mu)  ||d||  lg(rg) alpha_du alpha_pr  ls\n",
      "  10  6.4866341e+01 0.00e+00 1.17e+02  -0.7 1.92e+00    -  1.00e+00 5.49e-02f  3\n",
      "  11  4.5643072e+01 0.00e+00 6.70e+01  -6.7 5.47e-01    -  2.69e-01 1.00e+00f  1\n",
      "  12  4.2297490e+01 0.00e+00 5.99e+01  -1.2 6.39e-01    -  1.00e+00 2.90e-01f  1\n",
      "  13  2.8043148e+01 0.00e+00 3.35e+01  -1.3 7.78e-01    -  1.00e+00 1.00e+00f  1\n",
      "  14  1.8308500e+01 0.00e+00 2.22e+01  -1.4 8.24e-01    -  1.00e+00 1.00e+00f  1\n",
      "  15  8.7639634e+00 0.00e+00 1.42e+01  -1.5 1.34e+00    -  1.00e+00 1.00e+00f  1\n",
      "  16  1.5552542e+00 0.00e+00 9.61e+00  -1.7 1.77e+00    -  1.00e+00 1.00e+00f  1\n",
      "  17  4.7644510e-01 0.00e+00 6.51e+00  -0.4 6.18e+01    -  1.00e+00 1.94e-02f  3\n",
      "  18 -5.8097090e+00 0.00e+00 4.53e+00  -0.6 2.11e+00    -  9.97e-01 1.00e+00f  1\n",
      "  19 -1.0361170e+01 0.00e+00 2.69e+00  -0.7 2.06e+00    -  1.00e+00 1.00e+00f  1\n",
      "iter    objective    inf_pr   inf_du lg(mu)  ||d||  lg(rg) alpha_du alpha_pr  ls\n",
      "  20 -1.3416433e+01 0.00e+00 1.73e+00  -1.3 1.85e+00    -  9.98e-01 1.00e+00f  1\n",
      "  21 -1.5183881e+01 0.00e+00 1.10e+00  -1.8 1.69e+00    -  1.00e+00 1.00e+00f  1\n",
      "  22 -1.6113761e+01 0.00e+00 6.81e-01  -2.7 1.23e+00    -  1.00e+00 1.00e+00f  1\n",
      "  23 -1.6571770e+01 0.00e+00 3.62e-01  -3.4 6.70e-01    -  1.00e+00 1.00e+00f  1\n",
      "  24 -1.6620083e+01 0.00e+00 9.98e-02  -5.5 4.18e+00    -  1.00e+00 4.31e-01f  2\n",
      "  25 -1.6779220e+01 0.00e+00 1.85e-02  -4.5 1.60e+00    -  1.00e+00 1.00e+00f  1\n",
      "  26 -1.6781391e+01 0.00e+00 1.86e-03  -6.7 1.38e-01    -  1.00e+00 9.80e-01f  1\n",
      "  27 -1.6781424e+01 0.00e+00 1.00e-04  -8.5 2.01e-02    -  1.00e+00 1.00e+00f  1\n",
      "  28 -1.6781424e+01 0.00e+00 9.27e-06 -11.0 2.75e-04    -  1.00e+00 1.00e+00h  1\n",
      "  29 -1.6781424e+01 0.00e+00 1.54e-07 -11.0 1.50e-05    -  1.00e+00 1.00e+00h  1\n",
      "iter    objective    inf_pr   inf_du lg(mu)  ||d||  lg(rg) alpha_du alpha_pr  ls\n",
      "  30 -1.6781424e+01 0.00e+00 4.10e-08 -11.0 1.98e-06    -  1.00e+00 1.00e+00h  1\n",
      "  31 -1.6781424e+01 0.00e+00 1.96e-09 -11.0 3.27e-08    -  1.00e+00 1.00e+00h  1\n",
      "\n",
      "Number of Iterations....: 31\n",
      "\n",
      "                                   (scaled)                 (unscaled)\n",
      "Objective...............:  -1.6781423655699538e+01   -1.6781423655699538e+01\n",
      "Dual infeasibility......:   1.9557461680696033e-09    1.9557461680696033e-09\n",
      "Constraint violation....:   0.0000000000000000e+00    0.0000000000000000e+00\n",
      "Complementarity.........:   1.0000000000000547e-11    1.0000000000000547e-11\n",
      "Overall NLP error.......:   1.9557461680696033e-09    1.9557461680696033e-09\n",
      "\n",
      "\n",
      "Number of objective function evaluations             = 39\n",
      "Number of objective gradient evaluations             = 32\n",
      "Number of equality constraint evaluations            = 0\n",
      "Number of inequality constraint evaluations          = 39\n",
      "Number of equality constraint Jacobian evaluations   = 0\n",
      "Number of inequality constraint Jacobian evaluations = 32\n",
      "Number of Lagrangian Hessian evaluations             = 0\n",
      "Total CPU secs in IPOPT (w/o function evaluations)   =      1.133\n",
      "Total CPU secs in NLP function evaluations           =      0.099\n",
      "\n",
      "EXIT: Optimal Solution Found.\n"
     ]
    }
   ],
   "source": [
    "JuMP.optimize!(m)"
   ]
  },
  {
   "cell_type": "code",
   "execution_count": 154,
   "metadata": {},
   "outputs": [
    {
     "name": "stdout",
     "output_type": "stream",
     "text": [
      "Optimal wages are = [20.0, 12.0]\n",
      "** Optimal** quantity = [7.0, 3.0]\n"
     ]
    }
   ],
   "source": [
    "println(\"Optimal wages are = \", JuMP.value.(w))\n",
    "println(\"Optimal quantity = \", JuMP.value.(q))"
   ]
  },
  {
   "cell_type": "markdown",
   "metadata": {},
   "source": [
    "### Point b\n",
    "Assume now that the principal does not know the production cost of the agent, but she attaches probability 0.25 to the agent having a low cost of production. Find the contracts $(q_L^{\\star\\star}, w_L^{\\star\\star})$ and $(q_H^{\\star\\star}, w_H^{\\star\\star})$ the principal would deem optimal to propose to the agent, such that an agent with a low cost of production chooses contract $(q_L^{\\star\\star}, w_L^{\\star\\star})$ and an agent with high cost of production chooses the contract $(q_H^{\\star\\star}, w_H^{\\star\\star})$."
   ]
  },
  {
   "cell_type": "markdown",
   "metadata": {},
   "source": [
    "#### Solution Point b"
   ]
  },
  {
   "cell_type": "code",
   "execution_count": 144,
   "metadata": {},
   "outputs": [],
   "source": [
    "function R(quantity)\n",
    "    return 14*log(quantity)\n",
    "    end;\n",
    "\n",
    "function Uₚ(quantity,wage)\n",
    "    return R(quantity) - wage\n",
    "    end;\n",
    "\n",
    "function Uₐ(quantity,wage,cost)\n",
    "    return wage - cost*quantity\n",
    "    end;"
   ]
  },
  {
   "cell_type": "code",
   "execution_count": 145,
   "metadata": {},
   "outputs": [],
   "source": [
    "m = Model(with_optimizer(Ipopt.Optimizer));"
   ]
  },
  {
   "cell_type": "code",
   "execution_count": 146,
   "metadata": {},
   "outputs": [],
   "source": [
    "@variable(m, w[1:2] >= 0);\n",
    "@variable(m, q[1:2] >= 0);\n",
    "\n",
    "cₗ = 2;\n",
    "cₕ = 4;\n",
    "\n",
    "pₗ = 0.25;\n",
    "pₕ = 1-pₗ;"
   ]
  },
  {
   "cell_type": "code",
   "execution_count": 147,
   "metadata": {},
   "outputs": [],
   "source": [
    "register(m, :R, 1, R, autodiff=true)\n",
    "register(m, :Uₚ, 2, Uₚ, autodiff=true)\n",
    "register(m, :Uₐ, 3, Uₐ, autodiff=true)"
   ]
  },
  {
   "cell_type": "code",
   "execution_count": 148,
   "metadata": {},
   "outputs": [],
   "source": [
    "#Profit Objective\n",
    "@NLobjective(m, Max, pₗ*Uₚ(q[1],w[1]) + pₕ*Uₚ(q[2],w[2]))"
   ]
  },
  {
   "cell_type": "code",
   "execution_count": 149,
   "metadata": {},
   "outputs": [],
   "source": [
    "#Participation Constraint low cost type\n",
    "@NLconstraint(m, Uₐ(q[1],w[1],cₗ) >= 0);\n",
    "#Participation Constraint high cost type\n",
    "@NLconstraint(m, Uₐ(q[2],w[2],cₕ) >= 0);"
   ]
  },
  {
   "cell_type": "code",
   "execution_count": 150,
   "metadata": {},
   "outputs": [],
   "source": [
    "#Incentive Compatibility low cost type\n",
    "@NLconstraint(m, Uₐ(q[1],w[1],cₗ) >= Uₐ(q[2],w[2],cₗ));\n",
    "#Incentive Compatibility high cost type\n",
    "@NLconstraint(m, Uₐ(q[2],w[2],cₕ) >= Uₐ(q[1],w[1],cₕ));"
   ]
  },
  {
   "cell_type": "code",
   "execution_count": 151,
   "metadata": {},
   "outputs": [
    {
     "data": {
      "text/latex": [
       "$$ \\begin{alignat*}{1}\\max\\quad & 0.25 * Uₚ(q_{1}, w_{1}) + 0.75 * Uₚ(q_{2}, w_{2})\\\\\n",
       "\\text{Subject to} \\quad & w_{1} \\geq 0.0\\\\\n",
       " & w_{2} \\geq 0.0\\\\\n",
       " & q_{1} \\geq 0.0\\\\\n",
       " & q_{2} \\geq 0.0\\\\\n",
       " & Uₐ(q_{1}, w_{1}, 2.0) - 0.0 \\geq 0\\\\\n",
       " & Uₐ(q_{2}, w_{2}, 4.0) - 0.0 \\geq 0\\\\\n",
       " & Uₐ(q_{1}, w_{1}, 2.0) - Uₐ(q_{2}, w_{2}, 2.0) \\geq 0\\\\\n",
       " & Uₐ(q_{2}, w_{2}, 4.0) - Uₐ(q_{1}, w_{1}, 4.0) \\geq 0\\\\\n",
       "\\end{alignat*}\n",
       " $$"
      ],
      "text/plain": [
       "A JuMP Model\n",
       "Maximization problem with:\n",
       "Variables: 4\n",
       "Objective function type: Nonlinear\n",
       "`VariableRef`-in-`MathOptInterface.GreaterThan{Float64}`: 4 constraints\n",
       "Nonlinear: 4 constraints\n",
       "Model mode: AUTOMATIC\n",
       "CachingOptimizer state: EMPTY_OPTIMIZER\n",
       "Solver name: SolverName() attribute not implemented by the optimizer.\n",
       "Names registered in the model: q, w"
      ]
     },
     "execution_count": 151,
     "metadata": {},
     "output_type": "execute_result"
    }
   ],
   "source": [
    "m"
   ]
  },
  {
   "cell_type": "code",
   "execution_count": 152,
   "metadata": {},
   "outputs": [
    {
     "name": "stdout",
     "output_type": "stream",
     "text": [
      "This is Ipopt version 3.12.10, running with linear solver mumps.\n",
      "NOTE: Other linear solvers might be more efficient (see Ipopt documentation).\n",
      "\n",
      "Number of nonzeros in equality constraint Jacobian...:        0\n",
      "Number of nonzeros in inequality constraint Jacobian.:       12\n",
      "Number of nonzeros in Lagrangian Hessian.............:        0\n",
      "\n",
      "Total number of variables............................:        4\n",
      "                     variables with only lower bounds:        4\n",
      "                variables with lower and upper bounds:        0\n",
      "                     variables with only upper bounds:        0\n",
      "Total number of equality constraints.................:        0\n",
      "Total number of inequality constraints...............:        4\n",
      "        inequality constraints with only lower bounds:        4\n",
      "   inequality constraints with lower and upper bounds:        0\n",
      "        inequality constraints with only upper bounds:        0\n",
      "\n",
      "iter    objective    inf_pr   inf_du lg(mu)  ||d||  lg(rg) alpha_du alpha_pr  ls\n",
      "   0  6.4482397e+01 3.00e-02 2.60e+02   0.0 0.00e+00    -  0.00e+00 0.00e+00   0\n",
      "   1  5.7635827e+01 3.97e-02 2.81e+02   0.0 2.86e+00    -  5.28e-03 5.15e-03f  1\n",
      "   2  5.6886332e+01 2.97e-02 2.09e+02  -0.9 1.00e-01    -  1.00e+00 1.21e-01f  1\n",
      "   3  5.1596216e+01 2.40e-02 2.87e+02   0.9 1.04e+00    -  2.91e-01 4.21e-02f  1\n",
      "   4  5.0022727e+01 2.41e-02 2.30e+02  -0.7 5.42e-02    -  6.13e-01 2.77e-01f  1\n",
      "   5  4.0436571e+01 0.00e+00 4.79e+01  -0.1 2.24e-01    -  8.31e-01 1.00e+00f  1\n",
      "   6  3.5448584e+01 0.00e+00 3.03e+01  -0.9 1.13e-01    -  7.68e-01 1.00e+00f  1\n",
      "   7  2.8360225e+01 0.00e+00 1.87e+01  -1.0 2.71e-01    -  1.00e+00 1.00e+00f  1\n",
      "   8  2.2354195e+01 0.00e+00 1.20e+01  -0.9 5.29e-01    -  1.00e+00 1.00e+00f  1\n",
      "   9  1.9041299e+01 0.00e+00 9.09e+00  -1.1 5.90e-01    -  1.00e+00 4.27e-01f  1\n",
      "iter    objective    inf_pr   inf_du lg(mu)  ||d||  lg(rg) alpha_du alpha_pr  ls\n",
      "  10  1.4839493e+01 0.00e+00 3.67e+00  -0.8 1.04e+00    -  1.00e+00 1.00e+00f  1\n",
      "  11  8.5294258e+00 0.00e+00 3.16e+00  -0.8 1.16e+00    -  1.00e+00 1.00e+00f  1\n",
      "  12  4.0343970e+00 0.00e+00 2.14e+00  -0.7 1.83e+00    -  9.63e-01 1.00e+00f  1\n",
      "  13  2.1521200e-01 0.00e+00 1.06e+00  -1.0 2.16e+00    -  9.31e-01 1.00e+00f  1\n",
      "  14 -2.2264169e+00 0.00e+00 5.20e-01  -1.1 2.92e+00    -  8.66e-01 1.00e+00f  1\n",
      "  15 -3.4573742e+00 0.00e+00 2.57e-01  -1.4 3.19e+00    -  9.61e-01 7.63e-01f  1\n",
      "  16 -4.1334519e+00 0.00e+00 8.57e-02  -1.7 3.43e+00    -  9.28e-01 1.00e+00f  1\n",
      "  17 -4.3184369e+00 0.00e+00 2.92e-02  -2.3 2.57e+00    -  9.62e-01 1.00e+00f  1\n",
      "  18 -4.3431879e+00 0.00e+00 3.87e-03  -3.2 1.07e+00    -  9.87e-01 1.00e+00f  1\n",
      "  19 -4.3453786e+00 0.00e+00 8.24e-03  -4.6 6.12e-01    -  9.98e-01 1.00e+00f  1\n",
      "iter    objective    inf_pr   inf_du lg(mu)  ||d||  lg(rg) alpha_du alpha_pr  ls\n",
      "  20 -4.3461128e+00 0.00e+00 3.66e-04  -6.2 2.02e-01    -  1.00e+00 1.00e+00f  1\n",
      "  21 -4.3461146e+00 0.00e+00 1.24e-05  -8.3 5.90e-03    -  1.00e+00 1.00e+00f  1\n",
      "  22 -4.3461146e+00 0.00e+00 1.11e-08 -11.0 2.94e-04    -  1.00e+00 1.00e+00h  1\n",
      "  23 -4.3461146e+00 0.00e+00 8.75e-11 -11.0 3.26e-07    -  1.00e+00 1.00e+00h  1\n",
      "\n",
      "Number of Iterations....: 23\n",
      "\n",
      "                                   (scaled)                 (unscaled)\n",
      "Objective...............:  -4.3461145651887492e+00   -4.3461145651887492e+00\n",
      "Dual infeasibility......:   8.7525764413953766e-11    8.7525764413953766e-11\n",
      "Constraint violation....:   0.0000000000000000e+00    0.0000000000000000e+00\n",
      "Complementarity.........:   1.0000000008900193e-11    1.0000000008900193e-11\n",
      "Overall NLP error.......:   8.7525764413953766e-11    8.7525764413953766e-11\n",
      "\n",
      "\n",
      "Number of objective function evaluations             = 24\n",
      "Number of objective gradient evaluations             = 24\n",
      "Number of equality constraint evaluations            = 0\n",
      "Number of inequality constraint evaluations          = 24\n",
      "Number of equality constraint Jacobian evaluations   = 0\n",
      "Number of inequality constraint Jacobian evaluations = 24\n",
      "Number of Lagrangian Hessian evaluations             = 0\n",
      "Total CPU secs in IPOPT (w/o function evaluations)   =      0.325\n",
      "Total CPU secs in NLP function evaluations           =      0.001\n",
      "\n",
      "EXIT: Optimal Solution Found.\n"
     ]
    }
   ],
   "source": [
    "JuMP.optimize!(m)"
   ]
  },
  {
   "cell_type": "code",
   "execution_count": 153,
   "metadata": {},
   "outputs": [
    {
     "name": "stdout",
     "output_type": "stream",
     "text": [
      "** Optimal wages are = [20.0, 12.0]\n",
      "** Optimal quantity = [7.0, 3.0]\n"
     ]
    }
   ],
   "source": [
    "println(\" Optimal wages are = \", round.(JuMP.value.(w)))\n",
    "println(\" Optimal quantity = \", round.(JuMP.value.(q)))"
   ]
  }
 ],
 "metadata": {
  "@webio": {
   "lastCommId": null,
   "lastKernelId": null
  },
  "celltoolbar": "Slideshow",
  "kernelspec": {
   "display_name": "Julia 1.1.0",
   "language": "julia",
   "name": "julia-1.1"
  },
  "language_info": {
   "file_extension": ".jl",
   "mimetype": "application/julia",
   "name": "julia",
   "version": "1.1.0"
  },
  "rise": {
   "autolaunch": false,
   "enable_chalkboard": true,
   "scroll": true
  },
  "toc": {
   "base_numbering": 1,
   "nav_menu": {},
   "number_sections": false,
   "sideBar": true,
   "skip_h1_title": false,
   "title_cell": "Table of Contents",
   "title_sidebar": "Contents",
   "toc_cell": false,
   "toc_position": {},
   "toc_section_display": true,
   "toc_window_display": false
  }
 },
 "nbformat": 4,
 "nbformat_minor": 4
}
