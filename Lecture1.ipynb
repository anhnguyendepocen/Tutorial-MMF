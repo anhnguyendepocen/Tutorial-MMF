{
 "cells": [
  {
   "cell_type": "markdown",
   "metadata": {
    "slideshow": {
     "slide_type": "slide"
    }
   },
   "source": [
    "# Mathematical Methods for Finance\n",
    "## Tutorial Notebook\n",
    "### Author: Marco Repetto*\n",
    "\n",
    "&nbsp;\n",
    "\n",
    "&nbsp;\n",
    "\n",
    "&nbsp;\n",
    "\n",
    "*Data Scientist at Siemens, PhD candidate in Economics and Statistics at Università degli Studi Milano Bicocca \n",
    "\n"
   ]
  },
  {
   "cell_type": "markdown",
   "metadata": {
    "slideshow": {
     "slide_type": "slide"
    }
   },
   "source": [
    "## To keep up with course updates, ask questions etc...\n",
    "You should use the Slack channel (you have to sign in) by simply scanning the following QR code:\n",
    "<img src=\"img/slack.png\" alt=\"Drawing\" style=\"width: 320px;\"/>\n",
    "\n",
    "or at the following link\n",
    "\n",
    "https://bit.ly/2ncqfbS"
   ]
  },
  {
   "cell_type": "markdown",
   "metadata": {
    "slideshow": {
     "slide_type": "slide"
    }
   },
   "source": [
    "## Tutorial outline\n",
    "1. Workstation set-up **30.10.2019**\n",
    "2. Julia Programming (part 1) **31.10.2019**\n",
    "3. Julia Programming (part 2) **07.11.2019**\n",
    "4. Julia Programming (part 3) **08.11.2019**\n",
    "5. Julia Programming (part 4) **09.11.2019**\n",
    "6. Linear Optimization with JuMP (part 1) **14.11.2019**\n",
    "7. Linear Optimization with JuMP (part 2) **15.11.2019**\n",
    "8. Linear Optimization with JuMP (part 3) **16.11.2019**\n",
    "9. Symbolic Non Linear Optimization (part 1) **20.11.2019**\n",
    "10. Symbolic Non Linear Optimization (part 2) **21.11.2019**\n",
    "11. Symbolic Non Linear Optimization (part 3) **22.11.2019**\n",
    "12. Non Linear Optimization with JuMP (Part 1) **23.11.2019**\n",
    "13. Non Linear Optimization with JuMP (Part 2) **28.11.2019**\n",
    "14. Non Linear Optimization with JuMP (Part 3) **29.11.2019**"
   ]
  },
  {
   "cell_type": "markdown",
   "metadata": {
    "slideshow": {
     "slide_type": "slide"
    }
   },
   "source": [
    "## Lecture 1\n",
    "### Workstation set-up\n",
    "### Date: 30.10"
   ]
  },
  {
   "cell_type": "markdown",
   "metadata": {
    "slideshow": {
     "slide_type": "subslide"
    }
   },
   "source": [
    "### Outline\n",
    "* The Julia language\n",
    "* Why Julia?\n",
    "* How to install Julia\n",
    "* How to install Packages into Julia with Pkg\n",
    "* Necessary packages for this course\n",
    "* On Julia Developing Environments\n",
    "* MATLAB\n",
    "* Why MATLAB?\n",
    "* How to install MATLAB\n",
    "* Octave: a MATLAB emulator"
   ]
  },
  {
   "cell_type": "markdown",
   "metadata": {
    "slideshow": {
     "slide_type": "slide"
    }
   },
   "source": [
    "### The Julia language\n",
    "*Julia is a **high-level programming** language designed for **high-performance** numerical analysis and computational science.*  -Wikipedia"
   ]
  },
  {
   "cell_type": "markdown",
   "metadata": {
    "slideshow": {
     "slide_type": "subslide"
    }
   },
   "source": [
    "### Why Julia?\n",
    "Many reasons... But chiefly:\n",
    "1. Julia is fast\n",
    "2. Dynamic\n",
    "3. General\n",
    "4. Easy to use\n",
    "5. Open source"
   ]
  },
  {
   "cell_type": "markdown",
   "metadata": {
    "slideshow": {
     "slide_type": "slide"
    }
   },
   "source": [
    "### How to install Julia\n",
    "#### Mac\n",
    "##### Recommended way: Homebrew\n",
    "* Step 1: open the **terminal**;\n",
    "* Step 2: visit [https://brew.sh/](https://brew.sh/), copy and paste the install Homebrew instructions into the **terminal** and run it, **this command may require you to give super user privileges** (you'll be asked to prompt the password);\n",
    "* Step 3: to install Julia type in the **terminal** ```brew cask install julia```;\n",
    "* Step 4: now type ```julia``` in the **terminal** to check whether environment variable PATH was updated correctly.\n",
    "\n",
    "##### Not recommended way \n",
    "Download the .dmg installation package from [https://julialang.org/downloads/](https://julialang.org/downloads/) and run it."
   ]
  },
  {
   "cell_type": "markdown",
   "metadata": {
    "slideshow": {
     "slide_type": "subslide"
    }
   },
   "source": [
    "#### Windows\n",
    "* Step 1: Download the **.exe** installation package from [https://julialang.org/downloads/](https://julialang.org/downloads/) and run it;\n",
    "* Step 2: Install Julia in ```C:\\julia``` or the **default destination**;\n",
    "* Step 3: Open the **Command Prompt** and type ``` setx PATH \"%PATH%;\"your julia installation\"\\bin\" ``` where ```\"your julia installation\"``` means the **destination of the Julia's installation folder**;\n",
    "* Step 4: **Check** whether you successfully updated the path by typing ```echo %PATH%```;\n",
    "* Step 5: Type ```julia``` in the **Prompt** or in the **PowerShell**."
   ]
  },
  {
   "cell_type": "markdown",
   "metadata": {
    "slideshow": {
     "slide_type": "subslide"
    }
   },
   "source": [
    "#### GNU/Linux\n",
    "Simply open the **terminal** and type ```julia```, the **package manager** of your distribution will do the rest."
   ]
  },
  {
   "cell_type": "markdown",
   "metadata": {
    "slideshow": {
     "slide_type": "slide"
    }
   },
   "source": [
    "### How to install Packages into Julia with Pkg\n",
    "To install packages into Julia simply start it, by typing ```julia``` in the prompt/terminal, then press ```]```, now you are in ```Pkg``` mode, to install a package you simply have to type ```add \"package name\"```. \n",
    "\n",
    "\n",
    "Alternatively you can load the the Pkg library and type:\n",
    "```julia\n",
    "using Pkg\n",
    "\n",
    "Pkg.add(\"The package to install\")\n",
    "```"
   ]
  },
  {
   "cell_type": "markdown",
   "metadata": {
    "slideshow": {
     "slide_type": "slide"
    }
   },
   "source": [
    "### Necessary packages for this course"
   ]
  },
  {
   "cell_type": "markdown",
   "metadata": {
    "slideshow": {
     "slide_type": "subslide"
    }
   },
   "source": [
    "#### GLPK\n",
    "GLPK stands for **GNU Linear Programming Kit** which is a Mixed Integer Linear Programming (MILP) solver. \n",
    "\n",
    "\n",
    "You can install it by typing: ```add GLPK```."
   ]
  },
  {
   "cell_type": "markdown",
   "metadata": {
    "slideshow": {
     "slide_type": "subslide"
    }
   },
   "source": [
    "#### Optim\n",
    "The package implements some **optimization algorithms for unconstrained nonlinear optimization problems**. \n",
    "\n",
    "\n",
    "You can install it by typing: ```add Optim```."
   ]
  },
  {
   "cell_type": "markdown",
   "metadata": {
    "slideshow": {
     "slide_type": "subslide"
    }
   },
   "source": [
    "#### Ipopt\n",
    "Ipopt stands for **Interior Point OPTimizer**, is a solver for constrained nonlinear optimization problems. \n",
    "\n",
    "You can install it by typing: ```add Ipopt```."
   ]
  },
  {
   "cell_type": "markdown",
   "metadata": {
    "slideshow": {
     "slide_type": "subslide"
    }
   },
   "source": [
    "#### JuMP\n",
    "JuMP is a **domain-specific modeling language for mathematical optimization embedded in Julia**. The main aim of JuMP is to make it easier to specify and solve optimization problems.  \n",
    "\n",
    "\n",
    "You can install it by typing: ```add JuMP```."
   ]
  },
  {
   "cell_type": "markdown",
   "metadata": {
    "slideshow": {
     "slide_type": "subslide"
    }
   },
   "source": [
    "#### AmplNLWriter\n",
    "AmplNLWriter allows for the usage of solvers that are available in .nl format.  \n",
    "\n",
    "\n",
    "You can install it by typing: ```add AmplNLWriter```."
   ]
  },
  {
   "cell_type": "markdown",
   "metadata": {
    "slideshow": {
     "slide_type": "subslide"
    }
   },
   "source": [
    "#### SymPy\n",
    "The SymPy package provides a light interface for the features of the Python's SymPy library that makes working with SymPy objects a bit easier.  \n",
    "\n",
    "You can install it by typing: ```add SymPy```."
   ]
  },
  {
   "cell_type": "markdown",
   "metadata": {
    "slideshow": {
     "slide_type": "subslide"
    }
   },
   "source": [
    "#### Plots\n",
    "Is a very powerful front-end that **wraps together many important plotting libraries** from many programming languages. \n",
    "\n",
    "\n",
    "You can install it by typing: ```add Plots```."
   ]
  },
  {
   "cell_type": "markdown",
   "metadata": {
    "slideshow": {
     "slide_type": "subslide"
    }
   },
   "source": [
    "#### For graph plotting\n",
    "Early stage libraries for graph plotting are ```LightGraphs``` and ```GraphPlot```."
   ]
  },
  {
   "cell_type": "markdown",
   "metadata": {
    "slideshow": {
     "slide_type": "subslide"
    }
   },
   "source": [
    "#### Other useful libraries\n",
    "Other usefull libraries used in this tutorial:\n",
    "* ```Latexify```;\n",
    "* ```RowEchelon```;\n",
    "* ```LaTeXStrings```;\n",
    "* ```Distributions```."
   ]
  },
  {
   "cell_type": "markdown",
   "metadata": {
    "slideshow": {
     "slide_type": "subslide"
    }
   },
   "source": [
    "### On Julia Developing Environments\n",
    "<img src=\"img/real_programmers.png\" alt=\"Drawing\" style=\"width: 1500px;\"/>"
   ]
  },
  {
   "cell_type": "markdown",
   "metadata": {
    "slideshow": {
     "slide_type": "subslide"
    }
   },
   "source": [
    "#### Jupyter\n",
    "Jupyter notebooks are **interactive programming environments** that allow for the framework of **literate computing**. This very notebook/slide-show is a Jupyter notebook. \n",
    "\n",
    "\n",
    "To install it on your machine you need to install Python and the IJulia package, you can do that with the following code:\n",
    "```julia\n",
    "ENV[\"PYTHON\"] = \"\"\n",
    "\"\"\n",
    "\n",
    "ENV[\"JUPYTER\"] = \"\"\n",
    "\"\"\n",
    "\n",
    "using Pkg\n",
    "Pkg.add(\"IJulia\")\n",
    "\n",
    "\n",
    "\n",
    "using IJulia\n",
    "notebook() #To open the IJulia notebook\n",
    "```"
   ]
  },
  {
   "cell_type": "markdown",
   "metadata": {
    "slideshow": {
     "slide_type": "subslide"
    }
   },
   "source": [
    "#### JUNO\n",
    "Juno is a powerful yet flexible **fully-fledged IDE** built on top of Atom text editor, in order to install it follow these steps:\n",
    "1. Download, install and open Atom you find it at [https://atom.io/](https://atom.io/);\n",
    "2. In Atom, go to **Settings** and go to the \"Install\" panel;\n",
    "3. Type ```uber-juno``` into the **search box** and hit enter;\n",
    "4. Click the **install button** on the package of the same name."
   ]
  },
  {
   "cell_type": "markdown",
   "metadata": {
    "slideshow": {
     "slide_type": "subslide"
    }
   },
   "source": [
    "#### Other IDEs\n",
    "##### Emacs\n",
    "Emacs is not simply an IDE, **it's almost a operating system!** You can edit notebooks produce documents with Julia snippets and many more things. **The main drawback is the learning curve it carries**. I recommend you to have a look at it.\n",
    "\n",
    "##### Vi\n",
    "The Vi editor is probably the **most important text editor used nowadays**. It is so important that is packaged by default into both Mac and GNU/Linux systems. Simply type ```vi``` in terminal. The Vi has the **same drawback** as Emacs, meaning that for a common user is not the most immediate alternative."
   ]
  },
  {
   "cell_type": "markdown",
   "metadata": {
    "slideshow": {
     "slide_type": "subslide"
    }
   },
   "source": [
    "### MATLAB\n",
    "*MATLAB, stand for matrix laboratory, is a **multi-paradigm numerical computing environment** and **proprietary** programming language developed by MathWorks. MATLAB allows **matrix manipulations**, **plotting of functions and data**, implementation of algorithms, and creation of user interfaces.* -Wikipedia"
   ]
  },
  {
   "cell_type": "markdown",
   "metadata": {
    "slideshow": {
     "slide_type": "subslide"
    }
   },
   "source": [
    "### Why MATLAB?\n",
    "1. Is proprietary\n",
    "2. MATLAB has 35 years history\n",
    "3. Is a well established standard\n",
    "4. Academia and professionals built a lot on top of it"
   ]
  },
  {
   "cell_type": "markdown",
   "metadata": {
    "slideshow": {
     "slide_type": "subslide"
    }
   },
   "source": [
    "### How to install MATLAB\n",
    "* Step 1: register to [https://www.mathworks.com/academia/tah-portal/universita-degli-studi-di-milano-968349.html](https://www.mathworks.com/academia/tah-portal/universita-degli-studi-di-milano-968349.html) with your university mail and download the installer;\n",
    "* Step 2: run the installer and install MATLAB;\n",
    "* Step 3: register your copy of MATLAB using the university login you created in Mathworks.\n",
    "\n",
    "**Please do not use cracked versions of MATLAB as there are open-source alternatives to it!**"
   ]
  },
  {
   "cell_type": "markdown",
   "metadata": {
    "slideshow": {
     "slide_type": "subslide"
    }
   },
   "source": [
    "### Octave: a MATLAB emulator\n",
    "*GNU Octave is a **high-level language**, primarily intended for **numerical computations**. It provides a convenient command line interface for solving linear and nonlinear problems numerically, and for performing other numerical experiments, using a language that is **mostly compatible with MATLAB**.* -GNU Octave wiki"
   ]
  }
 ],
 "metadata": {
  "celltoolbar": "Slideshow",
  "kernelspec": {
   "display_name": "Julia 1.1.0",
   "language": "julia",
   "name": "julia-1.1"
  },
  "language_info": {
   "file_extension": ".jl",
   "mimetype": "application/julia",
   "name": "julia",
   "version": "1.1.0"
  },
  "rise": {
   "enable_chalkboard": false,
   "scroll": true,
   "theme": "serif"
  },
  "toc": {
   "base_numbering": 1,
   "nav_menu": {},
   "number_sections": false,
   "sideBar": true,
   "skip_h1_title": false,
   "title_cell": "Table of Contents",
   "title_sidebar": "Contents",
   "toc_cell": false,
   "toc_position": {},
   "toc_section_display": true,
   "toc_window_display": false
  }
 },
 "nbformat": 4,
 "nbformat_minor": 4
}
